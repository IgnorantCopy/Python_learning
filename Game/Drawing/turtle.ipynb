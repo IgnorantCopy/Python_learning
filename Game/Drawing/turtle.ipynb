{
 "cells": [
  {
   "cell_type": "code",
   "id": "initial_id",
   "metadata": {
    "collapsed": true,
    "ExecuteTime": {
     "end_time": "2024-04-26T16:14:49.284998Z",
     "start_time": "2024-04-26T16:14:20.054872Z"
    }
   },
   "source": [
    "import turtle as t\n",
    "\n",
    "'''\n",
    "move\n",
    "    1. 向前移动: turtle.fd(distance)\n",
    "    2. 向后移动: turtle.bk(distance)\n",
    "    3. 向左转: turtle.lt(angle)\n",
    "    4. 向右转: turtle.rt(angle)\n",
    "    5. 移动到绝对位置: turtle.goto(x, y) / turtle.setx(x) / turtle.sety(y)\n",
    "    6. 设置绝对方向: turtle.seth(angle)\n",
    "    7. 设置海龟速度: turtle.speed(speed)  0: 最快; 1: 最慢; 3: 慢; 6: 正常; 10: 快\n",
    "'''\n",
    "t.setup(800, 600, 400, 300)  # 设置窗口大小   (width, height, startx, starty)\n",
    "t.speed(6)\n",
    "for i in range(100):\n",
    "    t.left(90)\n",
    "    t.fd(i * 2)\n",
    "t.done()  # 结束绘制"
   ],
   "outputs": [],
   "execution_count": 12
  },
  {
   "metadata": {
    "ExecuteTime": {
     "end_time": "2024-04-27T08:25:59.192448Z",
     "start_time": "2024-04-27T08:25:43.837893Z"
    }
   },
   "cell_type": "code",
   "source": [
    "import turtle as t\n",
    "import random\n",
    "\n",
    "'''\n",
    "geometry\n",
    "    1. 圆或多边形: turtle.circle(radius, angle, number of sides)\n",
    "    2. 圆点: turtle.dot(size=max(pensize + 4, 2 * pensize), *color)\n",
    "pen\n",
    "    1. 画笔颜色: turtle.pencolor(*color) / turtle.fillcolor(*color) / turtle.color(*pencolor, *fillcolor)\n",
    "    2, 画笔宽度: turtle.pensize(size) / turtle.width(size)\n",
    "    3. 画笔抬起: turtle.penup() / turtle.pu() / turtle.up()\n",
    "    4. 画笔落下: turtle.pendown() / turtle.pd() / turtle.down()\n",
    "'''\n",
    "t.setup(800, 600)\n",
    "t.speed(0)\n",
    "t.Screen().colormode(255)\n",
    "t.circle(100)\n",
    "t.circle(100, 360, 8)\n",
    "t.circle(100, 360, 4)\n",
    "t.lt(180)\n",
    "for i in range(4):\n",
    "    t.circle(20 + 20 * i, 360, 5)\n",
    "for i in range(10):\n",
    "    t.dot(25 * (10 - i), (random.randint(0, 255), random.randint(0, 255), random.randint(0, 255)))\n",
    "t.pencolor(\"white\")\n",
    "t.up()\n",
    "t.goto(0, -12.5)\n",
    "t.down()\n",
    "for i in range(10):\n",
    "    t.circle(i * 12.5, 180)\n",
    "t.done()"
   ],
   "id": "d61243846ca22e6",
   "outputs": [],
   "execution_count": 15
  },
  {
   "metadata": {
    "ExecuteTime": {
     "end_time": "2024-04-27T08:35:34.801978Z",
     "start_time": "2024-04-27T08:35:04.587879Z"
    }
   },
   "cell_type": "code",
   "source": [
    "# example 1\n",
    "import turtle as t\n",
    "\n",
    "t.setup(800, 600)\n",
    "t.speed(0)\n",
    "t.Screen().colormode(255)\n",
    "t.up()\n",
    "t.goto(-200, 200)\n",
    "t.down()\n",
    "for i in range(100):\n",
    "    t.lt(90)\n",
    "    t.color((255 - 2 * i, i, i * 2))\n",
    "    t.fd(i * 2)\n",
    "t.fd(120)\n",
    "for i in range(100):\n",
    "    t.lt(90)\n",
    "    t.color((i * 2, 255 - 2 * i, i))\n",
    "    t.fd(i * 2)\n",
    "t.fd(120)\n",
    "for i in range(100):\n",
    "    t.lt(90)\n",
    "    t.color((i, 2 * i, 255 - 2 * i))\n",
    "    t.fd(i * 2)\n",
    "t.done()"
   ],
   "id": "d3db4b9ff15bdd35",
   "outputs": [],
   "execution_count": 23
  },
  {
   "metadata": {
    "ExecuteTime": {
     "end_time": "2024-04-27T08:40:56.206068Z",
     "start_time": "2024-04-27T08:40:17.771913Z"
    }
   },
   "cell_type": "code",
   "source": [
    "# example 2\n",
    "import turtle as t\n",
    "import random\n",
    "\n",
    "t.setup(800, 600)\n",
    "t.speed(0)\n",
    "t.Screen().colormode(255)\n",
    "\n",
    "\n",
    "def grass():\n",
    "    angle = random.randint(-5, 5)\n",
    "    for i in range(10, 1, -1):\n",
    "        t.lt(angle)\n",
    "        t.pensize(i)\n",
    "        t.fd(3 * i)\n",
    "\n",
    "\n",
    "t.color(\"green\")\n",
    "for i in range(50):\n",
    "    t.up()\n",
    "    t.goto(random.randint(-300, 300), -280)\n",
    "    t.seth(random.randint(45, 135))\n",
    "    t.down()\n",
    "    grass()\n",
    "t.done()"
   ],
   "id": "2619bb9b2d37c6a6",
   "outputs": [],
   "execution_count": 28
  },
  {
   "metadata": {
    "ExecuteTime": {
     "end_time": "2024-04-27T09:30:33.152148Z",
     "start_time": "2024-04-27T09:30:26.499595Z"
    }
   },
   "cell_type": "code",
   "source": [
    "import turtle as t\n",
    "\n",
    "'''\n",
    "text\n",
    "    turtle.write(text, move=False, align='left', font=('Arial', 8, 'normal'))\n",
    "    move: 是否从align的位置移动到文本右下方的位置\n",
    "    align: 'left' / 'center' / 'right'\n",
    "    font: (fontname, fontsize, fonttype)\n",
    "window\n",
    "    1. 设置窗口坐标: t.setworldcoordinates(llx, lly, urx, ury)\n",
    "    2. 设置窗体大小和背景颜色: turtle.screensize(width, height, *background_color)\n",
    "    3. 清空画布: turtle.clear() / turtle.clearscreen()\n",
    "    4. 重置乌龟状态: turtle.reset() / turtle.resetscreen()\n",
    "'''\n",
    "\n",
    "t.setworldcoordinates(0, 0, 800, 600)  # 自动切换到world坐标系(左下角为原点)\n",
    "t.goto(400, 300)\n",
    "t.write('NJU', move=True, align='center', font=('Arial', 50, 'normal'))\n",
    "t.done()"
   ],
   "id": "26ab313fca53b4c8",
   "outputs": [],
   "execution_count": 32
  },
  {
   "metadata": {
    "ExecuteTime": {
     "end_time": "2024-04-27T09:47:44.832511Z",
     "start_time": "2024-04-27T09:47:26.601602Z"
    }
   },
   "cell_type": "code",
   "source": [
    "import turtle as t\n",
    "\n",
    "'''\n",
    "animation\n",
    "    turtle.tracer(n=None, delay=None)\n",
    "    n: 刷新频率, 每n次刷新画面, 如果为0则直接显示结果\n",
    "    delay: 刷新延迟, 单位为秒\n",
    "other\n",
    "    1. 设置坐标模式: turtle.mode(mode=None)   'world' / 'logo' / 'standard'\n",
    "    2. 获取窗口的宽高: turtle.window_width() / turtle.window_height()  \n",
    "'''\n",
    "\n",
    "\n",
    "def Robert(n):\n",
    "    if n == 0:\n",
    "        t.fd(2)\n",
    "        return\n",
    "    for i in (0, 60, -120, 60):\n",
    "        t.lt(i)\n",
    "        Robert(n - 1)\n",
    "\n",
    "\n",
    "t.setup(800, 600)\n",
    "t.tracer(0)\n",
    "t.color('black', 'cyan')\n",
    "t.up()\n",
    "t.goto(-250, 140)\n",
    "t.down()\n",
    "t.begin_fill()\n",
    "for i in (0, 120, 120):\n",
    "    t.rt(i)\n",
    "    Robert(5)\n",
    "t.end_fill()\n",
    "t.done()"
   ],
   "id": "548bf04c1fd94579",
   "outputs": [],
   "execution_count": 58
  },
  {
   "metadata": {
    "ExecuteTime": {
     "end_time": "2024-04-27T11:42:15.350515Z",
     "start_time": "2024-04-27T11:42:15.328705Z"
    }
   },
   "cell_type": "code",
   "source": [
    "import numpy as np\n",
    "\n",
    "x = np.linspace(0, 10, 100)\n",
    "x"
   ],
   "id": "57f01d51bb487bc4",
   "outputs": [
    {
     "data": {
      "text/plain": [
       "array([ 0.        ,  0.1010101 ,  0.2020202 ,  0.3030303 ,  0.4040404 ,\n",
       "        0.50505051,  0.60606061,  0.70707071,  0.80808081,  0.90909091,\n",
       "        1.01010101,  1.11111111,  1.21212121,  1.31313131,  1.41414141,\n",
       "        1.51515152,  1.61616162,  1.71717172,  1.81818182,  1.91919192,\n",
       "        2.02020202,  2.12121212,  2.22222222,  2.32323232,  2.42424242,\n",
       "        2.52525253,  2.62626263,  2.72727273,  2.82828283,  2.92929293,\n",
       "        3.03030303,  3.13131313,  3.23232323,  3.33333333,  3.43434343,\n",
       "        3.53535354,  3.63636364,  3.73737374,  3.83838384,  3.93939394,\n",
       "        4.04040404,  4.14141414,  4.24242424,  4.34343434,  4.44444444,\n",
       "        4.54545455,  4.64646465,  4.74747475,  4.84848485,  4.94949495,\n",
       "        5.05050505,  5.15151515,  5.25252525,  5.35353535,  5.45454545,\n",
       "        5.55555556,  5.65656566,  5.75757576,  5.85858586,  5.95959596,\n",
       "        6.06060606,  6.16161616,  6.26262626,  6.36363636,  6.46464646,\n",
       "        6.56565657,  6.66666667,  6.76767677,  6.86868687,  6.96969697,\n",
       "        7.07070707,  7.17171717,  7.27272727,  7.37373737,  7.47474747,\n",
       "        7.57575758,  7.67676768,  7.77777778,  7.87878788,  7.97979798,\n",
       "        8.08080808,  8.18181818,  8.28282828,  8.38383838,  8.48484848,\n",
       "        8.58585859,  8.68686869,  8.78787879,  8.88888889,  8.98989899,\n",
       "        9.09090909,  9.19191919,  9.29292929,  9.39393939,  9.49494949,\n",
       "        9.5959596 ,  9.6969697 ,  9.7979798 ,  9.8989899 , 10.        ])"
      ]
     },
     "execution_count": 3,
     "metadata": {},
     "output_type": "execute_result"
    }
   ],
   "execution_count": 3
  },
  {
   "metadata": {
    "ExecuteTime": {
     "end_time": "2024-04-27T12:28:06.352525Z",
     "start_time": "2024-04-27T12:26:44.754188Z"
    }
   },
   "cell_type": "code",
   "source": [
    "# Bessel Curve\n",
    "import turtle as t\n",
    "import numpy as np\n",
    "\n",
    "\n",
    "def dot(x, y, size=max(t.pensize() + 4, 2 * t.pensize())):\n",
    "    t.up()\n",
    "    t.goto(x, y)\n",
    "    t.down()\n",
    "    t.dot(size, t.pencolor())\n",
    "\n",
    "\n",
    "def bessel(*coordinate, precision=100, start=0):\n",
    "    n = len(coordinate) // 2\n",
    "    if start == 0:\n",
    "        t.pencolor('red')\n",
    "        for i in range(n):\n",
    "            dot(coordinate[2 * i], coordinate[2 * i + 1])\n",
    "        t.pencolor('black')\n",
    "        t.up()\n",
    "        t.goto(coordinate[0], coordinate[1])\n",
    "        t.down()\n",
    "    if n == 2:\n",
    "        x1 = coordinate[0]\n",
    "        y1 = coordinate[1]\n",
    "        x2 = coordinate[2]\n",
    "        y2 = coordinate[3]\n",
    "        k = (y2 - y1) / (x2 - x1)\n",
    "        line = lambda x: (x - x1) * k + y1\n",
    "        xs = np.linspace(x1, x2, precision)\n",
    "        t.goto(xs[start], line(xs[start]))\n",
    "        return\n",
    "    lines = []\n",
    "    xs = []\n",
    "    for i in range(n - 1):\n",
    "        x1 = coordinate[2 * i]\n",
    "        y1 = coordinate[2 * i + 1]\n",
    "        x2 = coordinate[2 * i + 2]\n",
    "        y2 = coordinate[2 * i + 3]\n",
    "        k = (y2 - y1) / (x2 - x1)\n",
    "        line = lambda x: (x - x1) * k + y1\n",
    "        lines.append(line)\n",
    "        xs.append(np.linspace(x1, x2, precision))\n",
    "    new_coordinates = []\n",
    "    for i in range(precision):\n",
    "        for j in range(len(xs)):\n",
    "            x = xs[j][i]\n",
    "            new_coordinates.append(x)\n",
    "            new_coordinates.append(lines[j](x))\n",
    "        bessel(new_coordinates, precision, i)\n",
    "\n",
    "\n",
    "t.setup(800, 600)\n",
    "bessel(-300, -50, -200, 200, 100, 50, 150, -200)\n",
    "t.done()"
   ],
   "id": "2a25b7236eba156e",
   "outputs": [
    {
     "ename": "NameError",
     "evalue": "name 'np' is not defined",
     "output_type": "error",
     "traceback": [
      "\u001B[1;31m---------------------------------------------------------------------------\u001B[0m",
      "\u001B[1;31mNameError\u001B[0m                                 Traceback (most recent call last)",
      "Cell \u001B[1;32mIn[1], line 53\u001B[0m\n\u001B[0;32m     49\u001B[0m         bessel(new_coordinates, precision, i)\n\u001B[0;32m     52\u001B[0m t\u001B[38;5;241m.\u001B[39msetup(\u001B[38;5;241m800\u001B[39m, \u001B[38;5;241m600\u001B[39m)\n\u001B[1;32m---> 53\u001B[0m \u001B[43mbessel\u001B[49m\u001B[43m(\u001B[49m\u001B[38;5;241;43m-\u001B[39;49m\u001B[38;5;241;43m300\u001B[39;49m\u001B[43m,\u001B[49m\u001B[43m \u001B[49m\u001B[38;5;241;43m-\u001B[39;49m\u001B[38;5;241;43m50\u001B[39;49m\u001B[43m,\u001B[49m\u001B[43m \u001B[49m\u001B[38;5;241;43m-\u001B[39;49m\u001B[38;5;241;43m200\u001B[39;49m\u001B[43m,\u001B[49m\u001B[43m \u001B[49m\u001B[38;5;241;43m200\u001B[39;49m\u001B[43m,\u001B[49m\u001B[43m \u001B[49m\u001B[38;5;241;43m100\u001B[39;49m\u001B[43m,\u001B[49m\u001B[43m \u001B[49m\u001B[38;5;241;43m50\u001B[39;49m\u001B[43m,\u001B[49m\u001B[43m \u001B[49m\u001B[38;5;241;43m150\u001B[39;49m\u001B[43m,\u001B[49m\u001B[43m \u001B[49m\u001B[38;5;241;43m-\u001B[39;49m\u001B[38;5;241;43m200\u001B[39;49m\u001B[43m)\u001B[49m\n\u001B[0;32m     54\u001B[0m t\u001B[38;5;241m.\u001B[39mdone()\n",
      "Cell \u001B[1;32mIn[1], line 42\u001B[0m, in \u001B[0;36mbessel\u001B[1;34m(precision, start, *coordinate)\u001B[0m\n\u001B[0;32m     40\u001B[0m     line \u001B[38;5;241m=\u001B[39m \u001B[38;5;28;01mlambda\u001B[39;00m x: (x \u001B[38;5;241m-\u001B[39m x1) \u001B[38;5;241m*\u001B[39m k \u001B[38;5;241m+\u001B[39m y1\n\u001B[0;32m     41\u001B[0m     lines\u001B[38;5;241m.\u001B[39mappend(line)\n\u001B[1;32m---> 42\u001B[0m     xs\u001B[38;5;241m.\u001B[39mappend(\u001B[43mnp\u001B[49m\u001B[38;5;241m.\u001B[39mlinspace(x1, x2, precision))\n\u001B[0;32m     43\u001B[0m new_coordinates \u001B[38;5;241m=\u001B[39m []\n\u001B[0;32m     44\u001B[0m \u001B[38;5;28;01mfor\u001B[39;00m i \u001B[38;5;129;01min\u001B[39;00m \u001B[38;5;28mrange\u001B[39m(precision):\n",
      "\u001B[1;31mNameError\u001B[0m: name 'np' is not defined"
     ]
    }
   ],
   "execution_count": 1
  },
  {
   "metadata": {},
   "cell_type": "code",
   "outputs": [],
   "execution_count": null,
   "source": "",
   "id": "46c602aa06ac5fd7"
  }
 ],
 "metadata": {
  "kernelspec": {
   "display_name": "Python 3",
   "language": "python",
   "name": "python3"
  },
  "language_info": {
   "codemirror_mode": {
    "name": "ipython",
    "version": 2
   },
   "file_extension": ".py",
   "mimetype": "text/x-python",
   "name": "python",
   "nbconvert_exporter": "python",
   "pygments_lexer": "ipython2",
   "version": "2.7.6"
  }
 },
 "nbformat": 4,
 "nbformat_minor": 5
}
