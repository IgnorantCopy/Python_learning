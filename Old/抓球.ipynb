{
 "cells": [
  {
   "cell_type": "code",
   "execution_count": 54,
   "metadata": {},
   "outputs": [
    {
     "name": "stdout",
     "output_type": "stream",
     "text": [
      "4944 5056\n"
     ]
    }
   ],
   "source": [
    "import random\n",
    "\n",
    "list1 = [1, 1, 1, 1, 1, 1, 1, 1, 2, 2, 2, 2, 2, 2, 2, 2, 3, 3, 3, 3, 3, 3, 3, 3]\n",
    "red, green, blue, T, F = 0, 0, 0, 0, 0\n",
    "\n",
    "\n",
    "def color():\n",
    "    n = random.randint(0, len(list1) - 1)\n",
    "    item = list1[n]\n",
    "    del list1[n]\n",
    "    global red\n",
    "    global blue\n",
    "    global green\n",
    "    if item == 1:\n",
    "        red += 1\n",
    "    elif item == 2:\n",
    "        green += 1\n",
    "    elif item == 3:\n",
    "        blue += 1\n",
    "\n",
    "\n",
    "def result():\n",
    "    global F\n",
    "    global T\n",
    "    for i in range(12):\n",
    "        color()\n",
    "    x = {red, green, blue}\n",
    "    if x == {3, 4, 5}:\n",
    "        T += 1\n",
    "    else:\n",
    "        F += 1\n",
    "\n",
    "\n",
    "for i in range(10000):\n",
    "    result()\n",
    "    list1 = [1, 1, 1, 1, 1, 1, 1, 1, 2, 2, 2, 2, 2, 2, 2, 2, 3, 3, 3, 3, 3, 3, 3, 3]\n",
    "    red, green, blue = 0, 0, 0\n",
    "print(T, F)"
   ]
  },
  {
   "cell_type": "code",
   "execution_count": null,
   "metadata": {},
   "outputs": [],
   "source": []
  }
 ],
 "metadata": {
  "kernelspec": {
   "display_name": "Python 3",
   "language": "python",
   "name": "python3"
  },
  "language_info": {
   "codemirror_mode": {
    "name": "ipython",
    "version": 3
   },
   "file_extension": ".py",
   "mimetype": "text/x-python",
   "name": "python",
   "nbconvert_exporter": "python",
   "pygments_lexer": "ipython3",
   "version": "3.7.6"
  }
 },
 "nbformat": 4,
 "nbformat_minor": 4
}
