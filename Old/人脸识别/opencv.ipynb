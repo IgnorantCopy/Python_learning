{
 "cells": [
  {
   "cell_type": "code",
   "execution_count": 4,
   "metadata": {},
   "outputs": [],
   "source": [
    "#读取文件\n",
    "import cv2\n",
    "img=cv2.imread('southeast.jpg')  #路径中不能有中文\n",
    "cv2.imshow('{}_image'.format(1),img)\n",
    "cv2.waitKey(0)  #0==>无限等待    其它数字==>等待xx ms\n",
    "cv2.destroyAllWindows()  #结束：键盘输入一个字符"
   ]
  },
  {
   "cell_type": "code",
   "execution_count": 5,
   "metadata": {},
   "outputs": [],
   "source": [
    "#图片灰度转换\n",
    "import cv2\n",
    "img=cv2.imread('southeast.jpg')\n",
    "cv2.imshow('{}_image'.format(1),img)\n",
    "\n",
    "gray_img=cv2.cvtColor(img,cv2.COLOR_BGR2GRAY)\n",
    "cv2.imshow('{}_image'.format(2),gray_img)\n",
    "cv2.imwrite('gray_southeast.jpg',gray_img)  #保存图片\n",
    "\n",
    "cv2.waitKey(0)\n",
    "cv2.destroyAllWindows()"
   ]
  },
  {
   "cell_type": "code",
   "execution_count": 6,
   "metadata": {},
   "outputs": [],
   "source": [
    "#修改图片尺寸\n",
    "import cv2\n",
    "img=cv2.imread('southeast.jpg')\n",
    "\n",
    "resize_img=cv2.resize(img,dsize=(200,400))\n",
    "cv2.imshow('{}_image'.format(1),resize_img)\n",
    "\n",
    "while 1:\n",
    "    if ord('q')==cv2.waitKey(0):\n",
    "        break\n",
    "cv2.destroyAllWindows()"
   ]
  },
  {
   "cell_type": "code",
   "execution_count": 8,
   "metadata": {},
   "outputs": [],
   "source": [
    "#画图\n",
    "import cv2\n",
    "img=cv2.imread('southeast.jpg')\n",
    "#矩形\n",
    "x,y,w,h=50,50,80,80\n",
    "cv2.rectangle(img,(x,y,x+w,y+h),color=(0,255,0),thickness=2)  #color:BGR   thickness:粗细\n",
    "#圆\n",
    "cv2.circle(img,center=(x+w//2,y+h//2),radius=w//2,color=(0,0,255),thickness=2)\n",
    "cv2.imshow('{}_image'.format(1),img)\n",
    "\n",
    "cv2.waitKey(0)\n",
    "cv2.destroyAllWindows()"
   ]
  },
  {
   "cell_type": "markdown",
   "metadata": {},
   "source": [
    "# 人脸识别"
   ]
  },
  {
   "cell_type": "markdown",
   "metadata": {},
   "source": [
    "* 人脸检测器（默认）：\n",
    "* 人脸检测器（快速 Harr）：\n",
    "* 人脸检测器（快速 LBP）：\n",
    "* 人脸检测器（侧视）：\n",
    "* 眼部检测器（左眼）：\n",
    "* 眼部检测器（右眼）：\n",
    "* 嘴部检测器：\n",
    "* 鼻子检测器：\n",
    "* 身体检测器："
   ]
  },
  {
   "cell_type": "code",
   "execution_count": 16,
   "metadata": {},
   "outputs": [],
   "source": [
    "#单个人脸\n",
    "import cv2\n",
    "def face_detect():\n",
    "    gray_img=cv2.cvtColor(img,cv2.COLOR_BGR2GRAY)\n",
    "    face_detector=cv2.CascadeClassifier('opencv/sources/data/haarcascades/haarcascade_frontalface_default.xml')\n",
    "    faces=face_detector.detectMultiScale(gray_img)\n",
    "    for x,y,w,h in faces:\n",
    "        cv2.rectangle(img,(x,y,x+w,y+h),color=(0,255,0),thickness=2)\n",
    "    cv2.imshow('result',img)\n",
    "\n",
    "img=cv2.imread('southeast.jpg')\n",
    "face_detect()\n",
    "cv2.imshow('{}_image'.format(1),img)\n",
    "\n",
    "cv2.waitKey(0)\n",
    "cv2.destroyAllWindows()"
   ]
  },
  {
   "cell_type": "code",
   "execution_count": 1,
   "metadata": {},
   "outputs": [
    {
     "name": "stdout",
     "output_type": "stream",
     "text": [
      "504 105 345 345\n",
      "61 97 332 332\n"
     ]
    }
   ],
   "source": [
    "#多个人脸\n",
    "import cv2\n",
    "def face_detect():\n",
    "    gray_img=cv2.cvtColor(img,cv2.COLOR_BGR2GRAY)\n",
    "    face_detector=cv2.CascadeClassifier('opencv/sources/data/haarcascades/haarcascade_frontalface_default.xml')\n",
    "    faces=face_detector.detectMultiScale(gray_img)\n",
    "    for x,y,w,h in faces:\n",
    "        print(x,y,w,h)\n",
    "        cv2.rectangle(img,(x,y),(x+w,y+h),color=(0,0,255),thickness=2)\n",
    "    cv2.imshow('result',img)\n",
    "    \n",
    "    \n",
    "    \n",
    "img=cv2.imread('6758e9b3b804a1bd38eced8cd1633b71.jpg')\n",
    "face_detect()\n",
    "cv2.imshow('{}_image'.format(1),img)\n",
    "\n",
    "cv2.waitKey(0)\n",
    "cv2.destroyAllWindows()"
   ]
  },
  {
   "cell_type": "code",
   "execution_count": null,
   "metadata": {},
   "outputs": [],
   "source": []
  },
  {
   "cell_type": "code",
   "execution_count": null,
   "metadata": {},
   "outputs": [],
   "source": []
  }
 ],
 "metadata": {
  "kernelspec": {
   "display_name": "Python 3",
   "language": "python",
   "name": "python3"
  },
  "language_info": {
   "codemirror_mode": {
    "name": "ipython",
    "version": 3
   },
   "file_extension": ".py",
   "mimetype": "text/x-python",
   "name": "python",
   "nbconvert_exporter": "python",
   "pygments_lexer": "ipython3",
   "version": "3.7.6"
  }
 },
 "nbformat": 4,
 "nbformat_minor": 4
}
