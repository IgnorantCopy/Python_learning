{
 "cells": [
  {
   "cell_type": "markdown",
   "metadata": {},
   "source": [
    "# 基础知识"
   ]
  },
  {
   "cell_type": "raw",
   "metadata": {},
   "source": [
    "-------------------------\n",
    "|     网线|---->设备1 |\n",
    "|交换机<--|---->设备2 |\n",
    "|        |---->设备3 |\n",
    "-------------------------\n",
    "网线：8根，只使用四根(1246) （568A/B 线序）\n",
    "光纤\n",
    "Wi-fi"
   ]
  },
  {
   "cell_type": "raw",
   "metadata": {},
   "source": [
    "ip地址是8个二进制，点分十进制\n",
    "ip地址:  192.168.50.220\n",
    "子网掩码:255.255.255.0（按位与运算）\n",
    "网段:   192.168.50.X ==>主机位:256-2\n",
    "主机位全0表示网络位，全1表示广播位"
   ]
  },
  {
   "cell_type": "raw",
   "metadata": {},
   "source": [
    "ip地址分类:\n",
    "A类地址: 01111111  11111111  11111111  11111111   使用7位表示网络位\n",
    "子网掩码:11111111  00000000  00000000  00000000   255.0.0.0\n",
    "A类地址:1.0.0.1 ~ 126.255.255.254 (127开头，0.0.0.0，是特殊的ip地址)\n",
    "B类地址: 10111111  11111111  11111111  11111111   使用14位表示网络位\n",
    "子网掩码:255.255.0.0\n",
    "C类地址: 11011111  11111111  11111111  11111111   使用21位表示网络位\n",
    "子网掩码:255.255.255.0\n",
    "保留地址:\n",
    "D类地址: 11101111  11111111  11111111  11111111\n",
    "E类地址: 11110111  11111111  11111111  11111111"
   ]
  },
  {
   "cell_type": "raw",
   "metadata": {},
   "source": [
    "DHCP服务器：用来分配ip地址\n",
    "默认网关:192.168.31.1\n",
    "网络通信方式：\n",
    "1.网线相连，设为同一网段（缺点：只能一对一）\n",
    "2.使用集线器（缺点：通过广播发送信息，安全性低，数据浪费）\n",
    "3.交换机、路由器\n",
    "MAC地址：在设备与设备之间数据通信时用来标记收发双方\n",
    "DNS：解析ip地址\n",
    "http服务器：提供浏览器能够访问到的数据"
   ]
  },
  {
   "cell_type": "raw",
   "metadata": {},
   "source": [
    "端口：在不同的电脑间区分程序    #同一台电脑，用pid来区分不同程序\n",
    "套接字(socket)：进程间通信的一种方式"
   ]
  },
  {
   "cell_type": "raw",
   "metadata": {},
   "source": [
    "udp：没有严格的服务器和客户端的区别\n",
    "TCP：有服务器和客户端，比阿娘连接的协议\n",
    "服务器：\n",
    "客户端："
   ]
  },
  {
   "cell_type": "markdown",
   "metadata": {},
   "source": [
    "# Socket\n",
    "* socket可以在不同的电脑间通信，也可以在同一电脑的不同程序间通信"
   ]
  },
  {
   "cell_type": "markdown",
   "metadata": {},
   "source": [
    "## 发送数据"
   ]
  },
  {
   "cell_type": "code",
   "execution_count": 1,
   "metadata": {},
   "outputs": [],
   "source": [
    "#步骤：\n",
    "\n",
    "#1.创建socket并连接\n",
    "import socket\n",
    "\n",
    "s = socket.socket(socket.AF_INET, socket.SOCK_DGRAM)\n",
    "#AF_INET:表示这个socket用来网络连接\n",
    "#SOCK_DGRAM:表示连接是一个 udp 连接\n",
    "\n",
    "#2.发送数据\n",
    "#s.sendto(data,address)\n",
    "#data:要发送的数据，二进制\n",
    "#address:发送给谁，参数是一个元组，元组里有两个元素，第一个表示目标的ip地址，第二个表示程序的端口号\n",
    "#端口号：0~65536    0~1024不要用，系统一些重要的服务在使用    端口号要空闲\n",
    "s.sendto('hello'.encode('utf8'), ('192.168.50.220', 9000))\n",
    "\n",
    "#3.关闭socket\n",
    "s.close()"
   ]
  },
  {
   "cell_type": "markdown",
   "metadata": {},
   "source": [
    "## 接收数据"
   ]
  },
  {
   "cell_type": "code",
   "execution_count": null,
   "metadata": {},
   "outputs": [],
   "source": [
    "import socket\n",
    "\n",
    "#创建一个基于 udp 的网络socket连接\n",
    "s = socket.socket(socket.AF_INET, socket.SOCK_DGRAM)\n",
    "#绑定端口号和ip地址\n",
    "s.bind(('192.168.50.220', 9000))\n",
    "#recvfrom接收数据\n",
    "data, addr = s.recvfrom(1024)\n",
    "#接收到的数据是一个元组，第0个元素是接收到的数据，第1个元素是发送方的端口号和ip地址\n",
    "print('从{}地址{}端口号接收到了消息，内容是：{}'.format(addr[0], addr[1], data.decode('utf8')))\n",
    "s.close()"
   ]
  },
  {
   "cell_type": "markdown",
   "metadata": {},
   "source": [
    "## TCP客户端"
   ]
  },
  {
   "cell_type": "code",
   "execution_count": null,
   "metadata": {},
   "outputs": [],
   "source": [
    "import socket\n",
    "\n",
    "#基于TCP协议的socket连接\n",
    "s = socket.socket(socket.AF_INET, socket.SOCK_STREAM)\n",
    "#在发送数据之前，必须要和服务器建立连接\n",
    "s.connect(('192.168.50.220', 9000))\n",
    "s.send('hello'.encode('utf8'))\n",
    "s.close()"
   ]
  },
  {
   "cell_type": "markdown",
   "metadata": {},
   "source": [
    "## TCP服务端"
   ]
  },
  {
   "cell_type": "code",
   "execution_count": null,
   "metadata": {},
   "outputs": [],
   "source": [
    "import socket\n",
    "\n",
    "#创建一个socket连接\n",
    "s = socket.socket(socket.AF_INET, socket.SOCK_STREAM)\n",
    "s.bind(('192.168.50.220', 9000))\n",
    "s.listen(128)  #把socket变成一个被动监听的\n",
    "#128:允许128个排队\n",
    "client_socket, client_addr = s.accept()  #接收客户端的请求\n",
    "#接收到的是一个元组，有两个元素\n",
    "#第0个元素是客户端的socket连接，第1个元素是客户端的ip地址和端口号\n",
    "x = client_socket.recv(1024)\n",
    "print('接收到了{}客户端{}端口号发送的数据，内容是{}'.format(client_addr[0], client_addr[1], x.decode('utf8')))"
   ]
  },
  {
   "cell_type": "markdown",
   "metadata": {},
   "source": [
    "## 文件下载"
   ]
  },
  {
   "cell_type": "code",
   "execution_count": null,
   "metadata": {},
   "outputs": [],
   "source": [
    "#客户端\n",
    "import socket\n",
    "\n",
    "s = socket.socket(socket.AF_INET, socket.SOCK_STREAM)\n",
    "s.connect(('192.168.50.220', 9000))\n",
    "file_name = input('请输入要下载的文件名：')\n",
    "s.send(file_name.encode('utf8'))\n",
    "with open(file_name, 'wb') as file:\n",
    "    while 1:\n",
    "        content = s.recv(1024)\n",
    "        if not content:\n",
    "            break\n",
    "        file.write(content)\n",
    "s.close()"
   ]
  },
  {
   "cell_type": "code",
   "execution_count": null,
   "metadata": {},
   "outputs": [],
   "source": [
    "#服务器\n",
    "import socket, os\n",
    "\n",
    "server_socket = socket.socket(socket.AF_INET, socket.SOCK_STREAM)\n",
    "server_socket.bind(('192.168.50.220', 9000))\n",
    "server_socket.listen(128)\n",
    "#接收客户端的请求\n",
    "client_socket, client_addr = server_socket.accept()\n",
    "file_name = client_socket.recv(1024).decode('utf8')\n",
    "if os.path.isfile():\n",
    "    with open(data, 'rb') as file:\n",
    "        content = file.read()\n",
    "        client_socket.send(content)\n",
    "else:\n",
    "    print('文件不存在')"
   ]
  },
  {
   "cell_type": "markdown",
   "metadata": {},
   "source": [
    "# 多线程"
   ]
  },
  {
   "cell_type": "code",
   "execution_count": null,
   "metadata": {
    "scrolled": true
   },
   "outputs": [],
   "source": [
    "import threading\n",
    "\n",
    "\n",
    "def dance():\n",
    "    for i in range(50):\n",
    "        time.sleep(0.2)\n",
    "        print('我正在跳舞')\n",
    "\n",
    "\n",
    "def sing():\n",
    "    for i in range(50):\n",
    "        time.sleep(0.2)\n",
    "        print('我正在唱歌')\n",
    "\n",
    "\n",
    "#多任务执行：多线程、多进程、多线程+多进程\n",
    "\n",
    "#target 需要的是一个函数，用来指定线程需要执行的任务\n",
    "t1 = threading.Thread(target=dance)  #创建了线程1\n",
    "t2 = threading.Thread(target=sing)  #创建了线程2\n",
    "\n",
    "#启动线程\n",
    "t1.start()\n",
    "t2.start()"
   ]
  },
  {
   "cell_type": "markdown",
   "metadata": {},
   "source": [
    "## 多线程聊天"
   ]
  },
  {
   "cell_type": "code",
   "execution_count": null,
   "metadata": {},
   "outputs": [],
   "source": [
    "import socket, threading\n",
    "\n",
    "s = socket.socket(socket.AF_INET, socket.SOCK_DGRAM)\n",
    "s.bind(('192.168.50.220', 8000))\n",
    "\n",
    "\n",
    "def send_message():\n",
    "    while 1:\n",
    "        message = input('请输入要发送的内容：')\n",
    "        s.sendto(message.encode('utf8'), ('192.168.50.220', 9000))\n",
    "        if message == 'exit':\n",
    "            break\n",
    "\n",
    "\n",
    "def recv_message():\n",
    "    while 1:\n",
    "        data, addr = s.recvfrom(1024)\n",
    "        print('接收到了{}地址{}端口的消息:{}'.format(addr[0], addr[1], data.decode('utf8')),\n",
    "              file=open('消息记录.txt', 'a', encoding='utf8'))\n",
    "\n",
    "\n",
    "threading.Thread(target=send_message).start()\n",
    "threading.Thread(target=recv_message).start()\n",
    "s.close()"
   ]
  },
  {
   "cell_type": "markdown",
   "metadata": {},
   "source": [
    "## 多线程开发"
   ]
  },
  {
   "cell_type": "code",
   "execution_count": null,
   "metadata": {
    "scrolled": false
   },
   "outputs": [],
   "source": [
    "import threading\n",
    "\n",
    "#多个线程可以同时处理一个全局变量（共享全局变量）\n",
    "ticket = 20\n",
    "\n",
    "\n",
    "def sell():\n",
    "    global ticket\n",
    "    while 1:\n",
    "        if ticket > 0:\n",
    "            time.sleep(1)\n",
    "            ticket -= 1\n",
    "            print('{}卖出一张票，还剩{}张'.format(threading.current_thread().name, ticket))\n",
    "        else:\n",
    "            print('票卖完了')\n",
    "            break\n",
    "\n",
    "\n",
    "t1 = threading.Thread(target=sell, name='线程1')\n",
    "t2 = threading.Thread(target=sell, name='线程2')\n",
    "t1.start()\n",
    "t2.start()"
   ]
  },
  {
   "cell_type": "markdown",
   "metadata": {},
   "source": [
    "## 线程锁\n",
    "* 同步：当多线程共享数据时，需要进行同步控制，按预定的先后次序运行，保证多个线程安全访问竞争资源，简单的同步机制是互斥锁"
   ]
  },
  {
   "cell_type": "code",
   "execution_count": null,
   "metadata": {
    "scrolled": false
   },
   "outputs": [],
   "source": [
    "import threading\n",
    "\n",
    "ticket = 20\n",
    "lock = threading.Lock()\n",
    "\n",
    "\n",
    "def sell():\n",
    "    global ticket\n",
    "    while 1:\n",
    "        lock.acquire()  #加同步锁\n",
    "        if ticket > 0:\n",
    "            time.sleep(1)\n",
    "            ticket -= 1\n",
    "            lock.release()\n",
    "            print('{}卖出一张票，还剩{}张'.format(threading.current_thread().name, ticket))\n",
    "        else:\n",
    "            lock.release()\n",
    "            print('票卖完了')\n",
    "            break\n",
    "\n",
    "\n",
    "t1 = threading.Thread(target=sell, name='线程1')\n",
    "t2 = threading.Thread(target=sell, name='线程2')\n",
    "t1.start()\n",
    "t2.start()"
   ]
  },
  {
   "cell_type": "markdown",
   "metadata": {},
   "source": [
    "## 线程间通信"
   ]
  },
  {
   "cell_type": "code",
   "execution_count": null,
   "metadata": {
    "scrolled": true
   },
   "outputs": [],
   "source": [
    "#queue结构可以在不同线程间传递数据\n",
    "import queue, threading\n",
    "\n",
    "q1 = queue.Queue()\n",
    "\n",
    "\n",
    "def produce():\n",
    "    for i in range(20):\n",
    "        time.sleep(1)\n",
    "        print('生产了面包', i)\n",
    "        q1.put('bread{}'.format(i))\n",
    "\n",
    "\n",
    "def consume():\n",
    "    for i in range(20):\n",
    "        time.sleep(0.5)\n",
    "        print('消费了面包{}'.format(q1.get()))  #q1.get()方法是阻塞的方法\n",
    "\n",
    "\n",
    "p1 = threading.Thread(target=produce, name='p1')\n",
    "c1 = threading.Thread(target=consume, name='c1')\n",
    "p1.start()\n",
    "c1.start()"
   ]
  },
  {
   "cell_type": "code",
   "execution_count": null,
   "metadata": {
    "scrolled": true
   },
   "outputs": [],
   "source": [
    "#queue有FIFO结构(first in first out)\n",
    "#栈(stack)结构：后进先出，先进后出\n",
    "import queue, threading\n",
    "\n",
    "q1 = queue.Queue()\n",
    "\n",
    "\n",
    "def produce():\n",
    "    for i in range(20):\n",
    "        time.sleep(0.5)\n",
    "        print('{}生产了面包{}'.format(threading.current_thread().name, i))\n",
    "        q1.put('面包{}'.format(i))\n",
    "\n",
    "\n",
    "def consume():\n",
    "    for i in range(10):\n",
    "        time.sleep(1)\n",
    "        print('{}消费了{}'.format(threading.current_thread().name, q1.get()))  #q1.get()方法是阻塞的方法\n",
    "\n",
    "\n",
    "p1 = threading.Thread(target=produce, name='p1')\n",
    "p2 = threading.Thread(target=produce, name='p2')\n",
    "p3 = threading.Thread(target=produce, name='p3')\n",
    "c1 = threading.Thread(target=consume, name='c1')\n",
    "c2 = threading.Thread(target=consume, name='c2')\n",
    "c3 = threading.Thread(target=consume, name='c3')\n",
    "p1.start()\n",
    "p2.start()\n",
    "p3.start()\n",
    "c1.start()\n",
    "c2.start()\n",
    "c3.start()"
   ]
  },
  {
   "cell_type": "markdown",
   "metadata": {},
   "source": [
    "# 多进程"
   ]
  },
  {
   "cell_type": "raw",
   "metadata": {},
   "source": [
    "进程的状态：\n",
    "就绪态：运行的条件都满足，正在等待cpu执行\n",
    "执行态：cpu正在执行其功能\n",
    "等待态：等待某些条件满足"
   ]
  },
  {
   "cell_type": "code",
   "execution_count": null,
   "metadata": {},
   "outputs": [],
   "source": [
    "import multiprocessing\n",
    "\n",
    "\n",
    "def dance(n):\n",
    "    for i in range(n):\n",
    "        time.sleep(0.2)\n",
    "        print('我正在跳舞')\n",
    "\n",
    "\n",
    "def sing(m):\n",
    "    for i in range(m):\n",
    "        time.sleep(0.2)\n",
    "        print('我正在唱歌')\n",
    "\n",
    "\n",
    "#在Python中，以下代码不会执行，需作为一个文件运行时才会执行\n",
    "if __name__ == '__main__':\n",
    "    #args:用于函数的传参，是一个元组\n",
    "    p1 = multiprocessing.Process(target=dance, args=(20,))\n",
    "    p2 = multiprocessing.Process(target=sing, args=(30,))\n",
    "    p1.start()\n",
    "    p2.start()"
   ]
  },
  {
   "cell_type": "raw",
   "metadata": {},
   "source": [
    "线程和进程的区别：\n",
    "1.一个程序至少要有一个进程，一个进程至少要有一个线程\n",
    "2.进程有独立的内存单元，而多个线程共享内存\n",
    "3.线程不能独立运行，依存于进程中\n",
    "\n",
    "优缺点：线程开销小，但不利于资源的管理和保护，进程相反\n",
    "\n",
    "同一进程间的不同线程可以共享全局变量\n",
    "不同进程间不能共享全局变量"
   ]
  },
  {
   "cell_type": "markdown",
   "metadata": {},
   "source": [
    "## 进程共享全局变量"
   ]
  },
  {
   "cell_type": "code",
   "execution_count": null,
   "metadata": {},
   "outputs": [],
   "source": [
    "import multiprocessing, threading\n",
    "\n",
    "n = 100\n",
    "\n",
    "\n",
    "def test():\n",
    "    global n\n",
    "    n += 1\n",
    "    print('{}里n的值是{}'.format(os.getpid(), n))\n",
    "\n",
    "\n",
    "def demo():\n",
    "    global n\n",
    "    n += 1\n",
    "    print('{}里n的值是{}'.format(os.getpid(), n))\n",
    "\n",
    "\n",
    "t1 = threading.Thread(target=test)\n",
    "t2 = threading.Thread(target=demo)\n",
    "t1.start()\n",
    "t2.start()\n",
    "#不同进程个子保存一份全局变量，不会共享\n",
    "if __name__ == '__main__':\n",
    "    p1 = multiprocessing.Process(target=test)\n",
    "    p2 = multiprocessing.Process(target=demo)\n",
    "    p1.start()  #==>73240里n的值是101\n",
    "    p2.start()  #==>73240里n的值是101"
   ]
  },
  {
   "cell_type": "markdown",
   "metadata": {},
   "source": [
    "## 进程间通信"
   ]
  },
  {
   "cell_type": "code",
   "execution_count": null,
   "metadata": {},
   "outputs": [],
   "source": [
    "import multiprocessing\n",
    "\n",
    "\n",
    "def produce(x):\n",
    "    for i in range(10):\n",
    "        time.sleep(1)\n",
    "        print('生产了pid{} {}'.format(os.getpid(), i))\n",
    "        x.put('pid{} {}'.format(os.getpid(), i))\n",
    "\n",
    "\n",
    "def consume(x):\n",
    "    for i in range(10):\n",
    "        time.sleep(0.5)\n",
    "        print('消费了{}'.format(x.get()))\n",
    "\n",
    "\n",
    "if __name__ == '__main__':\n",
    "    q = multiprocessing.Queue()\n",
    "    p1 = multiprocessing.Process(target=produce, args=(q,))\n",
    "    p2 = multiprocessing.Process(target=consume, args=(q,))\n",
    "    p1.start()\n",
    "    p2.start()"
   ]
  },
  {
   "cell_type": "markdown",
   "metadata": {},
   "source": [
    "## 队列的使用"
   ]
  },
  {
   "cell_type": "code",
   "execution_count": null,
   "metadata": {},
   "outputs": [],
   "source": [
    "import multiprocessing, queue\n",
    "\n",
    "q1 = multiprocessing.Queue(5)  #进程间通信\n",
    "q2 = queue.Queue()  #线程间通信\n",
    "#创建队列时，可以指定最大长度。默认是0，表示不限\n",
    "q1.put('hello')\n",
    "q1.put('yes')\n",
    "q1.put('no')\n",
    "q1.put('world')\n",
    "q1.put('he')\n",
    "#q1.put('she')==>程序不会停止，无法放进去"
   ]
  },
  {
   "cell_type": "code",
   "execution_count": null,
   "metadata": {},
   "outputs": [],
   "source": [
    "import multiprocessing\n",
    "\n",
    "q = multiprocessing.Queue(5)\n",
    "q.put('hello')\n",
    "q.put('yes')\n",
    "q.put('no')\n",
    "q.put('world')\n",
    "q.put('he')\n",
    "q.put('how', block=True, timeout=5)\n",
    "#block=True表示阻塞，如果队列满了，就等待\n",
    "#timeout：超时，等待多久后程序会出错\n",
    "q.get()"
   ]
  },
  {
   "cell_type": "code",
   "execution_count": null,
   "metadata": {},
   "outputs": [],
   "source": [
    "import multiprocessing\n",
    "\n",
    "q = multiprocessing.Queue(5)\n",
    "q.put('hello')\n",
    "q.put('yes')\n",
    "q.put('no')\n",
    "q.put('world')\n",
    "q.put('he')\n",
    "q.put_nowait('she')  #<==>q.put('she',block=False)\n",
    "q.get()"
   ]
  },
  {
   "cell_type": "code",
   "execution_count": null,
   "metadata": {
    "scrolled": false
   },
   "outputs": [],
   "source": [
    "import multiprocessing\n",
    "\n",
    "q = multiprocessing.Queue(5)\n",
    "q.put('hello')\n",
    "q.put('yes')\n",
    "q.put('no')\n",
    "q.put('world')\n",
    "q.put('he')\n",
    "print(q.get())\n",
    "print(q.get())\n",
    "print(q.get())\n",
    "print(q.get())\n",
    "print(q.get())\n",
    "q.get(block=True, timeout=5)  #q.get_nowait()"
   ]
  },
  {
   "cell_type": "markdown",
   "metadata": {},
   "source": [
    "## 进程池\n",
    "* 使用大量进程"
   ]
  },
  {
   "cell_type": "code",
   "execution_count": null,
   "metadata": {
    "scrolled": true
   },
   "outputs": [],
   "source": [
    "import multiprocessing, os, random\n",
    "\n",
    "\n",
    "def worker(msg):\n",
    "    t_start = time.time()\n",
    "    print('{}开始执行，进程号为{}'.format(msg, os.getpid()))\n",
    "    time.sleep(random.random() * 2)  #random.random():随机生成0-1间的浮点数\n",
    "    t_stop = time.time()\n",
    "    print(msg, '执行完毕，耗时%0.2f' % (t_stop - t_start))\n",
    "\n",
    "\n",
    "if __name__ == '__main__':\n",
    "    p = multiprocessing.Pool(3)  #定义一个进程池，最大进程数为3\n",
    "    for i in range(0, 10):\n",
    "        p.apply_async(worker, (i,))\n",
    "        #Pool().apply_async(要调用的目标,(传递给目标的参数元组,))\n",
    "        #每次循环将会用空出来的子进程去调用目标\n",
    "    print('------start------')\n",
    "    p.close()\n",
    "    p.join()  #等待p中所有子进程执行完成\n",
    "    print('------end------')\n",
    "\n",
    "#进程池间通信，需要multiprocessing.Manager().Queue()"
   ]
  },
  {
   "cell_type": "markdown",
   "metadata": {},
   "source": [
    "## join方法的使用"
   ]
  },
  {
   "cell_type": "code",
   "execution_count": null,
   "metadata": {},
   "outputs": [],
   "source": [
    "\n",
    "\n",
    "x = 10\n",
    "\n",
    "\n",
    "def test(a, b):\n",
    "    time.sleep(1)\n",
    "    global x\n",
    "    x = a + b\n",
    "\n",
    "\n",
    "test(1, 1)\n",
    "print(x)"
   ]
  },
  {
   "cell_type": "code",
   "execution_count": null,
   "metadata": {},
   "outputs": [],
   "source": [
    "import threading\n",
    "\n",
    "x = 10\n",
    "\n",
    "\n",
    "def test(a, b):\n",
    "    time.sleep(1)\n",
    "    global x\n",
    "    x = a + b\n",
    "\n",
    "\n",
    "t = threading.Thread(target=test, args=(1, 1))\n",
    "t.start()\n",
    "print(x)"
   ]
  },
  {
   "cell_type": "code",
   "execution_count": null,
   "metadata": {},
   "outputs": [],
   "source": [
    "import time, threading\n",
    "\n",
    "x = 10\n",
    "\n",
    "\n",
    "def test(a, b):\n",
    "    time.sleep(1)\n",
    "    global x\n",
    "    x = a + b\n",
    "\n",
    "\n",
    "t = threading.Thread(target=test, args=(1, 1))\n",
    "t.start()\n",
    "t.join()  #让主线程等待\n",
    "print(x)"
   ]
  },
  {
   "cell_type": "markdown",
   "metadata": {},
   "source": [
    "# 搭建HTTP服务器"
   ]
  },
  {
   "cell_type": "raw",
   "metadata": {},
   "source": [
    "HTTP协议(Hyper Text Transfer Protocol):超文本传输协议\n",
    "用来传输超文本 HTML(Hyper Text Markup Language):超文本标记语言\n",
    "C/S架构:client-server    (手机淘宝APP)\n",
    "B/S架构:browser-server   (浏览器访问淘宝)"
   ]
  },
  {
   "cell_type": "code",
   "execution_count": null,
   "metadata": {},
   "outputs": [],
   "source": [
    "import socket\n",
    "\n",
    "#HTTP服务器都是基于TCP的socket链接\n",
    "server_socket = socket.socket(socket.AF_INET, socket.SOCK_STREAM)\n",
    "server_socket.bind(('0.0.0.0', 9090))\n",
    "#能通过 127.0.0.1 和 localhost 来访问\n",
    "#127.0.0.1 和 0.0.0.0 都表示本机\n",
    "#0.0.0.0 表示所有可用的地址\n",
    "#127.0.0.1 仅能自己访问\n",
    "#192.168.50.220 仅能同局域网访问\n",
    "server_socket.listen(128)\n",
    "while 1:\n",
    "    client_socket, client_addr = server_socket.accept()\n",
    "    data = client_socket.recv(1024).decode('utf8')\n",
    "    #再返回内容之前需要先设置HTTP响应头\n",
    "    client_socket.send('HTTP/1.1 200 OK'.encode('utf8'))\n",
    "    #一个响应头就换一行\n",
    "    client_socket.send('\\n'.encode('utf8'))\n",
    "    #所有响应头设置完成后再换行\n",
    "    #返回消息\n",
    "    client_socket.send('<h1 style=\"color:red\">hello world</h1>'.encode('utf8'))"
   ]
  },
  {
   "cell_type": "markdown",
   "metadata": {},
   "source": [
    "## HTTP请求头"
   ]
  },
  {
   "cell_type": "raw",
   "metadata": {},
   "source": [
    "请求方式：GET/POST/PUT/DELETE...\n",
    "请求路径及请求参数：/index.html?name=jack&age=18\n",
    "HTTP版本号：HTTP/1.1\n",
    "请求的服务器地址：192.168.50.220:9090"
   ]
  },
  {
   "cell_type": "code",
   "execution_count": null,
   "metadata": {},
   "outputs": [],
   "source": [
    "#根据不同的请求返回不同的内容\n",
    "import socket\n",
    "\n",
    "server_socket = socket.socket(socket.AF_INET, socket.SOCK_STREAM)\n",
    "server_socket.bind(('0.0.0.0', 9090))\n",
    "server_socket.listen(128)\n",
    "while 1:\n",
    "    client_socket, client_addr = server_socket.accept()\n",
    "    data = client_socket.recv(1024).decode('utf8')\n",
    "    #print('接收到{}的数据{}'.format(client_addr[0],data))\n",
    "    path = ''\n",
    "    if data:  #浏览器发送的数据有可能是空\n",
    "        path = data.splitlines()[0].split(' ')[1]\n",
    "        print('请求的路径是{}'.format(path))\n",
    "    response_header = 'HTTP/1.1 200 OK\\n'\n",
    "    if path == '/login':\n",
    "        response_body = '<h1 style=\"color:red\">欢迎来到登录页面</h1>'\n",
    "    elif path == '/register':\n",
    "        response_body = '<h1 style=\"color:red\">欢迎来到注册页面</h1>'\n",
    "    elif path == '/':\n",
    "        response_body = '<h1 style=\"color:red\">欢迎来到首页</h1>'\n",
    "    else:\n",
    "        response_header = 'HTTP/1.1 404 Page Not Found\\n'\n",
    "        response_body = '<h1 style=\"color:red\">您要查看的页面不存在！</h1>'\n",
    "    response_header += 'content-type:text/html;charset=utf8\\n'\n",
    "    response_header += '\\n'\n",
    "    response = response_header + response_body\n",
    "    client_socket.send(response.encode('utf8'))"
   ]
  },
  {
   "cell_type": "code",
   "execution_count": null,
   "metadata": {},
   "outputs": [],
   "source": [
    "#面向对象的封装\n",
    "import socket\n",
    "\n",
    "\n",
    "class MyServer(object):\n",
    "    def __init__(self, ip, port):\n",
    "        self.socket = socket.socket(socket.AF_INET, socket.SOCK_STREAM)\n",
    "        self.socket.bind((ip, port))\n",
    "        self.socket.listen(128)\n",
    "\n",
    "    def run_forever(self):\n",
    "        while 1:\n",
    "            client_socket, client_addr = self.socket.accept()\n",
    "            data = client_socket.recv(1024).decode('utf8')\n",
    "            path = ''\n",
    "            if data:\n",
    "                path = data.splitlines()[0].split(' ')[1]\n",
    "                print('请求的路径是{}'.format(path))\n",
    "            response_header = 'HTTP/1.1 200 OK\\n'\n",
    "            if path == '/login':\n",
    "                response_body = '<h1 style=\"color:red\">欢迎来到登录页面</h1>'\n",
    "            elif path == '/register':\n",
    "                response_body = '<h1 style=\"color:red\">欢迎来到注册页面</h1>'\n",
    "            elif path == '/':\n",
    "                response_body = '<h1 style=\"color:red\">欢迎来到首页</h1>'\n",
    "            else:\n",
    "                response_header = 'HTTP/1.1 404 Page Not Found\\n'\n",
    "                response_body = '<h1 style=\"color:red\">您要查看的页面不存在！</h1>'\n",
    "            response_header += 'content-type:text/html;charset=utf8\\n'\n",
    "            response_header += '\\n'\n",
    "            response = response_header + response_body\n",
    "            client_socket.send(response.encode('utf8'))\n",
    "\n",
    "\n",
    "s = MyServer('0.0.0.0', 8090)\n",
    "s.run_forever()"
   ]
  },
  {
   "cell_type": "markdown",
   "metadata": {},
   "source": [
    "# WSGI服务器"
   ]
  },
  {
   "cell_type": "code",
   "execution_count": null,
   "metadata": {},
   "outputs": [
    {
     "name": "stdout",
     "output_type": "stream",
     "text": [
      "Serving HTTP on 0.0.0.0 port 8080 ...\n",
      "path=/\n"
     ]
    },
    {
     "name": "stderr",
     "output_type": "stream",
     "text": [
      "127.0.0.1 - - [06/Mar/2022 22:48:15] \"GET / HTTP/1.1\" 200 12\n"
     ]
    },
    {
     "name": "stdout",
     "output_type": "stream",
     "text": [
      "path=/favicon.ico\n"
     ]
    },
    {
     "name": "stderr",
     "output_type": "stream",
     "text": [
      "127.0.0.1 - - [06/Mar/2022 22:48:16] \"GET /favicon.ico HTTP/1.1\" 200 12\n"
     ]
    }
   ],
   "source": [
    "from wsgiref.simple_server import make_server\n",
    "\n",
    "\n",
    "#demo_app是一个函数，用来处理用户的请求\n",
    "#demo_app 需要两个参数，第0个表示环境（电脑的环境；请求路径相关的环境），第1个参数是一个函数，用来返回响应头\n",
    "#demo_app 需要一个返回值，返回值是一个列表，列表里只有一个元素，是一个二进制，表示返回给浏览器的数据\n",
    "def demo_app(environ, start_response):\n",
    "    #environ 是一个字典，保存了很多数据\n",
    "    path = environ['PATH_INFO']\n",
    "    #PATH_INFO能够获取到用户的访问路径\n",
    "    print('path={}'.format(path))\n",
    "    start_response('200 OK', [('Content-Type', 'text/html;charset=utf8')])\n",
    "    return ['hello world!'.encode('utf8')]\n",
    "\n",
    "\n",
    "httpd = make_server('', 8080, demo_app)\n",
    "sa = httpd.socket.getsockname()\n",
    "print('Serving HTTP on', sa[0], 'port', sa[1], '...')\n",
    "#打开电脑的浏览器并输入 http://localhost:8000/xyz?abc\n",
    "#import webbrowser\n",
    "#webbrowser.open('http://localhost:8000/xyz?abc')\n",
    "\n",
    "#处理一次请求\n",
    "#httpd.handle_request()\n",
    "\n",
    "#一直运行\n",
    "httpd.serve_forever()"
   ]
  },
  {
   "cell_type": "raw",
   "metadata": {},
   "source": [
    "environ的内容：\n",
    "{\n",
    "'ALLUSERSPROFILE': 'C:\\\\ProgramData', \n",
    "'APPDATA': 'C:\\\\Users\\\\徐燕\\\\AppData\\\\Roaming',\n",
    "'ASL.LOG': 'Destination=file', \n",
    "'COMMONPROGRAMFILES': 'C:\\\\Program Files\\\\Common Files', \n",
    "'COMMONPROGRAMFILES(X86)': 'C:\\\\Program Files (x86)\\\\Common Files', \n",
    "'COMMONPROGRAMW6432': 'C:\\\\Program Files\\\\Common Files', \n",
    "'COMPUTERNAME': 'DESKTOP-IK3JJVK', \n",
    "'COMSPEC': 'C:\\\\WINDOWS\\\\system32\\\\cmd.exe', \n",
    "'DRIVERDATA': 'C:\\\\Windows\\\\System32\\\\Drivers\\\\DriverData', \n",
    "'FPS_BROWSER_APP_PROFILE_STRING': 'Internet Explorer', \n",
    "'FPS_BROWSER_USER_PROFILE_STRING': 'Default', \n",
    "'HOMEDRIVE': 'C:', \n",
    "'HOMEPATH': '\\\\Users\\\\徐燕', \n",
    "'LOCALAPPDATA': 'C:\\\\Users\\\\徐燕\\\\AppData\\\\Local', \n",
    "'LOGONSERVER': '\\\\\\\\DESKTOP-IK3JJVK', \n",
    "'MOZ_PLUGIN_PATH': 'C:\\\\Program Files (x86)\\\\Foxit Software\\\\Foxit Reader\\\\plugins\\\\', \n",
    "'NUMBER_OF_PROCESSORS': '4', \n",
    "'ONEDRIVE': 'C:\\\\Users\\\\徐燕\\\\OneDrive', \n",
    "'OS': 'Windows_NT', \n",
    "'PATH': 'C:\\\\ANACONDA3;C:\\\\ANACONDA3\\\\Library\\\\mingw-w64\\\\bin;C:\\\\ANACONDA3\\\\Library\\\\usr\\\\bin;C:\\\\ANACONDA3\\\\Library\\\\bin;C:\\\\ANACONDA3\\\\Scripts;C:\\\\Program Files (x86)\\\\Intel\\\\iCLS Client\\\\;C:\\\\Program Files\\\\Intel\\\\iCLS Client\\\\;C:\\\\WINDOWS\\\\system32;C:\\\\WINDOWS;C:\\\\WINDOWS\\\\System32\\\\Wbem;C:\\\\WINDOWS\\\\System32\\\\WindowsPowerShell\\\\v1.0\\\\;C:\\\\ProgramFiles(x86)\\\\PuTTY\\\\;C:\\\\WINDOWS\\\\System32\\\\OpenSSH\\\\;C:\\\\ANACONDA3;C:\\\\ANACONDA3\\\\Library\\\\mingw-w64\\\\bin;C:\\\\ANACONDA3\\\\Library\\\\usr\\\\bin;C:\\\\ANACONDA3\\\\Library\\\\bin;C:\\\\ANACONDA3\\\\Scripts;C:\\\\Users\\\\徐燕\\\\AppData\\\\Local\\\\Microsoft\\\\WindowsApps;C:\\\\Program Files (x86)\\\\Tencent\\\\QQ\\\\QQGameTempest\\\\Hall.57734\\\\',\n",
    "'PATHEXT': '.COM;.EXE;.BAT;.CMD;.VBS;.VBE;.JS;.JSE;.WSF;.WSH;.MSC', \n",
    "'PROCESSOR_ARCHITECTURE': 'AMD64', \n",
    "'PROCESSOR_IDENTIFIER': 'Intel64 Family 6 Model 61 Stepping 4, GenuineIntel', \n",
    "'PROCESSOR_LEVEL': '6', \n",
    "'PROCESSOR_REVISION': '3d04', \n",
    "'PROGRAMDATA': 'C:\\\\ProgramData', \n",
    "'PROGRAMFILES': 'C:\\\\Program Files', \n",
    "'PROGRAMFILES(X86)': 'C:\\\\Program Files (x86)', \n",
    "'PROGRAMW6432': 'C:\\\\Program Files', \n",
    "'PSMODULEPATH': 'C:\\\\WINDOWS\\\\system32\\\\WindowsPowerShell\\\\v1.0\\\\Modules\\\\', \n",
    "'PUBLIC': 'C:\\\\Users\\\\Public', \n",
    "'SESSIONNAME': 'Console', \n",
    "'SYSTEMDRIVE': 'C:', \n",
    "'SYSTEMROOT': 'C:\\\\WINDOWS', \n",
    "'TEMP': 'C:\\\\Users\\\\徐燕\\\\AppData\\\\Local\\\\Temp', \n",
    "'TMP': 'C:\\\\Users\\\\徐燕\\\\AppData\\\\Local\\\\Temp', \n",
    "'USERDOMAIN': 'DESKTOP-IK3JJVK', \n",
    "'USERDOMAIN_ROAMINGPROFILE': 'DESKTOP-IK3JJVK', \n",
    "'USERNAME': '徐燕', \n",
    "'USERPROFILE': 'C:\\\\Users\\\\徐燕', \n",
    "'WINDIR': 'C:\\\\WINDOWS', \n",
    "'CONDA_PREFIX': 'C:\\\\ANACONDA3', \n",
    "'KERNEL_LAUNCH_TIMEOUT': '40', \n",
    "'JPY_INTERRUPT_EVENT': '1864', \n",
    "'IPY_INTERRUPT_EVENT': '1864', \n",
    "'JPY_PARENT_PID': '1856', \n",
    "'TERM': 'xterm-color', \n",
    "'CLICOLOR': '1', \n",
    "'PAGER': 'cat', \n",
    "'GIT_PAGER': 'cat', \n",
    "'MPLBACKEND': 'module://ipykernel.pylab.backend_inline', \n",
    "'SERVER_NAME': 'DESKTOP-IK3JJVK', \n",
    "'GATEWAY_INTERFACE': 'CGI/1.1', \n",
    "'SERVER_PORT': '8080', \n",
    "'REMOTE_HOST': '', \n",
    "'CONTENT_LENGTH': '', \n",
    "'SCRIPT_NAME': '', \n",
    "'SERVER_PROTOCOL': 'HTTP/1.1', \n",
    "'SERVER_SOFTWARE': 'WSGIServer/0.2', \n",
    "'REQUEST_METHOD': 'GET', \n",
    "'PATH_INFO': '/', \n",
    "'QUERY_STRING': '', \n",
    "'REMOTE_ADDR': '127.0.0.1', \n",
    "'CONTENT_TYPE': 'text/plain', \n",
    "'HTTP_HOST': 'localhost:8080', \n",
    "'HTTP_CONNECTION': 'keep-alive', \n",
    "'HTTP_CACHE_CONTROL': 'max-age=0', \n",
    "'HTTP_SEC_CH_UA': '\" Not A;Brand\";v=\"99\", \n",
    "\"Chromium\";v=\"99\", \n",
    "\"Microsoft Edge\";v=\"99\"', \n",
    "'HTTP_SEC_CH_UA_MOBILE': '?0', \n",
    "'HTTP_SEC_CH_UA_PLATFORM': '\"Windows\"', \n",
    "'HTTP_UPGRADE_INSECURE_REQUESTS': '1', \n",
    "'HTTP_USER_AGENT': 'Mozilla/5.0 (Windows NT 10.0; Win64; x64) AppleWebKit/537.36 (KHTML, like Gecko) Chrome/99.0.4844.51 Safari/537.36 Edg/99.0.1150.30', \n",
    "'HTTP_ACCEPT':'text/html,application/xhtml+xml,application/xml;q=0.9,image/webp,image/apng,*/*;q=0.8,application/signed-exchange;v=b3;q=0.9', \n",
    "'HTTP_SEC_FETCH_SITE': 'none', \n",
    "'HTTP_SEC_FETCH_MODE': 'navigate', \n",
    "'HTTP_SEC_FETCH_USER': '?1', \n",
    "'HTTP_SEC_FETCH_DEST': 'document', \n",
    "'HTTP_ACCEPT_ENCODING': 'gzip, deflate, br', \n",
    "'HTTP_ACCEPT_LANGUAGE': 'zh-CN,zh;q=0.9,en;q=0.8,en-GB;q=0.7,en-US;q=0.6', \n",
    "'wsgi.input': <_io.BufferedReader name=1312>, \n",
    "'wsgi.errors': <ipykernel.iostream.OutStream object at 0x00000178AF9E8E48>, \n",
    "'wsgi.version': (1, 0), \n",
    "'wsgi.run_once': False, \n",
    "'wsgi.url_scheme': 'http', \n",
    "'wsgi.multithread': True, \n",
    "'wsgi.multiprocess': False, \n",
    "'wsgi.file_wrapper': <class 'wsgiref.util.FileWrapper'>\n",
    "}"
   ]
  },
  {
   "cell_type": "code",
   "execution_count": null,
   "metadata": {},
   "outputs": [
    {
     "name": "stdout",
     "output_type": "stream",
     "text": [
      "Serving HTTP on 0.0.0.0 port 8008 ...\n"
     ]
    },
    {
     "name": "stderr",
     "output_type": "stream",
     "text": [
      "127.0.0.1 - - [06/Mar/2022 23:04:17] \"GET / HTTP/1.1\" 200 18\n",
      "127.0.0.1 - - [06/Mar/2022 23:04:18] \"GET /favicon.ico HTTP/1.1\" 404 15\n",
      "127.0.0.1 - - [06/Mar/2022 23:04:48] \"GET /test HTTP/1.1\" 200 30\n",
      "127.0.0.1 - - [06/Mar/2022 23:05:00] \"GET /register HTTP/1.1\" 200 24\n",
      "127.0.0.1 - - [06/Mar/2022 23:05:05] \"GET /login HTTP/1.1\" 200 24\n",
      "127.0.0.1 - - [06/Mar/2022 23:05:10] \"GET /demo HTTP/1.1\" 404 15\n"
     ]
    }
   ],
   "source": [
    "from wsgiref.simple_server import make_server\n",
    "\n",
    "\n",
    "def demo_app(environ, start_response):\n",
    "    path = environ['PATH_INFO']\n",
    "    status_code = '200 OK'\n",
    "    #状态码：RESTFUL ==> 前后端分离\n",
    "    #2XX：请求响应成功\n",
    "    #3XX：重定向\n",
    "    #4XX：客户端的错误    404：客户端访问了一个不存在的地址    405：请求方式不被允许\n",
    "    #5XX：服务器的错误\n",
    "    response = 'Hello world!'\n",
    "    if path == '/':\n",
    "        response = '欢迎来到首页'\n",
    "    elif path == '/test':\n",
    "        response = '恭喜你喜提习题一份！'\n",
    "    elif path == '/register':\n",
    "        response = '欢迎来到注册页面'\n",
    "    elif path == '/login':\n",
    "        response = '欢迎来到登录页面'\n",
    "    else:\n",
    "        response = '页面走丢了'\n",
    "        status_code = '404 Not Found'\n",
    "    start_response(status_code, [('Content-Type', 'text/html;charset=utf8')])\n",
    "    return [response.encode('utf8')]\n",
    "\n",
    "\n",
    "httpd = make_server('', 8008, demo_app)\n",
    "sa = httpd.socket.getsockname()\n",
    "print('Serving HTTP on', sa[0], 'port', sa[1], '...')\n",
    "httpd.serve_forever()"
   ]
  },
  {
   "cell_type": "code",
   "execution_count": null,
   "metadata": {},
   "outputs": [],
   "source": []
  },
  {
   "cell_type": "code",
   "execution_count": null,
   "metadata": {},
   "outputs": [],
   "source": []
  },
  {
   "cell_type": "code",
   "execution_count": null,
   "metadata": {},
   "outputs": [],
   "source": []
  },
  {
   "cell_type": "code",
   "execution_count": null,
   "metadata": {},
   "outputs": [],
   "source": []
  },
  {
   "cell_type": "code",
   "execution_count": null,
   "metadata": {},
   "outputs": [],
   "source": []
  },
  {
   "cell_type": "code",
   "execution_count": null,
   "metadata": {},
   "outputs": [],
   "source": []
  },
  {
   "cell_type": "code",
   "execution_count": null,
   "metadata": {},
   "outputs": [],
   "source": []
  },
  {
   "cell_type": "code",
   "execution_count": null,
   "metadata": {},
   "outputs": [],
   "source": []
  }
 ],
 "metadata": {
  "kernelspec": {
   "display_name": "Python 3",
   "language": "python",
   "name": "python3"
  },
  "language_info": {
   "codemirror_mode": {
    "name": "ipython",
    "version": 3
   },
   "file_extension": ".py",
   "mimetype": "text/x-python",
   "name": "python",
   "nbconvert_exporter": "python",
   "pygments_lexer": "ipython3",
   "version": "3.7.6"
  }
 },
 "nbformat": 4,
 "nbformat_minor": 4
}
