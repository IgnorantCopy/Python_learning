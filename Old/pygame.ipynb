{
 "cells": [
  {
   "cell_type": "markdown",
   "metadata": {},
   "source": [
    "# 最小系统"
   ]
  },
  {
   "cell_type": "code",
   "outputs": [
    {
     "name": "stdout",
     "output_type": "stream",
     "text": [
      "pygame 2.5.2 (SDL 2.28.3, Python 3.9.13)\n",
      "Hello from the pygame community. https://www.pygame.org/contribute.html\n"
     ]
    }
   ],
   "source": [
    "import sys\n",
    "\n",
    "import pygame as p"
   ],
   "metadata": {
    "collapsed": false,
    "ExecuteTime": {
     "end_time": "2024-02-16T04:07:30.214290600Z",
     "start_time": "2024-02-16T04:07:30.029842700Z"
    }
   },
   "execution_count": 2
  },
  {
   "cell_type": "code",
   "execution_count": 3,
   "metadata": {
    "ExecuteTime": {
     "end_time": "2024-02-16T03:38:08.444351Z",
     "start_time": "2024-02-16T03:38:03.380656700Z"
    }
   },
   "outputs": [
    {
     "ename": "SystemExit",
     "evalue": "0",
     "output_type": "error",
     "traceback": [
      "An exception has occurred, use %tb to see the full traceback.\n",
      "\u001B[1;31mSystemExit\u001B[0m\u001B[1;31m:\u001B[0m 0\n"
     ]
    },
    {
     "name": "stderr",
     "output_type": "stream",
     "text": [
      "D:\\codes\\Python_learning\\venv\\lib\\site-packages\\IPython\\core\\interactiveshell.py:3558: UserWarning: To exit: use 'exit', 'quit', or Ctrl-D.\n",
      "  warn(\"To exit: use 'exit', 'quit', or Ctrl-D.\", stacklevel=1)\n"
     ]
    }
   ],
   "source": [
    "# 1.初始化\n",
    "p.init()\n",
    "# 2.创建窗口\n",
    "window = p.display.set_mode((600, 400))\n",
    "p.display.set_caption('xxx')  # 标题\n",
    "# 3.保持一直运行\n",
    "# game loop(游戏循环):\n",
    "while 1:\n",
    "    # 4.检测事件\n",
    "    for event in p.event.get():\n",
    "        # 检测关闭按钮被点击\n",
    "        if event.type == p.QUIT:\n",
    "            p.quit()\n",
    "            sys.exit(0)"
   ]
  },
  {
   "cell_type": "markdown",
   "metadata": {},
   "source": [
    "# 显示图片"
   ]
  },
  {
   "cell_type": "code",
   "execution_count": 4,
   "metadata": {
    "scrolled": true,
    "ExecuteTime": {
     "end_time": "2024-02-16T03:38:28.249337Z",
     "start_time": "2024-02-16T03:38:25.949131Z"
    }
   },
   "outputs": [
    {
     "ename": "SystemExit",
     "evalue": "0",
     "output_type": "error",
     "traceback": [
      "An exception has occurred, use %tb to see the full traceback.\n",
      "\u001B[1;31mSystemExit\u001B[0m\u001B[1;31m:\u001B[0m 0\n"
     ]
    }
   ],
   "source": [
    "p.init()\n",
    "window = p.display.set_mode((600, 400))\n",
    "p.display.set_caption('xxx')\n",
    "# 背景颜色\n",
    "window.fill((255, 255, 255))\n",
    "# 开始静态效果\n",
    "# 1.加载图片\n",
    "image1 = p.image.load('素材/开始.jpg')\n",
    "# 2.渲染图片\n",
    "\n",
    "# 获取图片大小\n",
    "# wide,height=image1.get_size()\n",
    "# x=(600-wide)/2\n",
    "# y=(400-height)/2\n",
    "\n",
    "# 旋转和缩放\n",
    "image2 = p.transform.scale(image1, (600, 400))  #(缩放对象，目标大小)\n",
    "# image2=p.transform.rotozoom(对象,旋转角度(逆时针),缩放比例)\n",
    "\n",
    "window.blit(image2, (0, 0))  # (对象,位置)\n",
    "# 3.刷新\n",
    "p.display.flip()  # 第一次刷新\n",
    "# p.display.update()    以后的刷新\n",
    "while 1:\n",
    "    # 游戏帧的刷新\n",
    "    for event in p.event.get():\n",
    "        if event.type == p.QUIT:\n",
    "            p.quit()\n",
    "            sys.exit(0)"
   ]
  },
  {
   "cell_type": "markdown",
   "metadata": {},
   "source": [
    "# 显示文字"
   ]
  },
  {
   "cell_type": "code",
   "execution_count": 5,
   "metadata": {
    "ExecuteTime": {
     "end_time": "2024-02-16T03:38:40.651890700Z",
     "start_time": "2024-02-16T03:38:36.031705800Z"
    }
   },
   "outputs": [
    {
     "ename": "SystemExit",
     "evalue": "0",
     "output_type": "error",
     "traceback": [
      "An exception has occurred, use %tb to see the full traceback.\n",
      "\u001B[1;31mSystemExit\u001B[0m\u001B[1;31m:\u001B[0m 0\n"
     ]
    }
   ],
   "source": [
    "p.init()\n",
    "window = p.display.set_mode((600, 400))\n",
    "p.display.set_caption('PvZ')\n",
    "window.fill((255, 255, 255))\n",
    "image1 = p.image.load('素材/开始.jpg')\n",
    "image2 = p.transform.scale(image1, (600, 400))\n",
    "window.blit(image2, (0, 0))\n",
    "p.display.flip()\n",
    "# 1.创建字体对象\n",
    "font1 = p.font.SysFont('arial', 30)  #SysFont(name,size,bold=False(加粗),italic(斜体)=False)\n",
    "# 2.创建文字对象\n",
    "text1 = font1.render('Start!', True, (200, 154, 62), (95, 46, 0))  #render(内容,True,文字颜色(,背景颜色))\n",
    "# 3.操作\n",
    "# wide,height=text1.get_size()    获取大小\n",
    "text2 = p.transform.scale(text1, (80, 30))  #缩放\n",
    "# text2=p.transform.rotozoom(对象,旋转角度(逆时针),缩放比例)\n",
    "# 4.渲染\n",
    "window.blit(text2, (253, 345))\n",
    "\n",
    "p.display.update()\n",
    "while 1:\n",
    "    for event in p.event.get():\n",
    "        if event.type == p.QUIT:\n",
    "            p.quit()\n",
    "            sys.exit(0)"
   ]
  },
  {
   "cell_type": "raw",
   "metadata": {},
   "source": [
    "可用字体：\n",
    "'arial', 'arialblack', 'bahnschrift', 'calibri', 'cambria', 'cambriamath', 'candara', 'comicsansms', 'consolas', 'constantia', 'corbel', 'couriernew', 'ebrima', 'franklingothicmedium', 'gabriola', 'gadugi', 'georgia', 'impact', 'inkfree', 'javanesetext', 'leelawadeeui', 'leelawadeeuisemilight', 'lucidaconsole', 'lucidasans', 'malgungothic', 'malgungothicsemilight', 'microsofthimalaya', 'microsoftjhenghei', 'microsoftjhengheiui', 'microsoftnewtailue', 'microsoftphagspa', 'microsoftsansserif', 'microsofttaile', 'microsoftyahei', 'microsoftyaheiui', 'microsoftyibaiti', 'mingliuextb', 'pmingliuextb', 'mingliuhkscsextb', 'mongolianbaiti', 'msgothic', 'msuigothic', 'mspgothic', 'mvboli', 'myanmartext', 'nirmalaui', 'nirmalauisemilight', 'palatinolinotype', 'segoemdl2assets', 'segoeprint', 'segoescript', 'segoeui', 'segoeuiblack', 'segoeuiemoji', 'segoeuihistoric', 'segoeuisemibold', 'segoeuisemilight', 'segoeuisymbol', 'simsun', 'nsimsun', 'simsunextb', 'sitkasmall', 'sitkatext', 'sitkasubheading', 'sitkaheading', 'sitkadisplay', 'sitkabanner', 'sylfaen', 'symbol', 'tahoma', 'timesnewroman', 'trebuchetms', 'verdana', 'webdings', 'wingdings', 'yugothic', 'yugothicuisemibold', 'yugothicui', 'yugothicmedium', 'yugothicuiregular', 'yugothicregular', 'yugothicuisemilight', 'dengxian', 'fangsong', 'kaiti', 'simhei', 'holomdl2assets', 'bookantiqua', 'garamond', 'monotypecorsiva', 'bookmanoldstyle', 'century', 'wingdings2', 'wingdings3', 'msmincho', 'fzshuti', 'fzyaoti', 'lisu', 'stcaiyun', 'stfangsong', 'sthupo', 'stkaiti', 'stliti', 'stsong', 'stxihei', 'stxingkai', 'stxinwei', 'stzhongsong', 'youyuan', 'extra', 'arialms', 'centurygothic', 'haettenschweiler', 'msoutlook', 'tempussansitc', 'pristina', 'papyrus', 'mistral', 'lucidahandwriting', 'kristenitc', 'juiceitc', 'frenchscript', 'freestylescript', 'bradleyhanditc', 'algerian', 'baskervilleoldface', 'bauhaus93', 'bell', 'berlinsansfb', 'bernardcondensed', 'bodonipostercompressed', 'britannic', 'broadway', 'brushscript', 'californianfb', 'centaur', 'chiller', 'colonna', 'cooperblack', 'footlight', 'harlowsolid', 'harrington', 'hightowertext', 'jokerman', 'kunstlerscript', 'lucidabright', 'lucidacalligraphy', 'lucidafaxregular', 'magneto', 'maturascriptcapitals', 'modernno20', 'niagaraengraved', 'niagarasolid', 'oldenglishtext', 'onyx', 'parchment', 'playbill', 'poorrichard', 'ravie', 'informalroman', 'showcardgothic', 'snapitc', 'stencil', 'vinerhanditc', 'vivaldi', 'vladimirscript', 'widelatin', 'twcen', 'twcencondensed', 'script', 'rockwellextra', 'rockwellcondensed', 'rockwell', 'rage', 'perpetuatitling', 'perpetua', 'palacescript', 'ocraextended', 'maiandragd', 'lucidasanstypewriterregular', 'lucidasansregular', 'imprintshadow', 'goudystout', 'goudyoldstyle', 'gloucesterextracondensed', 'gillsansultracondensed', 'gillsansultra', 'gillsanscondensed', 'gillsans', 'gillsansextcondensed', 'gigi', 'franklingothicmediumcond', 'franklingothicheavy', 'franklingothicdemicond', 'franklingothicdemi', 'franklingothicbook', 'forte', 'felixtitling', 'erasmediumitc', 'erasitc', 'erasdemiitc', 'engravers', 'elephant', 'edwardianscriptitc', 'curlz', 'copperplategothic', 'centuryschoolbook', 'castellar', 'calisto', 'bodonicondensed', 'bodoniblack', 'bodoni', 'blackadderitc', 'arialrounded', 'agencyfb', 'bookshelfsymbol7', 'msreferencesansserif', 'msreferencespecialty', 'berlinsansfbdemi', 'lucidafax', 'twcencondensedextra', 'lucidasanstypewriter','lucidasanstypewriteroblique', 'lucidasansroman', 'classinfont'"
   ]
  },
  {
   "cell_type": "markdown",
   "metadata": {},
   "source": [
    "# 图形元素"
   ]
  },
  {
   "cell_type": "code",
   "execution_count": 6,
   "metadata": {
    "ExecuteTime": {
     "end_time": "2024-02-16T03:58:40.047861900Z",
     "start_time": "2024-02-16T03:58:36.858010200Z"
    }
   },
   "outputs": [
    {
     "ename": "SystemExit",
     "evalue": "0",
     "output_type": "error",
     "traceback": [
      "An exception has occurred, use %tb to see the full traceback.\n",
      "\u001B[1;31mSystemExit\u001B[0m\u001B[1;31m:\u001B[0m 0\n"
     ]
    }
   ],
   "source": [
    "import math\n",
    "\n",
    "p.init()\n",
    "window = p.display.set_mode((600, 400))\n",
    "p.display.set_caption('画图')\n",
    "window.fill((255, 255, 255))\n",
    "# 1.直线\n",
    "p.draw.line(window, (255, 0, 0), (23, 45), (64, 90))  #line(位置,color,起点,终点,wide=1)\n",
    "# 2.折线\n",
    "points = [(10, 10), (50, 40), (200, 100), (500, 400)]\n",
    "p.draw.lines(window, (0, 0, 255), False, points, 3)  #lines(位置,color,是否闭合,点列表,wide=1)\n",
    "# 3.圆\n",
    "p.draw.circle(window, (0, 255, 0), (300, 200), 100, 2)  #circle(位置,color,圆心坐标,r,wide=0(填充))\n",
    "# 4.矩形\n",
    "p.draw.rect(window, (255, 0, 0), (400, 300, 200, 100), 1)  #rect(位置,color,范围,wide=0)\n",
    "# 5.椭圆\n",
    "p.draw.ellipse(window, (255, 0, 0), (400, 300, 200, 100))  #ellipse(位置,color,范围,wide=0)\n",
    "# 6.弧线\n",
    "p.draw.arc(window, (0, 0, 0), (400, 300, 200, 100), 0, math.pi, 5)  #arc(位置,color,范围,起始弧度,终止弧度,wide=1)\n",
    "p.display.flip()\n",
    "while 1:\n",
    "    for event in p.event.get():\n",
    "        if event.type == p.QUIT:\n",
    "            p.quit()\n",
    "            sys.exit(0)"
   ]
  },
  {
   "cell_type": "markdown",
   "metadata": {},
   "source": [
    "# 动画"
   ]
  },
  {
   "cell_type": "code",
   "execution_count": null,
   "metadata": {},
   "outputs": [
    {
     "name": "stdout",
     "output_type": "stream",
     "text": [
      "pygame 2.1.2 (SDL 2.0.18, Python 3.7.6)\n",
      "Hello from the pygame community. https://www.pygame.org/contribute.html\n"
     ]
    }
   ],
   "source": [
    "# 移动\n",
    "WIDTH, HEIGHT = 600, 400\n",
    "p.init()\n",
    "window = p.display.set_mode((WIDTH, HEIGHT))\n",
    "p.display.set_caption('自由落体')\n",
    "window.fill((255, 255, 255))\n",
    "p.display.flip()\n",
    "y = 0\n",
    "num = 1\n",
    "p.draw.circle(window, (255, 0, 0), (300, y), 50)\n",
    "p.display.update()\n",
    "while 1:\n",
    "    num += 1\n",
    "    if num % 1000 == 0:\n",
    "        p.draw.circle(window, (255, 255, 255), (300, y), 50)\n",
    "        y += 1\n",
    "        p.draw.circle(window, (255, 0, 0), (300, y), 50)\n",
    "        p.display.update()\n",
    "    for event in p.event.get():\n",
    "        if event.type == p.QUIT:\n",
    "            p.quit()\n",
    "            sys.exit(0)"
   ]
  },
  {
   "cell_type": "code",
   "execution_count": 8,
   "metadata": {
    "ExecuteTime": {
     "end_time": "2024-02-16T04:00:53.145487Z",
     "start_time": "2024-02-16T04:00:48.748564800Z"
    }
   },
   "outputs": [
    {
     "ename": "SystemExit",
     "evalue": "0",
     "output_type": "error",
     "traceback": [
      "An exception has occurred, use %tb to see the full traceback.\n",
      "\u001B[1;31mSystemExit\u001B[0m\u001B[1;31m:\u001B[0m 0\n"
     ]
    }
   ],
   "source": [
    "# 缩放\n",
    "WIDTH, HEIGHT = 600, 400\n",
    "p.init()\n",
    "window = p.display.set_mode((WIDTH, HEIGHT))\n",
    "p.display.set_caption('膨胀')\n",
    "window.fill((255, 255, 255))\n",
    "p.display.flip()\n",
    "num = 1\n",
    "r = 10\n",
    "p.draw.circle(window, (255, 0, 0), (300, 200), r)\n",
    "p.display.update()\n",
    "while 1:\n",
    "    num += 1\n",
    "    if num % 10000 == 0:\n",
    "        p.draw.circle(window, (255, 255, 255), (300, 200), r)\n",
    "        r += 1\n",
    "        p.draw.circle(window, (255, 0, 0), (300, 200), r)\n",
    "        p.display.update()\n",
    "    for event in p.event.get():\n",
    "        if event.type == p.QUIT:\n",
    "            p.quit()\n",
    "            sys.exit(0)"
   ]
  },
  {
   "cell_type": "code",
   "execution_count": null,
   "metadata": {},
   "outputs": [
    {
     "name": "stdout",
     "output_type": "stream",
     "text": [
      "pygame 2.1.2 (SDL 2.0.18, Python 3.7.6)\n",
      "Hello from the pygame community. https://www.pygame.org/contribute.html\n"
     ]
    }
   ],
   "source": [
    "# 灵活控制\n",
    "WIDTH, HEIGHT = 600, 400\n",
    "p.init()\n",
    "window = p.display.set_mode((WIDTH, HEIGHT))\n",
    "p.display.set_caption('反弹')\n",
    "window.fill((255, 255, 255))\n",
    "p.display.flip()\n",
    "x, y = 300, 200\n",
    "r = 50\n",
    "x_speed, y_speed = 3, 1\n",
    "num = 1\n",
    "p.draw.circle(window, (255, 0, 0), (x, y), r)\n",
    "p.display.update()\n",
    "while 1:\n",
    "    num += 1\n",
    "    if num % 5000 == 0:\n",
    "        p.draw.circle(window, (255, 255, 255), (x, y), r)\n",
    "        y -= y_speed\n",
    "        x += x_speed\n",
    "        if y <= r:\n",
    "            y_speed = -y_speed\n",
    "        elif y >= HEIGHT - r:\n",
    "            y_speed = -y_speed\n",
    "        if x <= r:\n",
    "            x_speed = -x_speed\n",
    "        elif x >= WIDTH - r:\n",
    "            x_speed = -x_speed\n",
    "        p.draw.circle(window, (255, 0, 0), (x, y), r)\n",
    "        p.display.update()\n",
    "    for event in p.event.get():\n",
    "        if event.type == p.QUIT:\n",
    "            p.quit()\n",
    "            sys.exit(0)"
   ]
  },
  {
   "cell_type": "markdown",
   "metadata": {},
   "source": [
    "# 事件"
   ]
  },
  {
   "cell_type": "markdown",
   "metadata": {},
   "source": [
    "## 鼠标事件\n",
    "+ 事件类型\n",
    "    - QUIT == 点击关闭按钮\n",
    "+ 鼠标事件\n",
    "    - MOUSEBUTTONDOWN == 鼠标按下\n",
    "    - MOUSEBUTTONUP == 鼠标弹起\n",
    "    - MOUSEBMOTION == 鼠标移动\n",
    "+ 键盘事件\n",
    "    - KEYUP == 键盘按下\n",
    "    - KEYDOWN == 键盘弹起"
   ]
  },
  {
   "cell_type": "code",
   "execution_count": null,
   "metadata": {},
   "outputs": [
    {
     "name": "stdout",
     "output_type": "stream",
     "text": [
      "pygame 2.1.2 (SDL 2.0.18, Python 3.7.6)\n",
      "Hello from the pygame community. https://www.pygame.org/contribute.html\n"
     ]
    }
   ],
   "source": [
    "import random\n",
    "\n",
    "WIDTH, HEIGHT = 600, 400\n",
    "p.init()\n",
    "window = p.display.set_mode((WIDTH, HEIGHT))\n",
    "p.display.set_caption('鼠标事件')\n",
    "window.fill((255, 255, 255))\n",
    "p.display.flip()\n",
    "while 1:\n",
    "    for event in p.event.get():\n",
    "        if event.type == p.QUIT:\n",
    "            p.quit()\n",
    "            sys.exit(0)\n",
    "        elif event.type == p.MOUSEBUTTONDOWN:\n",
    "            x, y = event.pos  # 获取鼠标坐标\n",
    "            r = random.randint(0, 255)\n",
    "            g = random.randint(0, 255)\n",
    "            b = random.randint(0, 255)\n",
    "            p.draw.circle(window, (r, g, b), (x, y), 50)\n",
    "            p.display.update()\n",
    "        elif event.type == p.MOUSEBUTTONUP:\n",
    "            pass\n",
    "        elif event.type == p.MOUSEMOTION:\n",
    "            x, y = event.pos\n",
    "            r = random.randint(0, 255)\n",
    "            g = random.randint(0, 255)\n",
    "            b = random.randint(0, 255)\n",
    "            p.draw.circle(window, (r, g, b), (x, y), 50)\n",
    "            p.display.update()"
   ]
  },
  {
   "cell_type": "markdown",
   "metadata": {},
   "source": [
    "## 键盘事件"
   ]
  },
  {
   "cell_type": "code",
   "execution_count": null,
   "metadata": {},
   "outputs": [
    {
     "name": "stdout",
     "output_type": "stream",
     "text": [
      "pygame 2.1.2 (SDL 2.0.18, Python 3.7.6)\n",
      "Hello from the pygame community. https://www.pygame.org/contribute.html\n"
     ]
    }
   ],
   "source": [
    "WIDTH, HEIGHT = 600, 400\n",
    "p.init()\n",
    "window = p.display.set_mode((WIDTH, HEIGHT))\n",
    "p.display.set_caption('键盘事件')\n",
    "window.fill((255, 255, 255))\n",
    "p.display.flip()\n",
    "font1 = p.font.SysFont('arial', 30)\n",
    "x_text = 0\n",
    "while 1:\n",
    "    for event in p.event.get():\n",
    "        if event.type == p.QUIT:\n",
    "            p.quit()\n",
    "            sys.exit(0)\n",
    "        elif event.type == p.KEYUP:\n",
    "            pass\n",
    "        elif event.type == p.KEYDOWN:\n",
    "            text = font1.render(chr(event.key), True, (255, 0, 0), (255, 255, 255))\n",
    "            window.blit(text, (x_text, 200))\n",
    "            x_text += 15\n",
    "            p.display.update()"
   ]
  },
  {
   "cell_type": "markdown",
   "metadata": {},
   "source": [
    "# 应用"
   ]
  },
  {
   "cell_type": "markdown",
   "metadata": {},
   "source": [
    "## 按钮"
   ]
  },
  {
   "cell_type": "code",
   "execution_count": 3,
   "metadata": {
    "ExecuteTime": {
     "end_time": "2024-02-16T04:07:39.183083800Z",
     "start_time": "2024-02-16T04:07:35.266978300Z"
    }
   },
   "outputs": [
    {
     "ename": "error",
     "evalue": "video system not initialized",
     "output_type": "error",
     "traceback": [
      "\u001B[1;31m---------------------------------------------------------------------------\u001B[0m",
      "\u001B[1;31merror\u001B[0m                                     Traceback (most recent call last)",
      "Cell \u001B[1;32mIn[3], line 24\u001B[0m\n\u001B[0;32m     22\u001B[0m p\u001B[38;5;241m.\u001B[39mdisplay\u001B[38;5;241m.\u001B[39mupdate()\n\u001B[0;32m     23\u001B[0m \u001B[38;5;28;01mwhile\u001B[39;00m \u001B[38;5;241m1\u001B[39m:\n\u001B[1;32m---> 24\u001B[0m     \u001B[38;5;28;01mfor\u001B[39;00m event \u001B[38;5;129;01min\u001B[39;00m \u001B[43mp\u001B[49m\u001B[38;5;241;43m.\u001B[39;49m\u001B[43mevent\u001B[49m\u001B[38;5;241;43m.\u001B[39;49m\u001B[43mget\u001B[49m\u001B[43m(\u001B[49m\u001B[43m)\u001B[49m:\n\u001B[0;32m     25\u001B[0m         \u001B[38;5;28;01mif\u001B[39;00m event\u001B[38;5;241m.\u001B[39mtype \u001B[38;5;241m==\u001B[39m p\u001B[38;5;241m.\u001B[39mQUIT:\n\u001B[0;32m     26\u001B[0m             p\u001B[38;5;241m.\u001B[39mquit()\n",
      "\u001B[1;31merror\u001B[0m: video system not initialized"
     ]
    }
   ],
   "source": [
    "WIDTH, HEIGHT = 600, 400\n",
    "p.init()\n",
    "window = p.display.set_mode((WIDTH, HEIGHT))\n",
    "p.display.set_caption('点击按钮')\n",
    "window.fill((255, 255, 255))\n",
    "p.display.flip()\n",
    "\n",
    "x_r1, y_r1, w_r, h_r = 250, 100, 100, 50\n",
    "x_r2, y_r2 = 250, 250\n",
    "p.draw.rect(window, (255, 0, 0), (x_r1, y_r1, w_r, h_r))\n",
    "p.draw.rect(window, (0, 255, 0), (x_r2, y_r2, w_r, h_r))\n",
    "\n",
    "font1 = p.font.SysFont('simsun', 20)\n",
    "text1 = font1.render('确定', True, (255, 255, 255))\n",
    "text2 = font1.render('取消', True, (255, 255, 255))\n",
    "w_t1, h_t1 = text1.get_size()\n",
    "x_t1, y_t1 = x_r1 + w_r / 2 - w_t1 / 2, y_r1 + h_r / 2 - h_t1 / 2\n",
    "window.blit(text1, (x_t1, y_t1))\n",
    "w_t2, h_t2 = text2.get_size()\n",
    "x_t2, y_t2 = x_r2 + w_r / 2 - w_t2 / 2, y_r2 + h_r / 2 - h_t2 / 2\n",
    "window.blit(text2, (x_t2, y_t2))\n",
    "p.display.update()\n",
    "while 1:\n",
    "    for event in p.event.get():\n",
    "        if event.type == p.QUIT:\n",
    "            p.quit()\n",
    "            exit()\n",
    "        elif event.type == p.MOUSEBUTTONDOWN:\n",
    "            x_m, y_m = event.pos\n",
    "            if x_r1 <= x_m <= x_r1 + w_r and y_r1 <= y_m <= y_r1 + h_r:\n",
    "                p.draw.rect(window, (200, 200, 200), (x_r1, y_r1, w_r, h_r))\n",
    "                window.blit(text1, (x_t1, y_t1))\n",
    "                p.display.update()\n",
    "            elif x_r2 <= x_m <= x_r2 + w_r and y_r2 <= y_m <= y_r2 + h_r:\n",
    "                p.draw.rect(window, (200, 200, 200), (x_r2, y_r2, w_r, h_r))\n",
    "                window.blit(text2, (x_t2, y_t2))\n",
    "                p.display.update()\n",
    "        elif event.type == p.MOUSEBUTTONUP:\n",
    "            x_m, y_m = event.pos\n",
    "            if x_r1 <= x_m <= x_r1 + w_r and y_r1 <= y_m <= y_r1 + h_r:\n",
    "                p.draw.rect(window, (255, 0, 0), (x_r1, y_r1, w_r, h_r))\n",
    "                window.blit(text1, (x_t1, y_t1))\n",
    "                p.display.update()\n",
    "            elif x_r2 <= x_m <= x_r2 + w_r and y_r2 <= y_m <= y_r2 + h_r:\n",
    "                p.draw.rect(window, (0, 255, 0), (x_r2, y_r2, w_r, h_r))\n",
    "                window.blit(text2, (x_t2, y_t2))\n",
    "                p.display.update()"
   ]
  },
  {
   "cell_type": "markdown",
   "metadata": {},
   "source": [
    "## 按住不放"
   ]
  },
  {
   "cell_type": "code",
   "execution_count": null,
   "metadata": {},
   "outputs": [
    {
     "name": "stdout",
     "output_type": "stream",
     "text": [
      "pygame 2.1.2 (SDL 2.0.18, Python 3.7.6)\n",
      "Hello from the pygame community. https://www.pygame.org/contribute.html\n"
     ]
    }
   ],
   "source": [
    "# 按钮封装\n",
    "WIDTH, HEIGHT = 600, 600\n",
    "p.init()\n",
    "window = p.display.set_mode((WIDTH, HEIGHT))\n",
    "p.display.set_caption('坦克')\n",
    "window.fill((255, 255, 255))\n",
    "p.display.flip()\n",
    "\n",
    "tank = p.image.load('素材/坦克.jpg')\n",
    "tank_up = p.transform.rotozoom(tank, 0, 0.5)\n",
    "tank_down = p.transform.rotozoom(tank, 180, 0.5)\n",
    "tank_left = p.transform.rotozoom(tank, 90, 0.5)\n",
    "tank_right = p.transform.rotozoom(tank, 270, 0.5)\n",
    "x_tank, y_tank = 210, 190\n",
    "window.blit(tank_up, (x_tank, y_tank))\n",
    "p.display.update()\n",
    "\n",
    "is_move = False\n",
    "x_speed, y_speed = 0, 0\n",
    "image = tank_up\n",
    "while 1:\n",
    "    if is_move:\n",
    "        window.fill((255, 255, 255))\n",
    "        x_tank += x_speed\n",
    "        y_tank += y_speed\n",
    "        window.blit(image, (x_tank, y_tank))\n",
    "        p.display.update()\n",
    "    for event in p.event.get():\n",
    "        if event.type == p.QUIT:\n",
    "            p.quit()\n",
    "            exit()\n",
    "        elif event.type == p.KEYDOWN:\n",
    "            if chr(event.key) == 'w':\n",
    "                is_move = True\n",
    "                x_speed = 0\n",
    "                y_speed = -1\n",
    "                image = tank_up\n",
    "            elif chr(event.key) == 'a':\n",
    "                is_move = True\n",
    "                x_speed = -1\n",
    "                y_speed = 0\n",
    "                image = tank_left\n",
    "            elif chr(event.key) == 's':\n",
    "                is_move = True\n",
    "                x_speed = 0\n",
    "                y_speed = 1\n",
    "                image = tank_down\n",
    "            elif chr(event.key) == 'd':\n",
    "                is_move = True\n",
    "                x_speed = 1\n",
    "                y_speed = 0\n",
    "                image = tank_right\n",
    "        elif event.type == p.KEYUP:\n",
    "            is_move = False"
   ]
  },
  {
   "cell_type": "code",
   "execution_count": null,
   "metadata": {},
   "outputs": [],
   "source": []
  }
 ],
 "metadata": {
  "kernelspec": {
   "display_name": "Python 3 (ipykernel)",
   "language": "python",
   "name": "python3"
  },
  "language_info": {
   "codemirror_mode": {
    "name": "ipython",
    "version": 3
   },
   "file_extension": ".py",
   "mimetype": "text/x-python",
   "name": "python",
   "nbconvert_exporter": "python",
   "pygments_lexer": "ipython3",
   "version": "3.9.13"
  }
 },
 "nbformat": 4,
 "nbformat_minor": 4
}
