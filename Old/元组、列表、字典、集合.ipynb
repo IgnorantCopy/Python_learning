{
 "cells": [
  {
   "cell_type": "markdown",
   "metadata": {},
   "source": [
    "# type命令：检查数据类型"
   ]
  },
  {
   "cell_type": "code",
   "execution_count": 1,
   "metadata": {},
   "outputs": [
    {
     "data": {
      "text/plain": [
       "int"
      ]
     },
     "execution_count": 1,
     "metadata": {},
     "output_type": "execute_result"
    }
   ],
   "source": [
    "type(1)"
   ]
  },
  {
   "cell_type": "code",
   "execution_count": 2,
   "metadata": {},
   "outputs": [
    {
     "data": {
      "text/plain": [
       "float"
      ]
     },
     "execution_count": 2,
     "metadata": {},
     "output_type": "execute_result"
    }
   ],
   "source": [
    "type(1.1)"
   ]
  },
  {
   "cell_type": "code",
   "execution_count": 3,
   "metadata": {},
   "outputs": [
    {
     "data": {
      "text/plain": [
       "str"
      ]
     },
     "execution_count": 3,
     "metadata": {},
     "output_type": "execute_result"
    }
   ],
   "source": [
    "type(\"hello\")"
   ]
  },
  {
   "cell_type": "markdown",
   "metadata": {},
   "source": [
    "# 元组\n",
    "不可变"
   ]
  },
  {
   "cell_type": "code",
   "execution_count": 4,
   "metadata": {},
   "outputs": [
    {
     "data": {
      "text/plain": [
       "-6"
      ]
     },
     "execution_count": 4,
     "metadata": {},
     "output_type": "execute_result"
    }
   ],
   "source": [
    "item = (-6, 'cat', (1, 2))\n",
    "item[0]"
   ]
  },
  {
   "cell_type": "code",
   "execution_count": 5,
   "metadata": {},
   "outputs": [
    {
     "data": {
      "text/plain": [
       "'cat'"
      ]
     },
     "execution_count": 5,
     "metadata": {},
     "output_type": "execute_result"
    }
   ],
   "source": [
    "item = (-6, 'cat', (1, 2))\n",
    "item[1]"
   ]
  },
  {
   "cell_type": "code",
   "execution_count": 6,
   "metadata": {},
   "outputs": [
    {
     "data": {
      "text/plain": [
       "(1, 2)"
      ]
     },
     "execution_count": 6,
     "metadata": {},
     "output_type": "execute_result"
    }
   ],
   "source": [
    "item = (-6, \"cat\", (1, 2))\n",
    "item[-1]"
   ]
  },
  {
   "cell_type": "code",
   "execution_count": 7,
   "metadata": {},
   "outputs": [
    {
     "name": "stdout",
     "output_type": "stream",
     "text": [
      "((1, 2, 3), (4, 5, 6))\n",
      "(1, 2)\n",
      "(3,)\n",
      "(1, 2, 3)\n"
     ]
    }
   ],
   "source": [
    "a = (1, 2, 3)\n",
    "b = (4, 5, 6)\n",
    "c = (a, b)\n",
    "print(c)\n",
    "print(c[0][:2])\n",
    "print(c[0][2:])\n",
    "print(c[0][:])"
   ]
  },
  {
   "cell_type": "markdown",
   "metadata": {},
   "source": [
    "## 元组函数\n",
    "in,len,count(,index)"
   ]
  },
  {
   "cell_type": "code",
   "execution_count": 1,
   "metadata": {
    "ExecuteTime": {
     "end_time": "2024-02-13T14:18:13.036333900Z",
     "start_time": "2024-02-13T14:18:12.959601200Z"
    }
   },
   "outputs": [
    {
     "name": "stdout",
     "output_type": "stream",
     "text": [
      "True\n"
     ]
    }
   ],
   "source": [
    "a = (\"a\", \"b\", \"c\", \"c\", \"c\")\n",
    "b = \"a\"\n",
    "print(b in a)"
   ]
  },
  {
   "cell_type": "code",
   "execution_count": 2,
   "metadata": {
    "ExecuteTime": {
     "end_time": "2024-02-13T14:18:20.454288400Z",
     "start_time": "2024-02-13T14:18:19.939535300Z"
    }
   },
   "outputs": [
    {
     "name": "stdout",
     "output_type": "stream",
     "text": [
      "5\n"
     ]
    }
   ],
   "source": [
    "print(len(a))"
   ]
  },
  {
   "cell_type": "code",
   "execution_count": 3,
   "metadata": {
    "ExecuteTime": {
     "end_time": "2024-02-13T14:18:32.095324800Z",
     "start_time": "2024-02-13T14:18:31.524360300Z"
    }
   },
   "outputs": [
    {
     "name": "stdout",
     "output_type": "stream",
     "text": [
      "3\n"
     ]
    }
   ],
   "source": [
    "print(a.count(\"c\"))"
   ]
  },
  {
   "cell_type": "code",
   "execution_count": 11,
   "metadata": {},
   "outputs": [
    {
     "name": "stdout",
     "output_type": "stream",
     "text": [
      "(2, 3, 23)\n",
      "(2, 3)\n"
     ]
    }
   ],
   "source": [
    "# 元组不可变\n",
    "num = (2, 3, 23)\n",
    "# 要改变必须复制\n",
    "num2 = num[:2]\n",
    "print(num)\n",
    "print(num2)"
   ]
  },
  {
   "cell_type": "code",
   "execution_count": 12,
   "metadata": {},
   "outputs": [
    {
     "name": "stdout",
     "output_type": "stream",
     "text": [
      "(1, 'cat', [2, 3])\n",
      "208349553512\n",
      "(1, 'cat', [2, 3, 4])\n",
      "208349553512\n"
     ]
    }
   ],
   "source": [
    "# 元组中有列表时，可变\n",
    "a = [2, 3]\n",
    "b = (1, \"cat\", a)\n",
    "print(b)\n",
    "print(id(b))\n",
    "a.append(4)\n",
    "print(b)\n",
    "print(id(b))"
   ]
  },
  {
   "cell_type": "markdown",
   "metadata": {},
   "source": [
    "# 列表\n",
    "可变"
   ]
  },
  {
   "cell_type": "code",
   "execution_count": 13,
   "metadata": {},
   "outputs": [
    {
     "name": "stdout",
     "output_type": "stream",
     "text": [
      "[1, 2, 3, 4, 6]\n"
     ]
    }
   ],
   "source": [
    "# 列表可变\n",
    "a = [1, 2, 3, 4, 5]\n",
    "a[4] = 6\n",
    "print(a)"
   ]
  },
  {
   "cell_type": "code",
   "execution_count": 14,
   "metadata": {},
   "outputs": [
    {
     "name": "stdout",
     "output_type": "stream",
     "text": [
      "[1, 2, 3, 4] [1, 2, 3, 4]\n"
     ]
    }
   ],
   "source": [
    "a = [1, 2, 3]\n",
    "b = a\n",
    "a.append(4)\n",
    "print(a, b)"
   ]
  },
  {
   "cell_type": "code",
   "execution_count": 15,
   "metadata": {},
   "outputs": [
    {
     "name": "stdout",
     "output_type": "stream",
     "text": [
      "[2, 2] [3, 4, [2, 2]]\n"
     ]
    }
   ],
   "source": [
    "a = [1, 2]\n",
    "b = [3, 4, a]\n",
    "b[2][0] = 2\n",
    "print(a, b)"
   ]
  },
  {
   "cell_type": "markdown",
   "metadata": {},
   "source": [
    "## 列表函数"
   ]
  },
  {
   "cell_type": "markdown",
   "metadata": {},
   "source": [
    "### 添加\n",
    "* append():向末尾添加一个元素或列表。\n",
    "* extend():添加多个元素。\n",
    "* insert():在指定位置添加元素"
   ]
  },
  {
   "cell_type": "code",
   "execution_count": 4,
   "metadata": {
    "ExecuteTime": {
     "end_time": "2024-02-13T14:20:21.309027500Z",
     "start_time": "2024-02-13T14:20:20.808427700Z"
    }
   },
   "outputs": [
    {
     "name": "stdout",
     "output_type": "stream",
     "text": [
      "['a', 'b', 'c', 'd', 'e']\n",
      "['a', 'b', 'c', 'd', 'e', 'g']\n"
     ]
    }
   ],
   "source": [
    "letters = [\"a\", \"b\", \"c\", \"d\", \"e\"]\n",
    "print(letters)\n",
    "letters.append(\"g\")\n",
    "print(letters)"
   ]
  },
  {
   "cell_type": "code",
   "execution_count": 5,
   "metadata": {
    "ExecuteTime": {
     "end_time": "2024-02-13T14:20:30.912163800Z",
     "start_time": "2024-02-13T14:20:30.343604100Z"
    }
   },
   "outputs": [
    {
     "name": "stdout",
     "output_type": "stream",
     "text": [
      "['a', 'b', 'c', 'd', 'e']\n",
      "['a', 'b', 'c', 'd', 'e', ['g', 'h']]\n"
     ]
    }
   ],
   "source": [
    "letters = [\"a\", \"b\", \"c\", \"d\", \"e\"]\n",
    "print(letters)\n",
    "letters.append([\"g\", \"h\"])\n",
    "print(letters)"
   ]
  },
  {
   "cell_type": "code",
   "execution_count": 18,
   "metadata": {},
   "outputs": [
    {
     "name": "stdout",
     "output_type": "stream",
     "text": [
      "['a', 'b', 'c', 'd', 'e', 'g', 'h']\n"
     ]
    }
   ],
   "source": [
    "letters = [\"a\", \"b\", \"c\", \"d\", \"e\"]\n",
    "letters.extend([\"g\", \"h\"])\n",
    "print(letters)"
   ]
  },
  {
   "cell_type": "code",
   "execution_count": 19,
   "metadata": {
    "scrolled": true
   },
   "outputs": [
    {
     "name": "stdout",
     "output_type": "stream",
     "text": [
      "['a', 'b', 'c', 'd', 'g', 'e']\n"
     ]
    }
   ],
   "source": [
    "letters = [\"a\", \"b\", \"c\", \"d\", \"e\"]\n",
    "letters.insert(4, \"g\")\n",
    "print(letters)"
   ]
  },
  {
   "cell_type": "markdown",
   "metadata": {},
   "source": [
    "### 合并"
   ]
  },
  {
   "cell_type": "code",
   "execution_count": 17,
   "metadata": {},
   "outputs": [
    {
     "data": {
      "text/plain": [
       "[1, 2, 3, 4, 5, 6]"
      ]
     },
     "execution_count": 17,
     "metadata": {},
     "output_type": "execute_result"
    }
   ],
   "source": [
    "num1 = [1, 2, 3]\n",
    "num2 = [4, 5, 6]\n",
    "num1.extend(num2)\n",
    "num1"
   ]
  },
  {
   "cell_type": "markdown",
   "metadata": {},
   "source": [
    "### 删除\n",
    "pop():()内空为最后一个元素；也可指定某个元素。del list[n]:删除第n+1个元素。remove(\"a\"):删除列表中的\"a\"元素。"
   ]
  },
  {
   "cell_type": "code",
   "execution_count": 7,
   "metadata": {
    "ExecuteTime": {
     "end_time": "2024-02-13T14:21:44.917863600Z",
     "start_time": "2024-02-13T14:21:44.606826300Z"
    }
   },
   "outputs": [
    {
     "name": "stdout",
     "output_type": "stream",
     "text": [
      "e\n",
      "['a', 'b', 'c', 'd']\n"
     ]
    }
   ],
   "source": [
    "letters = [\"a\", \"b\", \"c\", \"d\", \"e\"]\n",
    "letter = letters.pop()\n",
    "print(letter)\n",
    "print(letters)"
   ]
  },
  {
   "cell_type": "code",
   "execution_count": 6,
   "metadata": {
    "ExecuteTime": {
     "end_time": "2024-02-13T14:21:27.405795100Z",
     "start_time": "2024-02-13T14:21:27.099592500Z"
    }
   },
   "outputs": [
    {
     "name": "stdout",
     "output_type": "stream",
     "text": [
      "b\n",
      "['a', 'c', 'd', 'e']\n"
     ]
    }
   ],
   "source": [
    "letters = [\"a\", \"b\", \"c\", \"d\", \"e\"]\n",
    "letter = letters.pop(1)\n",
    "print(letter)\n",
    "print(letters)"
   ]
  },
  {
   "cell_type": "code",
   "execution_count": 22,
   "metadata": {},
   "outputs": [
    {
     "name": "stdout",
     "output_type": "stream",
     "text": [
      "['a', 'c', 'd', 'e']\n"
     ]
    }
   ],
   "source": [
    "letters = [\"a\", \"b\", \"c\", \"d\", \"e\"]\n",
    "del letters[1]\n",
    "print(letters)"
   ]
  },
  {
   "cell_type": "code",
   "execution_count": 23,
   "metadata": {},
   "outputs": [
    {
     "name": "stdout",
     "output_type": "stream",
     "text": [
      "['a', 'c', 'd', 'e']\n"
     ]
    }
   ],
   "source": [
    "letters = [\"a\", \"b\", \"c\", \"d\", \"e\"]\n",
    "letters.remove(\"b\")\n",
    "print(letters)"
   ]
  },
  {
   "cell_type": "markdown",
   "metadata": {},
   "source": [
    "### 查找"
   ]
  },
  {
   "cell_type": "code",
   "execution_count": 24,
   "metadata": {},
   "outputs": [
    {
     "name": "stdout",
     "output_type": "stream",
     "text": [
      "there is an 'a' in the letters\n"
     ]
    }
   ],
   "source": [
    "letters = [\"a\", \"b\", \"c\", \"d\", \"e\"]\n",
    "if \"a\" in letters:\n",
    "    x = letters.count(\"a\")\n",
    "    if x == 1:\n",
    "        print(\"there is an 'a' in the letters\")\n",
    "    else:\n",
    "        print(\"there are 'a's in the letters\")\n",
    "else:\n",
    "    print(\"there's no 'a' in the letters\")"
   ]
  },
  {
   "cell_type": "markdown",
   "metadata": {},
   "source": [
    "### 排序"
   ]
  },
  {
   "cell_type": "code",
   "execution_count": 25,
   "metadata": {},
   "outputs": [
    {
     "name": "stdout",
     "output_type": "stream",
     "text": [
      "['1', '2', 'a', 'b', 'c', 'e']\n"
     ]
    }
   ],
   "source": [
    "# 升序：sort()\n",
    "a = [\"c\", \"2\", \"a\", \"e\", \"1\", \"b\"]\n",
    "a.sort()\n",
    "print(a)"
   ]
  },
  {
   "cell_type": "code",
   "execution_count": 9,
   "metadata": {
    "ExecuteTime": {
     "end_time": "2024-02-13T14:23:04.990772600Z",
     "start_time": "2024-02-13T14:23:04.671969200Z"
    }
   },
   "outputs": [
    {
     "name": "stdout",
     "output_type": "stream",
     "text": [
      "[1, 2, 3, 7, 6, 5]\n",
      "[1, 2, 3, 5, 6, 7]\n"
     ]
    }
   ],
   "source": [
    "# 内置函数sorted()：不会改变原有的数据，而是生成一个新的结果\n",
    "a = [1, 2, 3, 7, 6, 5]\n",
    "x = sorted(a)\n",
    "print(a)\n",
    "print(x)"
   ]
  },
  {
   "cell_type": "code",
   "execution_count": 2,
   "metadata": {},
   "outputs": [
    {
     "name": "stdout",
     "output_type": "stream",
     "text": [
      "[1, 2, 3, 5, 6]\n"
     ]
    }
   ],
   "source": [
    "ints = (1, 3, 2, 6, 5)\n",
    "x = sorted(ints)\n",
    "print(x)"
   ]
  },
  {
   "cell_type": "code",
   "execution_count": 10,
   "metadata": {
    "ExecuteTime": {
     "end_time": "2024-02-13T14:24:30.930995500Z",
     "start_time": "2024-02-13T14:24:30.293948400Z"
    }
   },
   "outputs": [
    {
     "name": "stdout",
     "output_type": "stream",
     "text": [
      "[{'name': 'ls', 'age': 12}, {'name': 'zs', 'age': 17}]\n"
     ]
    }
   ],
   "source": [
    "'''\n",
    "s=[{'name':'zs','age':17},{'name':'ls','age':12}]\n",
    "s.sort() ==> X \n",
    "字典之间不能直接比较，需要传递key指定比较规则\n",
    "key是函数类型\n",
    "'''\n",
    "\n",
    "\n",
    "def f(dict1):\n",
    "    return dict1['age']\n",
    "\n",
    "\n",
    "s = [{'name': 'zs', 'age': 17}, {'name': 'ls', 'age': 12}]\n",
    "s.sort(key=f)\n",
    "print(s)"
   ]
  },
  {
   "cell_type": "code",
   "execution_count": 26,
   "metadata": {},
   "outputs": [
    {
     "name": "stdout",
     "output_type": "stream",
     "text": [
      "['e', 'c', 'b', 'a', '2', '1']\n"
     ]
    }
   ],
   "source": [
    "# 降序\n",
    "a = [\"c\", \"2\", \"a\", \"e\", \"1\", \"b\"]\n",
    "a.sort()\n",
    "a.reverse()\n",
    "print(a)"
   ]
  },
  {
   "cell_type": "markdown",
   "metadata": {},
   "source": [
    "#### 冒泡排序:让一个数字与它相邻的下一个数字进行比较运算"
   ]
  },
  {
   "cell_type": "code",
   "execution_count": 5,
   "metadata": {},
   "outputs": [
    {
     "name": "stdout",
     "output_type": "stream",
     "text": [
      "[1, 2, 3, 4, 5, 6, 7, 8]\n"
     ]
    }
   ],
   "source": [
    "n = [6, 5, 3, 1, 8, 7, 2, 4]\n",
    "a = len(n)\n",
    "while a > 2:\n",
    "    for i in range(a - 1):\n",
    "        if n[i] > n[i + 1]:\n",
    "            n[i], n[i + 1] = n[i + 1], n[i]\n",
    "    a -= 1\n",
    "print(n)"
   ]
  },
  {
   "cell_type": "markdown",
   "metadata": {},
   "source": [
    "### 过滤"
   ]
  },
  {
   "cell_type": "code",
   "execution_count": 7,
   "metadata": {
    "scrolled": false
   },
   "outputs": [
    {
     "name": "stdout",
     "output_type": "stream",
     "text": [
      "23\n",
      "41\n",
      "17\n",
      "19\n",
      "22\n"
     ]
    }
   ],
   "source": [
    "# filter(函数,可迭代对象)\n",
    "age = [14, 23, 41, 17, 19, 22, 11]\n",
    "x = filter(lambda number: number > 16, age)\n",
    "for i in x:\n",
    "    print(i)"
   ]
  },
  {
   "cell_type": "code",
   "execution_count": 9,
   "metadata": {
    "scrolled": false
   },
   "outputs": [
    {
     "name": "stdout",
     "output_type": "stream",
     "text": [
      "[16, 25, 43, 19, 21, 24, 13]\n"
     ]
    }
   ],
   "source": [
    "# map(函数,可迭代对象)\n",
    "x = map(lambda number: number + 2, age)\n",
    "print(list(x))"
   ]
  },
  {
   "cell_type": "code",
   "execution_count": 11,
   "metadata": {
    "scrolled": false
   },
   "outputs": [
    {
     "name": "stdout",
     "output_type": "stream",
     "text": [
      "155\n"
     ]
    }
   ],
   "source": [
    "# reduce(函数,x)\n",
    "from functools import reduce\n",
    "\n",
    "num = [12, 23, 43, 21, 56]\n",
    "print(reduce(lambda num1, num2: num1 + num2, num))  # 求和"
   ]
  },
  {
   "cell_type": "code",
   "execution_count": 13,
   "metadata": {},
   "outputs": [
    {
     "name": "stdout",
     "output_type": "stream",
     "text": [
      "29\n"
     ]
    }
   ],
   "source": [
    "s = [{'name': 'zs', 'age': 17}, {'name': 'ls', 'age': 12}]\n",
    "print(reduce(lambda x, y: x + y['age'], s, 0))  # 0 ==> 初始化的值"
   ]
  },
  {
   "cell_type": "markdown",
   "metadata": {},
   "source": [
    "## 列表的浅复制"
   ]
  },
  {
   "cell_type": "code",
   "execution_count": 2,
   "metadata": {},
   "outputs": [
    {
     "name": "stdout",
     "output_type": "stream",
     "text": [
      "130230623048 130230623048 130213770824\n"
     ]
    }
   ],
   "source": [
    "x = [1, 2, 3]\n",
    "y = x  # y和x ID相等\n",
    "z = x.copy()  # z和x ID不相等\n",
    "print(id(x), id(y), id(z))"
   ]
  },
  {
   "cell_type": "code",
   "execution_count": 3,
   "metadata": {},
   "outputs": [
    {
     "name": "stdout",
     "output_type": "stream",
     "text": [
      "140727684669840 140727684669840\n"
     ]
    }
   ],
   "source": [
    "# 其它数据类型的浅复制\n",
    "import copy\n",
    "\n",
    "a = 1\n",
    "b = copy.copy(a)\n",
    "print(id(a), id(b))"
   ]
  },
  {
   "cell_type": "markdown",
   "metadata": {},
   "source": [
    "## 列表解析"
   ]
  },
  {
   "cell_type": "code",
   "execution_count": 11,
   "metadata": {
    "ExecuteTime": {
     "end_time": "2024-02-13T14:27:16.360035900Z",
     "start_time": "2024-02-13T14:27:15.997610400Z"
    }
   },
   "outputs": [
    {
     "name": "stdout",
     "output_type": "stream",
     "text": [
      "[9, 11, 13, 15, 17, 19, 21, 23, 25, 27]\n",
      "[(1, 5), (1, 6), (1, 7), (2, 5), (2, 6), (2, 7)]\n"
     ]
    }
   ],
   "source": [
    "a = [n * 2 + 7 for n in range(1, 11)]\n",
    "b = [(x, y) for x in range(1, 3) for y in range(5, 8)]\n",
    "print(a)\n",
    "print(b)"
   ]
  },
  {
   "cell_type": "code",
   "execution_count": 29,
   "metadata": {},
   "outputs": [
    {
     "data": {
      "text/plain": [
       "[2, 4, 6, 8, 10]"
      ]
     },
     "execution_count": 29,
     "metadata": {},
     "output_type": "execute_result"
    }
   ],
   "source": [
    "num = [1, 2, 3, 4, 5, 6, 7, 8, 9, 10]\n",
    "result = [i for i in num if i % 2 == 0]\n",
    "result"
   ]
  },
  {
   "cell_type": "markdown",
   "metadata": {},
   "source": [
    "## 练习"
   ]
  },
  {
   "cell_type": "code",
   "outputs": [
    {
     "name": "stdout",
     "output_type": "stream",
     "text": [
      "[50, 52, 54, 56, 58, 60, 62, 64, 66, 68, 70, 72, 74, 76, 78, 80, 82, 84, 86, 88, 90, 92, 94, 96, 98, 100]\n"
     ]
    }
   ],
   "source": [
    "a = []\n",
    "\n",
    "\n",
    "def even(number):\n",
    "    int(number)\n",
    "    while number <= 100:\n",
    "        if number % 2 == 0:\n",
    "            a.append(number)\n",
    "        number += 1\n",
    "    print(a)\n",
    "\n",
    "\n",
    "even(50)"
   ],
   "metadata": {
    "collapsed": false,
    "ExecuteTime": {
     "end_time": "2024-02-13T14:27:52.719673800Z",
     "start_time": "2024-02-13T14:27:51.778800200Z"
    }
   },
   "execution_count": 12
  },
  {
   "cell_type": "code",
   "execution_count": 8,
   "metadata": {},
   "outputs": [
    {
     "name": "stdout",
     "output_type": "stream",
     "text": [
      "['b', 'a', 'd', 'c']\n"
     ]
    }
   ],
   "source": [
    "# 删除列表中的空字符串\n",
    "list1 = ['b', '', 'a', '', '', 'd', '', 'c']\n",
    "i = 0\n",
    "while i < len(list1):\n",
    "    if list1[i] == '':\n",
    "        list1.remove(list1[i])\n",
    "        i -= 1  # list中元素的下标会变\n",
    "    i += 1\n",
    "print(list1)"
   ]
  },
  {
   "cell_type": "code",
   "execution_count": 25,
   "metadata": {
    "scrolled": true
   },
   "outputs": [
    {
     "name": "stdout",
     "output_type": "stream",
     "text": [
      "[[1, 2, 3], [4, 5, 6], [7, 8, 9], [10, 11, 12], [13, 14, 15], [16, 17, 18], [19, 20, 21], [22, 23, 24], [25, 26, 27], [28, 29, 30], [31, 32, 33], [34, 35, 36], [37, 38, 39], [40, 41, 42], [43, 44, 45], [46, 47, 48], [49, 50, 51], [52, 53, 54], [55, 56, 57], [58, 59, 60], [61, 62, 63], [64, 65, 66], [67, 68, 69], [70, 71, 72], [73, 74, 75], [76, 77, 78], [79, 80, 81], [82, 83, 84], [85, 86, 87], [88, 89, 90], [91, 92, 93], [94, 95, 96], [97, 98, 99]]\n"
     ]
    }
   ],
   "source": [
    "# [1, 2, 3, ……, 99] ==> [[1, 2, 3], ……, [97, 98, 99]]\n",
    "x = [a for a in range(1, 100)]\n",
    "y = [x[i:i + 3] for i in range(0, 99, 3)]\n",
    "print(y)"
   ]
  },
  {
   "cell_type": "markdown",
   "metadata": {},
   "source": [
    "# 字典"
   ]
  },
  {
   "cell_type": "code",
   "execution_count": 15,
   "metadata": {
    "ExecuteTime": {
     "end_time": "2024-02-13T14:30:07.234808700Z",
     "start_time": "2024-02-13T14:30:06.719106Z"
    }
   },
   "outputs": [
    {
     "name": "stdout",
     "output_type": "stream",
     "text": [
      "1989\n",
      "我的最好时代\n"
     ]
    }
   ],
   "source": [
    "album = {'Eason': \"我的最好时代\", 'Taylor Swift': \"1989\", 'Ed Sheeran': \"+\"}  #key（不可变数据类型，一般为字符串）:value（任意数据类型，也可以是列表）\n",
    "print(album.get('Taylor Swift', \"1989\"))\n",
    "print(album['Eason'])"
   ]
  },
  {
   "cell_type": "code",
   "execution_count": 16,
   "metadata": {
    "ExecuteTime": {
     "end_time": "2024-02-13T14:30:17.501062500Z",
     "start_time": "2024-02-13T14:30:17.151399500Z"
    }
   },
   "outputs": [
    {
     "name": "stdout",
     "output_type": "stream",
     "text": [
      "{'Eason': 'U87', 'Taylor Swift': '1989', 'Ed Sheeran': '+'}\n"
     ]
    }
   ],
   "source": [
    "# 字典可变\n",
    "album['Eason'] = 'U87'\n",
    "print(album)"
   ]
  },
  {
   "cell_type": "markdown",
   "metadata": {},
   "source": [
    "## 字典应用"
   ]
  },
  {
   "cell_type": "markdown",
   "metadata": {},
   "source": [
    "### 提取"
   ]
  },
  {
   "cell_type": "code",
   "execution_count": 17,
   "metadata": {
    "ExecuteTime": {
     "end_time": "2024-02-13T14:30:32.566441900Z",
     "start_time": "2024-02-13T14:30:32.260013800Z"
    }
   },
   "outputs": [
    {
     "name": "stdout",
     "output_type": "stream",
     "text": [
      "1989\n"
     ]
    }
   ],
   "source": [
    "print(album.pop('Taylor Swift'))"
   ]
  },
  {
   "cell_type": "code",
   "execution_count": 18,
   "metadata": {
    "ExecuteTime": {
     "end_time": "2024-02-13T14:30:37.546873700Z",
     "start_time": "2024-02-13T14:30:36.859347600Z"
    }
   },
   "outputs": [
    {
     "name": "stdout",
     "output_type": "stream",
     "text": [
      "{'Eason': 'U87', 'Ed Sheeran': '+'}\n"
     ]
    }
   ],
   "source": [
    "print(album)"
   ]
  },
  {
   "cell_type": "code",
   "execution_count": 19,
   "metadata": {
    "ExecuteTime": {
     "end_time": "2024-02-13T14:30:46.767364800Z",
     "start_time": "2024-02-13T14:30:46.259671600Z"
    }
   },
   "outputs": [
    {
     "name": "stdout",
     "output_type": "stream",
     "text": [
      "1989\n"
     ]
    }
   ],
   "source": [
    "print(album.get('Taylor Swift', \"1989\"))"
   ]
  },
  {
   "cell_type": "code",
   "execution_count": 20,
   "metadata": {
    "ExecuteTime": {
     "end_time": "2024-02-13T14:31:20.059288100Z",
     "start_time": "2024-02-13T14:31:19.495902800Z"
    }
   },
   "outputs": [
    {
     "name": "stdout",
     "output_type": "stream",
     "text": [
      "None\n"
     ]
    }
   ],
   "source": [
    "print(album.get('Taylor Swift'))"
   ]
  },
  {
   "cell_type": "code",
   "execution_count": 21,
   "metadata": {
    "ExecuteTime": {
     "end_time": "2024-02-13T14:31:35.940890800Z",
     "start_time": "2024-02-13T14:31:35.610729500Z"
    }
   },
   "outputs": [
    {
     "name": "stdout",
     "output_type": "stream",
     "text": [
      "None\n"
     ]
    }
   ],
   "source": [
    "print(album.get(\"1989\"))"
   ]
  },
  {
   "cell_type": "markdown",
   "metadata": {},
   "source": [
    "### 添加和修改"
   ]
  },
  {
   "cell_type": "code",
   "execution_count": 23,
   "metadata": {
    "ExecuteTime": {
     "end_time": "2024-02-13T14:31:58.031241200Z",
     "start_time": "2024-02-13T14:31:57.481211400Z"
    }
   },
   "outputs": [
    {
     "name": "stdout",
     "output_type": "stream",
     "text": [
      "{'red': 123, 'orange': 456}\n"
     ]
    },
    {
     "data": {
      "text/plain": "{'red': 1, 'orange': 2, 'yellow': 0}"
     },
     "execution_count": 23,
     "metadata": {},
     "output_type": "execute_result"
    }
   ],
   "source": [
    "color = {'red': 123, 'orange': 456}\n",
    "print(color)\n",
    "color['red'] = 1\n",
    "color['orange'] = 2\n",
    "color['yellow'] = 0\n",
    "color"
   ]
  },
  {
   "cell_type": "markdown",
   "metadata": {},
   "source": [
    "### zip函数:组合列表"
   ]
  },
  {
   "cell_type": "code",
   "execution_count": 38,
   "metadata": {},
   "outputs": [
    {
     "data": {
      "text/plain": [
       "{'name': 'Carl', 'age': 16}"
      ]
     },
     "execution_count": 38,
     "metadata": {},
     "output_type": "execute_result"
    }
   ],
   "source": [
    "a = ['name', 'age']\n",
    "b = ['Carl', 16]\n",
    "album = dict(zip(a, b))\n",
    "album"
   ]
  },
  {
   "cell_type": "markdown",
   "metadata": {},
   "source": [
    "### 合并"
   ]
  },
  {
   "cell_type": "code",
   "execution_count": 24,
   "metadata": {
    "ExecuteTime": {
     "end_time": "2024-02-13T14:32:41.923147500Z",
     "start_time": "2024-02-13T14:32:41.317203400Z"
    }
   },
   "outputs": [
    {
     "name": "stdout",
     "output_type": "stream",
     "text": [
      "{'Eason': '我的最好时代', 'Taylor Swift': '1989', 'Ed Sheeran': '+', 'red': 123, 'orange': 456}\n"
     ]
    }
   ],
   "source": [
    "album = {'Eason': \"我的最好时代\", 'Taylor Swift': \"1989\", 'Ed Sheeran': \"+\"}\n",
    "color = {'red': 123, 'orange': 456}\n",
    "album.update(color)\n",
    "print(album)"
   ]
  },
  {
   "cell_type": "markdown",
   "metadata": {},
   "source": [
    "### 删除"
   ]
  },
  {
   "cell_type": "code",
   "execution_count": 12,
   "metadata": {},
   "outputs": [
    {
     "data": {
      "text/plain": [
       "{'red': 1, 'yellow': 0}"
      ]
     },
     "execution_count": 12,
     "metadata": {},
     "output_type": "execute_result"
    }
   ],
   "source": [
    "del color['orange']\n",
    "color"
   ]
  },
  {
   "cell_type": "code",
   "execution_count": 13,
   "metadata": {},
   "outputs": [
    {
     "data": {
      "text/plain": [
       "{'red': 1}"
      ]
     },
     "execution_count": 13,
     "metadata": {},
     "output_type": "execute_result"
    }
   ],
   "source": [
    "color.pop('yellow')\n",
    "color"
   ]
  },
  {
   "cell_type": "code",
   "execution_count": 25,
   "metadata": {
    "ExecuteTime": {
     "end_time": "2024-02-13T14:33:04.560458500Z",
     "start_time": "2024-02-13T14:33:04.162815800Z"
    }
   },
   "outputs": [
    {
     "name": "stdout",
     "output_type": "stream",
     "text": [
      "{'red': 123}\n"
     ]
    }
   ],
   "source": [
    "color = {'red': 123, 'orange': 456}\n",
    "# 随机删除\n",
    "color.popitem()\n",
    "print(color)"
   ]
  },
  {
   "cell_type": "markdown",
   "metadata": {},
   "source": [
    "### 清空"
   ]
  },
  {
   "cell_type": "code",
   "execution_count": 26,
   "metadata": {
    "ExecuteTime": {
     "end_time": "2024-02-13T14:33:11.288416Z",
     "start_time": "2024-02-13T14:33:10.749630200Z"
    }
   },
   "outputs": [
    {
     "name": "stdout",
     "output_type": "stream",
     "text": [
      "{}\n"
     ]
    }
   ],
   "source": [
    "album.clear()\n",
    "print(album)"
   ]
  },
  {
   "cell_type": "markdown",
   "metadata": {},
   "source": [
    "### 遍历字典"
   ]
  },
  {
   "cell_type": "code",
   "execution_count": 22,
   "metadata": {},
   "outputs": [
    {
     "name": "stdout",
     "output_type": "stream",
     "text": [
      "Eason = 我的最好时代\n",
      "Taylor Swift = 1989\n",
      "Ed Sheeran = +\n",
      "red = 123\n",
      "orange = 456\n"
     ]
    }
   ],
   "source": [
    "for i in album:  # i => key\n",
    "    print(i, '=', album[i])"
   ]
  },
  {
   "cell_type": "code",
   "execution_count": 19,
   "metadata": {},
   "outputs": [
    {
     "name": "stdout",
     "output_type": "stream",
     "text": [
      "Eason\n",
      "Taylor Swift\n",
      "Ed Sheeran\n",
      "red\n",
      "orange\n"
     ]
    }
   ],
   "source": [
    "j = album.keys()\n",
    "for i in j:\n",
    "    print(i)"
   ]
  },
  {
   "cell_type": "code",
   "execution_count": 25,
   "metadata": {
    "scrolled": true
   },
   "outputs": [
    {
     "name": "stdout",
     "output_type": "stream",
     "text": [
      "Eason\n",
      "Taylor Swift\n",
      "Ed Sheeran\n",
      "red\n",
      "orange\n"
     ]
    }
   ],
   "source": [
    "for i in album:  # 优于上\n",
    "    print(i)"
   ]
  },
  {
   "cell_type": "code",
   "execution_count": 26,
   "metadata": {},
   "outputs": [
    {
     "name": "stdout",
     "output_type": "stream",
     "text": [
      "我的最好时代\n",
      "1989\n",
      "+\n",
      "123\n",
      "456\n"
     ]
    }
   ],
   "source": [
    "j = album.values()  # 不常用\n",
    "for i in j:\n",
    "    print(i)"
   ]
  },
  {
   "cell_type": "code",
   "execution_count": 27,
   "metadata": {},
   "outputs": [
    {
     "name": "stdout",
     "output_type": "stream",
     "text": [
      "dict_items([('Eason', '我的最好时代'), ('Taylor Swift', '1989'), ('Ed Sheeran', '+'), ('red', 123), ('orange', 456)])\n"
     ]
    }
   ],
   "source": [
    "print(album.items())"
   ]
  },
  {
   "cell_type": "code",
   "execution_count": 29,
   "metadata": {},
   "outputs": [
    {
     "name": "stdout",
     "output_type": "stream",
     "text": [
      "Eason = 我的最好时代\n",
      "Taylor Swift = 1989\n",
      "Ed Sheeran = +\n",
      "red = 123\n",
      "orange = 456\n"
     ]
    }
   ],
   "source": [
    "for i in album.items():\n",
    "    print(i[0], '=', i[1])"
   ]
  },
  {
   "cell_type": "code",
   "execution_count": 30,
   "metadata": {
    "scrolled": false
   },
   "outputs": [
    {
     "name": "stdout",
     "output_type": "stream",
     "text": [
      "Eason = 我的最好时代\n",
      "Taylor Swift = 1989\n",
      "Ed Sheeran = +\n",
      "red = 123\n",
      "orange = 456\n"
     ]
    }
   ],
   "source": [
    "for k, v in album.items():  # 上的简化\n",
    "    print(k, '=', v)"
   ]
  },
  {
   "cell_type": "markdown",
   "metadata": {},
   "source": [
    "### 字典的推导式"
   ]
  },
  {
   "cell_type": "code",
   "execution_count": 2,
   "metadata": {},
   "outputs": [
    {
     "name": "stdout",
     "output_type": "stream",
     "text": [
      "{1: 'a', 2: 'b', 3: 'c'}\n"
     ]
    }
   ],
   "source": [
    "d1 = {'a': 1, 'b': 2, 'c': 3}\n",
    "d2 = {}\n",
    "for k, v in d1.items():\n",
    "    d2[v] = k\n",
    "print(d2)"
   ]
  },
  {
   "cell_type": "code",
   "execution_count": 5,
   "metadata": {},
   "outputs": [
    {
     "data": {
      "text/plain": [
       "{1: 'a', 2: 'b', 3: 'c'}"
      ]
     },
     "execution_count": 5,
     "metadata": {},
     "output_type": "execute_result"
    }
   ],
   "source": [
    "# 优化\n",
    "d1 = {'a': 1, 'b': 2, 'c': 3}\n",
    "d1 = {v: k for k, v in d1.items()}\n",
    "d1"
   ]
  },
  {
   "cell_type": "markdown",
   "metadata": {},
   "source": [
    "## 练习"
   ]
  },
  {
   "cell_type": "code",
   "execution_count": 34,
   "metadata": {},
   "outputs": [
    {
     "name": "stdout",
     "output_type": "stream",
     "text": [
      "{'a': 2, 's': 1, 'd': 3, 'f': 1, 'g': 1, 'h': 2, 'j': 2, 'k': 2, 'l': 1}\n"
     ]
    }
   ],
   "source": [
    "# 求列表中相同数据出现的次数\n",
    "list1 = ['a', 's', 'd', 'f', 'g', 'h', 'j', 'k', 'l', 'd', 'h', 'j', 'a', 'k', 'd']\n",
    "count = {}\n",
    "for i in list1:\n",
    "    if i in count:\n",
    "        count[i] += 1\n",
    "    else:\n",
    "        count[i] = 1\n",
    "print(count)"
   ]
  },
  {
   "cell_type": "code",
   "execution_count": 1,
   "metadata": {},
   "outputs": [
    {
     "name": "stdout",
     "output_type": "stream",
     "text": [
      "输入姓名：makaiheng\n",
      "输入年龄：16\n",
      "[{'name': 'zhangsan', 'age': 18}, {'name': 'lisi', 'age': 20}, {'name': 'wangwu', 'age': 19}, {'name': 'makaiheng', 'age': '16'}]\n"
     ]
    }
   ],
   "source": [
    "# 输入姓名，若存在则提示；不存在则再输入年龄，并存入列表\n",
    "personal_information = [{'name': 'zhangsan', 'age': 18}, {'name': 'lisi', 'age': 20}, {'name': 'wangwu', 'age': 19}]\n",
    "album = {}\n",
    "n = 0\n",
    "name = input('输入姓名：')\n",
    "for i in personal_information:\n",
    "    names = i.keys()\n",
    "    if name in names:\n",
    "        print('该名字已存在')\n",
    "        break\n",
    "    else:\n",
    "        n += 1\n",
    "        if n == 3:\n",
    "            album['name'] = name\n",
    "            age = input('输入年龄：')\n",
    "            album['age'] = age\n",
    "            personal_information.append(album)\n",
    "print(personal_information)"
   ]
  },
  {
   "cell_type": "markdown",
   "metadata": {},
   "source": [
    "# 集合\n",
    "特点：不重复、无序\n",
    "表示方法：set或{}\n",
    "注：空集合不用{}表示，而用set()表示"
   ]
  },
  {
   "cell_type": "code",
   "execution_count": 27,
   "metadata": {
    "ExecuteTime": {
     "end_time": "2024-02-13T14:37:09.910084Z",
     "start_time": "2024-02-13T14:37:09.412755400Z"
    }
   },
   "outputs": [
    {
     "name": "stdout",
     "output_type": "stream",
     "text": [
      "{1, 2, 3, 4, 5}\n"
     ]
    }
   ],
   "source": [
    "num = {1, 2, 3, 4, 5, 4, 3, 1}  # 自动删重\n",
    "print(num)"
   ]
  },
  {
   "cell_type": "markdown",
   "metadata": {},
   "source": [
    "## 集合应用"
   ]
  },
  {
   "cell_type": "markdown",
   "metadata": {},
   "source": [
    "### 添加"
   ]
  },
  {
   "cell_type": "code",
   "execution_count": 28,
   "metadata": {
    "ExecuteTime": {
     "end_time": "2024-02-13T14:37:14.820746900Z",
     "start_time": "2024-02-13T14:37:14.261355400Z"
    }
   },
   "outputs": [
    {
     "name": "stdout",
     "output_type": "stream",
     "text": [
      "{0, 1, 2, 3, 4, 5}\n"
     ]
    }
   ],
   "source": [
    "num.add(0)\n",
    "print(num)"
   ]
  },
  {
   "cell_type": "markdown",
   "metadata": {},
   "source": [
    "### 并集"
   ]
  },
  {
   "cell_type": "code",
   "execution_count": 31,
   "metadata": {
    "ExecuteTime": {
     "end_time": "2024-02-13T14:38:30.344401900Z",
     "start_time": "2024-02-13T14:38:29.753060500Z"
    }
   },
   "outputs": [
    {
     "name": "stdout",
     "output_type": "stream",
     "text": [
      "{34, 'lisi', 'zhangsan', 'xiaoliu', 'wangwu', 18, 20, 25}\n",
      "{'xiaoliu', 'wangwu', 'lisi', 'zhangsan'}\n"
     ]
    }
   ],
   "source": [
    "age = {18, 20, 34, 25}\n",
    "person = {'zhangsan', 'lisi', 'wangwu', 'xiaoliu'}\n",
    "print(person.union(age))  # 生成新集合\n",
    "print(person)"
   ]
  },
  {
   "cell_type": "code",
   "execution_count": 30,
   "metadata": {
    "ExecuteTime": {
     "end_time": "2024-02-13T14:37:46.568559600Z",
     "start_time": "2024-02-13T14:37:46.035484900Z"
    }
   },
   "outputs": [
    {
     "name": "stdout",
     "output_type": "stream",
     "text": [
      "{34, 'lisi', 'zhangsan', 'xiaoliu', 'wangwu', 18, 20, 25}\n"
     ]
    }
   ],
   "source": [
    "person.update(age)  # 将age拼接到person里\n",
    "print(person)"
   ]
  },
  {
   "cell_type": "code",
   "execution_count": 5,
   "metadata": {},
   "outputs": [
    {
     "name": "stdout",
     "output_type": "stream",
     "text": [
      "{34, 'wangwu', 'lisi', 18, 20, 'xiaoliu', 25, 'zhangsan'}\n"
     ]
    }
   ],
   "source": [
    "age = {18, 20, 34, 25}\n",
    "person = {'zhangsan', 'lisi', 'wangwu', 'xiaoliu'}\n",
    "print(age | person)"
   ]
  },
  {
   "cell_type": "markdown",
   "metadata": {},
   "source": [
    "### 交集"
   ]
  },
  {
   "cell_type": "code",
   "execution_count": 32,
   "metadata": {
    "ExecuteTime": {
     "end_time": "2024-02-13T14:39:03.884747300Z",
     "start_time": "2024-02-13T14:39:03.386926700Z"
    }
   },
   "outputs": [
    {
     "name": "stdout",
     "output_type": "stream",
     "text": [
      "{0, 2, 3, 4, 5, 6, 7, 8, 9}\n"
     ]
    }
   ],
   "source": [
    "a = (2, 4, 3, 5, 6)\n",
    "b = (7, 6, 9, 0, 8)\n",
    "c = (7, 8, 6, 0, 2)\n",
    "num = set(a + b + c)\n",
    "print(num)"
   ]
  },
  {
   "cell_type": "code",
   "execution_count": 33,
   "metadata": {
    "ExecuteTime": {
     "end_time": "2024-02-13T14:39:11.760332900Z",
     "start_time": "2024-02-13T14:39:11.234218700Z"
    }
   },
   "outputs": [
    {
     "name": "stdout",
     "output_type": "stream",
     "text": [
      "set()\n"
     ]
    }
   ],
   "source": [
    "a = {1, 2, 3}\n",
    "b = {2, 3, 4}\n",
    "c = {4, 5, 6}\n",
    "num = a & b & c\n",
    "print(num)"
   ]
  },
  {
   "cell_type": "markdown",
   "metadata": {},
   "source": [
    "### 删除"
   ]
  },
  {
   "cell_type": "code",
   "execution_count": 34,
   "metadata": {
    "ExecuteTime": {
     "end_time": "2024-02-13T14:39:19.242974Z",
     "start_time": "2024-02-13T14:39:18.701770800Z"
    }
   },
   "outputs": [
    {
     "name": "stdout",
     "output_type": "stream",
     "text": [
      "{1, 2, 3, 4, 5}\n"
     ]
    }
   ],
   "source": [
    "num = {0, 1, 2, 3, 4, 5}\n",
    "num.pop()  #随机删除\n",
    "print(num)"
   ]
  },
  {
   "cell_type": "code",
   "execution_count": 35,
   "metadata": {
    "ExecuteTime": {
     "end_time": "2024-02-13T14:39:23.951754600Z",
     "start_time": "2024-02-13T14:39:23.339821Z"
    }
   },
   "outputs": [
    {
     "name": "stdout",
     "output_type": "stream",
     "text": [
      "{2, 3, 4, 5}\n"
     ]
    }
   ],
   "source": [
    "num.remove(1)\n",
    "print(num)"
   ]
  },
  {
   "cell_type": "markdown",
   "metadata": {},
   "source": [
    "## 集合运算符"
   ]
  },
  {
   "cell_type": "code",
   "execution_count": 10,
   "metadata": {},
   "outputs": [
    {
     "name": "stdout",
     "output_type": "stream",
     "text": [
      "{1}\n",
      "{4}\n",
      "{2, 3}\n",
      "{1, 2, 3, 4}\n",
      "{1, 4}\n"
     ]
    }
   ],
   "source": [
    "a = {1, 2, 3}\n",
    "b = {2, 3, 4}\n",
    "c = {4, 5, 6}\n",
    "print(a - b)  # 差集\n",
    "print(b - a)\n",
    "print(a & b)  # 交集\n",
    "print(a | b)  # 并集\n",
    "print(a ^ b)  # 差集的并集"
   ]
  },
  {
   "cell_type": "markdown",
   "metadata": {},
   "source": [
    "## 练习"
   ]
  },
  {
   "cell_type": "code",
   "execution_count": 1,
   "metadata": {},
   "outputs": [
    {
     "data": {
      "text/plain": [
       "[8, 7, 6, 5, 4, 3, 2, 1, 0]"
      ]
     },
     "execution_count": 1,
     "metadata": {},
     "output_type": "execute_result"
    }
   ],
   "source": [
    "# 去重并倒序\n",
    "nums = [1, 2, 3, 4, 5, 6, 2, 3, 1, 4, 7, 8, 5, 7, 0]\n",
    "n = list(set(nums))\n",
    "n.sort(reverse=True)\n",
    "n"
   ]
  },
  {
   "cell_type": "markdown",
   "metadata": {},
   "source": [
    "## enumerate的用法"
   ]
  },
  {
   "cell_type": "code",
   "execution_count": 2,
   "metadata": {
    "scrolled": false
   },
   "outputs": [
    {
     "name": "stdout",
     "output_type": "stream",
     "text": [
      "第1个数据是32\n",
      "第2个数据是34\n",
      "第3个数据是56\n",
      "第4个数据是87\n",
      "第5个数据是90\n"
     ]
    }
   ],
   "source": [
    "nums = [32, 34, 56, 87, 90]\n",
    "for i, e in enumerate(nums):\n",
    "    print('第%d个数据是%d' % (i + 1, e))"
   ]
  },
  {
   "cell_type": "code",
   "execution_count": 1,
   "metadata": {
    "scrolled": true
   },
   "outputs": [
    {
     "name": "stdout",
     "output_type": "stream",
     "text": [
      "name1Mary\n",
      "name2Jack\n",
      "name3Carl\n",
      "name4Amy\n",
      "name5马楷恒\n",
      "['Amy', 'Carl', 'Jack', 'Mary', '马楷恒']\n"
     ]
    }
   ],
   "source": [
    "# 写一个程序，让用户提供5个名字。程序要把5个名字保存在一个列表中，最后打印出来并排序。\n",
    "name1 = input(\"name1\")\n",
    "name2 = input(\"name2\")\n",
    "name3 = input(\"name3\")\n",
    "name4 = input(\"name4\")\n",
    "name5 = input(\"name5\")\n",
    "names = [name1, name2, name3, name4, name5]\n",
    "names.sort()\n",
    "print(names)"
   ]
  },
  {
   "cell_type": "code",
   "execution_count": 8,
   "metadata": {},
   "outputs": [
    {
     "name": "stdout",
     "output_type": "stream",
     "text": [
      "['Tom', 'Lucy', 'Bob', 'Paul']\n"
     ]
    }
   ],
   "source": [
    "a = {'Name': 'Tom', 'Gender': 'Male', 'Age': 31, 'Password': 'Abcd1234'}\n",
    "b = {'Name': 'Lucy', 'Gender': 'Female', 'Age': 28, 'Password': 'a1A2a3a4'}\n",
    "c = {'Name': 'Jack', 'Gender': 'Male', 'Age': 54, 'Password': '12345678'}\n",
    "d = {'Name': 'Bob', 'Gender': 'Male', 'Age': 38, 'Password': 'ab00ab00'}\n",
    "e = {'Name': 'Paul', 'Gender': 'Male', 'Age': 35, 'Password': 'Abc12abC'}\n",
    "album = [a, b, c, d, e]\n",
    "n = 0\n",
    "x = []\n",
    "for i in range(5):\n",
    "    if album[n]['Age'] < 40:\n",
    "        x.append(album[n]['Name'])\n",
    "    n += 1\n",
    "print(x)"
   ]
  }
 ],
 "metadata": {
  "kernelspec": {
   "display_name": "Python 3",
   "language": "python",
   "name": "python3"
  },
  "language_info": {
   "codemirror_mode": {
    "name": "ipython",
    "version": 3
   },
   "file_extension": ".py",
   "mimetype": "text/x-python",
   "name": "python",
   "nbconvert_exporter": "python",
   "pygments_lexer": "ipython3",
   "version": "3.7.6"
  }
 },
 "nbformat": 4,
 "nbformat_minor": 4
}
