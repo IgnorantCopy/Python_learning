{
 "cells": [
  {
   "cell_type": "markdown",
   "metadata": {},
   "source": [
    "# 类\n",
    "* 具有相同特征和行为的事物的统称\n",
    "* 特征就是一个变量，称之为属性\n",
    "* 行为就是一个函数，称之为方法\n",
    "* 三要素：类名、特征、行为"
   ]
  },
  {
   "cell_type": "markdown",
   "metadata": {},
   "source": [
    "# 对象\n",
    "* 由类创建出来的一个具体存在"
   ]
  },
  {
   "cell_type": "markdown",
   "metadata": {},
   "source": [
    "# 基本语法"
   ]
  },
  {
   "cell_type": "code",
   "execution_count": 14,
   "metadata": {},
   "outputs": [
    {
     "name": "stdout",
     "output_type": "stream",
     "text": [
      "__del__被调用\n",
      "正在跑步\n",
      "正在吃东西\n"
     ]
    }
   ],
   "source": [
    "class Student(object):  # 定义类名：一般遵守大驼峰命名法,即每个单词首字母都大写，(object)可不写\n",
    "    def __init__(self, name, age, height):\n",
    "        self.name = name\n",
    "        self.age = age\n",
    "        self.height = height\n",
    "\n",
    "    @staticmethod\n",
    "    def run():\n",
    "        print('正在跑步')\n",
    "\n",
    "    @staticmethod\n",
    "    def eat():\n",
    "        print('正在吃东西')\n",
    "\n",
    "\n",
    "stu1 = Student('zhangsan', 18, 1.75)  # 创建实例对象，有name,age,height属性、run,eat方法\n",
    "# 根据业务逻辑，让不同对象执行不同的行为\n",
    "stu1.run()\n",
    "stu1.eat()"
   ]
  },
  {
   "cell_type": "code",
   "execution_count": 15,
   "metadata": {},
   "outputs": [
    {
     "name": "stdout",
     "output_type": "stream",
     "text": [
      "100\n"
     ]
    }
   ],
   "source": [
    "# 添加/修改属性\n",
    "stu1.scores = 100  # 动态属性\n",
    "print(stu1.scores)"
   ]
  },
  {
   "cell_type": "markdown",
   "metadata": {},
   "source": [
    "## __self __的使用"
   ]
  },
  {
   "cell_type": "raw",
   "metadata": {},
   "source": [
    "代码Student('zhangsan',18,1.75)做了什么？\n",
    "1.调用__new__方法，申请内存空间"
   ]
  },
  {
   "cell_type": "code",
   "execution_count": 16,
   "metadata": {
    "scrolled": true
   },
   "outputs": [
    {
     "name": "stdout",
     "output_type": "stream",
     "text": [
      "zhangsan 18 1.75\n"
     ]
    }
   ],
   "source": [
    "print(stu1.name, stu1.age, stu1.height)"
   ]
  },
  {
   "cell_type": "markdown",
   "metadata": {},
   "source": [
    "## __slots __的使用"
   ]
  },
  {
   "cell_type": "code",
   "execution_count": 17,
   "metadata": {},
   "outputs": [],
   "source": [
    "class Student(object):\n",
    "    __slots__ = ('name', 'age', 'height')  # 用于规定可以存在的属性，不能添加\n",
    "\n",
    "    def __init__(self, name, age, height):\n",
    "        self.name = name\n",
    "        self.age = age\n",
    "        self.height = height"
   ]
  },
  {
   "cell_type": "markdown",
   "metadata": {},
   "source": [
    "## 魔法方法\n",
    "* 不需手动调动，会在合适的时机自动调用（可以手动调用）\n",
    "* 都以__ 开始，__ 结束\n",
    "* 方法名系统已规定，在合适时机自己调用"
   ]
  },
  {
   "cell_type": "code",
   "execution_count": 18,
   "metadata": {},
   "outputs": [
    {
     "name": "stdout",
     "output_type": "stream",
     "text": [
      "<__main__.Student object at 0x00000287E4574A08>\n"
     ]
    }
   ],
   "source": [
    "print(stu1)  # 格式：__name__.类型 内存地址"
   ]
  },
  {
   "cell_type": "code",
   "execution_count": 19,
   "metadata": {},
   "outputs": [
    {
     "name": "stdout",
     "output_type": "stream",
     "text": [
      "__init__被调用\n",
      "hello\n",
      "world\n",
      "__call__被调用\n",
      "3\n"
     ]
    }
   ],
   "source": [
    "class Student(object):\n",
    "    def __init__(self, name, age, height):\n",
    "        print('__init__被调用')\n",
    "        self.name = name\n",
    "        self.age = age\n",
    "        self.height = height\n",
    "\n",
    "    def __del__(self):\n",
    "        print('__del__被调用')\n",
    "\n",
    "    def __str__(self):  # str()、print()时都会被调用\n",
    "        return 'hello'\n",
    "\n",
    "    def __int__(self):  # int()时会被调用\n",
    "        return 20\n",
    "\n",
    "    def __float__(self):  # float()时会被调用\n",
    "        return 1.15\n",
    "\n",
    "    def __repr__(self):\n",
    "        return 'world'\n",
    "\n",
    "    def __call__(self, *args, **kwargs):\n",
    "        print('__call__被调用')\n",
    "        f = kwargs['f']\n",
    "        return f(args[0], args[1])\n",
    "\n",
    "\n",
    "stu1 = Student('zhangsan', 18, 1.75)  # ==> __init__\n",
    "print(stu1)  # ==> __str__\n",
    "print(repr(stu1))  # ==> __repr__\n",
    "x = stu1(1, 2, f=lambda a, b: a + b)  # ==> __call__\n",
    "print(x)"
   ]
  },
  {
   "cell_type": "markdown",
   "metadata": {},
   "source": [
    "### 运算符"
   ]
  },
  {
   "cell_type": "code",
   "execution_count": 20,
   "metadata": {},
   "outputs": [
    {
     "data": {
      "text/plain": [
       "False"
      ]
     },
     "execution_count": 20,
     "metadata": {},
     "output_type": "execute_result"
    }
   ],
   "source": [
    "# is:判断两个对象是否是一个对象（比较内存地址）\n",
    "a1 = [1, 2, 3]\n",
    "a2 = [1, 2, 3]\n",
    "a1 is a2"
   ]
  },
  {
   "cell_type": "code",
   "execution_count": 21,
   "metadata": {},
   "outputs": [
    {
     "data": {
      "text/plain": [
       "True"
      ]
     },
     "execution_count": 21,
     "metadata": {},
     "output_type": "execute_result"
    }
   ],
   "source": [
    "a1 == a2"
   ]
  },
  {
   "cell_type": "code",
   "execution_count": 4,
   "metadata": {},
   "outputs": [
    {
     "name": "stdout",
     "output_type": "stream",
     "text": [
      "False\n",
      "True\n",
      "True\n",
      "False\n"
     ]
    }
   ],
   "source": [
    "class Person(object):\n",
    "    def __init__(self, name, age):\n",
    "        self.name = name\n",
    "        self.age = age\n",
    "\n",
    "\n",
    "class Student(Person):\n",
    "    pass\n",
    "\n",
    "\n",
    "s = Student('zhangsan', 18)\n",
    "print(type(s) == Person)\n",
    "# isinstance 用来判断一个对象是否是由指定的类（或父类）实例化出来的\n",
    "print(isinstance(s, Person))\n",
    "# issubclass 用来判断一个类是否是一个类的子类\n",
    "print(issubclass(Student, Person))\n",
    "print(issubclass(Person, Student))"
   ]
  },
  {
   "cell_type": "code",
   "execution_count": 26,
   "metadata": {},
   "outputs": [
    {
     "name": "stdout",
     "output_type": "stream",
     "text": [
      "__eq__被调用,other= <__main__.Student object at 0x00000287E4588E48>\n",
      "True\n"
     ]
    }
   ],
   "source": [
    "class Student(object):\n",
    "    def __init__(self, name, age):\n",
    "        self.name = name\n",
    "        self.age = age\n",
    "\n",
    "    def __eq__(self, other):  # ==\n",
    "        print('__eq__被调用,other=', other)\n",
    "        return self.name == other.name and self.age == other.age\n",
    "\n",
    "    def __ne__(self, other):  # !=\n",
    "        return self.name != other.name and self.age != other.age\n",
    "\n",
    "    def __gt__(self, other):  # >\n",
    "        return self.age > other.age\n",
    "\n",
    "    def __lt__(self, other):  # <\n",
    "        return self.age < other.age\n",
    "\n",
    "    def __add__(self, other):  # +\n",
    "        return self.age + other.age\n",
    "\n",
    "    def __dub__(self, other):  # -\n",
    "        return self.age - other.age\n",
    "\n",
    "    def __mul__(self, other):  # *\n",
    "        return self.name * other\n",
    "\n",
    "    def __truediv__(self, other):  # /\n",
    "        return self.name / other\n",
    "\n",
    "    def __mod__(self, other):  # %\n",
    "        return self.name % other\n",
    "\n",
    "    def __pow__(self, other):  # **\n",
    "        return self.name ** other\n",
    "\n",
    "\n",
    "s1 = Student('zhangsan', '18')\n",
    "s2 = Student('zhangsan', '18')\n",
    "print(s1 == s2)"
   ]
  },
  {
   "cell_type": "code",
   "execution_count": 1,
   "metadata": {},
   "outputs": [
    {
     "name": "stdout",
     "output_type": "stream",
     "text": [
      "[hello, hello]\n"
     ]
    }
   ],
   "source": [
    "class Person(object):\n",
    "    def __init__(self, name, age):\n",
    "        self.name = name\n",
    "        self.age = age\n",
    "\n",
    "    def __repr__(self):\n",
    "        return 'hello'\n",
    "\n",
    "\n",
    "p1 = Person('zhangsan', 18)\n",
    "p2 = Person('lisi', 20)\n",
    "print([p1, p2])  # 打印列表实际上是调用 __repr__ 方法"
   ]
  },
  {
   "cell_type": "markdown",
   "metadata": {},
   "source": [
    "# 内置属性"
   ]
  },
  {
   "cell_type": "code",
   "execution_count": 9,
   "metadata": {},
   "outputs": [
    {
     "name": "stdout",
     "output_type": "stream",
     "text": [
      "{'name': 'lisi', 'age': 18}\n",
      "__main__\n"
     ]
    },
    {
     "data": {
      "text/plain": [
       "'zhangsan'"
      ]
     },
     "execution_count": 9,
     "metadata": {},
     "output_type": "execute_result"
    }
   ],
   "source": [
    "class Student(object):\n",
    "    def __init__(self, name, age):\n",
    "        self.name = name\n",
    "        self.age = age\n",
    "\n",
    "    def __setitem__(self, key, value):  # []=会调用此方法\n",
    "        stu.__dict__[key] = value\n",
    "\n",
    "    def __getitem__(self, item):  # []会调用此方法\n",
    "        return self.__dict__[item]\n",
    "\n",
    "\n",
    "stu = Student('lisi', 18)\n",
    "print(stu.__dict__)  # 把属性写成字典\n",
    "print(stu.__module__)\n",
    "stu['name'] = 'zhangsan'\n",
    "stu['name']"
   ]
  },
  {
   "cell_type": "markdown",
   "metadata": {},
   "source": [
    "# 类属性"
   ]
  },
  {
   "cell_type": "code",
   "execution_count": 10,
   "metadata": {},
   "outputs": [],
   "source": [
    "class Student(object):\n",
    "    type = '学生'  # 定义在函数外的属性叫类属性，无法修改\n",
    "\n",
    "    def __init__(self, name, age):\n",
    "        self.name = name\n",
    "        self.age = age"
   ]
  },
  {
   "cell_type": "markdown",
   "metadata": {},
   "source": [
    "## 私有属性和私有函数"
   ]
  },
  {
   "cell_type": "code",
   "execution_count": 16,
   "metadata": {},
   "outputs": [
    {
     "name": "stdout",
     "output_type": "stream",
     "text": [
      "123\n",
      "zhangsan在2021-06-26 17:45:13.426720时查询了分数\n",
      "123\n"
     ]
    }
   ],
   "source": [
    "import datetime\n",
    "\n",
    "\n",
    "class Student(object):\n",
    "    def __init__(self, name, age):\n",
    "        self.name = name\n",
    "        self.age = age\n",
    "        self.__score = 123  # 以__开始的变量，不能直接获取\n",
    "\n",
    "    def get_score(self):\n",
    "        print('{}在{}时查询了分数'.format(self.name, datetime.datetime.now()))\n",
    "        return self.__score\n",
    "\n",
    "    def set_score(self, score):\n",
    "        if type(score) != int:\n",
    "            print('输入的分数不合法')\n",
    "            return\n",
    "        self.__score = score\n",
    "\n",
    "    def __demo(self):  # 以__开始的变量，不能直接获取,建议在类里使用\n",
    "        print('hello')\n",
    "\n",
    "\n",
    "stu = Student('zhangsan', 18)\n",
    "# 获取私有变量/函数的方式：\n",
    "# 1.对象._类名__私有变量/函数名\n",
    "print(stu._Student__score)\n",
    "# 2.定义get和set\n",
    "print(stu.get_score())\n",
    "# 3.使用property"
   ]
  },
  {
   "cell_type": "markdown",
   "metadata": {},
   "source": [
    "# 类方法和静态方法"
   ]
  },
  {
   "cell_type": "code",
   "execution_count": 19,
   "metadata": {},
   "outputs": [
    {
     "name": "stdout",
     "output_type": "stream",
     "text": [
      "zhangsan正在吃番茄炒蛋\n",
      "zhangsan正在吃番茄炒蛋\n",
      "hello\n",
      "hello\n",
      "world\n",
      "world\n"
     ]
    }
   ],
   "source": [
    "class Student(object):\n",
    "    type = '学生'\n",
    "\n",
    "    def __init__(self, name, age):\n",
    "        self.name = name\n",
    "        self.age = age\n",
    "\n",
    "    def eat(self, food):  # 对象方法\n",
    "        print('{}正在吃{}'.format(self.name, food))\n",
    "\n",
    "    # 如果一个方法里没有用到对象的任何属性，可以将这个方法定义成static(静态方法)\n",
    "    @staticmethod\n",
    "    def demo():\n",
    "        print('hello')\n",
    "\n",
    "    # 如果一个方法里只用到类属性，可以将这个方法定义成类方法\n",
    "    @classmethod\n",
    "    def test(cls):  # cls指类对象(cls is Student)\n",
    "        print('world')\n",
    "\n",
    "\n",
    "stu = Student('zhangsan', 16)\n",
    "stu.eat('番茄炒蛋')  # 使用对象.方法名(参数)的方法时，不需给形参self传参，会自动把对象传给self\n",
    "Student.eat(stu, '番茄炒蛋')  # 使用类名.方法名(参数)的方法时，需要手动给形参self传参\n",
    "Student.demo()\n",
    "stu.demo()\n",
    "Student.test()\n",
    "stu.test()"
   ]
  },
  {
   "cell_type": "markdown",
   "metadata": {},
   "source": [
    "# 单例设计模式"
   ]
  },
  {
   "cell_type": "code",
   "execution_count": 21,
   "metadata": {},
   "outputs": [
    {
     "name": "stdout",
     "output_type": "stream",
     "text": [
      "True\n",
      "True\n",
      "True\n"
     ]
    }
   ],
   "source": [
    "class Singleton(object):\n",
    "    __instance = None\n",
    "    __is_first = True\n",
    "\n",
    "    def __new__(cls, *args, **kwargs):  # 若不重写__new__方法，会调用object的__new__方法，即申请内存\n",
    "        if cls.__instance is None:  # 静态方法\n",
    "            cls.__instance = object.__new__(cls)  # 申请内存，并把对象的类型设置为cls\n",
    "        return cls.__instance\n",
    "\n",
    "    def __init__(self, a, b):\n",
    "        if self.__is_first is True:\n",
    "            self.a = a\n",
    "            self.b = b\n",
    "            self.__is_first = False\n",
    "\n",
    "\n",
    "s1 = Singleton('hehe', 'heihei')\n",
    "s2 = Singleton('haha', 'xixi')\n",
    "print(s1 is s2)\n",
    "print(s1.a == s2.a)\n",
    "print(s1.b == s2.b)"
   ]
  },
  {
   "cell_type": "markdown",
   "metadata": {},
   "source": [
    "# 继承\n",
    "* 类和类之间可以人为手动的建立父子关系，父类的属性和方法，子类可以使用"
   ]
  },
  {
   "cell_type": "code",
   "execution_count": 3,
   "metadata": {},
   "outputs": [
    {
     "name": "stdout",
     "output_type": "stream",
     "text": [
      "Jack正在睡觉\n",
      "zhangsan正在睡觉\n",
      "Jack正在叫\n",
      "zhangsan正在好好学习\n"
     ]
    }
   ],
   "source": [
    "class Animal(object):\n",
    "    def __init__(self, name, age):\n",
    "        self.name = name\n",
    "        self.age = age\n",
    "\n",
    "    def sleep(self):\n",
    "        print(self.name + '正在睡觉')\n",
    "\n",
    "\n",
    "class Dog(Animal):\n",
    "    def bark(self):\n",
    "        print(self.name + '正在叫')\n",
    "\n",
    "\n",
    "class Student(Animal):\n",
    "    def study(self):\n",
    "        print(self.name + '正在好好学习')\n",
    "\n",
    "\n",
    "d = Dog('Jack', 5)\n",
    "s = Student('zhangsan', 18)\n",
    "d.sleep()\n",
    "s.sleep()\n",
    "d.bark()\n",
    "s.study()"
   ]
  },
  {
   "cell_type": "code",
   "execution_count": 6,
   "metadata": {},
   "outputs": [
    {
     "name": "stdout",
     "output_type": "stream",
     "text": [
      "我是A\n",
      "我是B\n",
      "正在测试\n",
      "(<class '__main__.C'>, <class '__main__.A'>, <class '__main__.B'>, <class 'object'>)\n"
     ]
    }
   ],
   "source": [
    "# 多继承\n",
    "class A(object):\n",
    "    def demo_a(self):\n",
    "        print('我是A')\n",
    "\n",
    "    def test(self):\n",
    "        print('正在测试')\n",
    "\n",
    "    def foo(self):\n",
    "        print('我是B')\n",
    "\n",
    "\n",
    "class B(object):\n",
    "    def demo_b(self):\n",
    "        print('我是B')\n",
    "\n",
    "    def foo(self):\n",
    "        print('我是A')\n",
    "\n",
    "\n",
    "class C(A, B):\n",
    "    pass\n",
    "\n",
    "\n",
    "class D(C):\n",
    "    pass\n",
    "\n",
    "\n",
    "c = C()\n",
    "c.demo_a()\n",
    "c.demo_b()\n",
    "d = D()\n",
    "d.test()  # 继承可以传递\n",
    "# 如果不同父类有同名方法，有一个类属性可以查看方法的调用顺序\n",
    "print(C.__mro__)"
   ]
  },
  {
   "cell_type": "code",
   "execution_count": 7,
   "metadata": {},
   "outputs": [
    {
     "name": "stdout",
     "output_type": "stream",
     "text": [
      "(<class '__main__.E'>, <class '__main__.D'>, <class '__main__.B'>, <class '__main__.C'>, <class '__main__.A'>, <class 'object'>)\n"
     ]
    }
   ],
   "source": [
    "class A(object):\n",
    "    pass\n",
    "\n",
    "\n",
    "class B(object):\n",
    "    def foo(self):\n",
    "        print('我是B')\n",
    "\n",
    "\n",
    "class C(A):\n",
    "    def foo(self):\n",
    "        print('我是C')\n",
    "\n",
    "\n",
    "class D(B):\n",
    "    pass\n",
    "\n",
    "\n",
    "class E(D, C):\n",
    "    pass\n",
    "\n",
    "\n",
    "print(E.__mro__)"
   ]
  },
  {
   "cell_type": "code",
   "execution_count": 9,
   "metadata": {},
   "outputs": [
    {
     "name": "stdout",
     "output_type": "stream",
     "text": [
      "zhangsan正在睡觉\n",
      "我是test函数\n"
     ]
    },
    {
     "data": {
      "text/plain": [
       "100000"
      ]
     },
     "execution_count": 9,
     "metadata": {},
     "output_type": "execute_result"
    }
   ],
   "source": [
    "# 私有属性/方法的继承\n",
    "class Animal(object):\n",
    "    def __init__(self, name, age):\n",
    "        self.name = name\n",
    "        self.age = age\n",
    "        self.__money = 100000\n",
    "\n",
    "    def sleep(self):\n",
    "        print(self.name + '正在睡觉')\n",
    "\n",
    "    def __test(self):\n",
    "        print('我是test函数')\n",
    "\n",
    "\n",
    "class Person(Animal):\n",
    "    pass\n",
    "\n",
    "\n",
    "p = Person('zhangsan', 17)  # 子类不会继承父类的私有属性/方法\n",
    "p.sleep()\n",
    "p._Animal__test()  # 对象名._父类名__私有方法()\n",
    "p._Animal__money  # 对象名._父类名__私有属性"
   ]
  },
  {
   "cell_type": "markdown",
   "metadata": {},
   "source": [
    "# 新式类和经典类\n",
    "* 新式类：继承自object的类\n",
    "* 经典类：不继承自object的类"
   ]
  },
  {
   "cell_type": "markdown",
   "metadata": {},
   "source": [
    "# 多态\n",
    "* 基于继承，通过子类重写父类的方法，达到不同子类对象调用相同的父类方法，得到不同的结果，提高代码的灵活度"
   ]
  },
  {
   "cell_type": "markdown",
   "metadata": {},
   "source": [
    "## 子类重写父类方法"
   ]
  },
  {
   "cell_type": "code",
   "execution_count": 6,
   "metadata": {},
   "outputs": [
    {
     "name": "stdout",
     "output_type": "stream",
     "text": [
      "lisi正在睡觉\n",
      "zhangsan课间正在睡觉\n"
     ]
    }
   ],
   "source": [
    "class Person(object):\n",
    "    def __init__(self, name, age):\n",
    "        self.name = name\n",
    "        self.age = age\n",
    "\n",
    "    def sleep(self):\n",
    "        print(self.name + '正在睡觉')\n",
    "\n",
    "\n",
    "class Student(Person):\n",
    "    def __init__(self, name, age, school):  # 子类在父类基础上添加了自己新的功能\n",
    "        # 调用父类的方法：\n",
    "        # 1.父类名.方法名(self,参数列表)\n",
    "        # Person.__init__(self,name,age)\n",
    "        # 2.使用super(推荐)\n",
    "        super().__init__(name, age)\n",
    "        self.school = school\n",
    "\n",
    "    def study(self):\n",
    "        print(self.name + '正在学习')\n",
    "\n",
    "    def sleep(self):  # 子类的实现和父类不一样，子类可以重写父类的方法\n",
    "        print(self.name + '课间正在睡觉')\n",
    "\n",
    "\n",
    "p = Person('lisi', 18)\n",
    "p.sleep()\n",
    "s = Student('zhangsan', 19, '东渡')\n",
    "s.sleep()"
   ]
  },
  {
   "cell_type": "markdown",
   "metadata": {},
   "source": [
    "## 应用"
   ]
  },
  {
   "cell_type": "code",
   "execution_count": 2,
   "metadata": {},
   "outputs": [
    {
     "name": "stdout",
     "output_type": "stream",
     "text": [
      "警犬正在攻击敌人\n"
     ]
    }
   ],
   "source": [
    "class Person(object):\n",
    "    def __init__(self, name, age):\n",
    "        self.name = name\n",
    "        self.age = age\n",
    "\n",
    "    def work_with_dog(self):\n",
    "        if self.dog is not None and isinstance(self.dog, Dog):\n",
    "            self.dog.work()\n",
    "\n",
    "\n",
    "class Dog(object):\n",
    "    def work(self):\n",
    "        print('狗正在工作')\n",
    "\n",
    "\n",
    "class PoliceDog(Dog):\n",
    "    def work(self):\n",
    "        print('警犬正在攻击敌人')\n",
    "\n",
    "\n",
    "class BlindDog(Dog):\n",
    "    def work(self):\n",
    "        print('导盲犬正在领路')\n",
    "\n",
    "\n",
    "class DrugDog(Dog):\n",
    "    def work(self):\n",
    "        print('缉毒犬正在搜毒')\n",
    "\n",
    "\n",
    "p = Person('zhangsan', 18)\n",
    "pd = PoliceDog()\n",
    "bd = BlindDog()\n",
    "dg = DrugDog()\n",
    "p.dog = pd\n",
    "p.work_with_dog()"
   ]
  },
  {
   "cell_type": "markdown",
   "metadata": {},
   "source": [
    "# 可迭代对象和迭代器"
   ]
  },
  {
   "cell_type": "raw",
   "metadata": {},
   "source": [
    "可迭代对象：list/tuple/dict/set/str/range/filter/map"
   ]
  },
  {
   "cell_type": "code",
   "execution_count": 1,
   "metadata": {},
   "outputs": [
    {
     "name": "stdout",
     "output_type": "stream",
     "text": [
      "False\n",
      "True\n"
     ]
    }
   ],
   "source": [
    "from collections.abc import Iterable  # 可迭代对象 类\n",
    "\n",
    "\n",
    "class Demo(object):\n",
    "    def __init__(self, x):\n",
    "        self.x = x\n",
    "\n",
    "\n",
    "d = Demo(100)\n",
    "print(isinstance(d, Iterable))  #i sinstance:判断一个实例对象是否是由指定的类创建出来的\n",
    "names = []\n",
    "print(isinstance(names, Iterable))"
   ]
  },
  {
   "cell_type": "code",
   "execution_count": 2,
   "metadata": {},
   "outputs": [
    {
     "name": "stdout",
     "output_type": "stream",
     "text": [
      "True\n"
     ]
    }
   ],
   "source": [
    "from collections.abc import Iterable\n",
    "\n",
    "\n",
    "class Demo(object):\n",
    "    def __init__(self, x):\n",
    "        self.x = x\n",
    "\n",
    "    def __iter__(self):  # 重写 __iter__ 就是可迭代对象\n",
    "        pass\n",
    "\n",
    "\n",
    "d = Demo(100)\n",
    "print(isinstance(d, Iterable))"
   ]
  },
  {
   "cell_type": "code",
   "execution_count": 1,
   "metadata": {
    "collapsed": true
   },
   "outputs": [
    {
     "ename": "NameError",
     "evalue": "name 'd' is not defined",
     "output_type": "error",
     "traceback": [
      "\u001B[1;31m---------------------------------------------------------------------------\u001B[0m",
      "\u001B[1;31mNameError\u001B[0m                                 Traceback (most recent call last)",
      "\u001B[1;32m<ipython-input-1-48acddc76e8d>\u001B[0m in \u001B[0;36m<module>\u001B[1;34m\u001B[0m\n\u001B[1;32m----> 1\u001B[1;33m \u001B[1;32mfor\u001B[0m \u001B[0mi\u001B[0m \u001B[1;32min\u001B[0m \u001B[0md\u001B[0m\u001B[1;33m:\u001B[0m\u001B[1;33m\u001B[0m\u001B[1;33m\u001B[0m\u001B[0m\n\u001B[0m\u001B[0;32m      2\u001B[0m     \u001B[0mprint\u001B[0m\u001B[1;33m(\u001B[0m\u001B[0mi\u001B[0m\u001B[1;33m)\u001B[0m   \u001B[1;31m#报错\u001B[0m\u001B[1;33m\u001B[0m\u001B[1;33m\u001B[0m\u001B[0m\n\u001B[0;32m      3\u001B[0m \u001B[1;33m\u001B[0m\u001B[0m\n\u001B[0;32m      4\u001B[0m \u001B[1;31m#for ... in 循环的本质就是调用 __iter__ 方法，获取到这个方法的返回值\u001B[0m\u001B[1;33m\u001B[0m\u001B[1;33m\u001B[0m\u001B[1;33m\u001B[0m\u001B[0m\n\u001B[0;32m      5\u001B[0m \u001B[1;31m#这个返回值是一个迭代器对象，然后再调用这个对象的 __next__ 方法\u001B[0m\u001B[1;33m\u001B[0m\u001B[1;33m\u001B[0m\u001B[1;33m\u001B[0m\u001B[0m\n",
      "\u001B[1;31mNameError\u001B[0m: name 'd' is not defined"
     ]
    }
   ],
   "source": [
    "for i in d:\n",
    "    print(i)  # 报错\n",
    "\n",
    "# for ... in 循环的本质就是调用 __iter__ 方法，获取到这个方法的返回值\n",
    "# 这个返回值是一个迭代器对象，然后再调用这个对象的 __next__ 方法"
   ]
  },
  {
   "cell_type": "code",
   "execution_count": 2,
   "metadata": {},
   "outputs": [
    {
     "name": "stdout",
     "output_type": "stream",
     "text": [
      "0\n",
      "1\n",
      "2\n",
      "3\n",
      "4\n",
      "5\n",
      "6\n",
      "7\n",
      "8\n",
      "9\n"
     ]
    }
   ],
   "source": [
    "class Demo(object):\n",
    "    def __init__(self, x):\n",
    "        self.x = x\n",
    "        self.count = 0\n",
    "\n",
    "    def __iter__(self):\n",
    "        return self\n",
    "\n",
    "    def __next__(self):\n",
    "        self.count += 1\n",
    "        if self.count <= self.x:\n",
    "            return self.count - 1\n",
    "        else:\n",
    "            raise StopIteration  # 让迭代器终止\n",
    "\n",
    "\n",
    "d = Demo(10)\n",
    "for i in d:\n",
    "    print(i)"
   ]
  },
  {
   "cell_type": "markdown",
   "metadata": {},
   "source": [
    "## 练习"
   ]
  },
  {
   "cell_type": "code",
   "execution_count": 3,
   "metadata": {
    "scrolled": true
   },
   "outputs": [
    {
     "name": "stdout",
     "output_type": "stream",
     "text": [
      "1\n",
      "1\n",
      "2\n",
      "3\n",
      "5\n"
     ]
    }
   ],
   "source": [
    "# 使用迭代器生成斐波那契数列\n",
    "class Fibonacci(object):\n",
    "    def __init__(self, n):\n",
    "        self.n = n\n",
    "        self.n1 = self.n2 = 1\n",
    "        self.count = 0\n",
    "\n",
    "    def __iter__(self):\n",
    "        return self\n",
    "\n",
    "    def __next__(self):\n",
    "        self.count += 1\n",
    "        if self.count <= self.n:\n",
    "            x = self.n1\n",
    "            self.n1, self.n2 = self.n2, self.n1 + self.n2\n",
    "            return x\n",
    "        else:\n",
    "            raise StopIteration\n",
    "\n",
    "\n",
    "f = Fibonacci(5)\n",
    "for i in f:\n",
    "    print(i)"
   ]
  },
  {
   "cell_type": "markdown",
   "metadata": {},
   "source": [
    "# 生成器\n",
    "* 本质也是一个迭代器，但较为特殊"
   ]
  },
  {
   "cell_type": "code",
   "execution_count": 1,
   "metadata": {},
   "outputs": [
    {
     "name": "stdout",
     "output_type": "stream",
     "text": [
      "[0, 1, 2, 3, 4, 5, 6, 7, 8, 9]\n"
     ]
    }
   ],
   "source": [
    "# 最简单的生成器\n",
    "num = [i for i in range(10)]  # 列表生成式（推导式）\n",
    "print(num)"
   ]
  },
  {
   "cell_type": "code",
   "execution_count": 2,
   "metadata": {},
   "outputs": [
    {
     "name": "stdout",
     "output_type": "stream",
     "text": [
      "10\n"
     ]
    }
   ],
   "source": [
    "x = 5\n",
    "y = 10\n",
    "# if x>y:\n",
    "#     z=x\n",
    "# else:\n",
    "#     z=y\n",
    "# ==>\n",
    "z = x if x > y else y  # 三元表达式\n",
    "print(z)"
   ]
  },
  {
   "cell_type": "code",
   "execution_count": 3,
   "metadata": {},
   "outputs": [
    {
     "name": "stdout",
     "output_type": "stream",
     "text": [
      "<generator object <genexpr> at 0x000001DAB7BA3BC8>\n"
     ]
    }
   ],
   "source": [
    "print((i for i in range(10)))  # 得到的结果是生成器"
   ]
  },
  {
   "cell_type": "code",
   "execution_count": 4,
   "metadata": {},
   "outputs": [
    {
     "name": "stdout",
     "output_type": "stream",
     "text": [
      "0\n",
      "1\n",
      "2\n",
      "3\n",
      "4\n",
      "5\n",
      "6\n",
      "7\n",
      "8\n",
      "9\n"
     ]
    }
   ],
   "source": [
    "g = (i for i in range(10))\n",
    "for m in g:  # 生成器也可以方法在 for 后面\n",
    "    print(m)"
   ]
  },
  {
   "cell_type": "code",
   "execution_count": 9,
   "metadata": {},
   "outputs": [
    {
     "name": "stdout",
     "output_type": "stream",
     "text": [
      "<generator object gen at 0x000001DAB69E24C8>\n",
      "0\n",
      "1\n",
      "2\n",
      "3\n",
      "4\n",
      "5\n",
      "6\n",
      "7\n"
     ]
    }
   ],
   "source": [
    "# 生成器写法上像一个函数\n",
    "def gen(n):\n",
    "    i = 0\n",
    "    while i < n:\n",
    "        # return i ==> 0 \n",
    "        yield i  # yield关键字将函数变成生成器 \n",
    "        i += 1\n",
    "\n",
    "\n",
    "g = gen(8)\n",
    "print(g)\n",
    "# print(next(iter(g)))\n",
    "# print(next(iter(g)))\n",
    "# print(next(iter(g)))\n",
    "# ==>\n",
    "# 0\n",
    "# 1\n",
    "# 2\n",
    "for i in g:\n",
    "    print(i)"
   ]
  },
  {
   "cell_type": "markdown",
   "metadata": {},
   "source": [
    "## 练习"
   ]
  },
  {
   "cell_type": "code",
   "execution_count": 12,
   "metadata": {},
   "outputs": [
    {
     "name": "stdout",
     "output_type": "stream",
     "text": [
      "1\n",
      "2\n",
      "3\n",
      "5\n",
      "8\n",
      "13\n",
      "21\n",
      "34\n",
      "55\n"
     ]
    }
   ],
   "source": [
    "def fibonacci(n):\n",
    "    n1 = n2 = 1\n",
    "    count = 0\n",
    "    while count < n - 1:\n",
    "        n1, n2 = n2, n1 + n2\n",
    "        count += 1\n",
    "        yield n1\n",
    "\n",
    "\n",
    "g = fibonacci(10)  # 只写此行不会调用 \n",
    "for i in g:\n",
    "    print(i)"
   ]
  },
  {
   "cell_type": "markdown",
   "metadata": {},
   "source": [
    "# 练习"
   ]
  },
  {
   "cell_type": "code",
   "execution_count": 23,
   "metadata": {},
   "outputs": [
    {
     "name": "stdout",
     "output_type": "stream",
     "text": [
      "户型:两室一厅,总面积:56,剩余面积:26.1,家具名称列表:['席梦思', '衣柜', '餐桌']\n"
     ]
    }
   ],
   "source": [
    "# 房子(House)有 户型、总面积、剩余面积（总面积的60%）、家具名称列表 属性\n",
    "# 新房子无任何家具\n",
    "# 将 家具名称 追加到 家具名称列表 中\n",
    "# 判断 家具面积 是否超过 剩余面积，如果超过，提示不能添加家具\n",
    "# 家具(HouseItem)有 名称、占地面积 属性\n",
    "# 席梦思(bed)：占地 4 平米\n",
    "# 衣柜(chest)：占地 2 平米\n",
    "# 餐桌(table)：占地 1.5 平米\n",
    "# 将以上家具添加到 房子 中\n",
    "# 输出：户型、总面积、剩余面积、家具名称列表\n",
    "class HouseItem(object):\n",
    "    def __init__(self, name, S):\n",
    "        self.name = name\n",
    "        self.S = S\n",
    "\n",
    "\n",
    "bed = HouseItem('席梦思', 4)\n",
    "chest = HouseItem('衣柜', 2)\n",
    "table = HouseItem('餐桌', 1.5)\n",
    "\n",
    "\n",
    "class House(object):\n",
    "    def __init__(self, version, total_S, HouseItemName=None):\n",
    "        if HouseItemName is None:\n",
    "            HouseItemName = []\n",
    "        self.version = version\n",
    "        self.total_S = total_S\n",
    "        self.free_S = total_S * 0.6\n",
    "        self.HouseItemName = HouseItemName\n",
    "\n",
    "    def add(self, x):\n",
    "        if self.free_S >= x.S:\n",
    "            self.HouseItemName.append(x.name)\n",
    "            self.free_S -= x.S\n",
    "        else:\n",
    "            print('剩余面积不够！')\n",
    "\n",
    "    def __str__(self):\n",
    "        return '户型:{},总面积:{},剩余面积:{},家具名称列表:{}'.format(self.version, self.total_S, self.free_S,\n",
    "                                                                      self.HouseItemName)\n",
    "\n",
    "\n",
    "house = House('两室一厅', 56)\n",
    "house.add(bed)\n",
    "house.add(chest)\n",
    "house.add(table)\n",
    "print(house)"
   ]
  },
  {
   "cell_type": "code",
   "execution_count": 25,
   "metadata": {},
   "outputs": [
    {
     "name": "stdout",
     "output_type": "stream",
     "text": [
      "3\n"
     ]
    }
   ],
   "source": [
    "# 定义一个类，记录通过这个类创建了多少对象\n",
    "class Person(object):\n",
    "    count = 0\n",
    "\n",
    "    def __init__(self, name, age):\n",
    "        Person.count += 1\n",
    "        self.name = name\n",
    "        self.age = age\n",
    "\n",
    "\n",
    "p1 = Person('zhangsan', 18)\n",
    "p2 = Person('lisi', 18)\n",
    "p3 = Person('wangwu', 18)\n",
    "print(Person.count)"
   ]
  },
  {
   "cell_type": "code",
   "execution_count": 1,
   "metadata": {},
   "outputs": [
    {
     "name": "stdout",
     "output_type": "stream",
     "text": [
      "3\n"
     ]
    }
   ],
   "source": [
    "class Person(object):\n",
    "    __count = 0\n",
    "\n",
    "    def __new__(cls, *args, **kwargs):\n",
    "        cls.__count += 1\n",
    "        return object.__new__(cls)\n",
    "\n",
    "    def __init__(self, name, age):\n",
    "        self.name = name\n",
    "        self.age = age\n",
    "\n",
    "    @classmethod\n",
    "    def get_count(cls):\n",
    "        return cls.__count\n",
    "\n",
    "\n",
    "person1 = Person('zhangsan', 18)\n",
    "person2 = Person('lisi', 18)\n",
    "person3 = Person('wangwu', 18)\n",
    "print(Person.get_count())"
   ]
  },
  {
   "cell_type": "code",
   "execution_count": 2,
   "metadata": {},
   "outputs": [
    {
     "name": "stdout",
     "output_type": "stream",
     "text": [
      "6\n",
      "点在矩形里\n"
     ]
    }
   ],
   "source": [
    "# 1.点类，属性包括x,y坐标\n",
    "# 2.矩形类(Rectangle),属性包括左上角和右下角的坐标\n",
    "# 方法：1.计算矩形的面积 2.判断点是否在矩形内\n",
    "class Point(object):\n",
    "    def __init__(self, x, y):\n",
    "        self.x = x\n",
    "        self.y = y\n",
    "\n",
    "\n",
    "class Rectangle(object):\n",
    "    def __init__(self, left, right):\n",
    "        self.left = left\n",
    "        self.right = right\n",
    "\n",
    "    def S(self):\n",
    "        print((self.right.x - self.left.x) * (self.left.y - self.left.x))\n",
    "\n",
    "    def include(self, p):\n",
    "        if self.left.x <= p.x <= self.right.x and self.right.y <= p.y <= self.left.y:\n",
    "            print('点在矩形里')\n",
    "        else:\n",
    "            print('点不在矩形里')\n",
    "\n",
    "\n",
    "p = Point(2, 2)\n",
    "l = Point(1, 3)\n",
    "r = Point(4, 1)\n",
    "jx = Rectangle(l, r)\n",
    "jx.S()\n",
    "jx.include(p)"
   ]
  },
  {
   "cell_type": "code",
   "execution_count": 3,
   "metadata": {},
   "outputs": [
    {
     "name": "stdout",
     "output_type": "stream",
     "text": [
      "50\n",
      "30\n",
      "0\n"
     ]
    }
   ],
   "source": [
    "# 建立汽车类(Auto)，包括轮胎个数，颜色，重量，速度属性\n",
    "# 汽车能加速、减速、停车\n",
    "# 建立小汽车类(CarAuto)，继承Auto，并添加空调、CD属性，覆盖加速、减速方法\n",
    "class Auto(object):\n",
    "    def __init__(self, color, weight, wheels=4, speed=0):\n",
    "        self.wheels = wheels\n",
    "        self.color = color\n",
    "        self.weight = weight\n",
    "        self.speed = speed\n",
    "\n",
    "    def speed_down(self, x):\n",
    "        self.speed -= x\n",
    "        if self.speed <= 0:\n",
    "            self.speed = 0\n",
    "\n",
    "    def speed_up(self, y):\n",
    "        self.speed += y\n",
    "\n",
    "    def stop(self):\n",
    "        self.speed = 0\n",
    "\n",
    "\n",
    "class CarAuto(Auto):\n",
    "    def __init__(self, color, weight, airconditioner, CD, wheels=4, speed=0):\n",
    "        super(CarAuto, self).__init__(wheels, color, weight, speed)\n",
    "        self.airconditioner = airconditioner\n",
    "        self.CD = CD\n",
    "\n",
    "    def speed_down(self, x):\n",
    "        pass\n",
    "\n",
    "    def speed_up(self, y):\n",
    "        pass\n",
    "\n",
    "\n",
    "car1 = Auto('white', 1.6)\n",
    "car1.speed_up(50)\n",
    "print(car1.speed)\n",
    "car1.speed_down(20)\n",
    "print(car1.speed)\n",
    "car1.stop()\n",
    "print(car1.speed)\n",
    "car2 = CarAuto('white', 1.45, '美的', 'Music')"
   ]
  },
  {
   "cell_type": "code",
   "execution_count": 5,
   "metadata": {},
   "outputs": [
    {
     "name": "stdout",
     "output_type": "stream",
     "text": [
      "28.2743\n",
      "18.8496\n",
      "点在圆外\n"
     ]
    }
   ],
   "source": [
    "# 定义一个点类(Pointer)，属性有横纵坐标x,y\n",
    "# 定义一个圆类(Circle)，属性有圆心(cp)、半径(radius)\n",
    "# 圆类方法：1.求圆的面积2.求圆的周长3.指定点与圆的关系\n",
    "import math\n",
    "\n",
    "\n",
    "class Pointer(object):\n",
    "    def __init__(self, x, y):\n",
    "        self.x = x\n",
    "        self.y = y\n",
    "\n",
    "    def d(self, p):\n",
    "        return ((self.x - p.x) ** 2 + (self.y - p.y) ** 2) ** (1 / 2)\n",
    "\n",
    "\n",
    "class Circle(object):\n",
    "    def __init__(self, cp, radius):\n",
    "        self.cp = cp\n",
    "        self.radius = radius\n",
    "\n",
    "    def S(self):\n",
    "        return round(self.radius ** 2 * math.pi, 4)\n",
    "\n",
    "    def C(self):\n",
    "        return round(2 * math.pi * self.radius, 4)\n",
    "\n",
    "    def relationship(self, p):\n",
    "        d = p.d(self.cp)\n",
    "        if d < self.radius:\n",
    "            print('点在圆内')\n",
    "        if d == self.radius:\n",
    "            print('点在圆上')\n",
    "        if d > self.radius:\n",
    "            print('点在圆外')\n",
    "\n",
    "\n",
    "center = Pointer(0, 0)\n",
    "c = Circle(center, 3)\n",
    "point = Pointer(3, 3)\n",
    "print(c.S())\n",
    "print(c.C())\n",
    "c.relationship(point)"
   ]
  },
  {
   "cell_type": "code",
   "execution_count": 6,
   "metadata": {},
   "outputs": [
    {
     "name": "stdout",
     "output_type": "stream",
     "text": [
      "萌宠有4只宠物，它们是\n",
      "昵称:大黄,性别:female,年龄:3,品种:哈士奇\n",
      "昵称:二黄,性别:male,年龄:2,品种:萨摩耶\n",
      "昵称:Tom,性别:male,年龄:2,品种:英短\n",
      "昵称:包子,性别:female,年龄:2,品种:加菲猫\n"
     ]
    }
   ],
   "source": [
    "# 宠物店类(PetShop)，属性：店名、店中的宠物（用列表表示）；方法：展示宠物信息\n",
    "# 猫类(PetCat)，属性：昵称、性别、年龄、品种、眼睛颜色；方法：叫、撒娇、吃饭\n",
    "# 狗类(PetDog)，属性：昵称、性别、年龄、品种；方法：叫、拆家、吃饭\n",
    "class PetShop(object): \n",
    "    def __init__(self, name, pet):\n",
    "        self.name = name\n",
    "        if pet is None:\n",
    "            pet = []\n",
    "        self.pet = pet\n",
    "\n",
    "    def show_pet(self):\n",
    "        if len(self.pet) == 0:\n",
    "            print('本店尚未有宠物')\n",
    "            return\n",
    "        else:\n",
    "            print('{}有{}只宠物，它们是'.format(self.name, len(self.pet)))\n",
    "            for i in self.pet:\n",
    "                print('昵称:{},性别:{},年龄:{},品种:{}'.format(i.name, i.sex, i.age, i.species))\n",
    "\n",
    "\n",
    "class Pet(object):\n",
    "    def __init__(self, name, sex, age, species):\n",
    "        self.name = name\n",
    "        self.sex = sex\n",
    "        self.age = age\n",
    "        self.species = species\n",
    "\n",
    "\n",
    "class PetDog(Pet):\n",
    "    def __init__(self, name, sex, age, species):\n",
    "        super(PetDog, self).__init__(name, sex, age, species)\n",
    "\n",
    "    def jiao(self):\n",
    "        print(self.name + '正在汪汪叫')\n",
    "\n",
    "    def activity(self):\n",
    "        print(self.name + '正在拆家')\n",
    "\n",
    "    def eat(self):\n",
    "        print(self.name + '正在吃骨头')\n",
    "\n",
    "\n",
    "class PetCat(Pet):\n",
    "    def __init__(self, name, sex, age, species, eye_color):\n",
    "        super(PetCat, self).__init__(name, sex, age, species)\n",
    "        self.eye_color = eye_color\n",
    "\n",
    "    def jiao(self):\n",
    "        print(self.name + '正在喵喵叫')\n",
    "\n",
    "    def eat(self):\n",
    "        print(self.name + '正在吃鱼')\n",
    "\n",
    "    def activity(self):\n",
    "        print(self.name + '正在撒娇')\n",
    "\n",
    "\n",
    "dog1 = PetDog('大黄', 'female', 3, '哈士奇')\n",
    "dog2 = PetDog('二黄', 'male', 2, '萨摩耶')\n",
    "cat1 = PetCat('Tom', 'male', 2, '英短', 'blue')\n",
    "cat2 = PetCat('包子', 'female', 2, '加菲猫', 'black')\n",
    "ps = PetShop('萌宠', [dog1, dog2, cat1, cat2])\n",
    "\n",
    "ps.show_pet()"
   ]
  },
  {
   "cell_type": "code",
   "execution_count": 8,
   "metadata": {},
   "outputs": [
    {
     "name": "stdout",
     "output_type": "stream",
     "text": [
      "中二班有5个学生，分别是\n",
      "学号：1，姓名：zhangsan，年龄：18，性别：male，成绩：80\n",
      "学号：2，姓名：lisi，年龄：19，性别：male，成绩：50\n",
      "学号：3，姓名：tony，年龄：20，性别：male，成绩：70\n",
      "学号：4，姓名：jack，年龄：18，性别：female，成绩：90\n",
      "学号：5，姓名：henry，年龄：19，性别：female，成绩：55\n",
      "学号：3，姓名：tony，年龄：20，性别：male，成绩：70\n",
      "学号：2，姓名：lisi，年龄：19，性别：male，成绩：50\n",
      "学号：5，姓名：henry，年龄：19，性别：female，成绩：55\n",
      "['jack', 'zhangsan', 'tony', 'henry', 'lisi']\n"
     ]
    }
   ],
   "source": [
    "# 学生类(Student)，属性：学号、姓名、年龄、性别、成绩\n",
    "# 班级类(Grade)，属性：名称、学生（列表）\n",
    "# 方法：\n",
    "# 1.查看班级中所有学生的信息\n",
    "# 2.查看指定学号的学生的信息\n",
    "# 3.查看班级中成绩不及格的学生的信息\n",
    "# 4.将班级中的学生按照成绩降序排序\n",
    "class Student(object):\n",
    "    def __init__(self, num, name, age, sex, score):\n",
    "        self.num = num\n",
    "        self.name = name\n",
    "        self.age = age\n",
    "        self.sex = sex\n",
    "        self.score = score\n",
    "\n",
    "    def __str__(self):\n",
    "        return '学号：{}，姓名：{}，年龄：{}，性别：{}，成绩：{}'.format(self.num, self.name, self.age, self.sex, self.score)\n",
    "\n",
    "\n",
    "class Grade(object):\n",
    "    def __init__(self, name, stu):\n",
    "        self.name = name\n",
    "        if stu is None:\n",
    "            self.stu = []\n",
    "        self.stu = stu\n",
    "\n",
    "    def show_all(self):\n",
    "        print('{}有{}个学生，分别是'.format(self.name, len(self.stu)))\n",
    "        for i in self.stu:\n",
    "            print(i)\n",
    "\n",
    "    def show_one(self, n):\n",
    "        for i in self.stu:\n",
    "            if n == i.num:\n",
    "                print(i)\n",
    "\n",
    "    def show_bad(self):\n",
    "        #       for i in self.stu:\n",
    "        #           if i.score<60:\n",
    "        #               print(i)\n",
    "        a = filter(lambda student: student.score < 60, self.stu)  #过滤\n",
    "        for i in a:\n",
    "            print(i)\n",
    "\n",
    "    def show_score(self):\n",
    "        #       x=[]\n",
    "        #       y=[]\n",
    "        #       for i in self.stu:\n",
    "        #           x.append(i.score)\n",
    "        #       x.sort()\n",
    "        #       x.reverse()\n",
    "        #       for i in x:\n",
    "        #           for j in self.stu:\n",
    "        #               if j.score==i:\n",
    "        #                   y.append(j.name)\n",
    "        #       print(y)\n",
    "\n",
    "        #       self.stu.sort(key=lambda s:s.score,reverse=True)\n",
    "        return sorted(self.stu, key=lambda s: s.score, reverse=True)\n",
    "\n",
    "\n",
    "s1 = Student(1, 'zhangsan', 18, 'male', 80)\n",
    "s2 = Student(2, 'lisi', 19, 'male', 50)\n",
    "s3 = Student(3, 'tony', 20, 'male', 70)\n",
    "s4 = Student(4, 'jack', 18, 'female', 90)\n",
    "s5 = Student(5, 'henry', 19, 'female', 55)\n",
    "g = Grade('中二班', [s1, s2, s3, s4, s5])\n",
    "g.show_all()\n",
    "g.show_one(3)\n",
    "g.show_bad()\n",
    "x = g.show_score()\n",
    "list1 = []\n",
    "for i in x:\n",
    "    list1.append(i.name)\n",
    "print(list1)"
   ]
  },
  {
   "cell_type": "code",
   "execution_count": null,
   "metadata": {},
   "outputs": [],
   "source": []
  }
 ],
 "metadata": {
  "kernelspec": {
   "display_name": "Python 3",
   "language": "python",
   "name": "python3"
  },
  "language_info": {
   "codemirror_mode": {
    "name": "ipython",
    "version": 3
   },
   "file_extension": ".py",
   "mimetype": "text/x-python",
   "name": "python",
   "nbconvert_exporter": "python",
   "pygments_lexer": "ipython3",
   "version": "3.7.6"
  }
 },
 "nbformat": 4,
 "nbformat_minor": 4
}
