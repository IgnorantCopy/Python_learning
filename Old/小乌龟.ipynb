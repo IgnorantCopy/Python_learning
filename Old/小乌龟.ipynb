{
 "cells": [
  {
   "cell_type": "raw",
   "metadata": {},
   "source": [
    "turtle库:\n",
    "    turtle.forward(x)    #前进x\n",
    "    turtle.backward(x)    #后退x\n",
    "    turtle.right(n)    #右转n度\n",
    "    turtle.left(n)    #左转n度\n",
    "    turtle.pendown()    #落笔\n",
    "    turtle.penup()    #提笔\n",
    "    turtle.goto(x,y)    #前往坐标(x,y)\n",
    "    turtle.circle(+-x)    #以x为半径在左（右）边画圆\n",
    "    turtle.undo()    #撤销上一个操作\n",
    "    turtle.clear()    #清空，位置和状态不变\n",
    "    turtle.reset()    #清空，位置和状态还原\n",
    "    stamp()    #复制"
   ]
  },
  {
   "cell_type": "code",
   "outputs": [],
   "source": [
    "import turtle as t"
   ],
   "metadata": {
    "collapsed": false,
    "ExecuteTime": {
     "end_time": "2024-02-16T04:55:12.733333800Z",
     "start_time": "2024-02-16T04:55:12.596815500Z"
    }
   },
   "execution_count": 1
  },
  {
   "cell_type": "code",
   "execution_count": 2,
   "metadata": {
    "ExecuteTime": {
     "end_time": "2024-02-16T04:55:14.876849700Z",
     "start_time": "2024-02-16T04:55:13.860008900Z"
    }
   },
   "outputs": [],
   "source": [
    "def dotted_line(x):\n",
    "    for i in range(int(x / 10)):\n",
    "        t.pendown()\n",
    "        t.forward(5)\n",
    "        t.penup()\n",
    "        t.forward(5)\n",
    "        t.pendown()\n",
    "\n",
    "\n",
    "dotted_line(100)"
   ]
  },
  {
   "cell_type": "code",
   "execution_count": 3,
   "metadata": {},
   "outputs": [],
   "source": [
    "def equilateral_polygon(n, x):\n",
    "    for i in range(n):\n",
    "        t.forward(x)\n",
    "        t.right(360 / n)\n",
    "\n",
    "\n",
    "equilateral_polygon(5, 50)"
   ]
  },
  {
   "cell_type": "code",
   "execution_count": 6,
   "metadata": {},
   "outputs": [],
   "source": [
    "def cube(x):\n",
    "    t.reset()\n",
    "    t.forward(x)\n",
    "    t.left(45)\n",
    "    t.forward(x / 2)\n",
    "    t.left(135)\n",
    "    t.forward(x)\n",
    "    t.left(45)\n",
    "    t.forward(x / 2)\n",
    "    t.left(45)\n",
    "    for i in range(6):\n",
    "        t.forward(x)\n",
    "        t.left(90)\n",
    "    t.right(45)\n",
    "    t.forward(x / 2)\n",
    "    t.left(45)\n",
    "    t.forward(x)\n",
    "    t.left(90)\n",
    "    t.forward(x)\n",
    "    t.left(90)\n",
    "    dotted_line(x)\n",
    "    t.left(90)\n",
    "    dotted_line(x)\n",
    "    t.penup()\n",
    "    t.right(180)\n",
    "    t.forward(x)\n",
    "    t.left(45)\n",
    "    dotted_line(x / 2)\n",
    "\n",
    "\n",
    "cube(100)"
   ]
  },
  {
   "cell_type": "code",
   "execution_count": null,
   "metadata": {},
   "outputs": [],
   "source": []
  },
  {
   "cell_type": "code",
   "execution_count": null,
   "metadata": {},
   "outputs": [],
   "source": []
  }
 ],
 "metadata": {
  "kernelspec": {
   "display_name": "Python 3 (ipykernel)",
   "language": "python",
   "name": "python3"
  },
  "language_info": {
   "codemirror_mode": {
    "name": "ipython",
    "version": 3
   },
   "file_extension": ".py",
   "mimetype": "text/x-python",
   "name": "python",
   "nbconvert_exporter": "python",
   "pygments_lexer": "ipython3",
   "version": "3.9.13"
  }
 },
 "nbformat": 4,
 "nbformat_minor": 4
}
