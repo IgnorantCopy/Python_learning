{
 "cells": [
  {
   "cell_type": "raw",
   "metadata": {},
   "source": [
    "turtle库:\n",
    "    turtle.forward(x)    #前进x\n",
    "    turtle.backward(x)    #后退x\n",
    "    turtle.right(n)    #右转n度\n",
    "    turtle.left(n)    #左转n度\n",
    "    turtle.pendown()    #落笔\n",
    "    turtle.penup()    #提笔\n",
    "    turtle.goto(x,y)    #前往坐标(x,y)\n",
    "    turtle.circle(+-x)    #以x为半径在左（右）边画圆\n",
    "    turtle.undo()    #撤销上一个操作\n",
    "    turtle.clear()    #清空，位置和状态不变\n",
    "    turtle.reset()    #清空，位置和状态还原\n",
    "    stamp()    #复制"
   ]
  },
  {
   "cell_type": "code",
   "source": [
    "import turtle as t"
   ],
   "metadata": {
    "collapsed": false,
    "ExecuteTime": {
     "end_time": "2024-04-26T15:56:37.786004Z",
     "start_time": "2024-04-26T15:56:37.736877Z"
    }
   },
   "outputs": [],
   "execution_count": 2
  },
  {
   "cell_type": "code",
   "metadata": {
    "ExecuteTime": {
     "end_time": "2024-04-26T15:56:39.333856Z",
     "start_time": "2024-04-26T15:56:38.428991Z"
    }
   },
   "source": [
    "def dotted_line(x):\n",
    "    for i in range(int(x / 10)):\n",
    "        t.pendown()\n",
    "        t.forward(5)\n",
    "        t.penup()\n",
    "        t.forward(5)\n",
    "        t.pendown()\n",
    "\n",
    "\n",
    "dotted_line(100)"
   ],
   "outputs": [],
   "execution_count": 3
  },
  {
   "cell_type": "code",
   "metadata": {},
   "source": [
    "def equilateral_polygon(n, x):\n",
    "    for i in range(n):\n",
    "        t.forward(x)\n",
    "        t.right(360 / n)\n",
    "\n",
    "\n",
    "equilateral_polygon(5, 50)"
   ],
   "outputs": [
    {
     "ename": "NameError",
     "evalue": "name 't' is not defined",
     "output_type": "error",
     "traceback": [
      "\u001B[1;31m---------------------------------------------------------------------------\u001B[0m",
      "\u001B[1;31mNameError\u001B[0m                                 Traceback (most recent call last)",
      "Cell \u001B[1;32mIn[1], line 7\u001B[0m\n\u001B[0;32m      3\u001B[0m         t\u001B[38;5;241m.\u001B[39mforward(x)\n\u001B[0;32m      4\u001B[0m         t\u001B[38;5;241m.\u001B[39mright(\u001B[38;5;241m360\u001B[39m \u001B[38;5;241m/\u001B[39m n)\n\u001B[1;32m----> 7\u001B[0m \u001B[43mequilateral_polygon\u001B[49m\u001B[43m(\u001B[49m\u001B[38;5;241;43m5\u001B[39;49m\u001B[43m,\u001B[49m\u001B[43m \u001B[49m\u001B[38;5;241;43m50\u001B[39;49m\u001B[43m)\u001B[49m\n",
      "Cell \u001B[1;32mIn[1], line 3\u001B[0m, in \u001B[0;36mequilateral_polygon\u001B[1;34m(n, x)\u001B[0m\n\u001B[0;32m      1\u001B[0m \u001B[38;5;28;01mdef\u001B[39;00m \u001B[38;5;21mequilateral_polygon\u001B[39m(n, x):\n\u001B[0;32m      2\u001B[0m     \u001B[38;5;28;01mfor\u001B[39;00m i \u001B[38;5;129;01min\u001B[39;00m \u001B[38;5;28mrange\u001B[39m(n):\n\u001B[1;32m----> 3\u001B[0m         \u001B[43mt\u001B[49m\u001B[38;5;241m.\u001B[39mforward(x)\n\u001B[0;32m      4\u001B[0m         t\u001B[38;5;241m.\u001B[39mright(\u001B[38;5;241m360\u001B[39m \u001B[38;5;241m/\u001B[39m n)\n",
      "\u001B[1;31mNameError\u001B[0m: name 't' is not defined"
     ]
    }
   ],
   "execution_count": 1
  },
  {
   "cell_type": "code",
   "execution_count": 6,
   "metadata": {},
   "outputs": [],
   "source": [
    "def cube(x):\n",
    "    t.reset()\n",
    "    t.forward(x)\n",
    "    t.left(45)\n",
    "    t.forward(x / 2)\n",
    "    t.left(135)\n",
    "    t.forward(x)\n",
    "    t.left(45)\n",
    "    t.forward(x / 2)\n",
    "    t.left(45)\n",
    "    for i in range(6):\n",
    "        t.forward(x)\n",
    "        t.left(90)\n",
    "    t.right(45)\n",
    "    t.forward(x / 2)\n",
    "    t.left(45)\n",
    "    t.forward(x)\n",
    "    t.left(90)\n",
    "    t.forward(x)\n",
    "    t.left(90)\n",
    "    dotted_line(x)\n",
    "    t.left(90)\n",
    "    dotted_line(x)\n",
    "    t.penup()\n",
    "    t.right(180)\n",
    "    t.forward(x)\n",
    "    t.left(45)\n",
    "    dotted_line(x / 2)\n",
    "\n",
    "\n",
    "cube(100)"
   ]
  },
  {
   "cell_type": "code",
   "execution_count": null,
   "metadata": {},
   "outputs": [],
   "source": []
  },
  {
   "cell_type": "code",
   "execution_count": null,
   "metadata": {},
   "outputs": [],
   "source": []
  }
 ],
 "metadata": {
  "kernelspec": {
   "display_name": "Python 3 (ipykernel)",
   "language": "python",
   "name": "python3"
  },
  "language_info": {
   "codemirror_mode": {
    "name": "ipython",
    "version": 3
   },
   "file_extension": ".py",
   "mimetype": "text/x-python",
   "name": "python",
   "nbconvert_exporter": "python",
   "pygments_lexer": "ipython3",
   "version": "3.9.13"
  }
 },
 "nbformat": 4,
 "nbformat_minor": 4
}
