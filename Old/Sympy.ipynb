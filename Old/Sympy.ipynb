{
 "cells": [
  {
   "cell_type": "markdown",
   "id": "3f19226f",
   "metadata": {},
   "source": [
    "# Sympy 的使用"
   ]
  },
  {
   "cell_type": "markdown",
   "id": "9c6e112e",
   "metadata": {},
   "source": [
    "## 1.Introduction"
   ]
  },
  {
   "cell_type": "markdown",
   "id": "65063da1",
   "metadata": {},
   "source": [
    "### 1.1 Symbols"
   ]
  },
  {
   "cell_type": "code",
   "execution_count": 1,
   "id": "4e218147",
   "metadata": {
    "ExecuteTime": {
     "end_time": "2024-02-16T04:15:49.544894800Z",
     "start_time": "2024-02-16T04:15:48.510636200Z"
    }
   },
   "outputs": [],
   "source": [
    "from matplotlib import rc\n",
    "\n",
    "rc('text', usetex=True)\n",
    "from sympy import *\n",
    "# ways to define a symbol\n",
    "# 1.\n",
    "from sympy.abc import x\n",
    "\n",
    "# 2.\n",
    "y = symbols('y')\n",
    "a, b = symbols('a b')"
   ]
  },
  {
   "cell_type": "code",
   "execution_count": 2,
   "id": "078ed471",
   "metadata": {
    "ExecuteTime": {
     "end_time": "2024-02-16T04:15:50.885964200Z",
     "start_time": "2024-02-16T04:15:50.794213800Z"
    }
   },
   "outputs": [
    {
     "data": {
      "text/plain": "x + 1",
      "text/latex": "$\\displaystyle x + 1$"
     },
     "execution_count": 2,
     "metadata": {},
     "output_type": "execute_result"
    }
   ],
   "source": [
    "# understand the difference between variables and symbols\n",
    "expr = x + 1\n",
    "x = 2\n",
    "expr"
   ]
  },
  {
   "cell_type": "code",
   "execution_count": 3,
   "id": "105b2909",
   "metadata": {
    "ExecuteTime": {
     "end_time": "2024-02-16T04:16:00.369758600Z",
     "start_time": "2024-02-16T04:16:00.332323100Z"
    }
   },
   "outputs": [
    {
     "data": {
      "text/plain": "x + 2*y",
      "text/latex": "$\\displaystyle x + 2 y$"
     },
     "execution_count": 3,
     "metadata": {},
     "output_type": "execute_result"
    }
   ],
   "source": [
    "# why we need define x as a symbol again?\n",
    "x = symbols('x')\n",
    "x + 2 * y"
   ]
  },
  {
   "cell_type": "markdown",
   "id": "3e16f603",
   "metadata": {},
   "source": [
    "### 1.2 Functions"
   ]
  },
  {
   "cell_type": "code",
   "execution_count": 4,
   "id": "627d5241",
   "metadata": {
    "ExecuteTime": {
     "end_time": "2024-02-16T04:16:02.489548100Z",
     "start_time": "2024-02-16T04:16:02.461027500Z"
    }
   },
   "outputs": [
    {
     "data": {
      "text/plain": "((x - 1)**4*(x + 1)**2)**(-1/3)",
      "text/latex": "$\\displaystyle \\frac{1}{\\sqrt[3]{\\left(x - 1\\right)^{4} \\left(x + 1\\right)^{2}}}$"
     },
     "execution_count": 4,
     "metadata": {},
     "output_type": "execute_result"
    }
   ],
   "source": [
    "f = 1 / (((x + 1) ** 2 * (x - 1) ** 4) ** Rational(1, 3))\n",
    "f"
   ]
  },
  {
   "cell_type": "code",
   "execution_count": 5,
   "id": "3778cdda",
   "metadata": {
    "ExecuteTime": {
     "end_time": "2024-02-16T04:16:06.463696900Z",
     "start_time": "2024-02-16T04:16:04.994517800Z"
    }
   },
   "outputs": [
    {
     "data": {
      "text/plain": "Integral(((x - 1)**4*(x + 1)**2)**(-1/3), x)",
      "text/latex": "$\\displaystyle \\int \\frac{1}{\\sqrt[3]{\\left(x - 1\\right)^{4} \\left(x + 1\\right)^{2}}}\\, dx$"
     },
     "execution_count": 5,
     "metadata": {},
     "output_type": "execute_result"
    }
   ],
   "source": [
    "Integral(1 / (((x + 1) ** 2 * (x - 1) ** 4) ** Rational(1, 3)), x).doit()"
   ]
  },
  {
   "cell_type": "code",
   "execution_count": 6,
   "id": "4fbadb07",
   "metadata": {
    "ExecuteTime": {
     "end_time": "2024-02-16T04:16:12.975297500Z",
     "start_time": "2024-02-16T04:16:12.955232900Z"
    }
   },
   "outputs": [
    {
     "data": {
      "text/plain": "tanh(a*x)",
      "text/latex": "$\\displaystyle \\tanh{\\left(a x \\right)}$"
     },
     "execution_count": 6,
     "metadata": {},
     "output_type": "execute_result"
    }
   ],
   "source": [
    "f = tanh(a * x)\n",
    "f"
   ]
  },
  {
   "cell_type": "code",
   "execution_count": 7,
   "id": "0cef478e",
   "metadata": {
    "ExecuteTime": {
     "end_time": "2024-02-16T04:16:15.623398600Z",
     "start_time": "2024-02-16T04:16:15.523126400Z"
    }
   },
   "outputs": [
    {
     "data": {
      "text/plain": "Piecewise((x - log(tanh(a*x) + 1)/a, Ne(a, 0)), (0, True))",
      "text/latex": "$\\displaystyle \\begin{cases} x - \\frac{\\log{\\left(\\tanh{\\left(a x \\right)} + 1 \\right)}}{a} & \\text{for}\\: a \\neq 0 \\\\0 & \\text{otherwise} \\end{cases}$"
     },
     "execution_count": 7,
     "metadata": {},
     "output_type": "execute_result"
    }
   ],
   "source": [
    "# integrate(x): 对 x 求不定积分\n",
    "f.integrate(x)"
   ]
  },
  {
   "cell_type": "code",
   "execution_count": 8,
   "id": "17155b99",
   "metadata": {
    "ExecuteTime": {
     "end_time": "2024-02-16T04:16:18.166131600Z",
     "start_time": "2024-02-16T04:16:18.143493700Z"
    }
   },
   "outputs": [
    {
     "data": {
      "text/plain": "a*(1 - tanh(a*x)**2)",
      "text/latex": "$\\displaystyle a \\left(1 - \\tanh^{2}{\\left(a x \\right)}\\right)$"
     },
     "execution_count": 8,
     "metadata": {},
     "output_type": "execute_result"
    }
   ],
   "source": [
    "# diff(x): 对 x 求导\n",
    "f.diff(x)"
   ]
  },
  {
   "cell_type": "code",
   "execution_count": 9,
   "id": "4e047676",
   "metadata": {
    "scrolled": false,
    "ExecuteTime": {
     "end_time": "2024-02-16T04:16:20.207350600Z",
     "start_time": "2024-02-16T04:16:20.183049100Z"
    }
   },
   "outputs": [
    {
     "data": {
      "text/plain": "1/2 - tanh(a/2)**2/2",
      "text/latex": "$\\displaystyle \\frac{1}{2} - \\frac{\\tanh^{2}{\\left(\\frac{a}{2} \\right)}}{2}$"
     },
     "execution_count": 9,
     "metadata": {},
     "output_type": "execute_result"
    }
   ],
   "source": [
    "# subs(x, c):将变量 x 代换为常数 c\n",
    "# Rational(a, b):返回实数(a / b)\n",
    "# simplify():化简\n",
    "f.diff(a).subs(x, Rational(1, 2))"
   ]
  },
  {
   "cell_type": "code",
   "execution_count": 10,
   "id": "0a907a3c",
   "metadata": {
    "scrolled": true,
    "ExecuteTime": {
     "end_time": "2024-02-16T04:16:22.409063900Z",
     "start_time": "2024-02-16T04:16:22.194900Z"
    }
   },
   "outputs": [
    {
     "data": {
      "text/plain": "1/(2*cosh(a/2)**2)",
      "text/latex": "$\\displaystyle \\frac{1}{2 \\cosh^{2}{\\left(\\frac{a}{2} \\right)}}$"
     },
     "execution_count": 10,
     "metadata": {},
     "output_type": "execute_result"
    }
   ],
   "source": [
    "f.diff(a).subs(x, Rational(1, 2)).simplify()"
   ]
  },
  {
   "cell_type": "markdown",
   "id": "19919e71",
   "metadata": {},
   "source": [
    "### 1.3 Equation"
   ]
  },
  {
   "cell_type": "code",
   "execution_count": 11,
   "id": "8db2d283",
   "metadata": {
    "ExecuteTime": {
     "end_time": "2024-02-16T04:16:26.897719100Z",
     "start_time": "2024-02-16T04:16:26.871359200Z"
    }
   },
   "outputs": [
    {
     "data": {
      "text/plain": "False"
     },
     "execution_count": 11,
     "metadata": {},
     "output_type": "execute_result"
    }
   ],
   "source": [
    "# the wrong way to use equation in sympy\n",
    "(x + 1) ** 2 == x ** 2 + 2 * x + 1"
   ]
  },
  {
   "cell_type": "code",
   "execution_count": 12,
   "id": "4f1fe517",
   "metadata": {
    "ExecuteTime": {
     "end_time": "2024-02-16T04:16:27.903592Z",
     "start_time": "2024-02-16T04:16:27.845430700Z"
    }
   },
   "outputs": [
    {
     "data": {
      "text/plain": "0",
      "text/latex": "$\\displaystyle 0$"
     },
     "execution_count": 12,
     "metadata": {},
     "output_type": "execute_result"
    }
   ],
   "source": [
    "# the right ways to use equation in sympy\n",
    "# 1.\n",
    "p = (x + 1) ** 2\n",
    "q = x ** 2 + 2 * x + 1\n",
    "simplify(p - q)"
   ]
  },
  {
   "cell_type": "code",
   "execution_count": 13,
   "id": "e652135b",
   "metadata": {
    "slideshow": {
     "slide_type": "skip"
    },
    "ExecuteTime": {
     "end_time": "2024-02-16T04:16:29.623208Z",
     "start_time": "2024-02-16T04:16:29.578214900Z"
    }
   },
   "outputs": [
    {
     "data": {
      "text/plain": "True"
     },
     "execution_count": 13,
     "metadata": {},
     "output_type": "execute_result"
    }
   ],
   "source": [
    "# 2.\n",
    "p.equals(q)"
   ]
  },
  {
   "cell_type": "markdown",
   "id": "21217413",
   "metadata": {},
   "source": [
    "### 1.4 ^ and /"
   ]
  },
  {
   "cell_type": "code",
   "execution_count": 14,
   "id": "68ed20b0",
   "metadata": {
    "ExecuteTime": {
     "end_time": "2024-02-16T04:16:31.385158Z",
     "start_time": "2024-02-16T04:16:31.356747Z"
    }
   },
   "outputs": [
    {
     "data": {
      "text/plain": "x ^ y",
      "text/latex": "$\\displaystyle x \\veebar y$"
     },
     "execution_count": 14,
     "metadata": {},
     "output_type": "execute_result"
    }
   ],
   "source": [
    "# ^: 异或\n",
    "Xor(x, y)"
   ]
  },
  {
   "cell_type": "code",
   "execution_count": 15,
   "id": "95f20810",
   "metadata": {
    "ExecuteTime": {
     "end_time": "2024-02-16T04:16:33.041741200Z",
     "start_time": "2024-02-16T04:16:33.017960100Z"
    }
   },
   "outputs": [
    {
     "data": {
      "text/plain": "x + 0.5",
      "text/latex": "$\\displaystyle x + 0.5$"
     },
     "execution_count": 15,
     "metadata": {},
     "output_type": "execute_result"
    }
   ],
   "source": [
    "# /: 除号\n",
    "x + 1 / 2"
   ]
  },
  {
   "cell_type": "code",
   "execution_count": 16,
   "id": "b088b40c",
   "metadata": {
    "ExecuteTime": {
     "end_time": "2024-02-16T04:16:34.376249Z",
     "start_time": "2024-02-16T04:16:34.340303600Z"
    }
   },
   "outputs": [
    {
     "data": {
      "text/plain": "x + 1/2",
      "text/latex": "$\\displaystyle x + \\frac{1}{2}$"
     },
     "execution_count": 16,
     "metadata": {},
     "output_type": "execute_result"
    }
   ],
   "source": [
    "x + Rational(1, 2)"
   ]
  },
  {
   "cell_type": "markdown",
   "id": "be1a7cef",
   "metadata": {},
   "source": [
    "## 2.Copilot(微积分)"
   ]
  },
  {
   "cell_type": "code",
   "execution_count": 17,
   "id": "a6dc84be",
   "metadata": {
    "ExecuteTime": {
     "end_time": "2024-02-16T04:16:38.467877600Z",
     "start_time": "2024-02-16T04:16:38.377139500Z"
    }
   },
   "outputs": [
    {
     "data": {
      "text/plain": "x*atan(x) - log(x**2 + 1)/2",
      "text/latex": "$\\displaystyle x \\operatorname{atan}{\\left(x \\right)} - \\frac{\\log{\\left(x^{2} + 1 \\right)}}{2}$"
     },
     "execution_count": 17,
     "metadata": {},
     "output_type": "execute_result"
    }
   ],
   "source": [
    "atan(x).integrate()"
   ]
  },
  {
   "cell_type": "code",
   "execution_count": 18,
   "id": "e0c9f69f",
   "metadata": {
    "ExecuteTime": {
     "end_time": "2024-02-16T04:16:40.445462400Z",
     "start_time": "2024-02-16T04:16:40.426569700Z"
    }
   },
   "outputs": [],
   "source": [
    "# 分部积分\n",
    "u = atan(x)\n",
    "v = x\n",
    "leftHandSide = Integral(u * v.diff())\n",
    "rightHandSide = u * v - Integral(u.diff() * v)"
   ]
  },
  {
   "cell_type": "code",
   "execution_count": 19,
   "id": "0c0833ff",
   "metadata": {
    "ExecuteTime": {
     "end_time": "2024-02-16T04:16:42.671177500Z",
     "start_time": "2024-02-16T04:16:42.649697200Z"
    }
   },
   "outputs": [
    {
     "data": {
      "text/plain": "Integral(atan(x), x)",
      "text/latex": "$\\displaystyle \\int \\operatorname{atan}{\\left(x \\right)}\\, dx$"
     },
     "execution_count": 19,
     "metadata": {},
     "output_type": "execute_result"
    }
   ],
   "source": [
    "leftHandSide"
   ]
  },
  {
   "cell_type": "code",
   "execution_count": 20,
   "id": "b5ae0130",
   "metadata": {
    "ExecuteTime": {
     "end_time": "2024-02-16T04:16:44.689109200Z",
     "start_time": "2024-02-16T04:16:44.679108700Z"
    }
   },
   "outputs": [
    {
     "data": {
      "text/plain": "x*atan(x) - Integral(x/(x**2 + 1), x)",
      "text/latex": "$\\displaystyle x \\operatorname{atan}{\\left(x \\right)} - \\int \\frac{x}{x^{2} + 1}\\, dx$"
     },
     "execution_count": 20,
     "metadata": {},
     "output_type": "execute_result"
    }
   ],
   "source": [
    "rightHandSide"
   ]
  },
  {
   "cell_type": "code",
   "execution_count": 21,
   "id": "b4e08edc",
   "metadata": {
    "ExecuteTime": {
     "end_time": "2024-02-16T04:16:47.412512900Z",
     "start_time": "2024-02-16T04:16:47.244466800Z"
    }
   },
   "outputs": [
    {
     "data": {
      "text/plain": "0",
      "text/latex": "$\\displaystyle 0$"
     },
     "execution_count": 21,
     "metadata": {},
     "output_type": "execute_result"
    }
   ],
   "source": [
    "(leftHandSide - rightHandSide).simplify()"
   ]
  },
  {
   "cell_type": "code",
   "execution_count": 22,
   "id": "092c8b65",
   "metadata": {
    "ExecuteTime": {
     "end_time": "2024-02-16T04:16:49.234640Z",
     "start_time": "2024-02-16T04:16:49.074995800Z"
    }
   },
   "outputs": [
    {
     "data": {
      "text/plain": "sqrt(1/(a**2 - 4*b))*log(-a**2*sqrt(1/(a**2 - 4*b))/2 + a/2 + 2*b*sqrt(1/(a**2 - 4*b)) + x) - sqrt(1/(a**2 - 4*b))*log(a**2*sqrt(1/(a**2 - 4*b))/2 + a/2 - 2*b*sqrt(1/(a**2 - 4*b)) + x)",
      "text/latex": "$\\displaystyle \\sqrt{\\frac{1}{a^{2} - 4 b}} \\log{\\left(- \\frac{a^{2} \\sqrt{\\frac{1}{a^{2} - 4 b}}}{2} + \\frac{a}{2} + 2 b \\sqrt{\\frac{1}{a^{2} - 4 b}} + x \\right)} - \\sqrt{\\frac{1}{a^{2} - 4 b}} \\log{\\left(\\frac{a^{2} \\sqrt{\\frac{1}{a^{2} - 4 b}}}{2} + \\frac{a}{2} - 2 b \\sqrt{\\frac{1}{a^{2} - 4 b}} + x \\right)}$"
     },
     "execution_count": 22,
     "metadata": {},
     "output_type": "execute_result"
    }
   ],
   "source": [
    "Integral(1 / (x ** 2 + a * x + b), x).doit()"
   ]
  },
  {
   "cell_type": "code",
   "execution_count": 23,
   "id": "c787f384",
   "metadata": {
    "ExecuteTime": {
     "end_time": "2024-02-16T04:16:53.240560400Z",
     "start_time": "2024-02-16T04:16:53.110138600Z"
    }
   },
   "outputs": [
    {
     "data": {
      "text/plain": "1 + I*x - x**2/2 - I*x**3/6 + x**4/24 + I*x**5/120 - x**6/720 - I*x**7/5040 + x**8/40320 + I*x**9/362880 - x**10/3628800 - I*x**11/39916800 + O(x**12)",
      "text/latex": "$\\displaystyle 1 + i x - \\frac{x^{2}}{2} - \\frac{i x^{3}}{6} + \\frac{x^{4}}{24} + \\frac{i x^{5}}{120} - \\frac{x^{6}}{720} - \\frac{i x^{7}}{5040} + \\frac{x^{8}}{40320} + \\frac{i x^{9}}{362880} - \\frac{x^{10}}{3628800} - \\frac{i x^{11}}{39916800} + O\\left(x^{12}\\right)$"
     },
     "execution_count": 23,
     "metadata": {},
     "output_type": "execute_result"
    }
   ],
   "source": [
    "(E ** (I * x)).series(n=12)"
   ]
  },
  {
   "cell_type": "code",
   "execution_count": 24,
   "id": "cff132d7",
   "metadata": {
    "ExecuteTime": {
     "end_time": "2024-02-16T04:16:58.359833400Z",
     "start_time": "2024-02-16T04:16:58.211034500Z"
    }
   },
   "outputs": [
    {
     "data": {
      "text/plain": "1 + I*(x - x**3/6 + x**5/120 - x**7/5040 + x**9/362880 - x**11/39916800 + O(x**12)) - x**2/2 + x**4/24 - x**6/720 + x**8/40320 - x**10/3628800 + O(x**12)",
      "text/latex": "$\\displaystyle 1 + i \\left(x - \\frac{x^{3}}{6} + \\frac{x^{5}}{120} - \\frac{x^{7}}{5040} + \\frac{x^{9}}{362880} - \\frac{x^{11}}{39916800} + O\\left(x^{12}\\right)\\right) - \\frac{x^{2}}{2} + \\frac{x^{4}}{24} - \\frac{x^{6}}{720} + \\frac{x^{8}}{40320} - \\frac{x^{10}}{3628800} + O\\left(x^{12}\\right)$"
     },
     "execution_count": 24,
     "metadata": {},
     "output_type": "execute_result"
    }
   ],
   "source": [
    "(E ** (I * x)).series(n=12).collect(I)  # 以 I 进行整理"
   ]
  },
  {
   "cell_type": "code",
   "execution_count": 25,
   "id": "bbf5dd4b",
   "metadata": {
    "ExecuteTime": {
     "end_time": "2024-02-16T04:17:02.939432300Z",
     "start_time": "2024-02-16T04:17:02.900761600Z"
    }
   },
   "outputs": [
    {
     "data": {
      "text/plain": "x - x**3/6 + x**5/120 - x**7/5040 + x**9/362880 - x**11/39916800 + O(x**12)",
      "text/latex": "$\\displaystyle x - \\frac{x^{3}}{6} + \\frac{x^{5}}{120} - \\frac{x^{7}}{5040} + \\frac{x^{9}}{362880} - \\frac{x^{11}}{39916800} + O\\left(x^{12}\\right)$"
     },
     "execution_count": 25,
     "metadata": {},
     "output_type": "execute_result"
    }
   ],
   "source": [
    "sin(x).series(n=12)"
   ]
  },
  {
   "cell_type": "code",
   "execution_count": 26,
   "id": "a566d041",
   "metadata": {
    "ExecuteTime": {
     "end_time": "2024-02-16T04:17:04.784750400Z",
     "start_time": "2024-02-16T04:17:04.740194900Z"
    }
   },
   "outputs": [
    {
     "data": {
      "text/plain": "1 - x**2/2 + x**4/24 - x**6/720 + x**8/40320 - x**10/3628800 + O(x**12)",
      "text/latex": "$\\displaystyle 1 - \\frac{x^{2}}{2} + \\frac{x^{4}}{24} - \\frac{x^{6}}{720} + \\frac{x^{8}}{40320} - \\frac{x^{10}}{3628800} + O\\left(x^{12}\\right)$"
     },
     "execution_count": 26,
     "metadata": {},
     "output_type": "execute_result"
    }
   ],
   "source": [
    "cos(x).series(n=12)"
   ]
  },
  {
   "cell_type": "markdown",
   "id": "156d388b",
   "metadata": {},
   "source": [
    "## 3.线性代数"
   ]
  },
  {
   "cell_type": "code",
   "execution_count": 27,
   "id": "ff20c3e1",
   "metadata": {
    "ExecuteTime": {
     "end_time": "2024-02-16T04:17:08.412461Z",
     "start_time": "2024-02-16T04:17:08.381523900Z"
    }
   },
   "outputs": [
    {
     "data": {
      "text/plain": "Matrix([\n[a,  a],\n[a, -a]])",
      "text/latex": "$\\displaystyle \\left[\\begin{matrix}a & a\\\\a & - a\\end{matrix}\\right]$"
     },
     "execution_count": 27,
     "metadata": {},
     "output_type": "execute_result"
    }
   ],
   "source": [
    "H2 = Matrix([[1, 1], [1, -1]]) * a\n",
    "H2"
   ]
  },
  {
   "cell_type": "code",
   "execution_count": 28,
   "id": "64e4218f",
   "metadata": {
    "ExecuteTime": {
     "end_time": "2024-02-16T04:17:09.984717Z",
     "start_time": "2024-02-16T04:17:09.960385Z"
    }
   },
   "outputs": [
    {
     "data": {
      "text/plain": "Matrix([\n[a**2,  a**2,  a**2,  a**2],\n[a**2, -a**2,  a**2, -a**2],\n[a**2,  a**2, -a**2, -a**2],\n[a**2, -a**2, -a**2,  a**2]])",
      "text/latex": "$\\displaystyle \\left[\\begin{matrix}a^{2} & a^{2} & a^{2} & a^{2}\\\\a^{2} & - a^{2} & a^{2} & - a^{2}\\\\a^{2} & a^{2} & - a^{2} & - a^{2}\\\\a^{2} & - a^{2} & - a^{2} & a^{2}\\end{matrix}\\right]$"
     },
     "execution_count": 28,
     "metadata": {},
     "output_type": "execute_result"
    }
   ],
   "source": [
    "H4 = kronecker_product(H2, H2)\n",
    "H4"
   ]
  },
  {
   "cell_type": "code",
   "execution_count": 29,
   "id": "9015460f",
   "metadata": {
    "ExecuteTime": {
     "end_time": "2024-02-16T04:17:12.107732300Z",
     "start_time": "2024-02-16T04:17:12.073893500Z"
    }
   },
   "outputs": [],
   "source": [
    "U, S = H4.diagonalize()  # 矩阵对角化"
   ]
  },
  {
   "cell_type": "code",
   "execution_count": 30,
   "id": "0775e1c5",
   "metadata": {
    "ExecuteTime": {
     "end_time": "2024-02-16T04:17:13.588735100Z",
     "start_time": "2024-02-16T04:17:13.541720900Z"
    }
   },
   "outputs": [
    {
     "data": {
      "text/plain": "Matrix([\n[ 0, -1, 2, 1],\n[-1,  2, 1, 0],\n[ 1,  0, 1, 0],\n[ 0,  1, 0, 1]])",
      "text/latex": "$\\displaystyle \\left[\\begin{matrix}0 & -1 & 2 & 1\\\\-1 & 2 & 1 & 0\\\\1 & 0 & 1 & 0\\\\0 & 1 & 0 & 1\\end{matrix}\\right]$"
     },
     "execution_count": 30,
     "metadata": {},
     "output_type": "execute_result"
    }
   ],
   "source": [
    "U"
   ]
  },
  {
   "cell_type": "code",
   "execution_count": 31,
   "id": "502d18a1",
   "metadata": {
    "ExecuteTime": {
     "end_time": "2024-02-16T04:17:15.763770800Z",
     "start_time": "2024-02-16T04:17:15.729770200Z"
    }
   },
   "outputs": [
    {
     "data": {
      "text/plain": "Matrix([\n[-2*a**2,       0,      0,      0],\n[      0, -2*a**2,      0,      0],\n[      0,       0, 2*a**2,      0],\n[      0,       0,      0, 2*a**2]])",
      "text/latex": "$\\displaystyle \\left[\\begin{matrix}- 2 a^{2} & 0 & 0 & 0\\\\0 & - 2 a^{2} & 0 & 0\\\\0 & 0 & 2 a^{2} & 0\\\\0 & 0 & 0 & 2 a^{2}\\end{matrix}\\right]$"
     },
     "execution_count": 31,
     "metadata": {},
     "output_type": "execute_result"
    }
   ],
   "source": [
    "S"
   ]
  },
  {
   "cell_type": "markdown",
   "id": "52578ca3",
   "metadata": {},
   "source": [
    "## 4.量子计算"
   ]
  },
  {
   "cell_type": "code",
   "execution_count": 32,
   "id": "4585012a",
   "metadata": {
    "ExecuteTime": {
     "end_time": "2024-02-16T04:17:21.597067800Z",
     "start_time": "2024-02-16T04:17:21.577880500Z"
    }
   },
   "outputs": [
    {
     "data": {
      "text/plain": "Matrix([\n[1/2,  1/2,  1/2,  1/2],\n[1/2, -1/2,  1/2, -1/2],\n[1/2,  1/2, -1/2, -1/2],\n[1/2, -1/2, -1/2,  1/2]])",
      "text/latex": "$\\displaystyle \\left[\\begin{matrix}\\frac{1}{2} & \\frac{1}{2} & \\frac{1}{2} & \\frac{1}{2}\\\\\\frac{1}{2} & - \\frac{1}{2} & \\frac{1}{2} & - \\frac{1}{2}\\\\\\frac{1}{2} & \\frac{1}{2} & - \\frac{1}{2} & - \\frac{1}{2}\\\\\\frac{1}{2} & - \\frac{1}{2} & - \\frac{1}{2} & \\frac{1}{2}\\end{matrix}\\right]$"
     },
     "execution_count": 32,
     "metadata": {},
     "output_type": "execute_result"
    }
   ],
   "source": [
    "H4 = H4.subs(a, 1 / sqrt(2))\n",
    "s0 = Matrix([0, 0, 0, 1])\n",
    "s1 = Matrix([0, 0, 1, 1])\n",
    "s2 = Matrix([0, 1, 0, 1])\n",
    "s3 = Matrix([1, 0, 0, 1])\n",
    "H4"
   ]
  },
  {
   "cell_type": "code",
   "execution_count": 33,
   "id": "52b1b595",
   "metadata": {
    "ExecuteTime": {
     "end_time": "2024-02-16T04:17:24.173633400Z",
     "start_time": "2024-02-16T04:17:24.152338800Z"
    }
   },
   "outputs": [
    {
     "data": {
      "text/plain": "Matrix([\n[ 1/2],\n[-1/2],\n[-1/2],\n[ 1/2]])",
      "text/latex": "$\\displaystyle \\left[\\begin{matrix}\\frac{1}{2}\\\\- \\frac{1}{2}\\\\- \\frac{1}{2}\\\\\\frac{1}{2}\\end{matrix}\\right]$"
     },
     "execution_count": 33,
     "metadata": {},
     "output_type": "execute_result"
    }
   ],
   "source": [
    "H4 * s0"
   ]
  },
  {
   "cell_type": "code",
   "execution_count": 35,
   "id": "740898e5",
   "metadata": {
    "ExecuteTime": {
     "end_time": "2024-02-16T04:18:36.220079600Z",
     "start_time": "2024-02-16T04:18:28.469831Z"
    }
   },
   "outputs": [
    {
     "data": {
      "text/plain": "<sympy.physics.quantum.circuitplot.CircuitPlot at 0x1491cb8aa60>"
     },
     "execution_count": 35,
     "metadata": {},
     "output_type": "execute_result"
    },
    {
     "data": {
      "text/plain": "<Figure size 600x300 with 1 Axes>",
      "image/png": "[encoded data removed]"
     },
     "metadata": {},
     "output_type": "display_data"
    }
   ],
   "source": [
    "from sympy.physics.quantum import circuitplot\n",
    "from sympy.physics.quantum.gate import *\n",
    "\n",
    "circuit = X(0) * Z(0) * H(2) * CNOT(2, 1) * CNOT(1, 0) * H(1)\n",
    "circuitplot.CircuitPlot(circuit, 3, labels=[0, 0, '\\psi'])"
   ]
  },
  {
   "cell_type": "markdown",
   "id": "024b66d6",
   "metadata": {},
   "source": [
    "# 约束求解"
   ]
  },
  {
   "cell_type": "code",
   "execution_count": 36,
   "id": "829e733b",
   "metadata": {
    "ExecuteTime": {
     "end_time": "2024-02-16T04:20:13.603515800Z",
     "start_time": "2024-02-16T04:20:13.114567800Z"
    }
   },
   "outputs": [
    {
     "ename": "AttributeError",
     "evalue": "module 'z3' has no attribute 'Ints'",
     "output_type": "error",
     "traceback": [
      "\u001B[1;31m---------------------------------------------------------------------------\u001B[0m",
      "\u001B[1;31mAttributeError\u001B[0m                            Traceback (most recent call last)",
      "Cell \u001B[1;32mIn[36], line 4\u001B[0m\n\u001B[0;32m      2\u001B[0m \u001B[38;5;28;01mimport\u001B[39;00m \u001B[38;5;21;01mnumpy\u001B[39;00m \u001B[38;5;28;01mas\u001B[39;00m \u001B[38;5;21;01mnp\u001B[39;00m\n\u001B[0;32m      3\u001B[0m \u001B[38;5;28;01mimport\u001B[39;00m \u001B[38;5;21;01mz3\u001B[39;00m\n\u001B[1;32m----> 4\u001B[0m x, y, z, a, b, c \u001B[38;5;241m=\u001B[39m \u001B[43mz3\u001B[49m\u001B[38;5;241;43m.\u001B[39;49m\u001B[43mInts\u001B[49m(\u001B[38;5;124m'\u001B[39m\u001B[38;5;124mx y z a b c\u001B[39m\u001B[38;5;124m'\u001B[39m)\n",
      "\u001B[1;31mAttributeError\u001B[0m: module 'z3' has no attribute 'Ints'"
     ]
    }
   ],
   "source": [
    "import matplotlib.pyplot as plt\n",
    "import numpy as np\n",
    "import z3\n",
    "\n",
    "x, y, z, a, b, c = z3.Ints('x y z a b c')"
   ]
  },
  {
   "cell_type": "code",
   "execution_count": 34,
   "id": "a446ddc8",
   "metadata": {},
   "outputs": [
    {
     "data": {
      "text/html": [
       "x + y"
      ],
      "text/plain": [
       "x + y"
      ]
     },
     "execution_count": 34,
     "metadata": {},
     "output_type": "execute_result"
    }
   ],
   "source": [
    "x + y"
   ]
  },
  {
   "cell_type": "markdown",
   "id": "c8d047d8",
   "metadata": {},
   "source": [
    "## 1.枚举求解一切"
   ]
  },
  {
   "cell_type": "code",
   "execution_count": 35,
   "id": "7b9cdc5f",
   "metadata": {},
   "outputs": [
    {
     "name": "stdout",
     "output_type": "stream",
     "text": [
      "[x = 936, z = 1000, y = 352]\n"
     ]
    }
   ],
   "source": [
    "solve(x ** 2 + y ** 2 == z ** 2, x > 0, y > 0, z >= 1000)"
   ]
  },
  {
   "cell_type": "markdown",
   "id": "50ac5a9d",
   "metadata": {},
   "source": [
    "## 2.列方程求解"
   ]
  },
  {
   "cell_type": "code",
   "execution_count": 36,
   "id": "a8324c70",
   "metadata": {},
   "outputs": [
    {
     "name": "stdout",
     "output_type": "stream",
     "text": [
      "[Q_3 = 6,\n",
      " Q_9 = 8,\n",
      " Q_10 = 3,\n",
      " Q_8 = 4,\n",
      " Q_14 = 5,\n",
      " Q_5 = 11,\n",
      " Q_0 = 0,\n",
      " Q_2 = 13,\n",
      " Q_13 = 15,\n",
      " Q_15 = 7,\n",
      " Q_12 = 9,\n",
      " Q_1 = 10,\n",
      " Q_7 = 1,\n",
      " Q_4 = 2,\n",
      " Q_11 = 12,\n",
      " Q_6 = 14]\n"
     ]
    }
   ],
   "source": [
    "# 得到皇后问题的一个解\n",
    "n = 16\n",
    "Q = [Int(f'Q_{i}') for i in range(n)]\n",
    "C1 = [And(Q[i] != Q[j], Abs(Q[i] - Q[j]) != Abs(i - j)) for i in range(n) for j in range(n) if i != j]\n",
    "C2 = [And(0 <= Q[i], Q[i] < n) for i in range(n)]\n",
    "solve(*C1, *C2)"
   ]
  },
  {
   "cell_type": "code",
   "execution_count": 37,
   "id": "b071940a",
   "metadata": {},
   "outputs": [
    {
     "data": {
      "text/plain": [
       "<Figure size 640x480 with 0 Axes>"
      ]
     },
     "metadata": {},
     "output_type": "display_data"
    },
    {
     "data": {
      "image/png": "[encoded data removed]",
      "text/plain": [
       "<Figure size 480x480 with 1 Axes>"
      ]
     },
     "metadata": {},
     "output_type": "display_data"
    }
   ],
   "source": [
    "# 可视化\n",
    "s = Solver()\n",
    "s.add(*C1, *C2)\n",
    "s.check()\n",
    "\n",
    "board = np.zeros((n, n))\n",
    "for i in range(n):\n",
    "    board[i][s.model().evaluate(Q[i]).as_long()] = 1\n",
    "\n",
    "plt.figure()\n",
    "plt.matshow(board, cmap='Reds')\n",
    "plt.show()"
   ]
  },
  {
   "cell_type": "code",
   "execution_count": null,
   "id": "eff68645",
   "metadata": {},
   "outputs": [],
   "source": []
  }
 ],
 "metadata": {
  "celltoolbar": "原始单元格格式",
  "kernelspec": {
   "display_name": "Python 3 (ipykernel)",
   "language": "python",
   "name": "python3"
  },
  "language_info": {
   "codemirror_mode": {
    "name": "ipython",
    "version": 3
   },
   "file_extension": ".py",
   "mimetype": "text/x-python",
   "name": "python",
   "nbconvert_exporter": "python",
   "pygments_lexer": "ipython3",
   "version": "3.9.13"
  }
 },
 "nbformat": 4,
 "nbformat_minor": 5
}
