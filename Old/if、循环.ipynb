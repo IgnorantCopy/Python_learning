{
 "cells": [
  {
   "cell_type": "markdown",
   "metadata": {},
   "source": [
    "## 布尔逻辑判断顺序\n",
    "1. 优先计算（）内的\n",
    "2. 没有圆括号时，顺序为：==、!=、not、and、or"
   ]
  },
  {
   "cell_type": "markdown",
   "metadata": {},
   "source": [
    "## if语句"
   ]
  },
  {
   "cell_type": "markdown",
   "metadata": {},
   "source": [
    "### input"
   ]
  },
  {
   "cell_type": "code",
   "execution_count": 1,
   "metadata": {},
   "outputs": [
    {
     "name": "stdout",
     "output_type": "stream",
     "text": [
      "age:20\n",
      "你成年了\n"
     ]
    }
   ],
   "source": [
    "age = int(input(\"age:\"))\n",
    "if age >= 18:\n",
    "    print(\"你成年了\")\n",
    "else:\n",
    "    print(\"你未成年\")"
   ]
  },
  {
   "cell_type": "markdown",
   "metadata": {},
   "source": [
    "### 判断符号：in、is"
   ]
  },
  {
   "cell_type": "code",
   "execution_count": 1,
   "metadata": {
    "ExecuteTime": {
     "end_time": "2024-02-13T14:09:27.619524700Z",
     "start_time": "2024-02-13T14:09:27.581319600Z"
    }
   },
   "outputs": [
    {
     "name": "stdout",
     "output_type": "stream",
     "text": [
      "ture\n"
     ]
    }
   ],
   "source": [
    "a = \"good\"\n",
    "b = \"g\"\n",
    "if b in a:\n",
    "    print(\"ture\")\n",
    "else:\n",
    "    print(\"false\")"
   ]
  },
  {
   "cell_type": "code",
   "execution_count": 3,
   "metadata": {},
   "outputs": [
    {
     "name": "stdout",
     "output_type": "stream",
     "text": [
      "false\n"
     ]
    }
   ],
   "source": [
    "a = \"good\"\n",
    "b = \"gd\"\n",
    "if b in a:\n",
    "    print(\"ture\")\n",
    "else:\n",
    "    print(\"false\")"
   ]
  },
  {
   "cell_type": "code",
   "execution_count": 4,
   "metadata": {},
   "outputs": [
    {
     "name": "stdout",
     "output_type": "stream",
     "text": [
      "false\n"
     ]
    }
   ],
   "source": [
    "a = \"15\"\n",
    "b = 15\n",
    "if b is a:\n",
    "    print(\"ture\")\n",
    "else:\n",
    "    print(\"false\")"
   ]
  },
  {
   "cell_type": "markdown",
   "metadata": {},
   "source": [
    "#### 练习"
   ]
  },
  {
   "cell_type": "code",
   "execution_count": 5,
   "metadata": {},
   "outputs": [
    {
     "name": "stdout",
     "output_type": "stream",
     "text": [
      "age:16\n",
      "you are two old\n",
      "you are not an adult\n"
     ]
    }
   ],
   "source": [
    "age = int(input(\"age:\"))\n",
    "if age > 13:\n",
    "    print(\"you are two old\")\n",
    "    if age < 18:\n",
    "        print(\"you are not an adult\")"
   ]
  },
  {
   "cell_type": "code",
   "execution_count": 6,
   "metadata": {},
   "outputs": [
    {
     "name": "stdout",
     "output_type": "stream",
     "text": [
      "your gender(m refers to male,f refers to female):m\n",
      "age:12\n",
      "no,because of your gender\n"
     ]
    }
   ],
   "source": [
    "gender = input(\"your gender(m refers to male,f refers to female):\")\n",
    "age = int(input(\"age:\"))\n",
    "if 10 <= age <= 12:\n",
    "    if gender == \"f\":\n",
    "        print(\"yes\")\n",
    "    else:\n",
    "        print(\"no,because of your gender\")\n",
    "else:\n",
    "    print(\"no,because of your age\")"
   ]
  },
  {
   "cell_type": "markdown",
   "metadata": {},
   "source": [
    "## 循环"
   ]
  },
  {
   "cell_type": "markdown",
   "metadata": {},
   "source": [
    "### for"
   ]
  },
  {
   "cell_type": "code",
   "execution_count": 7,
   "metadata": {},
   "outputs": [
    {
     "name": "stdout",
     "output_type": "stream",
     "text": [
      "1\n",
      "2\n",
      "3\n",
      "4\n",
      "5\n"
     ]
    }
   ],
   "source": [
    "for i in [1, 2, 3, 4, 5]:\n",
    "    print(i)"
   ]
  },
  {
   "cell_type": "code",
   "execution_count": 8,
   "metadata": {},
   "outputs": [
    {
     "name": "stdout",
     "output_type": "stream",
     "text": [
      "H\n",
      "i\n",
      " \n",
      "t\n",
      "h\n",
      "e\n",
      "r\n",
      "e\n"
     ]
    }
   ],
   "source": [
    "for i in \"Hi there\":\n",
    "    print(i)"
   ]
  },
  {
   "cell_type": "code",
   "execution_count": 9,
   "metadata": {},
   "outputs": [
    {
     "name": "stdout",
     "output_type": "stream",
     "text": [
      "0\n",
      "1\n",
      "2\n",
      "3\n",
      "4\n",
      "5\n"
     ]
    }
   ],
   "source": [
    "for i in range(6):\n",
    "    print(i)"
   ]
  },
  {
   "cell_type": "code",
   "execution_count": 10,
   "metadata": {},
   "outputs": [
    {
     "name": "stdout",
     "output_type": "stream",
     "text": [
      "6\n",
      "4\n",
      "2\n"
     ]
    }
   ],
   "source": [
    "for i in range(6, 0, -2):\n",
    "    print(i)"
   ]
  },
  {
   "cell_type": "markdown",
   "metadata": {},
   "source": [
    "#### 练习"
   ]
  },
  {
   "cell_type": "code",
   "execution_count": 2,
   "metadata": {
    "ExecuteTime": {
     "end_time": "2024-02-13T14:12:22.344512700Z",
     "start_time": "2024-02-13T14:12:22.200759Z"
    }
   },
   "outputs": [
    {
     "name": "stdout",
     "output_type": "stream",
     "text": [
      "1 * 2 = 2\n",
      "1 * 4 = 4\n",
      "1 * 6 = 6\n",
      "3 * 2 = 6\n",
      "3 * 4 = 12\n",
      "3 * 6 = 18\n",
      "5 * 2 = 10\n",
      "5 * 4 = 20\n",
      "5 * 6 = 30\n"
     ]
    }
   ],
   "source": [
    "for i in range(1, 6, 2):\n",
    "    for j in range(2, 7, 2):\n",
    "        print(i, '*', j, '=', i * j)"
   ]
  },
  {
   "cell_type": "code",
   "execution_count": 12,
   "metadata": {},
   "outputs": [
    {
     "name": "stdout",
     "output_type": "stream",
     "text": [
      "how many blocks:3\n",
      "how many lines:3\n",
      "how many stars:3\n",
      "* * * \n",
      "* * * \n",
      "* * * \n",
      "\n",
      "* * * \n",
      "* * * \n",
      "* * * \n",
      "\n",
      "* * * \n",
      "* * * \n",
      "* * * \n"
     ]
    }
   ],
   "source": [
    "blocks = int(input(\"how many blocks:\"))\n",
    "lines = int(input(\"how many lines:\"))\n",
    "stars = int(input(\"how many stars:\"))\n",
    "for i in range(0, blocks):\n",
    "    for j in range(0, lines):\n",
    "        for k in range(0, stars):\n",
    "            print(\"*\", end=\" \")\n",
    "        print()\n",
    "    print()"
   ]
  },
  {
   "cell_type": "markdown",
   "metadata": {},
   "source": [
    "## while"
   ]
  },
  {
   "cell_type": "code",
   "execution_count": 13,
   "metadata": {},
   "outputs": [
    {
     "name": "stdout",
     "output_type": "stream",
     "text": [
      "0\n",
      "1\n",
      "2\n",
      "3\n",
      "4\n",
      "5\n",
      "6\n",
      "7\n",
      "8\n",
      "9\n"
     ]
    }
   ],
   "source": [
    "a = 0\n",
    "while a < 10:\n",
    "    print(a)\n",
    "    a += 1"
   ]
  },
  {
   "cell_type": "markdown",
   "metadata": {},
   "source": [
    "#### 练习"
   ]
  },
  {
   "cell_type": "code",
   "execution_count": 14,
   "metadata": {
    "scrolled": false
   },
   "outputs": [
    {
     "name": "stdout",
     "output_type": "stream",
     "text": [
      "how many numbers:5\n",
      "number1\n",
      "number2\n",
      "number3\n",
      "number4\n",
      "number5\n",
      "15\n"
     ]
    }
   ],
   "source": [
    "a = int(input(\"how many numbers:\"))\n",
    "total = 0\n",
    "n = 0\n",
    "while n < a:\n",
    "    b = int(input(\"number\"))\n",
    "    total += b\n",
    "    n += 1\n",
    "print(total)"
   ]
  },
  {
   "cell_type": "markdown",
   "metadata": {},
   "source": [
    "## 跳出循环"
   ]
  },
  {
   "cell_type": "markdown",
   "metadata": {},
   "source": [
    "### break:从循环体内跳出来"
   ]
  },
  {
   "cell_type": "code",
   "execution_count": 4,
   "metadata": {
    "ExecuteTime": {
     "end_time": "2024-02-13T14:14:15.116338500Z",
     "start_time": "2024-02-13T14:14:05.191134400Z"
    }
   },
   "outputs": [
    {
     "name": "stdout",
     "output_type": "stream",
     "text": [
      "the sum is 15\n"
     ]
    }
   ],
   "source": [
    "i = 0\n",
    "while True:\n",
    "    j = input(\"numbers or done:\")\n",
    "    if j == \"done\":\n",
    "        break\n",
    "    k = int(j)\n",
    "    i += k\n",
    "print(\"the sum is\", i)"
   ]
  },
  {
   "cell_type": "markdown",
   "metadata": {},
   "source": [
    "### continue:跳出本次循环，进入下一次循环"
   ]
  },
  {
   "cell_type": "code",
   "execution_count": 17,
   "metadata": {},
   "outputs": [
    {
     "name": "stdout",
     "output_type": "stream",
     "text": [
      "2 4 6 8 10 12 14 16 18 20 22 24 26 28 30 32 34 36 38 40 42 44 46 48 50 52 54 56 58 60 62 64 66 68 70 72 74 76 78 80 82 84 86 88 90 92 94 96 98 100 "
     ]
    }
   ],
   "source": [
    "a = 0\n",
    "while a <= 100:\n",
    "    a += 1\n",
    "    if a % 2 == 0:\n",
    "        print(a, end=\" \")\n",
    "    else:\n",
    "        continue"
   ]
  },
  {
   "cell_type": "code",
   "execution_count": 19,
   "metadata": {},
   "outputs": [
    {
     "name": "stdout",
     "output_type": "stream",
     "text": [
      "what's the number:4\n",
      "4 * 1 = 4\n",
      "4 * 2 = 8\n",
      "4 * 3 = 12\n",
      "4 * 4 = 16\n",
      "4 * 5 = 20\n",
      "4 * 6 = 24\n",
      "4 * 7 = 28\n",
      "4 * 8 = 32\n",
      "4 * 9 = 36\n"
     ]
    }
   ],
   "source": [
    "# 编写一个程序，显示一个乘法表。开始时要询问用户显示哪个数的乘法表。尝试写出for循环和while循环两种写法。\n",
    "num = int(input(\"what's the number:\"))\n",
    "a = 1\n",
    "for i in range(9):\n",
    "    print(num, \"*\", a, \"=\", num * a)\n",
    "    a += 1"
   ]
  },
  {
   "cell_type": "code",
   "execution_count": 20,
   "metadata": {},
   "outputs": [
    {
     "name": "stdout",
     "output_type": "stream",
     "text": [
      "what's the number:2\n",
      "2 * 1 = 2\n",
      "2 * 2 = 4\n",
      "2 * 3 = 6\n",
      "2 * 4 = 8\n",
      "2 * 5 = 10\n",
      "2 * 6 = 12\n",
      "2 * 7 = 14\n",
      "2 * 8 = 16\n",
      "2 * 9 = 18\n"
     ]
    }
   ],
   "source": [
    "num = int(input(\"what's the number:\"))\n",
    "a = 1\n",
    "while a <= 9:\n",
    "    print(num, \"*\", a, \"=\", num * a)\n",
    "    a += 1"
   ]
  },
  {
   "cell_type": "code",
   "execution_count": 21,
   "metadata": {},
   "outputs": [
    {
     "name": "stdout",
     "output_type": "stream",
     "text": [
      "what's the number:3\n",
      "what's the number2:6\n",
      "3 * 1 = 3\n",
      "3 * 2 = 6\n",
      "3 * 3 = 9\n",
      "3 * 4 = 12\n",
      "3 * 5 = 15\n",
      "3 * 6 = 18\n"
     ]
    }
   ],
   "source": [
    "# 向乘法表中再加点东西，询问用户想要的乘法表数字后，再问用户最大乘到几。\n",
    "num = int(input(\"what's the number:\"))\n",
    "a = 1\n",
    "num2 = int(input(\"what's the number2:\"))\n",
    "for i in range(num2):\n",
    "    print(num, \"*\", a, \"=\", num * a)\n",
    "    a += 1"
   ]
  },
  {
   "cell_type": "code",
   "execution_count": 22,
   "metadata": {
    "scrolled": false
   },
   "outputs": [
    {
     "name": "stdout",
     "output_type": "stream",
     "text": [
      "123\n",
      "124\n",
      "132\n",
      "134\n",
      "142\n",
      "143\n",
      "214\n",
      "213\n",
      "234\n",
      "231\n",
      "243\n",
      "241\n",
      "312\n",
      "314\n",
      "321\n",
      "324\n",
      "341\n",
      "342\n",
      "413\n",
      "412\n",
      "423\n",
      "421\n",
      "432\n",
      "431\n",
      "有 24 个\n"
     ]
    }
   ],
   "source": [
    "# 有1、 2、 3、 4个数字，能组成多少个互不相同且无重复数字的三位数？都是多少？\n",
    "a, b, c = 1, 2, 3\n",
    "for i in [1, 2, 3, 4]:\n",
    "    d = a * 100\n",
    "    for j in [1, 2, 3]:\n",
    "        if b > 4:\n",
    "            b = 1\n",
    "        if b == a:\n",
    "            b += 1\n",
    "        e = b * 10\n",
    "        for k in [1, 2]:\n",
    "            if c > 4:\n",
    "                c = 1\n",
    "            while c == a or c == b:\n",
    "                c += 1\n",
    "                if c > 4:\n",
    "                    c = 1\n",
    "            f = d + e + c\n",
    "            print(f)\n",
    "            c += 1\n",
    "        b += 1\n",
    "    a += 1\n",
    "count = 4 * 3 * 2\n",
    "print(\"有\", count, \"个\")"
   ]
  },
  {
   "cell_type": "code",
   "execution_count": 23,
   "metadata": {},
   "outputs": [
    {
     "name": "stdout",
     "output_type": "stream",
     "text": [
      "what's the price:200\n",
      "you get 20% off\n",
      "you should pay 160.0\n"
     ]
    }
   ],
   "source": [
    "# 一家商场在降价促销。如果购买金额低于或等于100元，给10%折扣，如果购买金额大于100元会给20%折扣。编写一个程序，询问购买价格，再显示折扣和最终价格。\n",
    "price = int(input(\"what's the price:\"))\n",
    "if price <= 100:\n",
    "    final_price = price * (1 - 0.1)\n",
    "    print(\"you get 10% off\")\n",
    "    print(\"you should pay\", final_price)\n",
    "elif price > 100:\n",
    "    final_price = price * (1 - 0.2)\n",
    "    print(\"you get 20% off\")\n",
    "    print(\"you should pay\", final_price)"
   ]
  },
  {
   "cell_type": "code",
   "execution_count": 24,
   "metadata": {},
   "outputs": [
    {
     "name": "stdout",
     "output_type": "stream",
     "text": [
      "请输入密码：laomashitu313\n",
      "You are in!\n"
     ]
    }
   ],
   "source": [
    "# 建立一个程序，用户必须输入密码才能使用这个程序。你知道密码，因为它会写在你的代码中。只在用户输入正确密码时显示一条“You’re in!”的消息\n",
    "while True:\n",
    "    password = str(input(\"请输入密码：\"))\n",
    "    if password == \"laomashitu313\":\n",
    "        print(\"You are in!\")\n",
    "        break\n",
    "    else:\n",
    "        print(\"Try again.\")\n"
   ]
  },
  {
   "cell_type": "code",
   "execution_count": 25,
   "metadata": {},
   "outputs": [
    {
     "name": "stdout",
     "output_type": "stream",
     "text": [
      "what's your present element:150\n",
      "what's your productivity:0.5\n",
      "最多可以行驶 72.5 公里， 需要加油。\n"
     ]
    }
   ],
   "source": [
    "# 你在长途旅行，刚到一个加油站，距离下个加油站还有200km。编写一个程序确定是否需要在这里加油，还是能等到下一个加油站。这个程序应该问下面几个问题：你的油箱多大？油箱多满？你的汽车每升油可以走多远（km） ?额外提示：程序中应包含一个5升的缓冲区，以防油表不准。\n",
    "from decimal import Decimal\n",
    "\n",
    "present_element = float(input(\"what's your present element:\"))\n",
    "productivity = float(input(\"what's your productivity:\"))\n",
    "miles_max = Decimal((present_element - 5) * productivity)\n",
    "if miles_max >= 200:\n",
    "    print(\"最多可以行驶\", miles_max, \"公里，\", \"不需加油。\")\n",
    "else:\n",
    "    print(\"最多可以行驶\", miles_max, \"公里，\", \"需要加油。\")"
   ]
  },
  {
   "cell_type": "code",
   "execution_count": 26,
   "metadata": {},
   "outputs": [
    {
     "name": "stdout",
     "output_type": "stream",
     "text": [
      "how many seconds:5\n",
      "*\n",
      "*\n",
      "*\n",
      "*\n",
      "*\n",
      "Blast Off!\n"
     ]
    }
   ],
   "source": [
    "# 倒计时定时程序：使用一个可变循环修改程序，询问用户向下计数应当从哪里开始，并且除了各个数之外还要打印一行星号。输出如下：\n",
    "from time import sleep\n",
    "\n",
    "t = int(input(\"how many seconds:\"))\n",
    "for i in range(t, 0, -1):\n",
    "    print(\"*\")\n",
    "    sleep(1)\n",
    "print(\"Blast Off!\")"
   ]
  },
  {
   "cell_type": "code",
   "execution_count": 27,
   "metadata": {},
   "outputs": [
    {
     "name": "stdout",
     "output_type": "stream",
     "text": [
      "输入n的值：5\n",
      "5\n"
     ]
    }
   ],
   "source": [
    "# 求斐波那契数列的第n个数\n",
    "n = int(input('输入n的值：'))\n",
    "num1, num2 = 1, 1\n",
    "for i in range(n - 2):\n",
    "    num1 = num1 + num2\n",
    "    num1, num2 = num2, num1\n",
    "print(num2)"
   ]
  }
 ],
 "metadata": {
  "kernelspec": {
   "display_name": "Python 3",
   "language": "python",
   "name": "python3"
  },
  "language_info": {
   "codemirror_mode": {
    "name": "ipython",
    "version": 3
   },
   "file_extension": ".py",
   "mimetype": "text/x-python",
   "name": "python",
   "nbconvert_exporter": "python",
   "pygments_lexer": "ipython3",
   "version": "3.7.6"
  }
 },
 "nbformat": 4,
 "nbformat_minor": 4
}
