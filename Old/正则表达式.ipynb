{
 "cells": [
  {
   "cell_type": "markdown",
   "metadata": {},
   "source": [
    "# 介绍\n",
    "* 定义：是特殊的字符序列，计算机科学的一个概念。通常用来检索、替换符合某个规则的文本。\n",
    "* 作用：用来处理字符串，对字符串进行检索和替换\n",
    "* 特点：\n",
    "  1. 灵活性、逻辑性、功能性\n",
    "  2. 迅速地用极简单的方式达到字符串的复杂控制"
   ]
  },
  {
   "cell_type": "code",
   "execution_count": 1,
   "metadata": {},
   "outputs": [
    {
     "data": {
      "text/plain": [
       "<re.Match object; span=(5, 6), match='\\\\'>"
      ]
     },
     "execution_count": 1,
     "metadata": {},
     "output_type": "execute_result"
    }
   ],
   "source": [
    "import re\n",
    "\n",
    "x = 'hello\\\\nworld'\n",
    "#在正则表达式里，要想匹配一个 \\ 需要使用 \\\\\\\\\n",
    "#re.search('匹配规则','匹配对象')\n",
    "re.search('\\\\\\\\', x)  #==>结果是一个 Match 类型的对象\n",
    "#<re.Match object; span=(5, 6), match='\\\\'>"
   ]
  },
  {
   "cell_type": "code",
   "execution_count": 2,
   "metadata": {},
   "outputs": [
    {
     "data": {
      "text/plain": [
       "<re.Match object; span=(5, 6), match='\\\\'>"
      ]
     },
     "execution_count": 2,
     "metadata": {},
     "output_type": "execute_result"
    }
   ],
   "source": [
    "#字符串前面加 r ,表示原生字符串\n",
    "re.search(r'\\\\', x)"
   ]
  },
  {
   "cell_type": "markdown",
   "metadata": {},
   "source": [
    "# 方法使用"
   ]
  },
  {
   "cell_type": "markdown",
   "metadata": {},
   "source": [
    "## 查找"
   ]
  },
  {
   "cell_type": "code",
   "execution_count": 6,
   "metadata": {},
   "outputs": [],
   "source": [
    "import re"
   ]
  },
  {
   "cell_type": "code",
   "execution_count": 7,
   "metadata": {},
   "outputs": [
    {
     "name": "stdout",
     "output_type": "stream",
     "text": [
      "<re.Match object; span=(0, 5), match='hello'>\n",
      "<re.Match object; span=(0, 5), match='hello'>\n",
      "-----------------------------------------------------------\n",
      "None\n",
      "<re.Match object; span=(6, 11), match='world'>\n"
     ]
    }
   ],
   "source": [
    "#match&search:\n",
    "#共同点：1.只对字符串查询一次  2.返回的结果是一个 re.Match 类型的对象\n",
    "m1 = re.match(r'hello', 'hello world hello')\n",
    "m2 = re.search(r'hello', 'hello world hello')\n",
    "print(m1)\n",
    "print(m2)\n",
    "print('-----------------------------------------------------------')\n",
    "#不同点： match 是头开始匹配，一旦匹配失败，就返回 None ；search 是在整个字符串里匹配\n",
    "m3 = re.match(r'world', 'hello world hello')\n",
    "m4 = re.search(r'world', 'hello world hello')\n",
    "print(m3)\n",
    "print(m4)"
   ]
  },
  {
   "cell_type": "code",
   "execution_count": 8,
   "metadata": {},
   "outputs": [
    {
     "name": "stdout",
     "output_type": "stream",
     "text": [
      "<callable_iterator object at 0x000001D0AFEF7E48>\n",
      "True\n",
      "<re.Match object; span=(4, 5), match='x'>\n",
      "<re.Match object; span=(8, 9), match='x'>\n",
      "<re.Match object; span=(9, 10), match='x'>\n",
      "<re.Match object; span=(16, 17), match='x'>\n",
      "<re.Match object; span=(23, 24), match='x'>\n"
     ]
    }
   ],
   "source": [
    "#finditer:查找到所有的匹配数据，放到一个可迭代对象里\n",
    "from collections.abc import Iterable\n",
    "\n",
    "m = re.finditer(r'x', 'sfdbxavfxxvffaddxavnygvxjkdsi')\n",
    "print(m)\n",
    "print(isinstance(m, Iterable))\n",
    "for i in m:\n",
    "    print(i)"
   ]
  },
  {
   "cell_type": "code",
   "execution_count": 9,
   "metadata": {
    "scrolled": true
   },
   "outputs": [
    {
     "data": {
      "text/plain": [
       "['x12', 'x5', 'x80', 'x21']"
      ]
     },
     "execution_count": 9,
     "metadata": {},
     "output_type": "execute_result"
    }
   ],
   "source": [
    "#findall:把查找到的所有字符串结果放到一个列表里\n",
    "re.findall(r'x\\d+', 'sfdbx12avfx5xvffaddx80avn47ygvx21jkdsi')"
   ]
  },
  {
   "cell_type": "code",
   "execution_count": 10,
   "metadata": {},
   "outputs": [
    {
     "name": "stdout",
     "output_type": "stream",
     "text": [
      "None\n",
      "<re.Match object; span=(0, 11), match='hello world'>\n",
      "<re.Match object; span=(0, 12), match='hshbdvuqewfd'>\n"
     ]
    }
   ],
   "source": [
    "#fullmatch:完整匹配，字符串需要完全满足正则规则才会有结果，否则就是 None\n",
    "m1 = re.fullmatch(r'hello', 'hello world')\n",
    "m2 = re.fullmatch(r'hello world', 'hello world')\n",
    "m3 = re.fullmatch(r'h.*d', 'hshbdvuqewfd')\n",
    "print(m1)\n",
    "print(m2)\n",
    "print(m3)"
   ]
  },
  {
   "cell_type": "markdown",
   "metadata": {},
   "source": [
    "## 正则替换\n",
    "* sub方法"
   ]
  },
  {
   "cell_type": "code",
   "metadata": {
    "ExecuteTime": {
     "end_time": "2024-06-01T13:30:25.756979Z",
     "start_time": "2024-06-01T13:30:25.737929Z"
    }
   },
   "source": [
    "import re\n",
    "\n",
    "print(re.sub(r'\\d', 'x', '1b2m3a4d5b6v7e8u9r0'))"
   ],
   "outputs": [
    {
     "name": "stdout",
     "output_type": "stream",
     "text": [
      "1b2m3d5b6v7e8u9r0\n"
     ]
    }
   ],
   "execution_count": 3
  },
  {
   "cell_type": "code",
   "execution_count": 20,
   "metadata": {},
   "outputs": [
    {
     "name": "stdout",
     "output_type": "stream",
     "text": [
      "hello46world68\n"
     ]
    }
   ],
   "source": [
    "x = 'hello23world34'  #将字符串里的数字*2\n",
    "#第一个参数是正则表达式\n",
    "#第二个是新字符或函数\n",
    "#第三个是需要被替换的字符串\n",
    "print(re.sub(r'\\d+', lambda a: str(int(a.group(0)) * 2), x))  #sub内部在调用函数时，会把每个匹配到的数据以re.Match的格式传参"
   ]
  },
  {
   "cell_type": "markdown",
   "metadata": {},
   "source": [
    "## re.Match 类\n",
    "* 调用 re.match、re.search或者对 re.finditer 结果进行遍历拿到的内容"
   ]
  },
  {
   "cell_type": "code",
   "execution_count": 3,
   "metadata": {},
   "outputs": [
    {
     "name": "stdout",
     "output_type": "stream",
     "text": [
      "['__class__', '__copy__', '__deepcopy__', '__delattr__', '__dir__', '__doc__', '__eq__', '__format__', '__ge__', '__getattribute__', '__getitem__', '__gt__', '__hash__', '__init__', '__init_subclass__', '__le__', '__lt__', '__ne__', '__new__', '__reduce__', '__reduce_ex__', '__repr__', '__setattr__', '__sizeof__', '__str__', '__subclasshook__', 'end', 'endpos', 'expand', 'group', 'groupdict', 'groups', 'lastgroup', 'lastindex', 'pos', 're', 'regs', 'span', 'start', 'string']\n"
     ]
    }
   ],
   "source": [
    "m = re.search(r'h.*o', 'hello world')\n",
    "print(dir(m))"
   ]
  },
  {
   "cell_type": "code",
   "execution_count": 4,
   "metadata": {},
   "outputs": [
    {
     "name": "stdout",
     "output_type": "stream",
     "text": [
      "0 11\n",
      "(0, 8)\n",
      "hello wo\n",
      "hello wo\n"
     ]
    }
   ],
   "source": [
    "print(m.pos, m.endpos)  #匹配范围\n",
    "print(m.span())  #匹配到的结果字符串的开始和结束的下标\n",
    "print(m.group())  #获取匹配到的字符串结果\n",
    "print(m.group(0))  #可以传参，表示第 n 个组"
   ]
  },
  {
   "cell_type": "code",
   "execution_count": 5,
   "metadata": {},
   "outputs": [
    {
     "name": "stdout",
     "output_type": "stream",
     "text": [
      "2abva0iuwe0fjn5\n",
      "2abva\n",
      "0iuwe\n",
      "0fjn5\n"
     ]
    }
   ],
   "source": [
    "#group 方法表示正则表达式的分组\n",
    "#1.在正则表达式里使用()表示一个分组\n",
    "#2.如果没有分组，默认1组\n",
    "#3.分组的下标从0开始\n",
    "m = re.search(r'(2.*)(0.*)(0.*5)', 'aivasd2abva0iuwe0fjn5bk')  #有四个分组\n",
    "print(m.group(0))\n",
    "print(m.group(1))\n",
    "print(m.group(2))\n",
    "print(m.group(3))"
   ]
  },
  {
   "cell_type": "code",
   "execution_count": 19,
   "metadata": {
    "scrolled": true
   },
   "outputs": [
    {
     "name": "stdout",
     "output_type": "stream",
     "text": [
      "('2abva', '0iuwe', '0fjn5')\n",
      "{'a': '2abva', 'b': '0iuwe', 'c': '0fjn5'}\n",
      "2abva\n",
      "2abva\n",
      "(6, 11)\n"
     ]
    }
   ],
   "source": [
    "#给分的组取名  格式：?P<name>\n",
    "m = re.search(r'(?P<a>2.*)(?P<b>0.*)(?P<c>0.*5)', 'aivasd2abva0iuwe0fjn5bk')\n",
    "print(m.groups())\n",
    "print(m.groupdict())  #获取到分组组成的字典\n",
    "print(m.groupdict()['a'])\n",
    "print(m.group(1))\n",
    "print(m.span(1))"
   ]
  },
  {
   "cell_type": "markdown",
   "metadata": {},
   "source": [
    "## re.compile方法\n",
    "* 得到一个对象"
   ]
  },
  {
   "cell_type": "code",
   "execution_count": 20,
   "metadata": {},
   "outputs": [],
   "source": [
    "import re"
   ]
  },
  {
   "cell_type": "code",
   "execution_count": 24,
   "metadata": {},
   "outputs": [
    {
     "name": "stdout",
     "output_type": "stream",
     "text": [
      "<re.Match object; span=(1, 6), match='fekuf'>\n",
      "<re.Match object; span=(1, 6), match='fekuf'>\n",
      "<re.Match object; span=(2, 5), match='fgf'>\n"
     ]
    }
   ],
   "source": [
    "m = re.search(r'f.*f', 'afekufwc')\n",
    "print(m)\n",
    "#----------------------------------\n",
    "r = re.compile(r'f.*f')\n",
    "print(r.search('afekufwc'))\n",
    "#优点：规则可以重复使用\n",
    "print(r.search('sdfgfjsgmy'))"
   ]
  },
  {
   "cell_type": "markdown",
   "metadata": {},
   "source": [
    "## 正则修饰符\n",
    "* 对正则表达式进行修饰"
   ]
  },
  {
   "cell_type": "code",
   "execution_count": 25,
   "metadata": {},
   "outputs": [],
   "source": [
    "import re"
   ]
  },
  {
   "cell_type": "code",
   "execution_count": 28,
   "metadata": {},
   "outputs": [
    {
     "name": "stdout",
     "output_type": "stream",
     "text": [
      "None\n",
      "<re.Match object; span=(2, 9), match='jhvb\\naa'>\n"
     ]
    }
   ],
   "source": [
    "# . 表示除了换行以外的任意字符\n",
    "m1 = re.search(r'j.*a', 'sdjhvb\\naave')\n",
    "print(m1)\n",
    "#re.S:让 . 匹配换行\n",
    "m2 = re.search(r'j.*a', 'sdjhvb\\naave', re.S)\n",
    "print(m2)"
   ]
  },
  {
   "cell_type": "code",
   "execution_count": 29,
   "metadata": {},
   "outputs": [
    {
     "name": "stdout",
     "output_type": "stream",
     "text": [
      "None\n",
      "<re.Match object; span=(2, 3), match='H'>\n"
     ]
    }
   ],
   "source": [
    "m1 = re.search(r'h', 'ajHvr')\n",
    "print(m1)\n",
    "#re.I:忽略大小写\n",
    "m2 = re.search(r'h', 'ajHvr', re.I)\n",
    "print(m2)"
   ]
  },
  {
   "cell_type": "code",
   "execution_count": 31,
   "metadata": {},
   "outputs": [
    {
     "name": "stdout",
     "output_type": "stream",
     "text": [
      "['man']\n",
      "['boy', 'girl', 'man']\n"
     ]
    }
   ],
   "source": [
    "#\\w:表示字母、数字和_\n",
    "#+:出现一次以上\n",
    "#$:以指定内容结尾\n",
    "m1 = re.findall(r'\\w+$', 'i am a boy\\n you are a girl\\n he is a man')\n",
    "print(m1)\n",
    "#re.M:让 $ 匹配换行\n",
    "m2 = re.findall(r'\\w+$', 'i am a boy\\n you are a girl\\n he is a man', re.M)\n",
    "print(m2)"
   ]
  },
  {
   "cell_type": "markdown",
   "metadata": {},
   "source": [
    "## 正则匹配规则"
   ]
  },
  {
   "cell_type": "code",
   "execution_count": 35,
   "metadata": {},
   "outputs": [
    {
     "name": "stdout",
     "output_type": "stream",
     "text": [
      "1. <re.Match object; span=(2, 3), match='x'>\n",
      "2. None\n",
      "2. <re.Match object; span=(1, 2), match='1'>\n",
      "4. <re.Match object; span=(1, 2), match='+'>\n"
     ]
    }
   ],
   "source": [
    "#1.数组和字母都表示它本身\n",
    "print('1.', re.search(r'x', 'ksxhf'))\n",
    "#2.很多字符前面添加 \\ 会有特殊含义（学习重点1）\n",
    "print('2.', re.search(r'\\d', 'good'))\n",
    "print('2.', re.search(r'\\d', 'g12d'))\n",
    "#3.绝大多数标点符号都有特殊含义（学习重点2）\n",
    "#print(re.search(r'+','1+2'))  ==>报错\n",
    "#4.若要使用标点符号，要使用 \\ \n",
    "print('4.', re.search(r'\\+', '1+2'))"
   ]
  },
  {
   "cell_type": "markdown",
   "metadata": {},
   "source": [
    "### 非打印字符"
   ]
  },
  {
   "cell_type": "code",
   "execution_count": 2,
   "metadata": {},
   "outputs": [],
   "source": [
    "import re"
   ]
  },
  {
   "cell_type": "code",
   "execution_count": 11,
   "metadata": {},
   "outputs": [
    {
     "name": "stdout",
     "output_type": "stream",
     "text": [
      "1. <re.Match object; span=(5, 6), match=' '>\n",
      "2. <re.Match object; span=(5, 6), match='\\n'>\n",
      "3. <re.Match object; span=(5, 6), match='\\t'>\n",
      "4. <re.Match object; span=(0, 1), match='h'>\n",
      "5. <re.Match object; span=(5, 6), match='0'>\n",
      "6. <re.Match object; span=(0, 2), match='he'>\n",
      "7. ['he110_', 'world']\n",
      "8. ['---', '.*', '---']\n"
     ]
    }
   ],
   "source": [
    "#1.\\s:空白字符\n",
    "print('1.', re.search(r'\\s', 'hello world'))\n",
    "#2.\\n:换行\n",
    "print('2.', re.search(r'\\n', 'hello\\nworld'))\n",
    "#3.\\t:制表符\n",
    "print('3.', re.search(r'\\t', 'hello\\tworld'))\n",
    "#4.\\S:非空白字符\n",
    "print('4.', re.search(r'\\S', 'hello world'))\n",
    "#5.\\d:数字  ==[0,9]\n",
    "print('5.', re.search(r'\\d', 'hello0world'))\n",
    "#6.\\D:非数字  ==[^0,9]==>^在[]中还可以表示取反\n",
    "print('6.', re.search(r'\\D+', 'he110'))\n",
    "#7.\\w:数字、字母、汉字、_\n",
    "print('7.', re.findall(r'\\w+', '---he110_.*world---'))\n",
    "#8.\\W:\\w取反\n",
    "print('8.', re.findall(r'\\W+', '---he110_.*world---'))"
   ]
  },
  {
   "cell_type": "markdown",
   "metadata": {},
   "source": [
    "### 标点符号的特殊含义"
   ]
  },
  {
   "cell_type": "markdown",
   "metadata": {},
   "source": [
    "#### 特殊字符"
   ]
  },
  {
   "cell_type": "code",
   "execution_count": 7,
   "metadata": {},
   "outputs": [
    {
     "name": "stdout",
     "output_type": "stream",
     "text": [
      "1. 287\n",
      "1. <re.Match object; span=(8, 10), match='()'>\n",
      "3. <re.Match object; span=(7, 10), match='f5m'>\n",
      "3. <re.Match object; span=(7, 12), match='f532m'>\n",
      "3. None\n",
      "4. <re.Match object; span=(1, 5), match='scdv'>\n",
      "6. <re.Match object; span=(9, 11), match='xx'>\n",
      "6. <re.Match object; span=(9, 15), match='xxxxxx'>\n",
      "6. <re.Match object; span=(0, 0), match=''>\n",
      "6. <re.Match object; span=(2, 3), match='x'>\n",
      "7. <re.Match object; span=(0, 7), match='goooood'>\n",
      "8. <re.Match object; span=(0, 7), match='goooood'>\n",
      "9. <re.Match object; span=(0, 2), match='gd'>\n",
      "10. <re.Match object; span=(0, 7), match='abcdxyz'>\n",
      "10. <re.Match object; span=(5, 12), match='abcdxyz'>\n"
     ]
    }
   ],
   "source": [
    "#1.():分组\n",
    "print('1.', re.search(r'h(\\d+)x', 'sh287xsv()fkey').group(1))\n",
    "print('1.', re.search(r'\\(\\)', 'sh287xsv()fkey'))\n",
    "#2. .:除换行以外的任意字符\n",
    "#3.[]:表示可选项范围    [a,b]==>包含a,b\n",
    "print('3.', re.search(r'f[0-5]m', 'asdhjcbf5maec'))\n",
    "print('3.', re.search(r'f[0-5]+m', 'asdhjcbf532maec'))\n",
    "print('3.', re.search(r'f[0-5a-dx]m', 'asdhjcbf5cmaec'))  #[0-5a-dx]==>0-5或a-d或x\n",
    "#4.|:或者    和[]有一定地相似，但有区别:[]是范围且是单个字符，|是可选值且可为多个字符\n",
    "print('4.', re.search(r's(abc|cd)v', 'ascdvbt'))\n",
    "#5.\\d<==>[0-9]\n",
    "#6.{}:限定出现的次数   {n}==>前面的元素出现n次    {n,}==>n次以上    {,n}==>n次以下    {m,n}==>m到n次 \n",
    "print('6.', re.search(r'x{2}', 'guxmguawrxxfrx'))\n",
    "print('6.', re.search(r'x{2,}', 'guxmguawrxxxxxxfrx'))\n",
    "print('6.', re.search(r'x{,2}', 'guxmguawrxxfrx'))\n",
    "print('6.', re.search(r'x{1,2}', 'guxmguawrxxfrx'))\n",
    "#7.*:前面的元素出现任意次  =={0,}\n",
    "print('7.', re.search(r'go*d', 'goooood'))\n",
    "#8.+:前面的元素至少出现一次  =={1,}\n",
    "print('8.', re.search(r'go+d', 'goooood'))\n",
    "#9.?:两种用法：①前面的元素最多出现一次  =={,1}    ②将贪婪模式转换为非贪婪模式(*)\n",
    "print('9.', re.search(r'go?d', 'gd'))\n",
    "#10.^:以指定的内容开头    $:以指定的内容结尾\n",
    "print('10.', re.search(r'^a.*z$', 'abcdxyz'))\n",
    "print('10.', re.search(r'^a.*z$', 'dsvd\\nabcdxyz\\naernbc', re.M))"
   ]
  },
  {
   "cell_type": "markdown",
   "metadata": {},
   "source": [
    "# 贪婪模式和非贪婪模式"
   ]
  },
  {
   "cell_type": "code",
   "execution_count": 1,
   "metadata": {},
   "outputs": [
    {
     "name": "stdout",
     "output_type": "stream",
     "text": [
      "mekuaxsa\n",
      "mekua\n"
     ]
    }
   ],
   "source": [
    "#默认是贪婪模式，尽可能多地匹配\n",
    "import re\n",
    "\n",
    "print(re.search(r'm.*a', 'avcmekuaxsa').group())\n",
    "#非贪婪模式，尽可能少地匹配\n",
    "print(re.search(r'm.*?a', 'avcmekuaxsa').group())"
   ]
  },
  {
   "cell_type": "code",
   "execution_count": 2,
   "metadata": {},
   "outputs": [
    {
     "name": "stdout",
     "output_type": "stream",
     "text": [
      "aa2243\n",
      "2243\n",
      "aa2\n",
      "2\n",
      "aa2243ddd\n",
      "2243\n",
      "aa2243ddd\n",
      "2243\n",
      "aa243ddd\n",
      "2\n",
      "aa243ddd\n",
      "\n",
      "243ddd\n"
     ]
    }
   ],
   "source": [
    "x1 = re.match(r'aa(\\d+)', 'aa2243ddd')\n",
    "print(x1.group(0))\n",
    "print(x1.group(1))\n",
    "x2 = re.match(r'aa(\\d+?)', 'aa2243ddd')\n",
    "print(x2.group(0))\n",
    "print(x2.group(1))\n",
    "x3 = re.match(r'aa(\\d+)ddd', 'aa2243ddd')\n",
    "print(x3.group(0))\n",
    "print(x3.group(1))\n",
    "x4 = re.match(r'aa(\\d+?)ddd', 'aa2243ddd')\n",
    "print(x4.group(0))\n",
    "print(x4.group(1))\n",
    "x5 = re.match(r'aa(\\d+?).*', 'aa243ddd')\n",
    "print(x5.group(0))\n",
    "print(x5.group(1))\n",
    "x6 = re.match(r'aa(\\d??)(.*)', 'aa243ddd')\n",
    "print(x6.group(0))\n",
    "print(x6.group(1))\n",
    "print(x6.group(2))"
   ]
  },
  {
   "cell_type": "markdown",
   "metadata": {},
   "source": [
    "# 练习"
   ]
  },
  {
   "cell_type": "code",
   "execution_count": 17,
   "metadata": {},
   "outputs": [
    {
     "name": "stdout",
     "output_type": "stream",
     "text": [
      "请输入：3.14\n",
      "3.14\n"
     ]
    }
   ],
   "source": [
    "#判断用户输入的内容是否是数字，若是，转化成为数字类型\n",
    "import re\n",
    "\n",
    "x = input('请输入：')\n",
    "if re.fullmatch(r'\\d+\\.?\\d+', x):\n",
    "    print(float(x))\n",
    "else:\n",
    "    print('不是数字')"
   ]
  },
  {
   "cell_type": "code",
   "execution_count": 1,
   "metadata": {},
   "outputs": [
    {
     "name": "stdout",
     "output_type": "stream",
     "text": [
      "请输入用户名：bckqeuc\n",
      "输入正确\n"
     ]
    }
   ],
   "source": [
    "#匹配用户名\n",
    "import re\n",
    "\n",
    "x = input('请输入用户名：')\n",
    "print('输入正确') if re.fullmatch(r'^\\D[0-9a-zA-Z_\\-]{3,13}', x) else print('输入错误')\n",
    "#                                  以非数字开头，由数字、大小写字母、_、-组成，长度为4-14位"
   ]
  },
  {
   "cell_type": "code",
   "execution_count": 6,
   "metadata": {},
   "outputs": [
    {
     "name": "stdout",
     "output_type": "stream",
     "text": [
      "请输入邮箱：2734492976@qq.com\n",
      "输入正确\n"
     ]
    }
   ],
   "source": [
    "#匹配邮箱\n",
    "import re\n",
    "\n",
    "x = input('请输入邮箱：')\n",
    "print('输入正确') if re.fullmatch(r'^([A-Za-z0-9_\\-\\.])+@([A-Za-z0-9_\\-\\.])+\\.([A-Za-z]{2,4})$', x) else print(\n",
    "    '输入错误')"
   ]
  },
  {
   "cell_type": "code",
   "execution_count": 7,
   "metadata": {},
   "outputs": [
    {
     "name": "stdout",
     "output_type": "stream",
     "text": [
      "请输入手机号：18506258298\n",
      "输入正确\n"
     ]
    }
   ],
   "source": [
    "#匹配手机号\n",
    "import re\n",
    "\n",
    "x = input('请输入手机号：')\n",
    "print('输入正确') if re.fullmatch(r'^((13[0-9])|(14[5|7])|(15([0-3]|[5-9]))|(18[05-9]))\\d{8}$', x) else print(\n",
    "    '输入错误')\n",
    "#                                      130~139、145~147、150~153、155~159、180、185~189加8位数字"
   ]
  },
  {
   "cell_type": "code",
   "execution_count": 8,
   "metadata": {},
   "outputs": [
    {
     "name": "stdout",
     "output_type": "stream",
     "text": [
      "请输入身份证号：320582200507040339\n",
      "输入正确\n"
     ]
    }
   ],
   "source": [
    "#匹配身份证号\n",
    "import re\n",
    "\n",
    "x = input('请输入身份证号：')\n",
    "print('输入正确') if re.fullmatch(\n",
    "    r'^[1-9]\\d{5}(18|19|20)\\d{2}((0[1-9])|(10|11|12))(([0-2][1-9])|10|20|30|31)\\d{3}[0-9Xx]', x) else print('输入错误')\n",
    "#                                   1xxxxx~9xxxxx  1800~2099  01~09、10、11、12"
   ]
  },
  {
   "cell_type": "code",
   "execution_count": null,
   "metadata": {},
   "outputs": [],
   "source": [
    "#匹配URL地址\n",
    "import re\n",
    "\n",
    "x = input('请输入URL地址：')\n",
    "print('输入正确') if re.fullmatch(\n",
    "    r'((ht|f)tps?):\\/\\/(([\\w\\-]+(\\.[\\w\\-]+)*\\/)*[\\w\\-]+\\.[\\w\\-]+)*\\/?([\\w\\-\\.,@?^=%:\\/~])', x) else print('输入错误')"
   ]
  },
  {
   "cell_type": "code",
   "execution_count": 9,
   "metadata": {},
   "outputs": [
    {
     "name": "stdout",
     "output_type": "stream",
     "text": [
      "请输入QQ号：2734492976\n",
      "输入正确\n"
     ]
    }
   ],
   "source": [
    "#匹配QQ号\n",
    "import re\n",
    "\n",
    "x = input('请输入QQ号：')\n",
    "print('输入正确') if re.fullmatch(r'^[1-9][0-9]{4,10}', x) else print('输入错误')"
   ]
  },
  {
   "cell_type": "code",
   "execution_count": 10,
   "metadata": {},
   "outputs": [
    {
     "name": "stdout",
     "output_type": "stream",
     "text": [
      "请输入微信号：A18506258298\n",
      "输入正确\n"
     ]
    }
   ],
   "source": [
    "#匹配微信号\n",
    "import re\n",
    "\n",
    "x = input('请输入微信号：')\n",
    "print('输入正确') if re.fullmatch(r'^[A-Za-z]([-_a-zA-Z0-9]{5,19})+$', x) else print('输入错误')"
   ]
  },
  {
   "cell_type": "code",
   "execution_count": 11,
   "metadata": {},
   "outputs": [
    {
     "name": "stdout",
     "output_type": "stream",
     "text": [
      "请输入车牌号：苏U29163\n",
      "输入正确\n"
     ]
    }
   ],
   "source": [
    "#匹配车牌号\n",
    "import re\n",
    "\n",
    "x = input('请输入车牌号：')\n",
    "print('输入正确') if re.fullmatch(\n",
    "    r'^[京津沪渝冀豫云滇辽黑湘皖鲁新苏浙赣鄂桂甘陇晋蒙陕秦吉闽贵黔粤青藏川蜀宁琼台使领A-Z]{1}[A-Z]{1}[0-9A-Z]{4}[A-Z0-9挂学警港澳]{1}$',\n",
    "    x) else print('输入错误')"
   ]
  },
  {
   "cell_type": "code",
   "execution_count": 3,
   "metadata": {},
   "outputs": [
    {
     "name": "stdout",
     "output_type": "stream",
     "text": [
      "请输入密码：akbcuiqwye\n",
      "输入正确\n"
     ]
    }
   ],
   "source": [
    "#匹配密码\n",
    "#1.以字母开头  2.不包含!@%^&*字符  3.长度在6-12位\n",
    "import re\n",
    "\n",
    "x = input('请输入密码：')\n",
    "print('输入正确') if re.fullmatch(r'^[a-zA-Z][^!@%^&*]{5,11}', x) else print('输入错误')"
   ]
  },
  {
   "cell_type": "code",
   "execution_count": 5,
   "metadata": {},
   "outputs": [
    {
     "name": "stdout",
     "output_type": "stream",
     "text": [
      "1000phone hello python\n",
      "1000phone java\n"
     ]
    }
   ],
   "source": [
    "#匹配文件demo.txt中以1000phone开头的语句\n",
    "import re\n",
    "\n",
    "try:\n",
    "    with open('demo.txt', 'r', encoding='utf8') as file:\n",
    "        while 1:\n",
    "            content = file.readline().strip('\\n')\n",
    "            if not content:\n",
    "                break\n",
    "            if re.match(r'^1000phone', content):\n",
    "                print(content)\n",
    "except FileNotFoundError:\n",
    "    print('文件打开失败！')"
   ]
  },
  {
   "cell_type": "code",
   "execution_count": 7,
   "metadata": {},
   "outputs": [
    {
     "name": "stdout",
     "output_type": "stream",
     "text": [
      "请输入ip地址：192.163.249.255\n",
      "输入正确\n"
     ]
    }
   ],
   "source": [
    "#ip地址检测(0.0.0.0~255.255.255.255)\n",
    "import re\n",
    "\n",
    "x = input('请输入ip地址：')\n",
    "print('输入正确') if re.fullmatch(r'((\\d|[1-9]\\d|1\\d{2}|2([0-4]\\d|5[0-5]))\\.){3}(\\d|[1-9]\\d|1\\d{2}|2([0-4]\\d|5[0-5]))',\n",
    "                                  x) else print('输入错误')"
   ]
  },
  {
   "cell_type": "code",
   "execution_count": 12,
   "metadata": {},
   "outputs": [
    {
     "name": "stdout",
     "output_type": "stream",
     "text": [
      "请输入数据：-3.14good87nice19bye\n",
      "-3.14\n",
      "87\n",
      "19\n"
     ]
    }
   ],
   "source": [
    "#提取用户输入数据中的数值(-3.14good87nice19bye)\n",
    "import re\n",
    "\n",
    "x = input('请输入数据：')\n",
    "r = re.finditer(r'-?(0|[1-9]\\d*)(\\.\\d+)?', x)\n",
    "for i in r:\n",
    "    print(i.group())"
   ]
  },
  {
   "cell_type": "code",
   "execution_count": null,
   "metadata": {},
   "outputs": [],
   "source": []
  }
 ],
 "metadata": {
  "kernelspec": {
   "display_name": "Python 3 (ipykernel)",
   "language": "python",
   "name": "python3"
  },
  "language_info": {
   "codemirror_mode": {
    "name": "ipython",
    "version": 3
   },
   "file_extension": ".py",
   "mimetype": "text/x-python",
   "name": "python",
   "nbconvert_exporter": "python",
   "pygments_lexer": "ipython3",
   "version": "3.9.18"
  }
 },
 "nbformat": 4,
 "nbformat_minor": 4
}
