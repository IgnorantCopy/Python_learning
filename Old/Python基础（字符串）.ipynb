{
 "cells": [
  {
   "cell_type": "markdown",
   "metadata": {},
   "source": [
    "# AI三要素：数据、算法、（计）算力"
   ]
  },
  {
   "cell_type": "markdown",
   "metadata": {},
   "source": [
    "## 算力：1.CNN:图像识别、目标检测。2.RNN：情感分析、语言分析、图片文字生成。3.GAN"
   ]
  },
  {
   "cell_type": "markdown",
   "metadata": {},
   "source": [
    "# python基本数据类型\n",
    "1. 整型（1、2、3……）（不可变数据类型）\n",
    "2. 浮点型（1.1、3.14……）\n",
    "3. 字符串型（'hello'\"hello\"'''hello'''）"
   ]
  },
  {
   "cell_type": "markdown",
   "metadata": {},
   "source": [
    "# Markdown的使用\n",
    "* '# 主标题  ## 副标题……'\n",
    "* **加粗\n",
    "* ***及以上：斜体"
   ]
  },
  {
   "cell_type": "markdown",
   "metadata": {},
   "source": [
    "# 快捷方式：\n",
    "1. 向上添加\"A\"\n",
    "2. 向下添加\"B\"\n",
    "3. 运行\"shift+enter\""
   ]
  },
  {
   "cell_type": "markdown",
   "metadata": {},
   "source": [
    "# print函数"
   ]
  },
  {
   "cell_type": "code",
   "execution_count": 1,
   "metadata": {},
   "outputs": [
    {
     "name": "stdout",
     "output_type": "stream",
     "text": [
      "hello\n"
     ]
    }
   ],
   "source": [
    "print(\"hello\")"
   ]
  },
  {
   "cell_type": "code",
   "execution_count": 4,
   "metadata": {},
   "outputs": [
    {
     "name": "stdout",
     "output_type": "stream",
     "text": [
      "2\n"
     ]
    }
   ],
   "source": [
    "print(1 + 1)"
   ]
  },
  {
   "cell_type": "markdown",
   "metadata": {},
   "source": [
    "# 运算符\n",
    "1. 加\"+\"\n",
    "2. 减\"-\"\n",
    "3. 乘\"* \"\n",
    "4. 除\"/\"\n",
    "5. 幂\"** \"\n",
    "6. 取整\"//\"\n",
    "7. 取余\"%\"\n",
    "8. ==\n",
    "9. \\> \\>= < <= != += -="
   ]
  },
  {
   "cell_type": "markdown",
   "metadata": {},
   "source": [
    "# 调整小数点问题"
   ]
  },
  {
   "cell_type": "code",
   "execution_count": 5,
   "metadata": {},
   "outputs": [
    {
     "name": "stdout",
     "output_type": "stream",
     "text": [
      "0.33333333333333337\n"
     ]
    }
   ],
   "source": [
    "print(1 - 2 / 3)"
   ]
  },
  {
   "cell_type": "code",
   "execution_count": 6,
   "metadata": {},
   "outputs": [
    {
     "name": "stdout",
     "output_type": "stream",
     "text": [
      "0.3333333333333333333333333333\n"
     ]
    }
   ],
   "source": [
    "import decimal\n",
    "\n",
    "a = decimal.Decimal(1)\n",
    "b = decimal.Decimal(3)\n",
    "print(a / b)"
   ]
  },
  {
   "cell_type": "code",
   "execution_count": 7,
   "metadata": {},
   "outputs": [
    {
     "name": "stdout",
     "output_type": "stream",
     "text": [
      "0.3333333333333333333333333333\n"
     ]
    }
   ],
   "source": [
    "from decimal import Decimal\n",
    "\n",
    "a = Decimal(1)\n",
    "b = Decimal(3)\n",
    "print(a / b)"
   ]
  },
  {
   "cell_type": "markdown",
   "metadata": {},
   "source": [
    "# 科学计数法"
   ]
  },
  {
   "cell_type": "code",
   "execution_count": 8,
   "metadata": {},
   "outputs": [
    {
     "name": "stdout",
     "output_type": "stream",
     "text": [
      "230.0\n"
     ]
    }
   ],
   "source": [
    "print(2.3e02)"
   ]
  },
  {
   "cell_type": "code",
   "execution_count": 9,
   "metadata": {},
   "outputs": [
    {
     "name": "stdout",
     "output_type": "stream",
     "text": [
      "23000000000.0\n"
     ]
    }
   ],
   "source": [
    "print(2.3e10)"
   ]
  },
  {
   "cell_type": "markdown",
   "metadata": {},
   "source": [
    "# len函数\n",
    "表示（）内包含多少个字符"
   ]
  },
  {
   "cell_type": "code",
   "execution_count": 10,
   "metadata": {},
   "outputs": [
    {
     "data": {
      "text/plain": [
       "9"
      ]
     },
     "execution_count": 10,
     "metadata": {},
     "output_type": "execute_result"
    }
   ],
   "source": [
    "len(\"yes or no\")"
   ]
  },
  {
   "cell_type": "markdown",
   "metadata": {},
   "source": [
    "# 类型转换\n",
    "1. 整型int()\n",
    "2. 浮点型float()\n",
    "3. 字符串型str()"
   ]
  },
  {
   "cell_type": "code",
   "execution_count": 11,
   "metadata": {},
   "outputs": [
    {
     "data": {
      "text/plain": [
       "4"
      ]
     },
     "execution_count": 11,
     "metadata": {},
     "output_type": "execute_result"
    }
   ],
   "source": [
    "int(4.4)"
   ]
  },
  {
   "cell_type": "code",
   "execution_count": 12,
   "metadata": {},
   "outputs": [
    {
     "data": {
      "text/plain": [
       "4"
      ]
     },
     "execution_count": 12,
     "metadata": {},
     "output_type": "execute_result"
    }
   ],
   "source": [
    "int(4.8)"
   ]
  },
  {
   "cell_type": "code",
   "execution_count": 13,
   "metadata": {},
   "outputs": [
    {
     "data": {
      "text/plain": [
       "4.0"
      ]
     },
     "execution_count": 13,
     "metadata": {},
     "output_type": "execute_result"
    }
   ],
   "source": [
    "float(4)"
   ]
  },
  {
   "cell_type": "code",
   "execution_count": 14,
   "metadata": {},
   "outputs": [
    {
     "data": {
      "text/plain": [
       "'4'"
      ]
     },
     "execution_count": 14,
     "metadata": {},
     "output_type": "execute_result"
    }
   ],
   "source": [
    "str(4)"
   ]
  },
  {
   "cell_type": "markdown",
   "metadata": {},
   "source": [
    "# 字符串"
   ]
  },
  {
   "cell_type": "markdown",
   "metadata": {},
   "source": [
    "## 字符串的查找"
   ]
  },
  {
   "cell_type": "code",
   "outputs": [
    {
     "name": "stdout",
     "output_type": "stream",
     "text": [
      "6\n",
      "6\n"
     ]
    }
   ],
   "source": [
    "x = 'sghdhjajhbcd'\n",
    "print(x.find('a'))  # 若不存在输出-1\n",
    "print(x.index('a'))  # 若不存在会报错"
   ],
   "metadata": {
    "ExecuteTime": {
     "end_time": "2024-02-13T13:53:31.187405800Z",
     "start_time": "2024-02-13T13:53:31.164665100Z"
    }
   },
   "execution_count": 1
  },
  {
   "cell_type": "code",
   "outputs": [
    {
     "name": "stdout",
     "output_type": "stream",
     "text": [
      "输入一个数字：a\n",
      "你输入的不是数字。\n"
     ]
    }
   ],
   "source": [
    "# 判断是否是数字\n",
    "n = input('输入一个数字：')\n",
    "n = int(n) if n.isdigit() else print('你输入的不是数字。')"
   ],
   "metadata": {},
   "execution_count": 5
  },
  {
   "cell_type": "code",
   "execution_count": 7,
   "metadata": {
    "scrolled": true
   },
   "outputs": [
    {
     "name": "stdout",
     "output_type": "stream",
     "text": [
      "True\n",
      "True\n",
      "True\n"
     ]
    }
   ],
   "source": [
    "# 判断是否由数字和字母组成\n",
    "x = 'hello'\n",
    "print(x.startswith('h'))\n",
    "print(x.endswith('o'))\n",
    "print(x.isalnum())"
   ]
  },
  {
   "cell_type": "markdown",
   "metadata": {},
   "source": [
    "## 字符串的替换"
   ]
  },
  {
   "cell_type": "code",
   "execution_count": 11,
   "metadata": {},
   "outputs": [
    {
     "name": "stdout",
     "output_type": "stream",
     "text": [
      "eat\n",
      "ear\n"
     ]
    }
   ],
   "source": [
    "x = \"eat\"\n",
    "x.replace('t', 'r')  # 字符串不可改变\n",
    "print(x)\n",
    "x = x.replace('t', 'r')\n",
    "print(x)"
   ]
  },
  {
   "cell_type": "markdown",
   "metadata": {},
   "source": [
    "## 字符串的内容分隔"
   ]
  },
  {
   "cell_type": "code",
   "execution_count": 6,
   "metadata": {
    "ExecuteTime": {
     "end_time": "2024-02-13T14:07:12.526468600Z",
     "start_time": "2024-02-13T14:07:12.429928700Z"
    }
   },
   "outputs": [
    {
     "name": "stdout",
     "output_type": "stream",
     "text": [
      "['hello', 'number', 'name', 'gender']\n"
     ]
    }
   ],
   "source": [
    "x = 'hello,number,name,gender'\n",
    "print(x.split(','))"
   ]
  },
  {
   "cell_type": "code",
   "execution_count": 7,
   "metadata": {
    "scrolled": true,
    "ExecuteTime": {
     "end_time": "2024-02-13T14:07:32.360532100Z",
     "start_time": "2024-02-13T14:07:32.249209200Z"
    }
   },
   "outputs": [
    {
     "name": "stdout",
     "output_type": "stream",
     "text": [
      "['hello', 'number', 'name,gender']\n"
     ]
    }
   ],
   "source": [
    "print(x.split(',', 2))"
   ]
  },
  {
   "cell_type": "code",
   "execution_count": 8,
   "metadata": {
    "ExecuteTime": {
     "end_time": "2024-02-13T14:07:42.326740300Z",
     "start_time": "2024-02-13T14:07:42.231734500Z"
    }
   },
   "outputs": [
    {
     "name": "stdout",
     "output_type": "stream",
     "text": [
      "['hello,number', 'name', 'gender']\n"
     ]
    }
   ],
   "source": [
    "print(x.rsplit(',', 2))"
   ]
  },
  {
   "cell_type": "code",
   "execution_count": 9,
   "metadata": {
    "scrolled": true,
    "ExecuteTime": {
     "end_time": "2024-02-13T14:07:53.207864900Z",
     "start_time": "2024-02-13T14:07:53.094433400Z"
    }
   },
   "outputs": [
    {
     "name": "stdout",
     "output_type": "stream",
     "text": [
      "('ajhdbc', 'A', 'sjkhbAfv')\n"
     ]
    }
   ],
   "source": [
    "x = 'ajhdbcAsjkhbAfv'\n",
    "print(x.partition('A'))"
   ]
  },
  {
   "cell_type": "code",
   "execution_count": 10,
   "metadata": {
    "ExecuteTime": {
     "end_time": "2024-02-13T14:08:04.572093600Z",
     "start_time": "2024-02-13T14:08:04.422404500Z"
    }
   },
   "outputs": [
    {
     "name": "stdout",
     "output_type": "stream",
     "text": [
      "('ajhdbcAsjkhb', 'A', 'fv')\n"
     ]
    }
   ],
   "source": [
    "print(x.rpartition('A'))"
   ]
  },
  {
   "cell_type": "markdown",
   "metadata": {},
   "source": [
    "## 格式化打印字符串"
   ]
  },
  {
   "cell_type": "markdown",
   "metadata": {},
   "source": [
    "### 使用%"
   ]
  },
  {
   "cell_type": "code",
   "execution_count": 16,
   "metadata": {},
   "outputs": [
    {
     "name": "stdout",
     "output_type": "stream",
     "text": [
      "我是马楷恒，今年16岁，有5.50元钱\n"
     ]
    }
   ],
   "source": [
    "name = '马楷恒'\n",
    "age = 16\n",
    "money = 5.5\n",
    "print('我是%s，今年%d岁，有%.2f元钱' % (name, age, money))  # %s表示字符串的占位符  %d表示整数的占位符 %f表示浮点数的占位符"
   ]
  },
  {
   "cell_type": "code",
   "execution_count": 7,
   "metadata": {},
   "outputs": [
    {
     "name": "stdout",
     "output_type": "stream",
     "text": [
      "我是马楷恒，今年 16岁，有5.50元钱\n"
     ]
    }
   ],
   "source": [
    "print('我是%s，今年%3d岁，有%.2f元钱' % (name, age, money))  # %nd表示几位  %.nf表示保留n位小数"
   ]
  },
  {
   "cell_type": "code",
   "execution_count": 8,
   "metadata": {},
   "outputs": [
    {
     "name": "stdout",
     "output_type": "stream",
     "text": [
      "我是马楷恒，今年16 岁，有5.50元钱\n"
     ]
    }
   ],
   "source": [
    "print('我是%s，今年%-3d岁，有%.2f元钱' % (name, age, money))"
   ]
  },
  {
   "cell_type": "code",
   "execution_count": 10,
   "metadata": {},
   "outputs": [
    {
     "name": "stdout",
     "output_type": "stream",
     "text": [
      "我是%abc，今年16岁\n"
     ]
    }
   ],
   "source": [
    "# %% ==> '%'\n",
    "print('我是%%abc，今年%d岁' % age)"
   ]
  },
  {
   "cell_type": "markdown",
   "metadata": {},
   "source": [
    "### format的用法"
   ]
  },
  {
   "cell_type": "code",
   "execution_count": 11,
   "metadata": {},
   "outputs": [
    {
     "name": "stdout",
     "output_type": "stream",
     "text": [
      "我是马楷恒，今年16岁\n"
     ]
    }
   ],
   "source": [
    "print('我是{}，今年{}岁'.format(name, age))"
   ]
  },
  {
   "cell_type": "code",
   "execution_count": 13,
   "metadata": {},
   "outputs": [
    {
     "name": "stdout",
     "output_type": "stream",
     "text": [
      "我是马楷恒，今年16岁\n"
     ]
    }
   ],
   "source": [
    "print('我是{1}，今年{0}岁'.format(age, name))  #{}中的数字代表顺序，但要从0开始"
   ]
  },
  {
   "cell_type": "code",
   "execution_count": 18,
   "metadata": {},
   "outputs": [
    {
     "name": "stdout",
     "output_type": "stream",
     "text": [
      "我是马楷恒，今年16岁\n"
     ]
    }
   ],
   "source": [
    "print('我是{name}，今年{age}岁'.format(name='马楷恒', age='16'))"
   ]
  },
  {
   "cell_type": "code",
   "execution_count": 19,
   "metadata": {},
   "outputs": [
    {
     "name": "stdout",
     "output_type": "stream",
     "text": [
      "我是马楷恒，今年16岁\n"
     ]
    }
   ],
   "source": [
    "list1 = ['马楷恒', 16]\n",
    "print('我是{}，今年{}岁'.format(*list1))"
   ]
  },
  {
   "cell_type": "code",
   "execution_count": 21,
   "metadata": {
    "scrolled": true
   },
   "outputs": [
    {
     "name": "stdout",
     "output_type": "stream",
     "text": [
      "我是马楷恒，今年16岁\n"
     ]
    }
   ],
   "source": [
    "dictionary = {'name': '马楷恒', 'age': 16}\n",
    "print('我是{name}，今年{age}岁'.format(**dictionary))"
   ]
  },
  {
   "cell_type": "code",
   "execution_count": 2,
   "metadata": {},
   "outputs": [
    {
     "name": "stdout",
     "output_type": "stream",
     "text": [
      "0abc\n"
     ]
    }
   ],
   "source": [
    "# x.zfill(n)==>补0\n",
    "x = 'abc'\n",
    "print(x.zfill(4))"
   ]
  },
  {
   "cell_type": "markdown",
   "metadata": {},
   "source": [
    "## json字符串\n",
    "把list、temple、dictionary等转换为json字符串"
   ]
  },
  {
   "cell_type": "raw",
   "metadata": {},
   "source": [
    "格式：\n",
    "'{\"key\":\"value\"}'   #''里的引号只能用\"\"\n",
    "Python ==> Json\n",
    "str ==> string\n",
    "dict ==> object（对象）\n",
    "list、tuple ==> array（数组）\n",
    "int、float ==> number\n",
    "True ==> true\n",
    "False ==> false\n",
    "None ==> null"
   ]
  },
  {
   "cell_type": "code",
   "execution_count": 3,
   "metadata": {
    "ExecuteTime": {
     "end_time": "2024-02-13T14:02:17.932725200Z",
     "start_time": "2024-02-13T14:02:17.829209400Z"
    }
   },
   "outputs": [
    {
     "name": "stdout",
     "output_type": "stream",
     "text": [
      "{\"name\": \"zhangsan\", \"age\": \"20\"}\n",
      "<class 'str'>\n",
      "{'name': 'zhangsan', 'age': '20'}\n",
      "<class 'dict'>\n",
      "{'name': 'zhangsan', 'age': '20'}\n",
      "<class 'dict'>\n"
     ]
    }
   ],
   "source": [
    "import json\n",
    "\n",
    "person = {'name': 'zhangsan', 'age': '20'}\n",
    "x = json.dumps(person)  #把list、temple、dictionary等转换为json字符串\n",
    "print(x)\n",
    "print(type(x))\n",
    "\n",
    "y = eval(x)\n",
    "print(y)\n",
    "print(type(y))\n",
    "# 更好的方法\n",
    "z = json.loads(x)\n",
    "print(z)\n",
    "print(type(z))"
   ]
  },
  {
   "cell_type": "code",
   "execution_count": 2,
   "metadata": {},
   "outputs": [
    {
     "name": "stdout",
     "output_type": "stream",
     "text": [
      "[\"a\", \"b\", \"c\"] [\"a\", \"b\", \"c\"]\n",
      "['a', 'b', 'c']\n",
      "<class 'list'>\n"
     ]
    }
   ],
   "source": [
    "a = json.dumps(['a', 'b', 'c'])\n",
    "b = json.dumps(('a', 'b', 'c'))\n",
    "print(a, b)\n",
    "c = eval(b)\n",
    "print(c)\n",
    "print(type(c))"
   ]
  },
  {
   "cell_type": "markdown",
   "metadata": {},
   "source": [
    "# 四舍五入(round)"
   ]
  },
  {
   "cell_type": "code",
   "execution_count": 15,
   "metadata": {},
   "outputs": [
    {
     "data": {
      "text/plain": [
       "4"
      ]
     },
     "execution_count": 15,
     "metadata": {},
     "output_type": "execute_result"
    }
   ],
   "source": [
    "round(4.4)"
   ]
  },
  {
   "cell_type": "code",
   "execution_count": 16,
   "metadata": {},
   "outputs": [
    {
     "data": {
      "text/plain": [
       "5"
      ]
     },
     "execution_count": 16,
     "metadata": {},
     "output_type": "execute_result"
    }
   ],
   "source": [
    "round(4.6)"
   ]
  },
  {
   "cell_type": "code",
   "execution_count": 17,
   "metadata": {},
   "outputs": [
    {
     "data": {
      "text/plain": [
       "4"
      ]
     },
     "execution_count": 17,
     "metadata": {},
     "output_type": "execute_result"
    }
   ],
   "source": [
    "round(4.5)"
   ]
  },
  {
   "cell_type": "code",
   "execution_count": 18,
   "metadata": {},
   "outputs": [
    {
     "data": {
      "text/plain": [
       "6"
      ]
     },
     "execution_count": 18,
     "metadata": {},
     "output_type": "execute_result"
    }
   ],
   "source": [
    "round(5.5)"
   ]
  },
  {
   "cell_type": "markdown",
   "metadata": {},
   "source": [
    "# 变量命名规则\n",
    "1.注意大小写。2.由字母、下划线、数字组成。3.第一个字符为字母或数字。"
   ]
  },
  {
   "cell_type": "markdown",
   "metadata": {},
   "source": [
    "# 赋值"
   ]
  },
  {
   "cell_type": "code",
   "execution_count": 19,
   "metadata": {},
   "outputs": [
    {
     "name": "stdout",
     "output_type": "stream",
     "text": [
      "12\n"
     ]
    }
   ],
   "source": [
    "a = 12\n",
    "print(a)"
   ]
  },
  {
   "cell_type": "code",
   "execution_count": 5,
   "metadata": {
    "ExecuteTime": {
     "end_time": "2024-02-13T14:03:21.764701Z",
     "start_time": "2024-02-13T14:03:21.545364700Z"
    }
   },
   "outputs": [
    {
     "name": "stdout",
     "output_type": "stream",
     "text": [
      "1 two 3.0\n"
     ]
    }
   ],
   "source": [
    "x, y, z = 1, \"two\", 3.0\n",
    "print(x, y, z)"
   ]
  },
  {
   "cell_type": "markdown",
   "metadata": {},
   "source": [
    "# 练习"
   ]
  },
  {
   "cell_type": "code",
   "execution_count": 4,
   "metadata": {},
   "outputs": [
    {
     "name": "stdout",
     "output_type": "stream",
     "text": [
      "2\n"
     ]
    }
   ],
   "source": [
    "# 创建一个变量，并给它附一个数值，然后使用 print 显示这个变量。\n",
    "import random\n",
    "\n",
    "a = random.randint(0, 10)\n",
    "print(a)"
   ]
  },
  {
   "cell_type": "code",
   "execution_count": 5,
   "metadata": {},
   "outputs": [
    {
     "name": "stdout",
     "output_type": "stream",
     "text": [
      "2\n",
      "6\n"
     ]
    }
   ],
   "source": [
    "# 改变这个变量，用一个新值替换原来的值，或者将原来的值增加某个量，使用print显示这个新值。\n",
    "print(a)\n",
    "a += random.randint(0, 10)\n",
    "print(a)"
   ]
  },
  {
   "cell_type": "code",
   "execution_count": 3,
   "metadata": {},
   "outputs": [
    {
     "name": "stdout",
     "output_type": "stream",
     "text": [
      "each one should pay 13.520166666666666\n"
     ]
    }
   ],
   "source": [
    "# 三个人在餐厅吃饭，共花费35.27美元，他们还想留15%的小费。打印一句话显示每人该付多少钱？\n",
    "pay = 35.27\n",
    "final = pay * (1 + 0.15)\n",
    "everyone_pay = final / 3\n",
    "print(\"each one should pay\", everyone_pay)"
   ]
  },
  {
   "cell_type": "code",
   "execution_count": 7,
   "metadata": {},
   "outputs": [
    {
     "name": "stdout",
     "output_type": "stream",
     "text": [
      "10080\n"
     ]
    }
   ],
   "source": [
    "# 计算一周有多少分钟。\n",
    "minutes = 1\n",
    "minutes_per_hour = minutes * 60\n",
    "minutes_per_day = minutes_per_hour * 24\n",
    "minutes_per_week = minutes_per_day * 7\n",
    "print(minutes_per_week)"
   ]
  },
  {
   "cell_type": "code",
   "execution_count": 9,
   "metadata": {},
   "outputs": [
    {
     "name": "stdout",
     "output_type": "stream",
     "text": [
      "50 8\n"
     ]
    }
   ],
   "source": [
    "# 商店以40元的价钱卖出一件商品，亏了20%，这件商品原价多少元，亏了多少元?\n",
    "out = 40\n",
    "_in = int(40 / (1 - 0.2))\n",
    "no = int(out * 0.2)\n",
    "print(_in, no)"
   ]
  },
  {
   "cell_type": "code",
   "execution_count": 23,
   "metadata": {},
   "outputs": [
    {
     "name": "stdout",
     "output_type": "stream",
     "text": [
      "F is 122\n",
      "C is 50\n"
     ]
    }
   ],
   "source": [
    "# 写一个程序，把温度从华氏度转换为摄氏度。转换公式是C = 5/9 * (F - 32）\n",
    "import random\n",
    "\n",
    "F = random.randint(50, 200)\n",
    "C = int(5 / 9 * (F - 32))\n",
    "print(\"F is\", F)\n",
    "print(\"C is\", C)"
   ]
  },
  {
   "cell_type": "code",
   "execution_count": 25,
   "metadata": {},
   "outputs": [
    {
     "name": "stdout",
     "output_type": "stream",
     "text": [
      "盈利了 12\n"
     ]
    }
   ],
   "source": [
    "# 某商店同时卖出两件商品，每件各要30元，其中一件盈利20%，另一件亏本20%，这个商店卖出这两件商品总体上是盈利还是亏本？具体是多少\n",
    "_in = 30\n",
    "great = int(_in * (1 + 0.2))\n",
    "no = int(_in * (1 - 0.2))\n",
    "if great - no > 0:\n",
    "    print(\"盈利了\", great - no)\n",
    "else:\n",
    "    print(\"亏了\", abs(great - no))"
   ]
  }
 ],
 "metadata": {
  "kernelspec": {
   "display_name": "Python 3 (ipykernel)",
   "language": "python",
   "name": "python3"
  },
  "language_info": {
   "codemirror_mode": {
    "name": "ipython",
    "version": 3
   },
   "file_extension": ".py",
   "mimetype": "text/x-python",
   "name": "python",
   "nbconvert_exporter": "python",
   "pygments_lexer": "ipython3",
   "version": "3.9.13"
  }
 },
 "nbformat": 4,
 "nbformat_minor": 4
}
