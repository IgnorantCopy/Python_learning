{
 "cells": [
  {
   "cell_type": "markdown",
   "metadata": {},
   "source": [
    "# 导入模块的方法\n",
    "1. import 模块名\n",
    "2. from 模块名 import 函数名\n",
    "3. from 模块名 import *==>导入'所有'方法和变量（本质上是读取模块里的__all__属性，看属性里定义了哪些变量和函数，如果没有定义__all__，才会导入不以_开头的变量和函数）\n",
    "4. import 模块名 as 模块别名\n",
    "5. from 模块名 import 函数名 as 函数别名"
   ]
  },
  {
   "cell_type": "markdown",
   "source": [],
   "metadata": {
    "collapsed": false
   }
  },
  {
   "cell_type": "markdown",
   "metadata": {},
   "source": [
    "# os模块\n",
    "* 全称：OperationSystem操作系统\n",
    "* 用来调用操作系统里的方法"
   ]
  },
  {
   "cell_type": "code",
   "execution_count": 6,
   "metadata": {},
   "outputs": [
    {
     "name": "stdout",
     "output_type": "stream",
     "text": [
      "1. nt\n",
      "2. \\\n",
      "3. C:\\Users\\徐燕\\马楷恒.docx\n",
      "4. True\n",
      "5. True\n",
      "6. True\n",
      "7. ('马楷恒', '.docx')\n"
     ]
    }
   ],
   "source": [
    "import os\n",
    "\n",
    "print('1.', os.name)  # 获取操作系统的名字     windows ==> nt; 非windows ==> posix\n",
    "print('2.', os.sep)  # 路径分隔符     windows ==> \\; 非windows ==> /\n",
    "print('3.', os.path.abspath('马楷恒.docx'))  # 获取文件的绝对路径\n",
    "print('4.', os.path.isdir('Music'))  # 判断是否是文件夹\n",
    "print('5.', os.path.isfile('函数.ipynb'))  # 判断是否是文件\n",
    "print('6.', os.path.exists('函数.ipynb'))  # 判断是否存在\n",
    "print('7.', os.path.splitext('马楷恒.docx'))  # ('文件名', '后缀')"
   ]
  },
  {
   "cell_type": "markdown",
   "source": [
    "其他用法：\n",
    "1. os.getcwd() ==> 获取当前工作目录，即当前python脚本工作的目录\n",
    "2. os.chdir() ==> 改变当前脚本工作的目录，相当于shell下的cd命令   #os.chdir('../') ==> 上一级目录\n",
    "3. os.rename('文件名', '新文件名') ==> 文件重命名\n",
    "4. os.remove('文件名') ==> 删除文件\n",
    "5. os.rmdir('dir') ==> 删除空文件夹\n",
    "6. os.mkdir('dir') ==> 创建文件夹\n",
    "7. os.chdir('C:\\\\\\\\') ==> 切换工作目录\n",
    "8. os.listdir('C:\\\\\\\\') ==> 列出指定目录里的所有文件和文件夹\n",
    "9. os.environ ==> 获取到环境配置\n",
    "10. os.environ.get('PATH') ==> 获取指定的环境配置"
   ],
   "metadata": {
    "collapsed": false
   }
  },
  {
   "cell_type": "markdown",
   "metadata": {},
   "source": [
    "# sys模块\n",
    "* 系统相关的功能"
   ]
  },
  {
   "cell_type": "code",
   "execution_count": 11,
   "metadata": {},
   "outputs": [
    {
     "name": "stdout",
     "output_type": "stream",
     "text": [
      "1. ['C:\\\\Users\\\\徐燕', 'C:\\\\ANACONDA3\\\\python37.zip', 'C:\\\\ANACONDA3\\\\DLLs', 'C:\\\\ANACONDA3\\\\lib', 'C:\\\\ANACONDA3', '', 'C:\\\\ANACONDA3\\\\lib\\\\site-packages', 'C:\\\\ANACONDA3\\\\lib\\\\site-packages\\\\win32', 'C:\\\\ANACONDA3\\\\lib\\\\site-packages\\\\win32\\\\lib', 'C:\\\\ANACONDA3\\\\lib\\\\site-packages\\\\Pythonwin', 'C:\\\\ANACONDA3\\\\lib\\\\site-packages\\\\IPython\\\\extensions', 'C:\\\\Users\\\\徐燕\\\\.ipython']\n",
      "2. <_io.TextIOWrapper name='<stdin>' mode='r' encoding='cp936'>\n",
      "3. <ipykernel.iostream.OutStream object at 0x00000161520B1A88>\n",
      "4. <ipykernel.iostream.OutStream object at 0x00000161520D7D08>\n"
     ]
    },
    {
     "ename": "SystemExit",
     "evalue": "100",
     "output_type": "error",
     "traceback": [
      "An exception has occurred, use %tb to see the full traceback.\n",
      "\u001B[1;31mSystemExit\u001B[0m\u001B[1;31m:\u001B[0m 100\n"
     ]
    }
   ],
   "source": [
    "import sys\n",
    "\n",
    "print('1.', sys.path)  # 一个列表，表示查找模块的路径\n",
    "print('2.', sys.stdin)  # 接受用户的输入，和input()相关\n",
    "print('3.', sys.stdout)  # 标准输出:通过修改，可以改变默认输出位置\n",
    "print('4.', sys.stderr)  # 通过修改，可以改变错误的默认输出位置\n",
    "sys.exit(100)  # 退出程序"
   ]
  },
  {
   "cell_type": "markdown",
   "metadata": {},
   "source": [
    "# math模块\n",
    "* 数学计算相关"
   ]
  },
  {
   "cell_type": "code",
   "execution_count": 12,
   "metadata": {},
   "outputs": [
    {
     "name": "stdout",
     "output_type": "stream",
     "text": [
      "1. 120\n",
      "2. 3\n",
      "3. 4\n",
      "4. 0.49999999999999994\n",
      "5. 0.5000000000000001\n",
      "6. 0.9999999999999999\n"
     ]
    }
   ],
   "source": [
    "import math\n",
    "\n",
    "print('1.', math.factorial(5))  # 阶乘\n",
    "print('2.', math.floor(3.4))  # 向下取整\n",
    "print('3.', math.ceil(3.4))  # 向上取整\n",
    "print('4.', math.sin(math.pi / 6))\n",
    "print('5.', math.cos(math.pi / 3))\n",
    "print('6.', math.tan(math.pi / 4))"
   ]
  },
  {
   "cell_type": "markdown",
   "metadata": {},
   "source": [
    "# random模块\n",
    "* 生成随机数"
   ]
  },
  {
   "cell_type": "code",
   "execution_count": 13,
   "metadata": {},
   "outputs": [
    {
     "name": "stdout",
     "output_type": "stream",
     "text": [
      "1. 8\n",
      "2. 0.8738456495020325\n",
      "3. 7\n",
      "4. 4\n",
      "5. [1, 2]\n"
     ]
    }
   ],
   "source": [
    "import random\n",
    "\n",
    "print('1.', random.randint(1, 9))  # 生成[1,9]内的随机整数   == random.randrange(1,10)\n",
    "print('2.', random.random())  # 生成[0,1)内的随机浮点数\n",
    "print('3.', random.randrange(1, 9))  # 生成[1,9)内的随机整数\n",
    "print('4.', random.choice([1, 2, 3, 4]))  # 在可迭代对象中随机抽取一个\n",
    "print('5.', random.sample([1, 2, 3, 4], 2))  # 在可迭代对象中随机抽取多个"
   ]
  },
  {
   "cell_type": "markdown",
   "metadata": {},
   "source": [
    "# datetime模块"
   ]
  },
  {
   "cell_type": "code",
   "execution_count": 14,
   "metadata": {},
   "outputs": [
    {
     "name": "stdout",
     "output_type": "stream",
     "text": [
      "1. 2021-05-09 11:44:36.179404\n",
      "2. 11:40:50\n",
      "3. 2021-05-09\n",
      "4. 2021-05-12 11:44:36.180399\n"
     ]
    }
   ],
   "source": [
    "import datetime as dt\n",
    "\n",
    "print('1.', dt.datetime.now())  # 获得当前时间\n",
    "print('2.', dt.time(11, 40, 50))  # 创建一个时间\n",
    "print('3.', dt.date(2021, 5, 9))  # 创建一个日期\n",
    "print('4.', dt.datetime.now() + dt.timedelta(3))  # 三天后的日期时间"
   ]
  },
  {
   "cell_type": "markdown",
   "metadata": {},
   "source": [
    "# time模块"
   ]
  },
  {
   "cell_type": "code",
   "execution_count": 22,
   "metadata": {},
   "outputs": [
    {
     "name": "stdout",
     "output_type": "stream",
     "text": [
      "1. 1620535086.0128944\n",
      "2. 2021-05-09Sun 12:38:06\n",
      "3. Sun May  9 12:38:06 2021\n",
      "4. Thu Jan  1 12:34:56 2021\n",
      "5. Sun May  9 12:38:06 2021\n",
      "6. Sat Feb 14 07:31:30 2009\n",
      "7. None\n"
     ]
    }
   ],
   "source": [
    "import time\n",
    "\n",
    "print('1.', time.time())  # 获取从1970-01-01 00:00:00 UTC 到现在的时间的秒数\n",
    "print('2.', time.strftime('%Y-%m-%dSun %H:%M:%S'))  # 按照指定格式输出时间\n",
    "print('3.', time.asctime())  # Sun May  9 12:31:58 2021\n",
    "print('4.', time.asctime((2021, 1, 1, 12, 34, 56, 3, 147, -1)))  # 九元素元组\n",
    "print('5.', time.ctime())  # Sun May  9 12:31:58 2021\n",
    "print('6.', time.ctime(1234567890))  # 输入时间戳，返回日期时间\n",
    "print('7.', time.sleep(1))  # 暂停"
   ]
  },
  {
   "cell_type": "markdown",
   "metadata": {},
   "source": [
    "# calendar模块"
   ]
  },
  {
   "cell_type": "code",
   "execution_count": 1,
   "metadata": {},
   "outputs": [
    {
     "name": "stdout",
     "output_type": "stream",
     "text": [
      "1.                                   2020\n",
      "\n",
      "      January                   February                   March\n",
      "Mo Tu We Th Fr Sa Su      Mo Tu We Th Fr Sa Su      Mo Tu We Th Fr Sa Su\n",
      "       1  2  3  4  5                      1  2                         1\n",
      " 6  7  8  9 10 11 12       3  4  5  6  7  8  9       2  3  4  5  6  7  8\n",
      "13 14 15 16 17 18 19      10 11 12 13 14 15 16       9 10 11 12 13 14 15\n",
      "20 21 22 23 24 25 26      17 18 19 20 21 22 23      16 17 18 19 20 21 22\n",
      "27 28 29 30 31            24 25 26 27 28 29         23 24 25 26 27 28 29\n",
      "                                                    30 31\n",
      "\n",
      "       April                      May                       June\n",
      "Mo Tu We Th Fr Sa Su      Mo Tu We Th Fr Sa Su      Mo Tu We Th Fr Sa Su\n",
      "       1  2  3  4  5                   1  2  3       1  2  3  4  5  6  7\n",
      " 6  7  8  9 10 11 12       4  5  6  7  8  9 10       8  9 10 11 12 13 14\n",
      "13 14 15 16 17 18 19      11 12 13 14 15 16 17      15 16 17 18 19 20 21\n",
      "20 21 22 23 24 25 26      18 19 20 21 22 23 24      22 23 24 25 26 27 28\n",
      "27 28 29 30               25 26 27 28 29 30 31      29 30\n",
      "\n",
      "        July                     August                  September\n",
      "Mo Tu We Th Fr Sa Su      Mo Tu We Th Fr Sa Su      Mo Tu We Th Fr Sa Su\n",
      "       1  2  3  4  5                      1  2          1  2  3  4  5  6\n",
      " 6  7  8  9 10 11 12       3  4  5  6  7  8  9       7  8  9 10 11 12 13\n",
      "13 14 15 16 17 18 19      10 11 12 13 14 15 16      14 15 16 17 18 19 20\n",
      "20 21 22 23 24 25 26      17 18 19 20 21 22 23      21 22 23 24 25 26 27\n",
      "27 28 29 30 31            24 25 26 27 28 29 30      28 29 30\n",
      "                          31\n",
      "\n",
      "      October                   November                  December\n",
      "Mo Tu We Th Fr Sa Su      Mo Tu We Th Fr Sa Su      Mo Tu We Th Fr Sa Su\n",
      "          1  2  3  4                         1          1  2  3  4  5  6\n",
      " 5  6  7  8  9 10 11       2  3  4  5  6  7  8       7  8  9 10 11 12 13\n",
      "12 13 14 15 16 17 18       9 10 11 12 13 14 15      14 15 16 17 18 19 20\n",
      "19 20 21 22 23 24 25      16 17 18 19 20 21 22      21 22 23 24 25 26 27\n",
      "26 27 28 29 30 31         23 24 25 26 27 28 29      28 29 30 31\n",
      "                          30\n",
      "\n",
      "2. True\n",
      "3. 6\n",
      "4.       May 2021\n",
      "Mo Tu We Th Fr Sa Su\n",
      "                1  2\n",
      " 3  4  5  6  7  8  9\n",
      "10 11 12 13 14 15 16\n",
      "17 18 19 20 21 22 23\n",
      "24 25 26 27 28 29 30\n",
      "31\n"
     ]
    }
   ],
   "source": [
    "import calendar as c\n",
    "\n",
    "# c.setfirstweekday(calendar.SUNDAY) ==> 设置每周起始日起码\n",
    "print('1.', c.calendar(2020))  # 日历\n",
    "print('2.', c.isleap(2020))  # 判断是否是闰年\n",
    "print('3.', c.leapdays(1996, 2020))  # 1996年到2020年一共有多少闰年\n",
    "print('4.', c.month(2021, 5))  # 2021年5月的日历 "
   ]
  },
  {
   "cell_type": "markdown",
   "metadata": {},
   "source": [
    "# hashlib模块和hmac模块\n",
    "* 加密"
   ]
  },
  {
   "cell_type": "raw",
   "metadata": {},
   "source": [
    "hashlib:md5和sha加密"
   ]
  },
  {
   "cell_type": "raw",
   "metadata": {},
   "source": [
    "加密方式：单项加密（md5、sha）、对称加密、非对称加密（rsa）\n",
    "单项加密：只有加密的过程，不能解密"
   ]
  },
  {
   "cell_type": "code",
   "execution_count": 3,
   "metadata": {},
   "outputs": [
    {
     "name": "stdout",
     "output_type": "stream",
     "text": [
      "900150983cd24fb0d6963f7d28e17f72\n"
     ]
    }
   ],
   "source": [
    "import hashlib\n",
    "import hmac\n",
    "\n",
    "# 要将加密的内容转换成二进制\n",
    "x = hashlib.md5()  # 生成md5对象\n",
    "x.update('abc'.encode('utf8'))\n",
    "print(x.hexdigest())"
   ]
  },
  {
   "cell_type": "code",
   "execution_count": 5,
   "metadata": {
    "scrolled": true
   },
   "outputs": [
    {
     "name": "stdout",
     "output_type": "stream",
     "text": [
      "7c4a8d09ca3762af61e59520943dc26494f8941b\n",
      "f8cdb04495ded47615258f9dc6a3f4707fd2405434fefc3cbf4ef4e6\n",
      "8d969eef6ecad3c29a3a629280e686cf0c3f5d5a86aff3ca12020c923adc6c92\n",
      "0a989ebc4a77b56a6e2bb7b19d995d185ce44090c13e2984b7ecc6d446d4b61ea9991b76a4c2f04b1b4d244841449454\n"
     ]
    }
   ],
   "source": [
    "x1 = hashlib.sha1('123456'.encode())\n",
    "print(x1.hexdigest())\n",
    "x2 = hashlib.sha224('123456'.encode())  # 224位，一个16进制占4位\n",
    "print(x2.hexdigest())\n",
    "x3 = hashlib.sha256('123456'.encode())\n",
    "print(x3.hexdigest())\n",
    "x4 = hashlib.sha384('123456'.encode())\n",
    "print(x4.hexdigest())"
   ]
  },
  {
   "cell_type": "code",
   "execution_count": 7,
   "metadata": {},
   "outputs": [
    {
     "name": "stdout",
     "output_type": "stream",
     "text": [
      "<bound method HMAC.hexdigest of <hmac.HMAC object at 0x0000014CD96EAC08>>\n"
     ]
    }
   ],
   "source": [
    "h = hmac.new('h'.encode(), 'hello'.encode())  # 用h给hello加密，h ==> 秘钥\n",
    "print(h.hexdigest)"
   ]
  },
  {
   "cell_type": "markdown",
   "metadata": {},
   "source": [
    "# uuid模块\n",
    "* 生成一个全局唯一的模块"
   ]
  },
  {
   "cell_type": "code",
   "execution_count": 12,
   "metadata": {
    "scrolled": true
   },
   "outputs": [
    {
     "name": "stdout",
     "output_type": "stream",
     "text": [
      "d7e90cc0-b5f4-11eb-b069-086d41d476e1\n",
      "5bd670ce-29c8-3369-a8a1-10ce44c7259e\n",
      "6cb8e707-0fc5-5f55-88d4-d4fed43e64a8\n",
      "d76e482b-1db0-41dd-9903-06079a948627\n"
     ]
    }
   ],
   "source": [
    "import uuid\n",
    "\n",
    "print(uuid.uuid1())  # 32个长度，每一个有16个选择，一共有16**32个可能，保证是系统唯一的uuid\n",
    "# uuid.uuid2()的算法和uuid1()相同，但python不支持\n",
    "print(uuid.uuid3(uuid.NAMESPACE_DNS, 'abc'))  #生成固定的uuid，使用的是md5\n",
    "print(uuid.uuid5(uuid.NAMESPACE_DNS, 'abc'))  #生成固定的uuid，使用的是sha1\n",
    "# NAMESPACE_DNS=UUID('6ba7b810-9dad-11d1-80b4-00c04fd430c8')\n",
    "# NAMESPACE_URL=UUID('6ba7b811-9dad-11d1-80b4-00c04fd430c8')\n",
    "# NAMESPACE_OID=UUID('6ba7b812-9dad-11d1-80b4-00c04fd430c8')\n",
    "# NAMESPACE_X500=UUID('6ba7b814-9dad-11d1-80b4-00c04fd430c8')\n",
    "print(uuid.uuid4())  # 随机，最常使用，有一定概率重复"
   ]
  },
  {
   "cell_type": "markdown",
   "metadata": {},
   "source": [
    "# pip的使用\n",
    "1. pip install <package_name>     # 安装模块 \n",
    "2. pip uninstall <package_name>    # 卸载模块\n",
    "3. pip list                 # 列出安装的所有模块和版本号\n",
    "4. pip freeze(> file_name)       # 列出安装的所有模块和版本号(到某文件)\n",
    "5. pip install -r file_name      # 读取文件里的模块和版本号并安装\n",
    "6. pip install <package_name> -i <url>#从指定地址下载包（临时修改）\n",
    "7. 永久修改：在用户中新建文件夹pip,文件夹里创建pip.ini文件,输入：\n",
    "[global]\n",
    "index-url=https://pypi.douban.com/simple\n",
    "[install]\n",
    "trusted-host=pypi.douban.com\n",
    "附：阿里云：https://mirrors.aliyun.com/pypi/simple/\n",
    "中国科技大学：https://pypi.mirrors.ustc.edu.cn/simple/\n",
    "豆瓣：https://pypi.douban.com/simple/\n",
    "清华大学：https://pypi.tuna.tsinghua.edu.cn/simple/\n",
    "中国科学技术大学：https://pypi.mirrors.ustc.edu.cn/simple/"
   ]
  },
  {
   "cell_type": "code",
   "execution_count": 3,
   "metadata": {},
   "outputs": [
    {
     "data": {
      "text/plain": [
       "<function matplotlib.pyplot.show(*args, **kw)>"
      ]
     },
     "execution_count": 3,
     "metadata": {},
     "output_type": "execute_result"
    },
    {
     "data": {
      "image/png": "[encoded data removed]",
      "text/plain": [
       "<Figure size 720x432 with 2 Axes>"
      ]
     },
     "metadata": {
      "needs_background": "light"
     },
     "output_type": "display_data"
    }
   ],
   "source": [
    "import numpy as np\n",
    "import matplotlib.pyplot as mp\n",
    "from matplotlib import cm\n",
    "import matplotlib\n",
    "\n",
    "matplotlib.rcParams['figure.figsize'] = [10.0, 6.0]\n",
    "fig = mp.figure()\n",
    "ax = fig.gca(projection='3d')\n",
    "x = np.arange(-5, 5, 0.1)\n",
    "y = np.arange(-5, 5, 0.1)\n",
    "x, y = np.meshgrid(x, y)\n",
    "r = np.sqrt(x ** 2 + y ** 2)\n",
    "z = np.sinc(r)\n",
    "surf = ax.plot_surface(x, y, z,\n",
    "                       cmap=cm.Spectral,\n",
    "                       linewidth=0, antialiased=False,\n",
    "                       shade=False)\n",
    "fig.colorbar(surf, shrink=0.5, aspect=10)\n",
    "mp.show"
   ]
  },
  {
   "cell_type": "markdown",
   "metadata": {},
   "source": [
    "# 自定义模块的使用:见U盘\n",
    "* 本质是写一个py文件用以导入\n",
    "1. 以_开始的变量和函数建议在该文件中使用，from improt *方法无法导入该类变量和函数，import可以导入但容易出错\n",
    "2. 在文件最后写del (_...)可以使用户一旦调用就崩\n",
    "3. 在文件中写除定义变量和函数的输出代码，一旦调用就会运行\n",
    "写入\"\"\"if \\_\\_name\\_\\_=='\\_\\_main\\_\\_':\n",
    "        输出代码\"\"\"       就不会运行\n",
    "4. \\_\\_name\\_\\_:文件直接运行的时候，值是'\\_\\_main\\_\\_'，被调用的时候，值是文件名"
   ]
  },
  {
   "cell_type": "markdown",
   "metadata": {},
   "source": [
    "# 包\n",
    "* 本质为一个含py文件的文件夹"
   ]
  },
  {
   "cell_type": "markdown",
   "source": [
    "导入方法：\n",
    "1. from 包名 import 文件名\n",
    "2. from 包名.文件名 import 变量/函数"
   ],
   "metadata": {
    "collapsed": false
   }
  },
  {
   "cell_type": "raw",
   "metadata": {},
   "source": [
    "python包里会有一个__init__.py文件，文件中可导入模块"
   ]
  }
 ],
 "metadata": {
  "kernelspec": {
   "display_name": "Python 3",
   "language": "python",
   "name": "python3"
  },
  "language_info": {
   "codemirror_mode": {
    "name": "ipython",
    "version": 3
   },
   "file_extension": ".py",
   "mimetype": "text/x-python",
   "name": "python",
   "nbconvert_exporter": "python",
   "pygments_lexer": "ipython3",
   "version": "3.7.6"
  }
 },
 "nbformat": 4,
 "nbformat_minor": 4
}
