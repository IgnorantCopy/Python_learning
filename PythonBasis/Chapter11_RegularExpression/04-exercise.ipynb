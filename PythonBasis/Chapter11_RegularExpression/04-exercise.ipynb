{
 "cells": [
  {
   "cell_type": "markdown",
   "source": [
    "### Created by Ignorant on 2024/2/8\n",
    "### Description: Exercises for Regular Expression"
   ],
   "metadata": {
    "collapsed": false
   },
   "id": "3d7b2f803e132f6c"
  },
  {
   "cell_type": "code",
   "outputs": [],
   "source": [
    "import re"
   ],
   "metadata": {
    "collapsed": false,
    "ExecuteTime": {
     "end_time": "2024-02-08T02:24:35.038181300Z",
     "start_time": "2024-02-08T02:24:35.020552800Z"
    }
   },
   "id": "7916b84cfbdf5319",
   "execution_count": 1
  },
  {
   "cell_type": "code",
   "outputs": [
    {
     "name": "stdout",
     "output_type": "stream",
     "text": [
      "Correct! 123.0\n"
     ]
    }
   ],
   "source": [
    "# 判断输入是否为数字，如果是，转换为数字类型\n",
    "num = input(\"Enter a number: \")\n",
    "if re.fullmatch(r\"\\d+\\.?\\d+\", num):\n",
    "    print(\"Correct!\", float(num))\n",
    "else:\n",
    "    print(\"Invalid input!\")"
   ],
   "metadata": {
    "collapsed": false,
    "ExecuteTime": {
     "end_time": "2024-02-08T02:34:51.939417200Z",
     "start_time": "2024-02-08T02:34:50.127177700Z"
    }
   },
   "id": "8a8288cd917fac87",
   "execution_count": 10
  },
  {
   "cell_type": "code",
   "outputs": [
    {
     "name": "stdout",
     "output_type": "stream",
     "text": [
      "Correct!\n"
     ]
    }
   ],
   "source": [
    "# 匹配用户名：以非数字开头，由数字、大小写字母、_、-组成，长度为4-14位\n",
    "name = input(\"Enter a name: \")\n",
    "print(\"Correct!\") if re.fullmatch(r\"^\\D[0-9a-zA-Z_\\-]{3,13}\", name) else print(\"Invalid input!\")"
   ],
   "metadata": {
    "collapsed": false,
    "ExecuteTime": {
     "end_time": "2024-02-08T02:36:37.492994700Z",
     "start_time": "2024-02-08T02:36:34.899747600Z"
    }
   },
   "id": "ab8acedae6a9f01",
   "execution_count": 13
  },
  {
   "cell_type": "code",
   "outputs": [
    {
     "name": "stdout",
     "output_type": "stream",
     "text": [
      "Correct!\n"
     ]
    }
   ],
   "source": [
    "# 匹配邮箱\n",
    "email = input(\"Enter an email: \")\n",
    "print(\"Correct!\") if re.fullmatch(r\"^([a-zA-z0-9_\\-\\.]+)@([a-zA-Z0-9_\\-\\.])+\\.([a-zA-Z]{2,4})$\", email) else print(\n",
    "    \"Invalid input!\")"
   ],
   "metadata": {
    "collapsed": false,
    "ExecuteTime": {
     "end_time": "2024-02-08T02:40:49.713733900Z",
     "start_time": "2024-02-08T02:40:37.265551300Z"
    }
   },
   "id": "ece81bf579126937",
   "execution_count": 15
  },
  {
   "cell_type": "code",
   "outputs": [
    {
     "name": "stdout",
     "output_type": "stream",
     "text": [
      "Correct!\n"
     ]
    }
   ],
   "source": [
    "# 匹配手机号：130~139、145~147、150~153、155~159、180、185~189加8位数字\n",
    "phone = input(\"Enter a phone number: \")\n",
    "print(\"Correct!\") if re.fullmatch(r\"^((13[0-9])|(14[5-7])|(15[0-3])|(18[05-9]))\\d{8}$\", phone) else print(\n",
    "    \"Invalid input!\")"
   ],
   "metadata": {
    "collapsed": false,
    "ExecuteTime": {
     "end_time": "2024-02-08T02:44:55.710321800Z",
     "start_time": "2024-02-08T02:44:44.475885100Z"
    }
   },
   "id": "7a39b53ea3e5ba61",
   "execution_count": 16
  },
  {
   "cell_type": "code",
   "outputs": [
    {
     "name": "stdout",
     "output_type": "stream",
     "text": [
      "Correct!\n"
     ]
    }
   ],
   "source": [
    "# 匹配身份证号：年份1800~2099\n",
    "id = input(\"Enter an ID: \")\n",
    "print(\"Correct!\") if re.fullmatch(\n",
    "    r\"^[1-9]\\d{5}(18|19|20)\\d{2}((0[1-9])|(10|11|12))(([0-2][1-9])|10|20|30|31)\\d{3}[0-9Xx]\", id) else print(\n",
    "    \"Invalid input!\")"
   ],
   "metadata": {
    "collapsed": false,
    "ExecuteTime": {
     "end_time": "2024-02-08T02:55:26.179325400Z",
     "start_time": "2024-02-08T02:55:06.319017700Z"
    }
   },
   "id": "88820a7645d7e44",
   "execution_count": 17
  },
  {
   "cell_type": "code",
   "outputs": [
    {
     "name": "stdout",
     "output_type": "stream",
     "text": [
      "Correct!\n"
     ]
    }
   ],
   "source": [
    "# 匹配URL地址\n",
    "url = input(\"Enter a URL: \")\n",
    "print(\"Correct!\") if re.fullmatch(\n",
    "    r\"((ht|f)tps?):\\/\\/(([\\w\\-]+(\\.[\\w\\-]+)*\\/)*[\\w\\-]+\\.[\\w\\-]+)*\\/?([\\w\\-\\.,@?^=%:\\/~])\", url) else print(\n",
    "    \"Invalid input!\")"
   ],
   "metadata": {
    "collapsed": false,
    "ExecuteTime": {
     "end_time": "2024-02-08T03:03:26.789127800Z",
     "start_time": "2024-02-08T03:03:17.198831200Z"
    }
   },
   "id": "905c536cac96b245",
   "execution_count": 18
  },
  {
   "cell_type": "code",
   "outputs": [
    {
     "name": "stdout",
     "output_type": "stream",
     "text": [
      "Correct!\n"
     ]
    }
   ],
   "source": [
    "# 匹配QQ\n",
    "qq = input(\"Enter a QQ number: \")\n",
    "print(\"Correct!\") if re.fullmatch(r\"^[1-9]\\d{4,10}\", qq) else print(\"Invalid input!\")"
   ],
   "metadata": {
    "collapsed": false,
    "ExecuteTime": {
     "end_time": "2024-02-08T03:10:28.565661300Z",
     "start_time": "2024-02-08T03:10:23.871662700Z"
    }
   },
   "id": "1529780407782bf9",
   "execution_count": 20
  },
  {
   "cell_type": "code",
   "outputs": [
    {
     "name": "stdout",
     "output_type": "stream",
     "text": [
      "Correct!\n"
     ]
    }
   ],
   "source": [
    "# 匹配微信号\n",
    "vx = input(\"Enter a VX number: \")\n",
    "print(\"Correct!\") if re.fullmatch(r\"^[a-zA-Z]([a-zA-Z0-9_-]{5,19})+$\", vx) else print(\"Invalid input!\")"
   ],
   "metadata": {
    "collapsed": false,
    "ExecuteTime": {
     "end_time": "2024-02-08T03:12:21.761330100Z",
     "start_time": "2024-02-08T03:12:12.046315700Z"
    }
   },
   "id": "e7d72aeedd3b069c",
   "execution_count": 21
  },
  {
   "cell_type": "code",
   "outputs": [
    {
     "name": "stdout",
     "output_type": "stream",
     "text": [
      "Correct!\n"
     ]
    }
   ],
   "source": [
    "# 匹配车牌号\n",
    "car = input(\"Enter a Car number: \")\n",
    "print(\"Correct!\") if re.fullmatch(\n",
    "    r\"^[京津沪渝冀豫云滇辽黑湘皖鲁新苏浙赣鄂桂甘陇晋蒙陕秦吉闽贵黔粤青藏川蜀宁琼台使领A-Z]{1}[A-Z]{1}[0-9A-Z]{4}[A-Z0-9挂学警港澳]{1}$\",\n",
    "    car) else print(\"Invalid input!\")"
   ],
   "metadata": {
    "collapsed": false,
    "ExecuteTime": {
     "end_time": "2024-02-08T03:14:07.558133200Z",
     "start_time": "2024-02-08T03:13:55.585190Z"
    }
   },
   "id": "392f062b478dfa9e",
   "execution_count": 23
  },
  {
   "cell_type": "code",
   "outputs": [
    {
     "name": "stdout",
     "output_type": "stream",
     "text": [
      "Correct!\n"
     ]
    }
   ],
   "source": [
    "# 匹配密码：字母开头，不包含！@%^&*，长度6~12\n",
    "password = input(\"Enter a password: \")\n",
    "print(\"Correct!\") if re.fullmatch(r\"^[a-zA-Z][^!@%^&*]{5,11}\", password) else print(\"Invalid input!\")"
   ],
   "metadata": {
    "collapsed": false,
    "ExecuteTime": {
     "end_time": "2024-02-08T03:16:39.058667100Z",
     "start_time": "2024-02-08T03:16:35.278661700Z"
    }
   },
   "id": "3cb53eb764408d68",
   "execution_count": 25
  },
  {
   "cell_type": "code",
   "outputs": [
    {
     "name": "stdout",
     "output_type": "stream",
     "text": [
      "Correct!\n"
     ]
    }
   ],
   "source": [
    "# ip地址检测(0.0.0.0~255.255.255.255)\n",
    "ip = input(\"Enter an IP address: \")\n",
    "print(\"Correct!\") if re.fullmatch(r\"((\\d|[1-9]\\d|1\\d{2}|2([0-4]\\d|5[0-5]))\\.){3}(\\d|[1-9]\\d|1\\d{2}|2([0-4]\\d|5[0-5]))\",\n",
    "                                  ip) else print(\"Invalid input!\")"
   ],
   "metadata": {
    "collapsed": false,
    "ExecuteTime": {
     "end_time": "2024-02-08T03:21:12.998167900Z",
     "start_time": "2024-02-08T03:21:05.034369800Z"
    }
   },
   "id": "3406a8d91dd79ad",
   "execution_count": 27
  },
  {
   "cell_type": "code",
   "outputs": [
    {
     "name": "stdout",
     "output_type": "stream",
     "text": [
      "-3.14\n",
      "87\n",
      "19\n"
     ]
    }
   ],
   "source": [
    "# 提取输入数据中的数值(-3.14good87nice19bye)\n",
    "some = input(\"Enter something: \")\n",
    "list1 = re.finditer(r\"-?(0|[1-9]\\d*)(\\.\\d+)?\", some)\n",
    "for i in list1:\n",
    "    print(i.group())"
   ],
   "metadata": {
    "collapsed": false,
    "ExecuteTime": {
     "end_time": "2024-02-08T03:24:42.462467200Z",
     "start_time": "2024-02-08T03:24:41.085019200Z"
    }
   },
   "id": "d7ed18b07c4dc981",
   "execution_count": 30
  },
  {
   "cell_type": "code",
   "outputs": [],
   "source": [],
   "metadata": {
    "collapsed": false
   },
   "id": "7e92910805401503"
  }
 ],
 "metadata": {
  "kernelspec": {
   "display_name": "Python 3",
   "language": "python",
   "name": "python3"
  },
  "language_info": {
   "codemirror_mode": {
    "name": "ipython",
    "version": 2
   },
   "file_extension": ".py",
   "mimetype": "text/x-python",
   "name": "python",
   "nbconvert_exporter": "python",
   "pygments_lexer": "ipython2",
   "version": "2.7.6"
  }
 },
 "nbformat": 4,
 "nbformat_minor": 5
}
