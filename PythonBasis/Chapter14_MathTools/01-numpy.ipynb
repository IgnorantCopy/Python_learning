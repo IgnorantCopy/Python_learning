{
 "cells": [
  {
   "metadata": {},
   "cell_type": "markdown",
   "source": "# NumPy",
   "id": "930637868d2d0e91"
  },
  {
   "metadata": {},
   "cell_type": "markdown",
   "source": [
    "## 1. Ndarray\n",
    "ndarray 对象是用于存放同类型元素的多维数组。其内部有以下内容：\n",
    "* 指向数据的指针\n",
    "* 数据类型 (dtype)\n",
    "* 表示数组形状的元组 (shape)\n",
    "* 跨度元组 (strides)，表示前进到下一个元素需要“跨过”的字节数（可以是负数，表示反向移动）"
   ],
   "id": "b4fe69890def6e2c"
  },
  {
   "metadata": {
    "ExecuteTime": {
     "end_time": "2024-09-06T07:06:28.908453Z",
     "start_time": "2024-09-06T07:06:28.742638Z"
    }
   },
   "cell_type": "code",
   "source": [
    "'''\n",
    "ndarray 的创建：\n",
    "np.array(object, dtype=None, copy=True, order=None, subok=False, ndmin=0)\n",
    "    object: 数组\n",
    "    dtype: 元素的数据类型, optional\n",
    "        dtype 是一个对象: np.dtype(object, align=True, copy=False)\n",
    "            object: 数据类型对象，可以用字符串表示\n",
    "                int8, int16, int32, int64 四种数据类型可以使用字符串 'i1', 'i2','i4','i8' 代替\n",
    "            align: 是否为类 C 的结构体\n",
    "            copy: 是否复制 dtype 对象\n",
    "            \n",
    "        可选的数据类型有\n",
    "            bool_, int_(long), intp(size_t), int8, int16, int32, int64, uint8, uint16, uint32, uint64,\n",
    "            float_(float64), float16, float32, float64, complex_(complex128), complex64, complex128\n",
    "    copy: 对象是否需要复制, optional\n",
    "    order: 创建数组的样式, C 为行方向，F 为列方向, A 为任意方向, optional\n",
    "    subok: 默认返回一个与基类型一致的数组\n",
    "    ndmin: 指定生成数组的最小维度\n",
    "'''\n",
    "import numpy as np\n",
    "\n",
    "dt1 = np.dtype(np.int32)\n",
    "print(dt1)\n",
    "dt2 = np.dtype('i4')\n",
    "print(dt2)\n",
    "print()\n",
    "dt3 = np.dtype([('age', 'i1')])\n",
    "arr1 = np.array([(10,), (20,), (30,)], dtype=dt3)\n",
    "print(arr1)\n",
    "print(arr1['age'])\n",
    "print()\n",
    "student = np.dtype([('name', 'S20'), ('age', 'i1'), ('marks', 'f4')])\n",
    "arr2 = np.array([\n",
    "    ('Jack', 10, 60),\n",
    "    ('John', 20, 80),\n",
    "    ('Jane', 30, 96.5)\n",
    "], dtype=student)\n",
    "print(arr2)"
   ],
   "id": "996eed35106f7874",
   "outputs": [
    {
     "name": "stdout",
     "output_type": "stream",
     "text": [
      "int32\n",
      "int32\n",
      "\n",
      "[(10,) (20,) (30,)]\n",
      "[10 20 30]\n",
      "\n",
      "[(b'Jack', 10, 60. ) (b'John', 20, 80. ) (b'Jane', 30, 96.5)]\n"
     ]
    }
   ],
   "execution_count": 1
  },
  {
   "metadata": {
    "ExecuteTime": {
     "end_time": "2024-09-06T07:06:31.550187Z",
     "start_time": "2024-09-06T07:06:31.533988Z"
    }
   },
   "cell_type": "code",
   "source": [
    "'''\n",
    "properties of np.ndarray\n",
    "    ndim: 数组的(轴的)维度数，相当于 len(shape)\n",
    "    shape: 数组的各个维度\n",
    "    size: 数组元素的总数，即 np.prod(shape)\n",
    "    dtype: 数组元素的数据类型\n",
    "    itemsize: 数组元素的字节数\n",
    "    flags: 与内存布局相关的信息，如是否为 C 或 Fortran 连续存储；是否为只读\n",
    "        C_CONTIGUOUS : 单一的 C 风格的连续段\n",
    "        F_CONTIGUOUS : 单一的 Fortran 风格的连续段\n",
    "        OWNDATA : 数组拥有其所使用的内存或从另一个对象中借用\n",
    "        WRITEABLE : 数据区域可以被写入\n",
    "        ALIGNED : 数据和所有元素适当地对齐到硬件上\n",
    "        WRITEBACKIFCOPY : 其他数组的副本，如果此数组被释放，原数组内容会重新写入\n",
    "    real: 元素实部(if complex)\n",
    "    imag: 元素虚部(if complex)\n",
    "    data: 实际存储数组元素的缓冲区\n",
    "'''\n",
    "import numpy as np\n",
    "\n",
    "arr1 = np.arange(24)\n",
    "print(arr1.ndim)\n",
    "arr2 = arr1.reshape(2, 4, 3)\n",
    "print(arr2.ndim)\n",
    "print(arr2.shape)\n",
    "print()\n",
    "arr3 = np.array([1, 2, 3, 4, 5])\n",
    "print(arr3.flags)"
   ],
   "id": "b0ef1d9fdddcbeed",
   "outputs": [
    {
     "name": "stdout",
     "output_type": "stream",
     "text": [
      "1\n",
      "3\n",
      "(2, 4, 3)\n",
      "\n",
      "  C_CONTIGUOUS : True\n",
      "  F_CONTIGUOUS : True\n",
      "  OWNDATA : True\n",
      "  WRITEABLE : True\n",
      "  ALIGNED : True\n",
      "  WRITEBACKIFCOPY : False\n",
      "\n"
     ]
    }
   ],
   "execution_count": 2
  },
  {
   "metadata": {},
   "cell_type": "markdown",
   "source": "## 2. 数组创建",
   "id": "c678b3166d173960"
  },
  {
   "metadata": {
    "ExecuteTime": {
     "end_time": "2024-09-06T07:06:31.612428Z",
     "start_time": "2024-09-06T07:06:31.600071Z"
    }
   },
   "cell_type": "code",
   "source": [
    "'''\n",
    "np.empty(shape, dtype=float, order='C')\n",
    "    shape: 数组形状    \n",
    "    dtype: 元素的数据类型, optional\n",
    "    order: 内存中的存储顺序，'C' | 'F' (行优先 | 列优先)\n",
    "'''\n",
    "import numpy as np\n",
    "\n",
    "print(np.empty([3, 2], dtype=int))"
   ],
   "id": "59a841b286e7e093",
   "outputs": [
    {
     "name": "stdout",
     "output_type": "stream",
     "text": [
      "[[0 0]\n",
      " [0 0]\n",
      " [0 0]]\n"
     ]
    }
   ],
   "execution_count": 3
  },
  {
   "metadata": {
    "ExecuteTime": {
     "end_time": "2024-09-06T07:06:31.707475Z",
     "start_time": "2024-09-06T07:06:31.692436Z"
    }
   },
   "cell_type": "code",
   "source": [
    "'''\n",
    "np.zeros(shape, dtype=float, order='C')\n",
    "    shape: 数组形状    \n",
    "    dtype: 元素的数据类型, optional\n",
    "    order: 'C' 用于 C 的行数组，'F' 用于 Fortran 的列数组\n",
    "'''\n",
    "print(np.zeros((3, 2)))\n",
    "print(np.zeros((3, 2), dtype=int))"
   ],
   "id": "5cded0f258840547",
   "outputs": [
    {
     "name": "stdout",
     "output_type": "stream",
     "text": [
      "[[0. 0.]\n",
      " [0. 0.]\n",
      " [0. 0.]]\n",
      "[[0 0]\n",
      " [0 0]\n",
      " [0 0]]\n"
     ]
    }
   ],
   "execution_count": 4
  },
  {
   "metadata": {
    "ExecuteTime": {
     "end_time": "2024-09-06T07:06:31.801202Z",
     "start_time": "2024-09-06T07:06:31.794793Z"
    }
   },
   "cell_type": "code",
   "source": [
    "'''\n",
    "np.ones(shape, dtype=None, order='C')\n",
    "    类似 np.zeros()\n",
    "'''\n",
    "print(np.ones(5))\n",
    "print(np.ones((3, 2), dtype=int))"
   ],
   "id": "2f993adbd4590348",
   "outputs": [
    {
     "name": "stdout",
     "output_type": "stream",
     "text": [
      "[1. 1. 1. 1. 1.]\n",
      "[[1 1]\n",
      " [1 1]\n",
      " [1 1]]\n"
     ]
    }
   ],
   "execution_count": 5
  },
  {
   "metadata": {
    "ExecuteTime": {
     "end_time": "2024-09-06T07:06:31.847658Z",
     "start_time": "2024-09-06T07:06:31.837293Z"
    }
   },
   "cell_type": "code",
   "source": [
    "'''\n",
    "np.ones_like(a, dtype=None, order='K', subok=True, shape=None): 用于创建一个与给定数组具有相同形状的数组\n",
    "    a: 基准数组\n",
    "    dtype: 元素的数据类型\n",
    "    order: 内存中的存储顺序，'C' | 'F' (行优先 | 列优先)，'K' 表示保持与基准数组相同\n",
    "    subok: 是否返回子类对象\n",
    "    shape: 数组形状\n",
    "'''\n",
    "a = np.array([\n",
    "    [1, 2, 3],\n",
    "    [4, 5, 6],\n",
    "    [7, 8, 9]\n",
    "])\n",
    "print(np.zeros_like(a))"
   ],
   "id": "495e93d243334510",
   "outputs": [
    {
     "name": "stdout",
     "output_type": "stream",
     "text": [
      "[[0 0 0]\n",
      " [0 0 0]\n",
      " [0 0 0]]\n"
     ]
    }
   ],
   "execution_count": 6
  },
  {
   "metadata": {
    "ExecuteTime": {
     "end_time": "2024-09-06T07:06:31.927319Z",
     "start_time": "2024-09-06T07:06:31.907266Z"
    }
   },
   "cell_type": "code",
   "source": [
    "'''\n",
    "np.ones_like(a, dtype=None, order='K', subok=True, shape=None)\n",
    "    类似 np.ones_like()\n",
    "'''\n",
    "print(np.ones_like(a))"
   ],
   "id": "d741001ce97bb020",
   "outputs": [
    {
     "name": "stdout",
     "output_type": "stream",
     "text": [
      "[[1 1 1]\n",
      " [1 1 1]\n",
      " [1 1 1]]\n"
     ]
    }
   ],
   "execution_count": 7
  },
  {
   "metadata": {
    "ExecuteTime": {
     "end_time": "2024-09-06T07:06:31.974272Z",
     "start_time": "2024-09-06T07:06:31.967059Z"
    }
   },
   "cell_type": "code",
   "source": [
    "'''\n",
    "np.asarray(a, dtype=None, order=None)\n",
    "    a: 可迭代对象\n",
    "    dtype: 元素的数据类型, optional\n",
    "    order: 内存中的存储顺序，'C' | 'F' (行优先 | 列优先)\n",
    "'''\n",
    "print(np.asarray([1, 2, 3], dtype=float))\n",
    "x = [(1, 2, 3), (4, 5)]\n",
    "print(np.asarray(x, dtype=object))"
   ],
   "id": "c33b022ed04bd658",
   "outputs": [
    {
     "name": "stdout",
     "output_type": "stream",
     "text": [
      "[1. 2. 3.]\n",
      "[(1, 2, 3) (4, 5)]\n"
     ]
    }
   ],
   "execution_count": 8
  },
  {
   "metadata": {
    "ExecuteTime": {
     "end_time": "2024-09-06T07:06:32.037557Z",
     "start_time": "2024-09-06T07:06:32.029657Z"
    }
   },
   "cell_type": "code",
   "source": [
    "'''\n",
    "np.frombuffer(buffer, dtype=float, count=-1, offset=0)\n",
    "    buffer: 可以是任意对象，以流的形式读入\n",
    "    dtype: 元素的数据类型, optional\n",
    "    count: 读取的元素个数，-1 表示读取整个缓冲区\n",
    "    offset: 读取的起始位置\n",
    "'''\n",
    "s = b'Hello World'\n",
    "print(np.frombuffer(s, dtype='S1'))"
   ],
   "id": "3749facd6a14716c",
   "outputs": [
    {
     "name": "stdout",
     "output_type": "stream",
     "text": [
      "[b'H' b'e' b'l' b'l' b'o' b' ' b'W' b'o' b'r' b'l' b'd']\n"
     ]
    }
   ],
   "execution_count": 9
  },
  {
   "metadata": {
    "ExecuteTime": {
     "end_time": "2024-09-06T07:06:32.146165Z",
     "start_time": "2024-09-06T07:06:32.128082Z"
    }
   },
   "cell_type": "code",
   "source": [
    "'''\n",
    "np.arange(start=0, stop, step=1, dtype=None)\n",
    "    start: 起始值\n",
    "    stop: 终止值\n",
    "    step: 步长\n",
    "    dtype: 元素的数据类型\n",
    "'''\n",
    "print(np.arange(5, dtype=float))\n",
    "print(np.arange(10, 20, 2))"
   ],
   "id": "f08e76658c47b579",
   "outputs": [
    {
     "name": "stdout",
     "output_type": "stream",
     "text": [
      "[0. 1. 2. 3. 4.]\n",
      "[10 12 14 16 18]\n"
     ]
    }
   ],
   "execution_count": 10
  },
  {
   "metadata": {
    "ExecuteTime": {
     "end_time": "2024-09-06T07:06:32.193047Z",
     "start_time": "2024-09-06T07:06:32.171738Z"
    }
   },
   "cell_type": "code",
   "source": [
    "'''\n",
    "np.linspace(start, stop, num=50, endpoint=True, retstep=False, dtype=None): 以等差数列创建\n",
    "    start: 起始值\n",
    "    stop: 终止值\n",
    "    num: 元素个数\n",
    "    endpoint: 是否包含终止值\n",
    "    retstep: 是否显示间距\n",
    "    dtype: 元素的数据类型\n",
    "'''\n",
    "print(np.linspace(1, 10, 10))\n",
    "print(np.linspace(10, 20, 5, endpoint=False))\n",
    "print(np.linspace(1, 10, 10, retstep=True))\n",
    "print()\n",
    "print(np.linspace(1, 10, 10).reshape([10, 1]))"
   ],
   "id": "b4192b021ad2442d",
   "outputs": [
    {
     "name": "stdout",
     "output_type": "stream",
     "text": [
      "[ 1.  2.  3.  4.  5.  6.  7.  8.  9. 10.]\n",
      "[10. 12. 14. 16. 18.]\n",
      "(array([ 1.,  2.,  3.,  4.,  5.,  6.,  7.,  8.,  9., 10.]), 1.0)\n",
      "\n",
      "[[ 1.]\n",
      " [ 2.]\n",
      " [ 3.]\n",
      " [ 4.]\n",
      " [ 5.]\n",
      " [ 6.]\n",
      " [ 7.]\n",
      " [ 8.]\n",
      " [ 9.]\n",
      " [10.]]\n"
     ]
    }
   ],
   "execution_count": 11
  },
  {
   "metadata": {
    "ExecuteTime": {
     "end_time": "2024-09-06T07:06:32.240734Z",
     "start_time": "2024-09-06T07:06:32.234719Z"
    }
   },
   "cell_type": "code",
   "source": [
    "'''\n",
    "np.logspace(start, stop, num=50, endpoint=True, base=10.0, dtype=None): 以等比数列创建\n",
    "    start: 起始值\n",
    "    stop: 终止值\n",
    "    num: 元素个数\n",
    "    endpoint: 是否包含终止值\n",
    "    base: 底数\n",
    "    dtype: 元素的数据类型\n",
    "'''\n",
    "print(np.logspace(1., 2., 10))\n",
    "print(np.logspace(0, 9, 10, base=2))"
   ],
   "id": "64fe0b933c02910b",
   "outputs": [
    {
     "name": "stdout",
     "output_type": "stream",
     "text": [
      "[ 10.          12.91549665  16.68100537  21.5443469   27.82559402\n",
      "  35.93813664  46.41588834  59.94842503  77.42636827 100.        ]\n",
      "[  1.   2.   4.   8.  16.  32.  64. 128. 256. 512.]\n"
     ]
    }
   ],
   "execution_count": 12
  },
  {
   "metadata": {},
   "cell_type": "markdown",
   "source": "## 3. 切片与索引",
   "id": "5b26e02ce3dbd7c5"
  },
  {
   "metadata": {},
   "cell_type": "markdown",
   "source": "### 3.1 切片",
   "id": "ab7606eed2412b8d"
  },
  {
   "metadata": {
    "ExecuteTime": {
     "end_time": "2024-09-06T07:06:32.317887Z",
     "start_time": "2024-09-06T07:06:32.303851Z"
    }
   },
   "cell_type": "code",
   "source": [
    "# 大体与列表切片相同\n",
    "# ... 的用法\n",
    "import numpy as np\n",
    "\n",
    "arr = np.array([\n",
    "    [2, 3, 4],\n",
    "    [3, 4, 5],\n",
    "    [4, 5, 6]\n",
    "])\n",
    "print(arr[..., 1])  # 第二列\n",
    "print(arr[1, ...])  # 第二行\n",
    "print(arr[..., 1:])  # 第二列之后的元素"
   ],
   "id": "c7464204c40902c0",
   "outputs": [
    {
     "name": "stdout",
     "output_type": "stream",
     "text": [
      "[3 4 5]\n",
      "[3 4 5]\n",
      "[[3 4]\n",
      " [4 5]\n",
      " [5 6]]\n"
     ]
    }
   ],
   "execution_count": 13
  },
  {
   "metadata": {},
   "cell_type": "markdown",
   "source": "### 3.2 高级索引",
   "id": "9b6d7ef30b79095a"
  },
  {
   "metadata": {
    "ExecuteTime": {
     "end_time": "2024-09-06T07:06:32.364156Z",
     "start_time": "2024-09-06T07:06:32.358141Z"
    }
   },
   "cell_type": "code",
   "source": [
    "# 整数数组索引\n",
    "import numpy as np\n",
    "\n",
    "arr = np.array([\n",
    "    [1, 2],\n",
    "    [3, 4],\n",
    "    [5, 6]\n",
    "])\n",
    "print(arr[[0, 1, 2], [0, 1, 0]])  # 索引为 (0, 0), (1, 1), (2, 0) 的元素"
   ],
   "id": "c3bc9c7846986e5c",
   "outputs": [
    {
     "name": "stdout",
     "output_type": "stream",
     "text": [
      "[1 4 5]\n"
     ]
    }
   ],
   "execution_count": 14
  },
  {
   "metadata": {
    "ExecuteTime": {
     "end_time": "2024-09-06T07:06:32.472714Z",
     "start_time": "2024-09-06T07:06:32.456663Z"
    }
   },
   "cell_type": "code",
   "source": [
    "# 布尔索引\n",
    "import numpy as np\n",
    "\n",
    "arr1 = np.array([\n",
    "    [0, 1, 2],\n",
    "    [3, 4, 5],\n",
    "    [6, 7, 8],\n",
    "    [9, 10, 11]\n",
    "])\n",
    "print(arr1[arr1 > 5])\n",
    "print()\n",
    "arr2 = np.array([np.nan, 1, 2, np.nan, 3, 4, 5])\n",
    "print(arr2[~np.isnan(arr2)])\n",
    "print()\n",
    "arr3 = np.array([1, 2 + 6j, 5, 3.5 + 5j])\n",
    "print(arr3[np.iscomplex(arr3)])"
   ],
   "id": "66c06618eac262e",
   "outputs": [
    {
     "name": "stdout",
     "output_type": "stream",
     "text": [
      "[ 6  7  8  9 10 11]\n",
      "\n",
      "[1. 2. 3. 4. 5.]\n",
      "\n",
      "[2. +6.j 3.5+5.j]\n"
     ]
    }
   ],
   "execution_count": 15
  },
  {
   "metadata": {
    "ExecuteTime": {
     "end_time": "2024-09-06T07:06:32.550603Z",
     "start_time": "2024-09-06T07:06:32.532450Z"
    }
   },
   "cell_type": "code",
   "source": [
    "# 花式索引\n",
    "import numpy as np\n",
    "\n",
    "arr1 = np.arange(10)\n",
    "print(arr1[[0, 4, 6]])\n",
    "print()\n",
    "arr2 = np.array([\n",
    "    [0, 1, 2, 3],\n",
    "    [4, 5, 6, 7],\n",
    "    [8, 9, 10, 11],\n",
    "    [2, 13, 14, 15],\n",
    "    [6, 17, 18, 19],\n",
    "    [0, 21, 22, 23],\n",
    "    [4, 25, 26, 27],\n",
    "    [8, 29, 30, 31],\n",
    "])\n",
    "print(arr2[[4, 2, 1, 7]])"
   ],
   "id": "22ab37b4f1f76c7",
   "outputs": [
    {
     "name": "stdout",
     "output_type": "stream",
     "text": [
      "[0 4 6]\n",
      "\n",
      "[[ 6 17 18 19]\n",
      " [ 8  9 10 11]\n",
      " [ 4  5  6  7]\n",
      " [ 8 29 30 31]]\n"
     ]
    }
   ],
   "execution_count": 16
  },
  {
   "metadata": {},
   "cell_type": "markdown",
   "source": [
    "## 4. Broadcast\n",
    "rules:\n",
    "* 让所有输入数组都向其中形状最长的数组看齐，形状中不足的部分都通过在前面加 1 补齐。\n",
    "* 输出数组的形状是输入数组形状的各个维度上的最大值。\n",
    "* 如果输入数组的某个维度和输出数组的对应维度的长度相同或者其长度为 1 时，这个数组能够用来计算，否则出错。\n",
    "* 当输入数组的某个维度的长度为 1 时，沿着此维度运算时都用此维度上的第一组值。"
   ],
   "id": "6086140a9dc4b64f"
  },
  {
   "metadata": {
    "ExecuteTime": {
     "end_time": "2024-09-06T07:06:32.566213Z",
     "start_time": "2024-09-06T07:06:32.559705Z"
    }
   },
   "cell_type": "code",
   "source": [
    "import numpy as np\n",
    "\n",
    "a = np.array([\n",
    "    [0, 0, 0],\n",
    "    [10, 10, 10],\n",
    "    [20, 20, 20],\n",
    "    [30, 30, 30]\n",
    "])\n",
    "b = np.array([1, 2, 3])\n",
    "print(a + b)"
   ],
   "id": "c5bc6aa3dbfa81e8",
   "outputs": [
    {
     "name": "stdout",
     "output_type": "stream",
     "text": [
      "[[ 1  2  3]\n",
      " [11 12 13]\n",
      " [21 22 23]\n",
      " [31 32 33]]\n"
     ]
    }
   ],
   "execution_count": 17
  },
  {
   "metadata": {},
   "cell_type": "markdown",
   "source": "## 5. 迭代",
   "id": "2b06427e0b060602"
  },
  {
   "metadata": {
    "ExecuteTime": {
     "end_time": "2024-09-06T07:06:32.660056Z",
     "start_time": "2024-09-06T07:06:32.645516Z"
    }
   },
   "cell_type": "code",
   "source": [
    "import numpy as np\n",
    "\n",
    "arr = np.arange(6).reshape(2, 3)\n",
    "print(arr)\n",
    "for i in np.nditer(arr):\n",
    "    print(i, end=' ')"
   ],
   "id": "8fe63551a920c0e9",
   "outputs": [
    {
     "name": "stdout",
     "output_type": "stream",
     "text": [
      "[[0 1 2]\n",
      " [3 4 5]]\n",
      "0 1 2 3 4 5 "
     ]
    }
   ],
   "execution_count": 18
  },
  {
   "metadata": {
    "ExecuteTime": {
     "end_time": "2024-09-06T07:06:32.722989Z",
     "start_time": "2024-09-06T07:06:32.712944Z"
    }
   },
   "cell_type": "code",
   "source": [
    "# 底层存储顺序\n",
    "for i in np.nditer(arr.T):\n",
    "    print(i, end=' ')\n",
    "print()\n",
    "for i in np.nditer(arr.T.copy(order='C')):\n",
    "    print(i, end=' ')"
   ],
   "id": "95720a5d8c900270",
   "outputs": [
    {
     "name": "stdout",
     "output_type": "stream",
     "text": [
      "0 1 2 3 4 5 \n",
      "0 3 1 4 2 5 "
     ]
    }
   ],
   "execution_count": 19
  },
  {
   "metadata": {
    "ExecuteTime": {
     "end_time": "2024-09-06T07:06:32.754661Z",
     "start_time": "2024-09-06T07:06:32.738101Z"
    }
   },
   "cell_type": "code",
   "source": [
    "# 迭代修改数组元素: op_flags 参数\n",
    "arr = np.arange(0, 60, 5).reshape(3, 4)\n",
    "print(arr)\n",
    "for i in np.nditer(arr, op_flags=['readwrite']):\n",
    "    i[...] = i * 2\n",
    "print(arr)"
   ],
   "id": "4ebc039bd03e0e2a",
   "outputs": [
    {
     "name": "stdout",
     "output_type": "stream",
     "text": [
      "[[ 0  5 10 15]\n",
      " [20 25 30 35]\n",
      " [40 45 50 55]]\n",
      "[[  0  10  20  30]\n",
      " [ 40  50  60  70]\n",
      " [ 80  90 100 110]]\n"
     ]
    }
   ],
   "execution_count": 20
  },
  {
   "metadata": {
    "ExecuteTime": {
     "end_time": "2024-09-06T07:06:32.833379Z",
     "start_time": "2024-09-06T07:06:32.825355Z"
    }
   },
   "cell_type": "code",
   "source": [
    "'''\n",
    "flags 参数：\n",
    "    c_index: 跟踪 C 顺序索引\n",
    "    f_index: 跟踪 Fortran 顺序索引\n",
    "    multi_index: 每次迭代跟踪一种索引\n",
    "    external_loop: 返回的值是一维数组\n",
    "'''\n",
    "for i in np.nditer(arr, flags=['external_loop'], order='F'):\n",
    "    print(i, end=' ')"
   ],
   "id": "f7517ce0104a0e7c",
   "outputs": [
    {
     "name": "stdout",
     "output_type": "stream",
     "text": [
      "[ 0 40 80] [10 50 90] [ 20  60 100] [ 30  70 110] "
     ]
    }
   ],
   "execution_count": 21
  },
  {
   "metadata": {},
   "cell_type": "markdown",
   "source": "## 6. 常见数组操作",
   "id": "502a1a9e1e088910"
  },
  {
   "metadata": {},
   "cell_type": "markdown",
   "source": "### 6.1 修改数组形状",
   "id": "f3b9d0f16a7e7a69"
  },
  {
   "metadata": {
    "ExecuteTime": {
     "end_time": "2024-09-06T07:06:32.896536Z",
     "start_time": "2024-09-06T07:06:32.884484Z"
    }
   },
   "cell_type": "code",
   "source": [
    "'''\n",
    "np.reshape(arr, newshape, order='C')\n",
    "    arr: 数组\n",
    "    newshape: 整数或整数数组，新形状应与原有形状兼容\n",
    "    order: 内存中的存储顺序，'C' | 'F' (行优先 | 列优先)\n",
    "np.ndarray.flatten(order='C') -> 返回一份展平数组的拷贝（因此修改不会影响原数组）\n",
    "np.ravel(a, order='C'): 将数组展平，修改会影响原数组\n",
    "'''\n",
    "import numpy as np\n",
    "\n",
    "arr = np.arange(8).reshape(2, 4)\n",
    "print(arr)\n",
    "print(arr.flatten())"
   ],
   "id": "fc5b3a0b7e452998",
   "outputs": [
    {
     "name": "stdout",
     "output_type": "stream",
     "text": [
      "[[0 1 2 3]\n",
      " [4 5 6 7]]\n",
      "[0 1 2 3 4 5 6 7]\n"
     ]
    }
   ],
   "execution_count": 22
  },
  {
   "metadata": {},
   "cell_type": "markdown",
   "source": "### 6.2 数组翻转",
   "id": "bcd5b4321805c696"
  },
  {
   "metadata": {
    "ExecuteTime": {
     "end_time": "2024-09-06T07:06:32.943590Z",
     "start_time": "2024-09-06T07:06:32.933048Z"
    }
   },
   "cell_type": "code",
   "source": [
    "'''\n",
    "transpose(arr, axes=None)\n",
    "    arr: 数组\n",
    "    axes: 整数元组，指定轴的顺序，默认是原数组的倒序\n",
    "np.ndarray.T: 相当于 self.transpose\n",
    "'''\n",
    "import numpy as np\n",
    "\n",
    "arr = np.arange(12).reshape(2, 2, 3)\n",
    "print(arr)\n",
    "print(np.transpose(arr))\n",
    "print(arr.shape)\n",
    "print(np.transpose(arr, axes=(0, 2, 1)))"
   ],
   "id": "9fc8fb15966155c5",
   "outputs": [
    {
     "name": "stdout",
     "output_type": "stream",
     "text": [
      "[[[ 0  1  2]\n",
      "  [ 3  4  5]]\n",
      "\n",
      " [[ 6  7  8]\n",
      "  [ 9 10 11]]]\n",
      "[[[ 0  6]\n",
      "  [ 3  9]]\n",
      "\n",
      " [[ 1  7]\n",
      "  [ 4 10]]\n",
      "\n",
      " [[ 2  8]\n",
      "  [ 5 11]]]\n",
      "(2, 2, 3)\n",
      "[[[ 0  3]\n",
      "  [ 1  4]\n",
      "  [ 2  5]]\n",
      "\n",
      " [[ 6  9]\n",
      "  [ 7 10]\n",
      "  [ 8 11]]]\n"
     ]
    }
   ],
   "execution_count": 23
  },
  {
   "metadata": {
    "ExecuteTime": {
     "end_time": "2024-09-06T07:06:33.006471Z",
     "start_time": "2024-09-06T07:06:32.988560Z"
    }
   },
   "cell_type": "code",
   "source": [
    "'''\n",
    "np.swapaxes(arr, axis1, axis2): 交换数组的两个轴\n",
    "    arr: 数组\n",
    "    axis1, axis2: 轴的索引\n",
    "'''\n",
    "arr = np.arange(8).reshape(2, 2, 2)\n",
    "print(arr)\n",
    "print(np.swapaxes(arr, 2, 0))"
   ],
   "id": "29c540b05e23fd3",
   "outputs": [
    {
     "name": "stdout",
     "output_type": "stream",
     "text": [
      "[[[0 1]\n",
      "  [2 3]]\n",
      "\n",
      " [[4 5]\n",
      "  [6 7]]]\n",
      "[[[0 4]\n",
      "  [2 6]]\n",
      "\n",
      " [[1 5]\n",
      "  [3 7]]]\n"
     ]
    }
   ],
   "execution_count": 24
  },
  {
   "metadata": {
    "ExecuteTime": {
     "end_time": "2024-09-06T07:06:33.099723Z",
     "start_time": "2024-09-06T07:06:33.084165Z"
    }
   },
   "cell_type": "code",
   "source": [
    "'''\n",
    "np.expand_dims(arr, axis)\n",
    "    arr: 数组\n",
    "    axis: 整数，指定新轴插入的位置\n",
    "'''\n",
    "arr = np.array([\n",
    "    [1, 2],\n",
    "    [3, 4],\n",
    "])\n",
    "print(np.expand_dims(arr, axis=0).shape)"
   ],
   "id": "b0d41e9276d5404d",
   "outputs": [
    {
     "name": "stdout",
     "output_type": "stream",
     "text": [
      "(1, 2, 2)\n"
     ]
    }
   ],
   "execution_count": 25
  },
  {
   "metadata": {
    "ExecuteTime": {
     "end_time": "2024-09-06T07:06:33.176348Z",
     "start_time": "2024-09-06T07:06:33.170156Z"
    }
   },
   "cell_type": "code",
   "source": [
    "'''\n",
    "np.squeeze(arr, axis=None)\n",
    "    arr: 数组\n",
    "    axis: 整数或整数元组，指定要压缩的轴，默认是所有长度为 1 的轴\n",
    "'''\n",
    "arr = np.arange(9).reshape(1, 3, 3)\n",
    "print(np.squeeze(arr).shape)"
   ],
   "id": "3ca1516184492fb4",
   "outputs": [
    {
     "name": "stdout",
     "output_type": "stream",
     "text": [
      "(3, 3)\n"
     ]
    }
   ],
   "execution_count": 26
  },
  {
   "metadata": {},
   "cell_type": "markdown",
   "source": "### 6.3 连接数组",
   "id": "6ab63e87a16b5ec"
  },
  {
   "metadata": {
    "ExecuteTime": {
     "end_time": "2024-09-06T07:06:33.254058Z",
     "start_time": "2024-09-06T07:06:33.234658Z"
    }
   },
   "cell_type": "code",
   "source": [
    "'''\n",
    "np.concatenate((a1, a2, ...), axis=0)\n",
    "    a1, a2,...: 相同类型的数组\n",
    "    axis: 整数，指定连接轴，默认是 0\n",
    "'''\n",
    "arr1 = np.array([\n",
    "    [1, 2],\n",
    "    [3, 4]\n",
    "])\n",
    "arr2 = np.array([\n",
    "    [5, 6],\n",
    "    [7, 8]\n",
    "])\n",
    "print(np.concatenate((arr1, arr2)))"
   ],
   "id": "48a71470192fcbec",
   "outputs": [
    {
     "name": "stdout",
     "output_type": "stream",
     "text": [
      "[[1 2]\n",
      " [3 4]\n",
      " [5 6]\n",
      " [7 8]]\n"
     ]
    }
   ],
   "execution_count": 27
  },
  {
   "metadata": {
    "ExecuteTime": {
     "end_time": "2024-09-06T07:06:33.316818Z",
     "start_time": "2024-09-06T07:06:33.301274Z"
    }
   },
   "cell_type": "code",
   "source": [
    "'''\n",
    "np.stack((a1, a2, ...), axis=0): 沿新轴堆叠数组\n",
    "    a1, a2,...: 相同类型的数组\n",
    "    axis: 整数，指定堆叠轴，默认是 0\n",
    "'''\n",
    "print(np.stack((arr1, arr2), axis=0))\n",
    "print(np.stack((arr1, arr2), axis=1))"
   ],
   "id": "e367f9e9e94e64d2",
   "outputs": [
    {
     "name": "stdout",
     "output_type": "stream",
     "text": [
      "[[[1 2]\n",
      "  [3 4]]\n",
      "\n",
      " [[5 6]\n",
      "  [7 8]]]\n",
      "[[[1 2]\n",
      "  [5 6]]\n",
      "\n",
      " [[3 4]\n",
      "  [7 8]]]\n"
     ]
    }
   ],
   "execution_count": 28
  },
  {
   "metadata": {
    "ExecuteTime": {
     "end_time": "2024-09-06T07:06:33.378912Z",
     "start_time": "2024-09-06T07:06:33.364209Z"
    }
   },
   "cell_type": "code",
   "source": [
    "# np.hstack(): 水平连接数组\n",
    "print(np.hstack((arr1, arr2)))\n",
    "# np.vstack(): 垂直连接数组\n",
    "print(np.vstack((arr1, arr2)))"
   ],
   "id": "9d136888a4d037de",
   "outputs": [
    {
     "name": "stdout",
     "output_type": "stream",
     "text": [
      "[[1 2 5 6]\n",
      " [3 4 7 8]]\n",
      "[[1 2]\n",
      " [3 4]\n",
      " [5 6]\n",
      " [7 8]]\n"
     ]
    }
   ],
   "execution_count": 29
  },
  {
   "metadata": {},
   "cell_type": "markdown",
   "source": "### 6.4 数组分割",
   "id": "fd85317826476da2"
  },
  {
   "metadata": {
    "ExecuteTime": {
     "end_time": "2024-09-06T07:06:33.502329Z",
     "start_time": "2024-09-06T07:06:33.482805Z"
    }
   },
   "cell_type": "code",
   "source": [
    "'''\n",
    "np.split(arr, indices_or_sections, axis=0)\n",
    "    arr: 数组\n",
    "    indices_or_sections: 如果是整数，按该数平均分割；如果是整数数组，按数组中的索引位置分割（左开右闭）\n",
    "    axis: 分割轴，指定分割方向\n",
    "np.hsplit()      水平分割\n",
    "np.vsplit()      垂直分割\n",
    "'''\n",
    "import numpy as np\n",
    "\n",
    "arr1 = np.arange(9)\n",
    "print(np.split(arr1, 3))\n",
    "print(np.split(arr1, [4, 7]))\n",
    "print()\n",
    "arr2 = np.arange(16).reshape(4, 4)\n",
    "print(np.split(arr2, 2, axis=0))  # 水平切割\n",
    "print(np.split(arr2, 2, axis=1))  # 垂直切割"
   ],
   "id": "4a91f16741b62cdd",
   "outputs": [
    {
     "name": "stdout",
     "output_type": "stream",
     "text": [
      "[array([0, 1, 2]), array([3, 4, 5]), array([6, 7, 8])]\n",
      "[array([0, 1, 2, 3]), array([4, 5, 6]), array([7, 8])]\n",
      "\n",
      "[array([[0, 1, 2, 3],\n",
      "       [4, 5, 6, 7]]), array([[ 8,  9, 10, 11],\n",
      "       [12, 13, 14, 15]])]\n",
      "[array([[ 0,  1],\n",
      "       [ 4,  5],\n",
      "       [ 8,  9],\n",
      "       [12, 13]]), array([[ 2,  3],\n",
      "       [ 6,  7],\n",
      "       [10, 11],\n",
      "       [14, 15]])]\n"
     ]
    }
   ],
   "execution_count": 30
  },
  {
   "metadata": {},
   "cell_type": "markdown",
   "source": "### 6.5 数组元素操作",
   "id": "ef1e0cff37316439"
  },
  {
   "metadata": {
    "ExecuteTime": {
     "end_time": "2024-09-06T07:06:33.579914Z",
     "start_time": "2024-09-06T07:06:33.568320Z"
    }
   },
   "cell_type": "code",
   "source": [
    "'''\n",
    "np.append(arr, values, axis=None) -> 不改变原先数组\n",
    "    arr: 数组\n",
    "    values: 数组或标量，要插入的值\n",
    "    axis: 整数，指定插入轴，默认是 None，此时返回的总是一维数组；axis=0 垂直插入，axis=1 水平插入\n",
    "'''\n",
    "import numpy as np\n",
    "\n",
    "arr = np.array([\n",
    "    [1, 2, 3],\n",
    "    [4, 5, 6]\n",
    "])\n",
    "print(arr)\n",
    "print(np.append(arr, [7, 8, 9]))\n",
    "print(np.append(arr, [[5, 5, 5], [6, 6, 6]], axis=1))"
   ],
   "id": "137b873a8520a063",
   "outputs": [
    {
     "name": "stdout",
     "output_type": "stream",
     "text": [
      "[[1 2 3]\n",
      " [4 5 6]]\n",
      "[1 2 3 4 5 6 7 8 9]\n",
      "[[1 2 3 5 5 5]\n",
      " [4 5 6 6 6 6]]\n"
     ]
    }
   ],
   "execution_count": 31
  },
  {
   "metadata": {
    "ExecuteTime": {
     "end_time": "2024-09-06T07:12:03.676611Z",
     "start_time": "2024-09-06T07:12:03.660057Z"
    }
   },
   "cell_type": "code",
   "source": [
    "'''\n",
    "np.insert(arr, obj, values, axis=None)\n",
    "    arr: 数组\n",
    "    obj: 在其之前插入的索引\n",
    "    values: 数组或标量，要插入的值\n",
    "    axis: 整数，指定插入轴\n",
    "'''\n",
    "arr = np.array([\n",
    "    [1, 2],\n",
    "    [3, 4],\n",
    "    [5, 6]\n",
    "])\n",
    "print(np.insert(arr, 3, [7, 8], axis=0))"
   ],
   "id": "c10f7915bf4f5cbf",
   "outputs": [
    {
     "name": "stdout",
     "output_type": "stream",
     "text": [
      "[[1 2]\n",
      " [3 4]\n",
      " [5 6]\n",
      " [7 8]]\n"
     ]
    }
   ],
   "execution_count": 33
  },
  {
   "metadata": {
    "ExecuteTime": {
     "end_time": "2024-09-06T07:16:27.352657Z",
     "start_time": "2024-09-06T07:16:27.340229Z"
    }
   },
   "cell_type": "code",
   "source": [
    "'''\n",
    "np.delete(arr, obj, axis=None)\n",
    "    arr: 数组\n",
    "    obj: 整数或整数数组，要删除的索引（可以切片）\n",
    "    axis: 整数，指定删除轴\n",
    "'''\n",
    "arr = np.arange(12).reshape(3, 4)\n",
    "print(arr)\n",
    "newArr = np.delete(arr, 5)\n",
    "print(newArr)\n",
    "print(np.delete(newArr, np.s_[::2]))"
   ],
   "id": "5b9f8c42e4f0a607",
   "outputs": [
    {
     "name": "stdout",
     "output_type": "stream",
     "text": [
      "[[ 0  1  2  3]\n",
      " [ 4  5  6  7]\n",
      " [ 8  9 10 11]]\n",
      "[ 0  1  2  3  4  6  7  8  9 10 11]\n",
      "[ 1  3  6  8 10]\n"
     ]
    }
   ],
   "execution_count": 35
  },
  {
   "metadata": {
    "ExecuteTime": {
     "end_time": "2024-09-06T07:21:57.926418Z",
     "start_time": "2024-09-06T07:21:57.913352Z"
    }
   },
   "cell_type": "code",
   "source": [
    "'''\n",
    "np.unique(arr, return_index=False, return_inverse=False, return_counts=False)\n",
    "    arr: 数组\n",
    "    return_index: 返回新列表元素在原列表中的索引的列表\n",
    "    return_inverse: 返回原列表中元素在新列表中的索引的列表\n",
    "    return_counts: 返回每个元素在原列表中出现的次数\n",
    "'''\n",
    "arr = np.array([1, 2, 3, 2, 4, 1, 5])\n",
    "print(arr)\n",
    "u, index, inverse, count = np.unique(arr, return_index=True, return_inverse=True, return_counts=True)\n",
    "print(u)\n",
    "print(index)\n",
    "print(u[inverse])\n",
    "print(count)"
   ],
   "id": "f8eaafaef7ee0df9",
   "outputs": [
    {
     "name": "stdout",
     "output_type": "stream",
     "text": [
      "[1 2 3 2 4 1 5]\n",
      "[1 2 3 4 5]\n",
      "[0 1 2 4 6]\n",
      "[1 2 3 2 4 1 5]\n",
      "[2 2 1 1 1]\n"
     ]
    }
   ],
   "execution_count": 36
  },
  {
   "metadata": {},
   "cell_type": "markdown",
   "source": "## 7. 函数",
   "id": "326783dbb0e041ea"
  },
  {
   "metadata": {},
   "cell_type": "markdown",
   "source": [
    "### 7.1 字符串函数\n",
    "针对 dtype 为 np.string_ 或 np.unicode_ 的数组"
   ],
   "id": "5f07849c84b1721c"
  },
  {
   "metadata": {
    "ExecuteTime": {
     "end_time": "2024-09-06T07:50:14.818157Z",
     "start_time": "2024-09-06T07:50:14.794881Z"
    }
   },
   "cell_type": "code",
   "source": [
    "'''\n",
    "np.char.add(str1, str2): 对两个字符串数组对应元素进行拼接\n",
    "np.char.multiply(str, repeats): 字符串的多重连接\n",
    "np.char.center(str, width, fillchar=' '): 字符串居中\n",
    "np.char.capitalize(str): 字符串首字母大写\n",
    "np.char.title(str): 字符串每个单词首字母大写\n",
    "np.char.lower(str): 字符串全部转为小写\n",
    "np.char.upper(str): 字符串全部转为大写\n",
    "np.char.split(str, sep=None, maxsplit=None): 分割字符串，并返回数组\n",
    "np.char.splitlines(str, keepends=False): 分割字符串中的行，并返回数组\n",
    "np.char.strip(str, chars=None): 去除字符串两端的特定字符\n",
    "np.char.join(sep, str): 通过指定分隔符连接数组中的元素\n",
    "np.replace(str, old, new, count=None): 替换字符串中的子串\n",
    "np.char.decode(str, encoding='utf-8', errors='strict'): 对数组中的元素依此调用 str.decode\n",
    "np.char.encode(str, encoding='utf-8', errors='strict'): 对数组中的元素依此调用 str.encode\n",
    "'''\n",
    "from numpy import char\n",
    "\n",
    "print(char.add([\"hello\", \"hi\"], [\"abc\", \"xyz\"]))\n",
    "print(char.multiply(\"hello \", 3))\n",
    "print(char.center(\"hello\", 20, fillchar='*'))\n",
    "print(char.split(\"www.baidu.com\", sep=\".\"))\n",
    "print(char.splitlines(\"hello\\nworld\\n\"))\n",
    "print(char.strip([\"java\", \"admin\"], 'a'))\n",
    "print(char.join(':', \"hello\"))\n",
    "print(char.replace(\"hello world\", \"l\", \"L\"))"
   ],
   "id": "4613b3913b0987eb",
   "outputs": [
    {
     "name": "stdout",
     "output_type": "stream",
     "text": [
      "['helloabc' 'hixyz']\n",
      "hello hello hello \n",
      "*******hello********\n",
      "['www', 'baidu', 'com']\n",
      "['hello', 'world']\n",
      "['jav' 'dmin']\n",
      "h:e:l:l:o\n",
      "heLLo worLd\n"
     ]
    }
   ],
   "execution_count": 37
  },
  {
   "metadata": {},
   "cell_type": "markdown",
   "source": "### 7.2 数学函数",
   "id": "5d5f9b4d3431bb73"
  },
  {
   "metadata": {},
   "cell_type": "markdown",
   "source": "### 7.2.1 三角函数",
   "id": "7055820dcec477bb"
  },
  {
   "metadata": {
    "ExecuteTime": {
     "end_time": "2024-09-06T16:00:01.940373Z",
     "start_time": "2024-09-06T16:00:01.929223Z"
    }
   },
   "cell_type": "code",
   "source": [
    "'''\n",
    "np.sin(x)\n",
    "np.cos(x)\n",
    "np.tan(x)\n",
    "np.arcsin(x)\n",
    "np.arccos(x)\n",
    "np.arctan(x)\n",
    "np.degrees(x): 将弧度转换为角度\n",
    "'''\n",
    "import numpy as np\n",
    "\n",
    "print(np.degrees(np.tan(np.pi / 4)))"
   ],
   "id": "ed5943227413a344",
   "outputs": [
    {
     "name": "stdout",
     "output_type": "stream",
     "text": [
      "57.295779513082316\n"
     ]
    }
   ],
   "execution_count": 38
  },
  {
   "metadata": {},
   "cell_type": "markdown",
   "source": "### 7.2.2 舍入函数",
   "id": "9583dee112b7341e"
  },
  {
   "metadata": {
    "ExecuteTime": {
     "end_time": "2024-09-07T01:09:09.134314Z",
     "start_time": "2024-09-07T01:09:09.118854Z"
    }
   },
   "cell_type": "code",
   "source": [
    "'''\n",
    "np.around(arr, decimals=0)\n",
    "    arr: 数组\n",
    "    decimals: 要保留的小数位数; 如果为负数，则四舍五入到小数点左边的位数\n",
    "np.floor(arr): 向下取整\n",
    "np.ceil(arr): 向上取整\n",
    "'''\n",
    "import numpy as np\n",
    "\n",
    "arr = np.array([1.0, 5.55, 123, 0.567, 25.532])\n",
    "print(arr)\n",
    "print(np.around(arr))\n",
    "print(np.around(arr, decimals=1))\n",
    "print(np.around(arr, decimals=-1))"
   ],
   "id": "98b571c4352d0ec9",
   "outputs": [
    {
     "name": "stdout",
     "output_type": "stream",
     "text": [
      "[  1.      5.55  123.      0.567  25.532]\n",
      "[  1.   6. 123.   1.  26.]\n",
      "[  1.    5.6 123.    0.6  25.5]\n",
      "[  0.  10. 120.   0.  30.]\n"
     ]
    }
   ],
   "execution_count": 41
  },
  {
   "metadata": {},
   "cell_type": "markdown",
   "source": "### 7.3 算数函数",
   "id": "cd12807e86df972b"
  },
  {
   "metadata": {
    "ExecuteTime": {
     "end_time": "2024-09-07T01:31:08.501187Z",
     "start_time": "2024-09-07T01:31:08.489789Z"
    }
   },
   "cell_type": "code",
   "source": [
    "'''\n",
    "np.add(arr1, arr2): 数组元素相加\n",
    "np.subtract(arr1, arr2): 数组元素相减\n",
    "np.multiply(arr1, arr2): 数组元素相乘\n",
    "np.divide(arr1, arr2): 数组元素相除\n",
    "np.reciprocal(arr): 数组元素求倒数\n",
    "np.power(arr1, arr2): 数组元素求幂\n",
    "np.mod(arr1, arr2): 数组元素求模\n",
    "'''\n",
    "import numpy as np\n",
    "\n",
    "arr1 = np.arange(9, dtype=np.float_).reshape(3, 3)\n",
    "arr2 = np.array([2, 2, 2], dtype=np.float_)\n",
    "print(arr1)\n",
    "print(arr2)\n",
    "print()\n",
    "print(np.add(arr1, arr2))\n",
    "print(np.subtract(arr1, arr2))\n",
    "print(np.multiply(arr1, arr2))\n",
    "print(np.divide(arr1, arr2))\n",
    "print(np.reciprocal(arr2))\n",
    "print(np.power(arr1, arr2))\n",
    "print(np.mod(arr1, arr2))"
   ],
   "id": "8d3686a377fe933d",
   "outputs": [
    {
     "name": "stdout",
     "output_type": "stream",
     "text": [
      "[[0. 1. 2.]\n",
      " [3. 4. 5.]\n",
      " [6. 7. 8.]]\n",
      "[2. 2. 2.]\n",
      "\n",
      "[[ 2.  3.  4.]\n",
      " [ 5.  6.  7.]\n",
      " [ 8.  9. 10.]]\n",
      "[[-2. -1.  0.]\n",
      " [ 1.  2.  3.]\n",
      " [ 4.  5.  6.]]\n",
      "[[ 0.  2.  4.]\n",
      " [ 6.  8. 10.]\n",
      " [12. 14. 16.]]\n",
      "[[0.  0.5 1. ]\n",
      " [1.5 2.  2.5]\n",
      " [3.  3.5 4. ]]\n",
      "[0.5 0.5 0.5]\n",
      "[[ 0.  1.  4.]\n",
      " [ 9. 16. 25.]\n",
      " [36. 49. 64.]]\n",
      "[[0. 1. 0.]\n",
      " [1. 0. 1.]\n",
      " [0. 1. 0.]]\n"
     ]
    }
   ],
   "execution_count": 44
  },
  {
   "metadata": {},
   "cell_type": "markdown",
   "source": "### 7.4 统计函数",
   "id": "322a85d8610ec69d"
  },
  {
   "metadata": {
    "ExecuteTime": {
     "end_time": "2024-09-07T01:50:44.865785Z",
     "start_time": "2024-09-07T01:50:44.858687Z"
    }
   },
   "cell_type": "code",
   "source": [
    "'''\n",
    "np.amin(arr, axis=None, out=None, keepdims=np._NoValue, initial=np._NoValue, where=np._NoValue)\n",
    "    arr: 数组\n",
    "    axis: 指定在哪个轴上取最小，可以是整数，也可以是整数数组；默认是 None，表示沿所有轴\n",
    "    out: 指定结果的存储位置，默认是 None，表示输出到新数组\n",
    "    keepdims: 是否保持维度，默认是 False，表示去除维度为 1 的轴\n",
    "    initial: 指定初始值\n",
    "    where: 布尔数组，指定仅考虑满足条件的元素\n",
    "np.amax() 同理\n",
    "np.argmin(): 返回最小值的索引\n",
    "np.argmax(): 返回最大值的索引\n",
    "np.ptp(): 参数相同，计算极差\n",
    "'''\n",
    "import numpy as np\n",
    "\n",
    "arr = np.array([\n",
    "    [3, 7, 5],\n",
    "    [8, 4, 3],\n",
    "    [2, 4, 9]\n",
    "])\n",
    "print(arr)\n",
    "print(np.amin(arr, 1))\n",
    "print(np.amin(arr, 0))\n",
    "print(np.amax(arr))\n",
    "print(np.ptp(arr))"
   ],
   "id": "34ab151c8d60dd33",
   "outputs": [
    {
     "name": "stdout",
     "output_type": "stream",
     "text": [
      "[[3 7 5]\n",
      " [8 4 3]\n",
      " [2 4 9]]\n",
      "[3 3 2]\n",
      "[2 4 3]\n",
      "9\n",
      "7\n"
     ]
    }
   ],
   "execution_count": 47
  },
  {
   "metadata": {
    "ExecuteTime": {
     "end_time": "2024-09-07T02:04:59.125040Z",
     "start_time": "2024-09-07T02:04:59.113986Z"
    }
   },
   "cell_type": "code",
   "source": [
    "'''\n",
    "np.percentile(arr, q, axis): 计算数组的 q 分位数\n",
    "    arr: 数组\n",
    "    q: 百分位数, 0 ~ 100 之间\n",
    "    axis: 指定在哪个轴上计算\n",
    "np.median(arr, axis=None, out=None, overwrite_input=False, keepdims=np._NoValue): 计算数组的中位数\n",
    "    arr: 数组\n",
    "    axis: 指定在哪个轴上计算\n",
    "    out: 指定结果的存储位置\n",
    "    overwrite_input: 是否允许使用输入数组的内存，可以提高性能，但可能会改变输入数组的值\n",
    "    keepdims: 是否保持维度\n",
    "np.mean(arr, axis=None, dtype=None, out=None, keepdims=np._NoValue): 算术平均\n",
    "np.average(arr, axis=None, weights=None, returned=False): 加权平均\n",
    "    arr: 数组\n",
    "    axis: 指定在哪个轴上计算\n",
    "    weights: 权重数组，不指定相当于求算术平均\n",
    "    returned: 是否同时返回加权平均值和权重总和\n",
    "np.std(arr): 计算数组的标准差\n",
    "np.var(arr): 计算数组的方差\n",
    "'''\n",
    "arr = np.array([\n",
    "    [10, 7, 4],\n",
    "    [3, 2, 1]\n",
    "])\n",
    "print(np.percentile(arr, 50))  # 中位数\n",
    "print(np.percentile(arr, 50, axis=1))  # 行中位数\n",
    "print(np.mean(arr))\n",
    "weights = [\n",
    "    [1, 2, 3],\n",
    "    [3, 2, 1]\n",
    "]\n",
    "print(np.average(arr, weights=weights, returned=True))\n",
    "print(np.std(arr))\n",
    "print(np.var(arr))"
   ],
   "id": "8d4ef123b3c04360",
   "outputs": [
    {
     "name": "stdout",
     "output_type": "stream",
     "text": [
      "3.5\n",
      "[7. 2.]\n",
      "4.5\n",
      "(4.166666666666667, 12.0)\n",
      "3.095695936834452\n",
      "9.583333333333334\n"
     ]
    }
   ],
   "execution_count": 50
  },
  {
   "metadata": {},
   "cell_type": "markdown",
   "source": "### 7.5 排序、条件筛选函数",
   "id": "9617d3a8e6f57229"
  },
  {
   "metadata": {
    "ExecuteTime": {
     "end_time": "2024-09-07T02:26:35.639060Z",
     "start_time": "2024-09-07T02:26:35.622966Z"
    }
   },
   "cell_type": "code",
   "source": [
    "'''\n",
    "np.sort(arr, axis=-1, kind='quicksort', order=None) -> 返回排序后的数组副本\n",
    "    arr: 数组\n",
    "    axis: 指定在哪个轴上排序\n",
    "    kind: 排序算法，'quicksort' | 'mergesort' | 'heapsort'\n",
    "    order: 排序字段\n",
    "np.argsort(): 返回从小到大的索引值\n",
    "np.lexsort(): 对多个序列进行排序，具有优先级\n",
    "np.sort_complex(arr): 排序复数数组, 先按实部，再按虚部\n",
    "np.partition(arr, kth, axis=-1, kind='introselect', order=None): 指定一个数，对数组进行分区\n",
    "'''\n",
    "import numpy as np\n",
    "\n",
    "arr = np.array([5, 6, 13, 3, 8, 2, 11])\n",
    "print(arr)\n",
    "print(np.sort(arr))\n",
    "print(arr[np.argsort(arr)])\n",
    "print()\n",
    "names = ['Alice', 'Bob', 'Charlie', 'David']\n",
    "ages = [30, 40, 30, 20]\n",
    "index = np.lexsort((ages, names))  # 先排 names，再排 ages\n",
    "print(index)\n",
    "print([names[i] + ', ' + str(ages[i]) for i in index])"
   ],
   "id": "fe693e715eb066c",
   "outputs": [
    {
     "name": "stdout",
     "output_type": "stream",
     "text": [
      "[ 5  6 13  3  8  2 11]\n",
      "[ 2  3  5  6  8 11 13]\n",
      "[ 2  3  5  6  8 11 13]\n",
      "\n",
      "[0 1 2 3]\n",
      "['Alice, 30', 'Bob, 40', 'Charlie, 30', 'David, 20']\n"
     ]
    }
   ],
   "execution_count": 57
  },
  {
   "metadata": {
    "ExecuteTime": {
     "end_time": "2024-09-07T02:42:40.384879Z",
     "start_time": "2024-09-07T02:42:40.363591Z"
    }
   },
   "cell_type": "code",
   "source": [
    "'''\n",
    "np.nonzero(arr) ->非零元素的索引\n",
    "np.where(): 条件筛选 -> 满足条件的元素的索引\n",
    "np.extract(): 条件筛选 -> 满足条件的元素\n",
    "'''\n",
    "arr1 = np.array([\n",
    "    [30, 40, 0],\n",
    "    [0, 20, 10],\n",
    "    [50, 0, 60]\n",
    "])\n",
    "print(arr1[np.nonzero(arr1)])\n",
    "print()\n",
    "arr2 = np.arange(9).reshape(3, 3)\n",
    "print(arr2)\n",
    "print(arr2[np.where(arr2 > 5)])\n",
    "print(np.extract(np.mod(arr2, 2) == 0, arr2))"
   ],
   "id": "a3aa986dbf535136",
   "outputs": [
    {
     "name": "stdout",
     "output_type": "stream",
     "text": [
      "[30 40 20 10 50 60]\n",
      "\n",
      "[[0 1 2]\n",
      " [3 4 5]\n",
      " [6 7 8]]\n",
      "[6 7 8]\n",
      "[0 2 4 6 8]\n"
     ]
    }
   ],
   "execution_count": 58
  },
  {
   "metadata": {},
   "cell_type": "markdown",
   "source": "## 8. 线性代数",
   "id": "cd6f198a288c1b2b"
  },
  {
   "metadata": {
    "ExecuteTime": {
     "end_time": "2024-09-07T03:10:58.776468Z",
     "start_time": "2024-09-07T03:10:58.766136Z"
    }
   },
   "cell_type": "code",
   "source": [
    "'''\n",
    "np.dot(a, b, out=None): 矩阵乘法    与 np.matmul(a, b) 等价\n",
    "np.vdot(a, b): 向量点乘, 高维会展开\n",
    "np.inner(a, b): 内积，高维只计算最后一维\n",
    "np.linalg.det(arr): 计算行列式\n",
    "np.linalg.eig(arr): 计算特征值和特征向量\n",
    "np.linalg.inv(arr): 计算矩阵的逆\n",
    "np.linalg.solve(A, b): 解线性方程组\n",
    "np.linalg.norm(arr, ord=None, axis=None, keepdims=False)\n",
    "    arr: 数组\n",
    "    ord: 范数类型，整数，默认为 2\n",
    "'''\n",
    "import numpy as np\n",
    "from numpy import linalg as la\n",
    "\n",
    "a = np.array([\n",
    "    [1, 2],\n",
    "    [3, 4]\n",
    "])\n",
    "b = np.array([\n",
    "    [11, 12],\n",
    "    [13, 14]\n",
    "])\n",
    "print(np.dot(a, b))\n",
    "print(np.vdot(a, b))\n",
    "print(np.inner(a, b))\n",
    "print(la.det(a))\n",
    "result = la.eig(a)\n",
    "print(result[0])  # 特征值\n",
    "print(result[1])  # 特征向量\n",
    "print(la.inv(a))\n",
    "print(la.solve(a, np.array([5, 6])))"
   ],
   "id": "e3b41110ebbc6a13",
   "outputs": [
    {
     "name": "stdout",
     "output_type": "stream",
     "text": [
      "[[37 40]\n",
      " [85 92]]\n",
      "130\n",
      "[[35 41]\n",
      " [81 95]]\n",
      "-2.0000000000000004\n",
      "[-0.37228132  5.37228132]\n",
      "[[-0.82456484 -0.41597356]\n",
      " [ 0.56576746 -0.90937671]]\n",
      "[[-2.   1. ]\n",
      " [ 1.5 -0.5]]\n",
      "[-4.   4.5]\n"
     ]
    }
   ],
   "execution_count": 62
  },
  {
   "metadata": {},
   "cell_type": "markdown",
   "source": "",
   "id": "4ed47d44279b7aa5"
  }
 ],
 "metadata": {
  "kernelspec": {
   "display_name": "Python 3",
   "language": "python",
   "name": "python3"
  },
  "language_info": {
   "codemirror_mode": {
    "name": "ipython",
    "version": 2
   },
   "file_extension": ".py",
   "mimetype": "text/x-python",
   "name": "python",
   "nbconvert_exporter": "python",
   "pygments_lexer": "ipython2",
   "version": "2.7.6"
  }
 },
 "nbformat": 4,
 "nbformat_minor": 5
}
